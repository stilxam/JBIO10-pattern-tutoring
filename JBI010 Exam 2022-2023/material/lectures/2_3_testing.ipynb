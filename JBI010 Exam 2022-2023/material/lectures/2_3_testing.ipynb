{
 "cells": [
  {
   "cell_type": "markdown",
   "metadata": {
    "slideshow": {
     "slide_type": "slide"
    }
   },
   "source": [
    "# Testing\n",
    "\n",
    "This Jupyter Notebook is based on Chapter 4 of the book Python for Everybody and Chapters 3 and 6 of the book Think Python."
   ]
  },
  {
   "cell_type": "markdown",
   "metadata": {
    "slideshow": {
     "slide_type": "fragment"
    }
   },
   "source": [
    "_(c) 2022, Mark van den Brand and Lina Ochoa Venegas, Eindhoven University of Technology_"
   ]
  },
  {
   "cell_type": "markdown",
   "metadata": {},
   "source": [
    "## Table of Contents\n",
    "\n",
    "- [1. Introduction](#introduction)\n",
    "- [2. Testing](#testing)\n",
    "- [3. Checking Arguments](#checking-args)\n",
    "- [4. Manual Testing](#manual-testing)\n",
    "- [5. Function Testing Guidelines](#testing-guidelines)\n",
    "- [6. Automated Testing with `docstest`](#doctest)\n",
    "- [7. The `assert` Statement](#assert)\n",
    "- [8. Automated Testing with `pytest`](#pytest)\n",
    "- [9. A Development Plan](#dev-plan)\n",
    "- [10. Incremental Development](#incremental-dev)\n",
    "- [11. Refactoring](#refactoring)\n",
    "- [12. Interface Design](#interface-design)"
   ]
  },
  {
   "cell_type": "markdown",
   "metadata": {
    "slideshow": {
     "slide_type": "slide"
    }
   },
   "source": [
    "## 1. Introduction <a class=\"anchor\" id=\"introduction\"></a>\n",
    "\n",
    "Testing has proven to be essential when building robust programs. \n",
    "Although it cannot guarantee that your program is correct, it already increases your confidence that your code behaves as expected (if your test cases pass).\n",
    "Moreover, it supports evolution and maintainablility of your software, in the sense that if your modify or introduce new code, previous functionality will be tested in the form of a regression test.\n",
    "However, keeping test up to date and wiring your code with this auxiliary testing code is not trivial.\n",
    "To solve this issue, there is a plethora of software tools that can be of great help.\n",
    "In this course we mention two: `doctest` and `pytest`."
   ]
  },
  {
   "cell_type": "markdown",
   "metadata": {
    "slideshow": {
     "slide_type": "fragment"
    }
   },
   "source": [
    "## 2. Testing <a class=\"anchor\" id=\"testing\"></a>\n",
    "\n",
    "**Testing** is a way of convincing yourself that the implementation of the function is correct. \n",
    "Testing is not equivalent to giving a formal proof or checking the correcteness of your program.\n",
    "Actually, testing won't give you any hints on the absence of errors, it will only give you clues about the existence of errors under the cases you have considered.\n",
    "\n",
    "Whenever you have defined a variable or a function, **verify** it, _before_ using it. \n",
    "Do not rely on them blindly.\n",
    "\n",
    "- In case of a **variable**, inspect\n",
    "    - type and \n",
    "    - value.\n",
    "- In case of a **function**:\n",
    "    - choose a set of interesting arguments (e.g., regular, border cases);\n",
    "    - apply the function to such arguments and gather the results, and;\n",
    "    - decide on pass or fail.\n",
    "    \n",
    "<div class=\"alert alert-info\">\n",
    "    <b>Testing code in Jupyter notebooks</b><br>\n",
    "    When testing code in a Jupyter notebook, keep such test code close to the code you are testing, so that you can rerun it and use it as a kind of documentation.\n",
    "</div>"
   ]
  },
  {
   "cell_type": "markdown",
   "metadata": {
    "slideshow": {
     "slide_type": "slide"
    },
    "tags": []
   },
   "source": [
    "## 3. Checking Arguments <a class=\"anchor\" id=\"checking-args\"></a>\n",
    "\n",
    "When calling a function, we have to ensure that the arguments that we pass to the function are *correct*.\n",
    "Therefore, it is necessary to write auxilary code to perform some checking on the arguments,\n",
    "to ensure that the given argument does not lead to unwanted behaviour.\n",
    "\n",
    "In the following example, we define a `countdown` function.\n",
    "This function gets a number as argument (`nr`) and in every iteration it prints its value and decreases it by `1`.\n",
    "The loop terminates once the number is equal to `0`."
   ]
  },
  {
   "cell_type": "code",
   "execution_count": null,
   "metadata": {},
   "outputs": [],
   "source": [
    "def countdown(nr: int) -> None:\n",
    "    \"\"\"\n",
    "    Prints numbers in a decreasing order.\n",
    "    :param nr: starting countdown number\n",
    "    \"\"\"\n",
    "    while nr != 0:\n",
    "        print(nr)\n",
    "        nr -= 1\n",
    "    print('Done!')"
   ]
  },
  {
   "cell_type": "code",
   "execution_count": null,
   "metadata": {
    "slideshow": {
     "slide_type": "fragment"
    }
   },
   "outputs": [],
   "source": [
    "countdown(15)"
   ]
  },
  {
   "cell_type": "code",
   "execution_count": null,
   "metadata": {
    "slideshow": {
     "slide_type": "fragment"
    }
   },
   "outputs": [],
   "source": [
    "countdown(-15)"
   ]
  },
  {
   "cell_type": "code",
   "execution_count": null,
   "metadata": {
    "slideshow": {
     "slide_type": "fragment"
    }
   },
   "outputs": [],
   "source": [
    "countdown(1.5)"
   ]
  },
  {
   "cell_type": "markdown",
   "metadata": {
    "slideshow": {
     "slide_type": "fragment"
    }
   },
   "source": [
    "It looks like an infinite computation. How can that be? The function has a condition—when \n",
    "`n != 0`. \n",
    "But if `n` is not an integer or if it is negative, the condition will never be met!\n",
    "From there, it gets smaller (more negative), but it will never be 0.\n",
    "\n",
    "We can solve this problem by checking that the argument passed to the `countdown` function is a positive integer. "
   ]
  },
  {
   "cell_type": "code",
   "execution_count": null,
   "metadata": {
    "slideshow": {
     "slide_type": "fragment"
    }
   },
   "outputs": [],
   "source": [
    "def countdown(nr: int) -> None:\n",
    "    \"\"\"\n",
    "    Prints numbers in a decreasing order.\n",
    "    :param nr: starting countdown number\n",
    "    \"\"\"\n",
    "    if not isinstance(nr, int):  # Check that the nr argument is an integer\n",
    "        print('countdown is only defined for integers.')\n",
    "    elif nr < 0:                 # Check that the nr argument is positive\n",
    "        print('countdown is not defined for negative integers.')\n",
    "    else:                        # If the two conditions are met proceed with the loop\n",
    "        while (nr != 0):\n",
    "            print(nr)\n",
    "            nr -= 1\n",
    "    print('Done!')"
   ]
  },
  {
   "cell_type": "code",
   "execution_count": null,
   "metadata": {},
   "outputs": [],
   "source": [
    "countdown(-1.5)"
   ]
  },
  {
   "cell_type": "markdown",
   "metadata": {
    "slideshow": {
     "slide_type": "fragment"
    }
   },
   "source": [
    "The first condition handles non-integers; the second handles negative integers. In both\n",
    "conditions, the program prints an error message to indicate that something\n",
    "went wrong.\n",
    "This program demonstrates the guardin pattern. The first two conditionals\n",
    "act as guardians, protecting the code that follows from values that might cause an\n",
    "error. \n",
    "The guardians make it possible to prove the correctness of the code."
   ]
  },
  {
   "cell_type": "markdown",
   "metadata": {
    "slideshow": {
     "slide_type": "fragment"
    }
   },
   "source": [
    "## 4. Manual Testing <a class=\"anchor\" id=\"manual-testing\"></a>\n",
    "\n",
    "When thinking about functions, a simple but rather labor-intensive way of testing is manual testing. \n",
    "You write in one cell the function body and in a few following cells, the various tests for the function. \n",
    "\n",
    "When testing you have to think of corner cases, for instance, empty sequences like strings, the elements at the first or last index of a sequence.\n",
    "To perform the manual testing of your function, follow the steps below:\n",
    "\n",
    "1. Choose interesting arguments.\n",
    "1. Call the function for various arguments in a code cell, such that it shows some result (either via `print` or as last expression in code cell).\n",
    "1. Visually, check those results.\n",
    "\n",
    "The combination of the function call plus your chosen arguments is what we call a **test case**.\n",
    "\n",
    "Let us see an example with the `roll_dice` function."
   ]
  },
  {
   "cell_type": "code",
   "execution_count": null,
   "metadata": {
    "slideshow": {
     "slide_type": "fragment"
    }
   },
   "outputs": [],
   "source": [
    "import random\n",
    "\n",
    "def roll_dice(n: int) -> str:\n",
    "    \"\"\"\n",
    "    Rolls a dice n times.\n",
    "    Assumption: n is an integer and n >= 0.\n",
    "    \n",
    "    :param n: number of times to roll the dice\n",
    "    :returns: a string with the dice number per round (an integer value between 1 and 6).\n",
    "    \"\"\"\n",
    "    rolls: str = ''\n",
    "    \n",
    "    for _ in range(n):\n",
    "        rolls += str(random.randint(1, 6))\n",
    "    \n",
    "    return rolls"
   ]
  },
  {
   "cell_type": "code",
   "execution_count": null,
   "metadata": {},
   "outputs": [],
   "source": [
    "# Test case 1: Boundary case (n == 0)\n",
    "# Expected output: ''\n",
    "roll_dice(0)"
   ]
  },
  {
   "cell_type": "code",
   "execution_count": null,
   "metadata": {},
   "outputs": [],
   "source": [
    "# Test case 2: Boundary case (n == 100)\n",
    "# Expected output: string with 100 numbers, each one with a value between 1 and 6\n",
    "roll_dice(100)"
   ]
  },
  {
   "cell_type": "code",
   "execution_count": null,
   "metadata": {},
   "outputs": [],
   "source": [
    "# Test case 3: Check the length of the resulting string\n",
    "# Expected output: the length should be equal to the argument\n",
    "len(roll_dice(3))"
   ]
  },
  {
   "cell_type": "code",
   "execution_count": null,
   "metadata": {},
   "outputs": [],
   "source": [
    "# Test case 4: Check whether all rolls are valid\n",
    "rolls_valid: bool = True\n",
    "\n",
    "for roll in roll_dice(10):\n",
    "    valid: bool = int(roll) in range(1, 6 + 1)\n",
    "    if not valid:\n",
    "        rolls_valid = False\n",
    "        break\n",
    "    print(f'{roll} in [1, 6]: {valid}')\n",
    "    \n",
    "rolls_valid"
   ]
  },
  {
   "cell_type": "markdown",
   "metadata": {
    "jp-MarkdownHeadingCollapsed": true,
    "tags": []
   },
   "source": [
    "## 5. Function Testing Guidelines <a class=\"anchor\" id=\"testing-guidelines\"></a>\n",
    "\n",
    "The challenge with function testing is to convince yourself that you have dealt with all possible cases that the function needs to handle.\n",
    "\n",
    "* Testing a function in just one call is hardly ever enough.\n",
    "* Pick a _few_ _important_ arguments, for which you can check the corresponding result.\n",
    "* Boundary cases, and small typical case\n",
    "    * Strive for **code coverage**\n",
    "    * Code that is not executed during the call, is not tested\n",
    "    * Cover all branches of `if-elif-else`\n",
    "* You do not need to check the result directly; could test it indirectly by verifying its properties. For instance, by checking the number of elements in a sequence instead of inspecting the sequence.\n",
    "\n",
    "Suppose you need to write a function that concatenates two strings. \n",
    "A sufficient test can be to check whether the length of the resulting string is the same as the length of both string arguments."
   ]
  },
  {
   "cell_type": "markdown",
   "metadata": {
    "slideshow": {
     "slide_type": "slide"
    },
    "tags": []
   },
   "source": [
    "## 6. Automated Testing with `doctest` <a class=\"anchor\" id=\"doctest\"></a>\n",
    "\n",
    "A more robust way of testing is by using automated-testing tools such as `doctest`. \n",
    "`doctest` allows you to add **usage examples** to the function docstring.\n",
    "\n",
    "Below you will find the format of test cases used by `doctest` within your docstring.\n",
    "\n",
    "```\n",
    ">>> expression with function call and arguments\n",
    "expected result\n",
    "...\n",
    "...\n",
    ">>> expression with function call and arguments\n",
    "expected result\n",
    "```\n",
    "\n",
    "<div class=\"alert alert-info\">\n",
    "    <b>About the expected result in <code>doctest</code></b><br>\n",
    "    Notice that the <b>expected result</b> is treated as a string that should match the string representation you get by the Python interpreter after running your code.\n",
    "</div>"
   ]
  },
  {
   "cell_type": "code",
   "execution_count": null,
   "metadata": {},
   "outputs": [],
   "source": [
    "import random\n",
    "\n",
    "def roll_dice(n: int) -> str:\n",
    "    \"\"\"\n",
    "    Rolls a dice n times.\n",
    "    Assumption: n is an integer and n >= 0.\n",
    "    \n",
    "    :param n: number of times to roll the dice\n",
    "    :returns: a string with the dice number per round (an integer value between 1 and 6).\n",
    "    \n",
    "    Examples and test cases:\n",
    "    >>> roll_dice(0)                                                 # Test case 1: Boundary case (n == 0)\n",
    "    ''\n",
    "    >>> len(roll_dice(3))                                            # Test case 2: Check the length of the resulting string\n",
    "    3\n",
    "    >>> all(int(roll) in range(1, 6 + 1) for roll in roll_dice(10))  # Test case 3: Check whether all rolls are valid\n",
    "    True\n",
    "    \"\"\"\n",
    "    rolls: str = ''\n",
    "    \n",
    "    for _ in range(n):\n",
    "        rolls += str(random.randint(1, 6))\n",
    "    \n",
    "    return rolls"
   ]
  },
  {
   "cell_type": "markdown",
   "metadata": {
    "slideshow": {
     "slide_type": "fragment"
    }
   },
   "source": [
    "### Running test cases for a function with docstring tests?\n",
    "\n",
    "First, import the `doctest` module."
   ]
  },
  {
   "cell_type": "code",
   "execution_count": null,
   "metadata": {
    "slideshow": {
     "slide_type": "fragment"
    }
   },
   "outputs": [],
   "source": [
    "import doctest"
   ]
  },
  {
   "cell_type": "markdown",
   "metadata": {},
   "source": [
    "Second, invoke the `runb_docstring_examples` function. These function **requires two arguments**:\n",
    "- **`f`:** can be a function, module, or class.\n",
    "- **`globs`:** a dictionary of arguments used for the execution context. We usually invoke the `globals()` function and we pass it as argument.\n",
    "\n",
    "\n",
    "Additionally, you can pass other **optional keyword parameters**. In this book we care about two:\n",
    "- **`verbose=False`:** returns an output only for the failing test cases. If set to `True` the function will return an output even for the passing cases. The default value is `False`.\n",
    "- **`name='NoName'`:** used in failure messages. We usually set this value to the name of `f` so we can easily identify where we got the error. The default value is `NoName`.\n",
    "\n",
    "<div class=\"alert alert-info\">\n",
    "    <b>The <code>runb_docstring_examples</code> function</b><br>\n",
    "    If you want to learn more about the <code>runb_docstring_examples</code> function, visit <a href=https://docs.python.org/3/library/doctest.html#doctest.run_docstring_examples>this link</a>.\n",
    "</div>"
   ]
  },
  {
   "cell_type": "code",
   "execution_count": null,
   "metadata": {
    "slideshow": {
     "slide_type": "fragment"
    }
   },
   "outputs": [],
   "source": [
    "doctest.run_docstring_examples(roll_dice, globals(), verbose=True, name='roll_dice')"
   ]
  },
  {
   "cell_type": "markdown",
   "metadata": {},
   "source": [
    "Same example with `verbose` set to `False`."
   ]
  },
  {
   "cell_type": "code",
   "execution_count": null,
   "metadata": {
    "slideshow": {
     "slide_type": "fragment"
    }
   },
   "outputs": [],
   "source": [
    "doctest.run_docstring_examples(roll_dice, globals(), verbose=False, name='roll_dice')"
   ]
  },
  {
   "cell_type": "markdown",
   "metadata": {},
   "source": [
    "Same example without specifying the `name`."
   ]
  },
  {
   "cell_type": "code",
   "execution_count": null,
   "metadata": {
    "slideshow": {
     "slide_type": "fragment"
    }
   },
   "outputs": [],
   "source": [
    "doctest.run_docstring_examples(roll_dice, globals())"
   ]
  },
  {
   "cell_type": "markdown",
   "metadata": {
    "slideshow": {
     "slide_type": "subslide"
    }
   },
   "source": [
    "One more example of tests in docstring:"
   ]
  },
  {
   "cell_type": "code",
   "execution_count": null,
   "metadata": {},
   "outputs": [],
   "source": [
    "def find(word: str, letter: str) -> int:\n",
    "    \"\"\"\n",
    "    Finds at which position the letter appears first. If the letter does \n",
    "    not appear in the string -1 is returned.\n",
    "    :param word: base word\n",
    "    :param letter: letter to find\n",
    "    :returns: position of the letter within the word.\n",
    "    \n",
    "    Examples and test cases:\n",
    "    >>> isinstance(find('', 'a'), int)  # Test case 1: Check type of find\n",
    "    True\n",
    "    >>> find('', 'a')                   # Test case 2: Boundary case (empty string)\n",
    "    -1\n",
    "    >>> find('aa', 'a')                 # Test case 3: Boundary case (first position)\n",
    "    0\n",
    "    >>> find('bbbba', 'a')              # Test case 4: Boundary case (last position)\n",
    "    4\n",
    "    >>> find('bbbbaabbbb', 'a')         # Test case 5: Regular case\n",
    "    4\n",
    "    \"\"\"\n",
    "    index: int = 0\n",
    "    \n",
    "    while index < len(word):\n",
    "        if word[index] == letter:\n",
    "            return index\n",
    "        index += 1\n",
    "        \n",
    "    return -1\n",
    "\n",
    "find('data science', 'a')"
   ]
  },
  {
   "cell_type": "code",
   "execution_count": null,
   "metadata": {},
   "outputs": [],
   "source": [
    "doctest.run_docstring_examples(find, globals(), verbose=True, name='find')"
   ]
  },
  {
   "cell_type": "markdown",
   "metadata": {
    "slideshow": {
     "slide_type": "fragment"
    }
   },
   "source": [
    "### Running test cases for **all** functions with docstring tests?\n",
    "\n",
    "The `doctest` module also offers the `testmod` function to run test cases for all functions with docstring tests.\n",
    "All the parameters of the function are optional.\n",
    "In this book we care specifically about one: the `verbose` parameter, which has the same semantics or meaning provided for the `run_docstring_examples` function.\n",
    "By default, this one is set to `False`. \n",
    "\n",
    "<div class=\"alert alert-info\">\n",
    "    <b>The <code>testmod</code> function</b><br>\n",
    "    If you want to learn more about the <code>testmod</code> function, visit <a href=https://docs.python.org/3/library/doctest.html#doctest.testmod>this link</a>.\n",
    "</div>"
   ]
  },
  {
   "cell_type": "code",
   "execution_count": null,
   "metadata": {
    "slideshow": {
     "slide_type": "fragment"
    }
   },
   "outputs": [],
   "source": [
    "doctest.testmod(verbose=True)  # with details"
   ]
  },
  {
   "cell_type": "code",
   "execution_count": null,
   "metadata": {
    "slideshow": {
     "slide_type": "fragment"
    }
   },
   "outputs": [],
   "source": [
    "doctest.testmod(verbose=False)  # without details"
   ]
  },
  {
   "cell_type": "markdown",
   "metadata": {},
   "source": [
    "## 7. The `assert` Statement <a class=\"anchor\" id=\"assert\"></a>\n",
    "\n",
    "An **assertion** is a statement that checks if a Boolean expression returns `True`.\n",
    "If `True` the execution of the program continues, otherwise the program raises an `AssertionError` with an optional error message.\n",
    "The syntax of the statement looks as follows.\n",
    "\n",
    "```python\n",
    "# First option without message\n",
    "assert <boolean_condition>\n",
    "\n",
    "# Second option with message\n",
    "assert <boolean_condition>, <error_message>\n",
    "```\n",
    "\n",
    "Assertions are used as internal checks within your program to verify that certain preconditions are being met and as a debugging tool.\n",
    "They are not supposed to be used as a way to communicate with end users, but more as an internal check when developing a program.\n",
    "\n",
    "<div class=\"alert alert-info\">\n",
    "    <b>Inform about an error via an exception</b><br>\n",
    "    If you need to inform the user about a mistake that comes from their side, then you will need to raise an exception.\n",
    "</div>"
   ]
  },
  {
   "cell_type": "markdown",
   "metadata": {},
   "source": [
    "For instance, if we go back to the `roll_dice` example, we can use assertions to check if the argument is a positive integer. "
   ]
  },
  {
   "cell_type": "code",
   "execution_count": null,
   "metadata": {},
   "outputs": [],
   "source": [
    "import random\n",
    "\n",
    "def roll_dice(n: int) -> str:\n",
    "    \"\"\"\n",
    "    Rolls a dice n times.\n",
    "    Assumption: n is an integer and n >= 0.\n",
    "    \n",
    "    :param n: number of times to roll the dice\n",
    "    :returns: a string with the dice number per round (an integer value between 1 and 6).\n",
    "    \"\"\"\n",
    "    assert isinstance(n, int), 'n must be an integer'\n",
    "    assert n >= 0, 'n must be a positive number'\n",
    "    \n",
    "    rolls: str = ''\n",
    "    \n",
    "    for _ in range(n):\n",
    "        rolls += str(random.randint(1, 6))\n",
    "    \n",
    "    return rolls"
   ]
  },
  {
   "cell_type": "code",
   "execution_count": null,
   "metadata": {},
   "outputs": [],
   "source": [
    "# Trigger first assertion error (not an integer)\n",
    "roll_dice('10')"
   ]
  },
  {
   "cell_type": "code",
   "execution_count": null,
   "metadata": {},
   "outputs": [],
   "source": [
    "# Trigger second assertion error (negative number)\n",
    "roll_dice(-10)"
   ]
  },
  {
   "cell_type": "markdown",
   "metadata": {},
   "source": [
    "## 8. Automated Testing with `pytest` <a class=\"anchor\" id=\"pytest\"></a>\n",
    "\n",
    "[`pytest`](https://docs.pytest.org/en/7.1.x/index.html) is a Python testing framework that supports the creation of more robust tests and speeds up the testing process by providing boilerplate code (repetitive and common code used in several parts of your program) that you can reuse for testing purposes.\n",
    "It is usually used when dealing with Python projects but new modules have been developed to integrate them with Jupyter notebooks.\n",
    "In this book, we introduce them so you can have an idea of how to interact with this module, especially when writting Python projects outside of the notebooks environment.\n",
    "\n",
    "### Installing `pytest` and `ipytest`\n",
    "To use `pytest` install the module via Anaconda or the terminal with the command `pip install pytest`.\n",
    "To use it in combination with Jupyter notebooks, you will need also to install the `ipytest` module in the same way you did it with `pytest`.\n",
    "[`ipytest`](https://github.com/chmp/ipytest) is a library that supports the execution of `pytest` in the Jupyter Notebook environment.\n",
    "This is an open-source project supported by a small community of developers.\n",
    "\n",
    "<div class=\"alert alert-info\">\n",
    "    <b>Risks of some open-source modules</b><br>\n",
    "    There are some risks attached to the use of open-source modules with a small community behind them:\n",
    "    <ul>\n",
    "        <li>Maintenance happens irregularly.</li>\n",
    "        <li>There is a chance that the project becomes inactive if there is no funding coming in or if the collaborators lose interest.</li>\n",
    "        <li>Resources are limited, thus the testing and robustness of the project might be affected.</li>\n",
    "    </ul>\n",
    "</div>\n",
    "\n",
    "Given the current maturity of the tools, you need to be careful when testing your code in a Jupyter notebook with `pytetst`.\n",
    "`pytest` is a robust library but the wrappers that connect it with the Jupyter Notebook environment might need some more time to mature.\n",
    "The ideal setting to use `pytest` is during the development of stand-alone Python projects."
   ]
  },
  {
   "cell_type": "markdown",
   "metadata": {},
   "source": [
    "### Creating the test cases\n",
    "\n",
    "To create test cases with `pytest` you just need to define a new function that starts with the name \"test_\".\n",
    "You need to pick your own conventions to name the test case after the prefix we have provided.\n",
    "\n",
    "Let us go back to the `find` example and translate our `doctest` cases into `pytest` cases."
   ]
  },
  {
   "cell_type": "code",
   "execution_count": null,
   "metadata": {},
   "outputs": [],
   "source": [
    "def find(word: str, letter: str) -> int:\n",
    "    \"\"\"\n",
    "    Finds at which position the letter appears first. If the letter does \n",
    "    not appear in the string -1 is returned.\n",
    "    :param word: base word\n",
    "    :param letter: letter to find\n",
    "    :returns: position of the letter within the word.\n",
    "    \"\"\"\n",
    "    index: int = 0\n",
    "    \n",
    "    while index < len(word):\n",
    "        if word[index] == letter:\n",
    "            return index\n",
    "        index += 1\n",
    "        \n",
    "    return -1\n",
    "\n",
    "find('data science', 'a')"
   ]
  },
  {
   "cell_type": "markdown",
   "metadata": {},
   "source": [
    "Below you will find our test cases.\n",
    "The convention we picked to name them is as follows: `test_<function>_<test_case>`.\n",
    "Notice that to perform the checks, we use the `assert` statement!"
   ]
  },
  {
   "cell_type": "code",
   "execution_count": null,
   "metadata": {},
   "outputs": [],
   "source": [
    "def test_find_check_type() -> None:\n",
    "    assert isinstance(find('', 'a'), int), \\\n",
    "    'The return type of `find` must be an integer'\n",
    "    \n",
    "def test_find_empty_string() -> None:\n",
    "    assert find('', 'a') == -1, \\\n",
    "    '`find` does not return -1 when passing an empty string as parameter'\n",
    "    \n",
    "def test_find_first_position() -> None:\n",
    "    assert find('aa', 'a') == 0, \\\n",
    "    '`find` does not return the index of the first appearance of the letter'\n",
    "    \n",
    "def test_find_last_position() -> None:\n",
    "    assert find('bbbba', 'a') == len('bbbba') - 1, \\\n",
    "    '`find` does not return the index when the letter is in the last position'\n",
    "    \n",
    "def test_find_regular_case() -> None:\n",
    "    assert find('bbbbaabbbb', 'a') == 4,\\\n",
    "    '`find` does not return the right index of the letter'"
   ]
  },
  {
   "cell_type": "markdown",
   "metadata": {},
   "source": [
    "### Running the test cases\n",
    "\n",
    "To run `pytest` in this Jupyter notebooks, we will need first to import `ipytest` and then invoke the `autoconfig` function.\n",
    "The latter will configure `ipytest` with default values.\n",
    "Then, you will be able to invoke the `run` function in charge of executing all tests."
   ]
  },
  {
   "cell_type": "code",
   "execution_count": null,
   "metadata": {},
   "outputs": [],
   "source": [
    "import ipytest\n",
    "\n",
    "ipytest.autoconfig()  # Configures ipytest\n",
    "ipytest.run()         # Runs all tests within the notebook"
   ]
  },
  {
   "cell_type": "markdown",
   "metadata": {},
   "source": [
    "### Working with fixtures\n",
    "\n",
    "If you want to save certain values and avoid invoking the same functions with the same arguments, you can create *fixtures*.\n",
    "**Fixtures** are functions that create data or initializes the state of a program.\n",
    "Test can use fixtures to avoid duplicating code!\n",
    "To use them they need to explicitly refer to them, and pass the function as an argument!\n",
    "The syntax is as follows:\n",
    "\n",
    "```python\n",
    "import pytest\n",
    "\n",
    "@pytest.fixture\n",
    "def <fixture_name>():\n",
    "    # Body\n",
    "    return <value>\n",
    "\n",
    "def test_<test_name>(<fixture_name>):\n",
    "    assert <fixture_name> == ...\n",
    "```\n",
    "\n",
    "Let us see modify our find tests to see how fixtures work."
   ]
  },
  {
   "cell_type": "code",
   "execution_count": null,
   "metadata": {},
   "outputs": [],
   "source": [
    "import pytest\n",
    "import ipytest\n",
    "ipytest.clean_tests()\n",
    "ipytest.autoconfig()\n",
    "\n",
    "@pytest.fixture\n",
    "def regular_case() -> int:\n",
    "    return find('bbbbaabbbb', 'a')\n",
    "\n",
    "\n",
    "def test_find_check_type(regular_case) -> None:\n",
    "    assert isinstance(regular_case, int), \\\n",
    "    'The return type of `find` must be an integer'\n",
    "\n",
    "def test_find_regular_case(regular_case) -> None:\n",
    "    assert regular_case == 4,\\\n",
    "    '`find` does not return the right index of the letter'\n",
    "    \n",
    "ipytest.run()"
   ]
  },
  {
   "cell_type": "markdown",
   "metadata": {},
   "source": [
    "Notice that if you want to ignore previously ran tests, you need to explicitly invoke the function `clean_tests`, which will remove all tests whose name starts by \"Test\" or \"test\".\n",
    "\n",
    "<div class=\"alert alert-info\">\n",
    "    <b><code>ipytest</code> documentation</b><br>\n",
    "    If you want to learn more about the <code>ipytest</code> functions, please have a look at the official documentation <a href=https://github.com/chmp/ipytest#ipytestconfig>here</a>.\n",
    "</div>"
   ]
  },
  {
   "cell_type": "markdown",
   "metadata": {
    "slideshow": {
     "slide_type": "slide"
    }
   },
   "source": [
    "## 9. A Development Plan <a class=\"anchor\" id=\"dev-plan\"></a>\n",
    "\n",
    "A development plan is a process for writing programs. \n",
    "\n",
    "The process we use is “encapsulation and generalization”. \n",
    "\n",
    "The steps of this process are:\n",
    "1. Start by writing a small program with no function definitions.\n",
    "2. Once you get the program working, identify a coherent piece of it, encapsulate the\n",
    "piece in a function and give it a name.\n",
    "3. Generalize the function by adding appropriate parameters.\n",
    "4. Repeat steps 1–3 until you have a set of working functions. Copy and paste working\n",
    "code to avoid retyping (and re-debugging).\n",
    "5. Look for opportunities to improve the program by refactoring. For example, if you\n",
    "have similar code in several places, consider factoring it into an appropriately general\n",
    "function.\n",
    "\n",
    "This process has some drawbacks—we will see alternatives later—but it can be useful if\n",
    "you do not know ahead of time how to divide the program into functions. This approach\n",
    "lets you design as you go along."
   ]
  },
  {
   "cell_type": "markdown",
   "metadata": {
    "slideshow": {
     "slide_type": "slide"
    }
   },
   "source": [
    "## 10. Incremental Development <a class=\"anchor\" id=\"incremental-dev\"></a>\n",
    "\n",
    "The larger the program you need to develop the more useful it is to have a structured way of developing it.\n",
    "There are multiple ways of structuring the development process and in fact your computational thinking. \n",
    "\n",
    "An important development paradigm is **divide and conquer**. You can, for example, try to split the problem in subproblems and solve each subproblem in isolation. This paradigm works for large and complex problems, furthermore, it allows parallel development of a program.\n",
    "\n",
    "However, before applying any development paradigm you need to understand the problem. Critical reading is essential, making sketches to visualise the problem and the solution, explain the solution to somebody else, and finally write the code.\n",
    "\n",
    "Another paradigm, as advocated by \"Think Python\" is to use **incremental development**.\n",
    "The idea is not to try develop a complete program in one go, but to develop it step by step.\n",
    "Along the way you can write small tests to see whether you program behaves correctly.\n",
    "Developing a complete program is likely to fail and you will spend a lot of time on debugging."
   ]
  },
  {
   "cell_type": "markdown",
   "metadata": {
    "slideshow": {
     "slide_type": "fragment"
    }
   },
   "source": [
    "\n",
    "As an example, suppose you want to calculate the volume of a hollow cylinder, so a cylinder with an inner cylinder removed. \n",
    "The problem we need to solve is subtracting the volume of the inner cylinder from the volume of the outer cylinder. \n",
    "The volume of a cylinder is calculated as $volume = h*\\pi*R^2$.\n",
    "Can we now mathematical formulate the problem?\n",
    "\n",
    "$volume = h (\\pi R^2 - \\pi r^2)$\n",
    "\n",
    "\n",
    "<img src=\"assets/hollow-cylinder.png\"/>\n",
    "\n",
    "The first step is to consider how a function to calculate the volume of a hollow cylinder should look like in Python. \n",
    "In other words, what are the inputs (parameters) and what is the output (return value)?\n",
    "A first try is to write a function with three numbers, which represent the radius of\n",
    "the two cylinders and their heights, the result is a floating-point value."
   ]
  },
  {
   "cell_type": "code",
   "execution_count": null,
   "metadata": {
    "slideshow": {
     "slide_type": "fragment"
    }
   },
   "outputs": [],
   "source": [
    "def volume(outer_radius: int, inner_radius: int, height: int) -> float:\n",
    "    \"\"\"\n",
    "    Computers the volume of a hollow cylinder based on the radius \n",
    "    of the outer and inner cylinder.\n",
    "    :param outer_radius: outer radius of the cylinder\n",
    "    :param inner_radius: inner radius of the cylinder\n",
    "    :param height: height of the cylinder\n",
    "    :returns volume of a hollow cylinder.\n",
    "    \"\"\"\n",
    "    return 0.0\n",
    "\n",
    "volume(3, 1, 3)"
   ]
  },
  {
   "cell_type": "markdown",
   "metadata": {
    "slideshow": {
     "slide_type": "fragment"
    }
   },
   "source": [
    "This function is obviously not correct, it does not calculate the value of a hollow cylinder, it just returns `0.0`.\n",
    "However, we have now a skeleton of the function.\n",
    "So, in the next step we can start developing the body of the function.\n",
    "\n",
    "We need first to calculate the volume of a single cylinder based on the radius and\n",
    "the height. \n",
    "We introduce two auxilary variables `surface_c1` and `surface_c2`.\n",
    "Furthermore we add a `print` statement to see whether the values make sense."
   ]
  },
  {
   "cell_type": "code",
   "execution_count": null,
   "metadata": {
    "slideshow": {
     "slide_type": "fragment"
    }
   },
   "outputs": [],
   "source": [
    "import math\n",
    "\n",
    "def volume(outer_radius: int, inner_radius: int, height: int) -> float:\n",
    "    \"\"\"\n",
    "    Computers the volume of a hollow cylinder based on the radius \n",
    "    of the outer and inner cylinder.\n",
    "    :param outer_radius: outer radius of the cylinder\n",
    "    :param inner_radius: inner radius of the cylinder\n",
    "    :param height: height of the cylinder\n",
    "    :returns volume of a hollow cylinder.\n",
    "    \"\"\"\n",
    "    surface_c1: float = math.pi * outer_radius**2\n",
    "    surface_c2: float = math.pi * inner_radius**2\n",
    "    print('surface_c1 is', surface_c1)\n",
    "    print('surface_c2 is', surface_c2)\n",
    "    \n",
    "    return 0.0\n",
    "\n",
    "volume(3, 1, 4)"
   ]
  },
  {
   "cell_type": "markdown",
   "metadata": {
    "slideshow": {
     "slide_type": "fragment"
    }
   },
   "source": [
    "The next step is to calculate the difference of the surfaces."
   ]
  },
  {
   "cell_type": "code",
   "execution_count": null,
   "metadata": {
    "slideshow": {
     "slide_type": "fragment"
    }
   },
   "outputs": [],
   "source": [
    "import math\n",
    "\n",
    "def volume(outer_radius: int, inner_radius: int, height: int) -> float:\n",
    "    \"\"\"\n",
    "    Computers the volume of a hollow cylinder based on the radius \n",
    "    of the outer and inner cylinder.\n",
    "    :param outer_radius: outer radius of the cylinder\n",
    "    :param inner_radius: inner radius of the cylinder\n",
    "    :param height: height of the cylinder\n",
    "    :returns volume of a hollow cylinder.\n",
    "    \"\"\"\n",
    "    surface_c1: float = math.pi * outer_radius**2\n",
    "    surface_c2: float = math.pi * inner_radius**2\n",
    "    diff_surfaces = surface_c1 - surface_c2\n",
    "    print('diff_surfaces is', diff_surfaces)\n",
    "    \n",
    "    return 0.0\n",
    "\n",
    "volume(3, 1, 4)"
   ]
  },
  {
   "cell_type": "markdown",
   "metadata": {
    "slideshow": {
     "slide_type": "fragment"
    }
   },
   "source": [
    "Then, we add a statement for multiplying the obtained difference with the height."
   ]
  },
  {
   "cell_type": "code",
   "execution_count": null,
   "metadata": {
    "slideshow": {
     "slide_type": "fragment"
    }
   },
   "outputs": [],
   "source": [
    "import math\n",
    "\n",
    "def volume(outer_radius: int, inner_radius: int, height: int) -> float:\n",
    "    \"\"\"\n",
    "    Computers the volume of a hollow cylinder based on the radius \n",
    "    of the outer and inner cylinder.\n",
    "    :param outer_radius: outer radius of the cylinder\n",
    "    :param inner_radius: inner radius of the cylinder\n",
    "    :param height: height of the cylinder\n",
    "    :returns volume of a hollow cylinder.\n",
    "    \"\"\"\n",
    "    surface_c1: float = math.pi * outer_radius**2\n",
    "    surface_c2: float = math.pi * inner_radius**2\n",
    "    diff_surfaces: float = surface_c1 - surface_c2\n",
    "    print('diff_surfaces is', diff_surfaces)\n",
    "        \n",
    "    return height * diff_surfaces\n",
    "\n",
    "volume(3, 1, 4)"
   ]
  },
  {
   "cell_type": "markdown",
   "metadata": {
    "slideshow": {
     "slide_type": "fragment"
    }
   },
   "source": [
    "The last step is to make sure that if the outer radius is smaller than the inner radius. Thus, we return `0` instead of a negative volume and print an error message."
   ]
  },
  {
   "cell_type": "code",
   "execution_count": null,
   "metadata": {
    "slideshow": {
     "slide_type": "fragment"
    }
   },
   "outputs": [],
   "source": [
    "import math\n",
    "\n",
    "def volume(outer_radius: int, inner_radius: int, height: int) -> float:\n",
    "    \"\"\"\n",
    "    Computers the volume of a hollow cylinder based on the radius \n",
    "    of the outer and inner cylinder, using outer_radius >= inner_radius.\n",
    "    :param outer_radius: outer radius of the cylinder\n",
    "    :param inner_radius: inner radius of the cylinder\n",
    "    :param height: height of the cylinder\n",
    "    :returns volume of a hollow cylinder.\n",
    "    \"\"\"\n",
    "    if outer_radius >= inner_radius:\n",
    "        surface_c1: float = math.pi * outer_radius**2\n",
    "        surface_c2: float = math.pi * inner_radius**2\n",
    "        diff_surfaces: float = surface_c1 - surface_c2\n",
    "        \n",
    "        volume_cylinder: float = height * diff_surfaces\n",
    "    else:\n",
    "        print(\"The outer cylinder should be larger than the inner cylinder\")\n",
    "        \n",
    "        volume_cylinder: float = 0\n",
    "        \n",
    "    return volume_cylinder\n",
    "\n",
    "volume(3, 1, 4)"
   ]
  },
  {
   "cell_type": "markdown",
   "metadata": {
    "slideshow": {
     "slide_type": "fragment"
    }
   },
   "source": [
    "The final version of the function does not display anything when it runs; it only returns\n",
    "a value, or prints an error message.\n",
    "The `print` statements we wrote are useful for debugging, but once you get the\n",
    "function working, you should remove them. \n",
    "Code like that is called **scaffolding** because it\n",
    "is helpful for building the program but is not part of the final product.\n",
    "\n",
    "When you get more experienced, you will add more statements in one run and use less debugging statements.\n",
    "The key points of the incremental approach are:\n",
    "\n",
    "1. Start with a working program and make small incremental changes. At any point, if\n",
    "there is an error, you should have a good idea where it is.\n",
    "2. Use variables to hold intermediate values so you can display and check them.\n",
    "3. Once the program is working, you might want to remove some of the scaffolding or\n",
    "consolidate multiple statements into compound expressions, but only if it does not\n",
    "make the program difficult to read."
   ]
  },
  {
   "cell_type": "markdown",
   "metadata": {
    "slideshow": {
     "slide_type": "slide"
    }
   },
   "source": [
    "## 11. Refactoring <a class=\"anchor\" id=\"refactoring\"></a>\n",
    "\n",
    "After you have written a program, it makes sense to study the code and see whether there are opportunities to improve the structure of the code. \n",
    "\n",
    "If you have copied and pasted instructions, it is advisable to introduced a separate function.\n",
    "\n",
    "It may also be the case that you developed a function with a complex and bulky body. Then, consider the introduction of auxilary functions.\n",
    "\n",
    "Or maybe you have some variables or functions that have a name that is not very descriptive of what the\n",
    "\n",
    "All these improvements are **refactorings**. \n",
    "\n",
    "Once you start coding, you understand the problem better. \n",
    "Sometimes refactoring is a sign that you have learned something."
   ]
  },
  {
   "cell_type": "markdown",
   "metadata": {
    "slideshow": {
     "slide_type": "slide"
    }
   },
   "source": [
    "## 12. Interface Design <a class=\"anchor\" id=\"interface-design\"></a>\n",
    "\n",
    "It may not be clear why it is worth the trouble to divide a program into functions. There\n",
    "are several reasons:\n",
    "\n",
    "* Creating a new function gives you an opportunity to name a group of statements,\n",
    "which makes your program easier to read and debug.\n",
    "* Functions can make a program smaller by eliminating repetitive code. Later, if you\n",
    "make a change, you only have to make it in one place.\n",
    "* Dividing a long program into functions allows you to debug the parts one at a time\n",
    "and then assemble them into a working whole.\n",
    "* Well-designed functions are often useful for many programs. Once you write and\n",
    "debug one, you can reuse it.\n",
    "\n",
    "The **interface** of a function is a summary of how it is used: \n",
    "* What are the parameters and their types? \n",
    "* What does the function do? \n",
    "* What is the return value and its type, if any? \n",
    "\n",
    "An interface is “clean” if it allows the caller to do what they want without dealing with unnecessary details of\n",
    "the body of the function.\n",
    "A good interface can be defined by choosing a good name for the function and for its parameters and by providing the types of its arguments and result.\n",
    "A short description, via comments, of the basic functionality of the function is also useful. This description can include the restrictions (so-called **pre-conditions**) for calling the function."
   ]
  },
  {
   "cell_type": "markdown",
   "metadata": {},
   "source": [
    "---\n",
    "\n",
    "# (End of Notebook)\n",
    "\n",
    "&copy; 2022-2023 - **TU/e** - Eindhoven University of Technology"
   ]
  }
 ],
 "metadata": {
  "anaconda-cloud": {},
  "kernelspec": {
   "display_name": "Python 3 (ipykernel)",
   "language": "python",
   "name": "python3"
  },
  "language_info": {
   "codemirror_mode": {
    "name": "ipython",
    "version": 3
   },
   "file_extension": ".py",
   "mimetype": "text/x-python",
   "name": "python",
   "nbconvert_exporter": "python",
   "pygments_lexer": "ipython3",
   "version": "3.9.7"
  },
  "vscode": {
   "interpreter": {
    "hash": "3aea9d04d643a3dad58bd6e15bcfdd921ab432a7c2b9a15d89f108cc0c05ed72"
   }
  }
 },
 "nbformat": 4,
 "nbformat_minor": 4
}
