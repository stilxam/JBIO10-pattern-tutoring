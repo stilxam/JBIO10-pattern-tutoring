{
 "cells": [
  {
   "cell_type": "markdown",
   "metadata": {
    "slideshow": {
     "slide_type": "slide"
    }
   },
   "source": [
    "## Tuples and Sets\n",
    "\n"
   ]
  },
  {
   "cell_type": "markdown",
   "metadata": {
    "slideshow": {
     "slide_type": "fragment"
    }
   },
   "source": [
    "_(c) 2022, Mark van den Brand and Lina Ochoa Venegas, Eindhoven University of Technology_"
   ]
  },
  {
   "cell_type": "markdown",
   "metadata": {},
   "source": [
    "## Table of Contents\n",
    "\n",
    "- [1. Introduction](#1.-Introduction)\n",
    "- [2. Operation Market Garden](#2.-Operation-Market-Garden)\n",
    "- [3. Tuples are Immutable](#3.-Tuples-are-Immutable)\n",
    "- [4. Comparing Tuples](#4.-Comparing-Tuples)\n",
    "- [5. Tuple Assignment](#5.-Tuple-Assignment)\n",
    "- [6. Tuples as Return Values](#6.-Tuples-as-Return-Values)\n",
    "- [7. Variable-length Argument Tuples](#7.-Variable-length-Argument-Tuples)\n",
    "- [8. Lists and Tuples](#8.-Lists-and-Tuples)\n",
    "- [9. Dictionaries and Tuples](#9.-Dictionaries-and-Tuples)\n",
    "- [10. Sequences of Sequences](#10.-Sequences-of-Sequences)\n",
    "- [11. Sets](#11.-Sets)\n",
    "- [12. Data Structure Selection](#12.-Data-Structure-Selection)"
   ]
  },
  {
   "cell_type": "markdown",
   "metadata": {
    "tags": []
   },
   "source": [
    "## 1. Introduction \n",
    "\n",
    "The data types **lists** and **dictionaries** provide basic functionality to be able to write advanced Python programs. However, sometimes you do not want to work with mutable data types, for instance as we have seen in the keys of the dictonaries. It may also be the case that you want unique elements in your collection and **lists** do not provide this functionality automatically. \n",
    "\n",
    "Therefor, this notebook presents three more built-in types, **tuples**, **sets**, and **relations**, and then shows how these data types and previous ones work together. \n",
    "\n",
    "Additionally, the gather and scatter operators, a useful feature for variable-length argument lists, are presented."
   ]
  },
  {
   "cell_type": "code",
   "execution_count": null,
   "metadata": {},
   "outputs": [],
   "source": [
    "from typing import Dict, List, Set, Tuple\n",
    "import random"
   ]
  },
  {
   "cell_type": "markdown",
   "metadata": {},
   "source": [
    "## 2. Operation Market Garden\n",
    "\n",
    "On the 17th of September, 1944, the Allied forces in World War 2 launched a massive airborne operation with the goal of creating a salient into Nazi Germany, and provide a bridgehead across the Rhine river, a significant natural defensive barrier. This operation was called Market Garden.\n",
    "\n",
    "<img src=\"assets/MarketGardenMap.jpg\" alt=\"Market Garden Map\" width=\"500\"/>\n",
    "\n",
    "<div style=\"text-align:center\">\n",
    "    <span style=\"font-size:0.9em; font-weight: bold;\">Market Garden map.</span>\n",
    "</div>\n",
    "<br>\n",
    "\n",
    "The key to the success of the operation was securing crossings over the many canals along what is now knows as the A50, but during the operation itself was nicknamed Hell’s highway. Without the bridges, it would not be possible to bring in further support from Belgium, nor would the paratroopers get the relief they much needed.\n",
    "\n",
    "If we look back at this operation now, we can observe that the main objective was a collection of bridges across some key locations. These objectives were set beforehand, and deviating from them later would be impossible, and as history has shown, would lead to disaster. These objectives were to be taken in a specific order, as they needed to form a continuous line between Belgium and the crossing over the Rhine.\n",
    "\n",
    "If we were to represent these objectives in Python, we have seen several data structures already that could do this. For example, we could use a List.\n",
    "\n",
    "`objectives = [\"Wilhelminabrug\", \"Waalbrug\", \"John Frostbrug\"]`\n",
    "\n",
    "However, a list can always still be altered, and the order changed. We do not want this. This is where another data structure can come in: the tuple\n",
    "\n",
    "`objectives = (\"Wilhelminabrug\", \"Waalbrug\", \"John Frostbrug\")`\n",
    "\n",
    "A tuple in Python has some very nice properties:\n",
    "* It is ordered, similar to a list\n",
    "* It is immutable, meaning that once created the elements may not be changed anymore\n",
    "* It allows duplicates, meaning that in our case if there were bridges with the same names, we could have added them as well\n"
   ]
  },
  {
   "cell_type": "markdown",
   "metadata": {
    "slideshow": {
     "slide_type": "slide"
    }
   },
   "source": [
    "## 3. Tuples are Immutable\n",
    "\n",
    "We will start with discussing the data type **tuple**. A **tuple** is a sequence of values. \n",
    "\n",
    "The values in a tuple can be of arbitrary types.\n",
    "\n",
    "The elements of a tuple are indexed via integers, in that they resemble lists.\n",
    "\n",
    "Tuples are *immutable*, whereas lists are *mutable*.\n",
    "\n",
    "The following cells show a tuple with 5 elements, in the second cell *parentheses* are used to denote the tuple."
   ]
  },
  {
   "cell_type": "code",
   "execution_count": null,
   "metadata": {
    "slideshow": {
     "slide_type": "fragment"
    }
   },
   "outputs": [],
   "source": [
    "t: Tuple = 'data', 'computer', 'science', 'artificial', 'intelligence'\n",
    "print(t)\n",
    "type(t)"
   ]
  },
  {
   "cell_type": "markdown",
   "metadata": {
    "jupyter": {
     "source_hidden": true
    },
    "tags": []
   },
   "source": [
    "<div class=\"alert alert-success\">\n",
    "    <b>Do It Yourself!</b><br>\n",
    "    Create a tuple with the name of some countries as elements.\n",
    "</div>"
   ]
  },
  {
   "cell_type": "code",
   "execution_count": null,
   "metadata": {
    "jupyter": {
     "source_hidden": true
    },
    "tags": []
   },
   "outputs": [],
   "source": [
    "# Remove this line and add your code here"
   ]
  },
  {
   "cell_type": "markdown",
   "metadata": {
    "slideshow": {
     "slide_type": "fragment"
    }
   },
   "source": [
    "If you want to create a tuple with just one element, then you have\n",
    "to add a comma as terminator"
   ]
  },
  {
   "cell_type": "code",
   "execution_count": null,
   "metadata": {
    "slideshow": {
     "slide_type": "fragment"
    }
   },
   "outputs": [],
   "source": [
    "t1: Tuple = 'programming',\n",
    "\n",
    "print(t1)\n",
    "type(t1)"
   ]
  },
  {
   "cell_type": "markdown",
   "metadata": {
    "slideshow": {
     "slide_type": "fragment"
    }
   },
   "source": [
    "A single value between parantheses is *not* a tuple."
   ]
  },
  {
   "cell_type": "code",
   "execution_count": null,
   "metadata": {
    "slideshow": {
     "slide_type": "fragment"
    }
   },
   "outputs": [],
   "source": [
    "t2: Tuple = ('statistics')\n",
    "\n",
    "print(t2)\n",
    "type(t2)"
   ]
  },
  {
   "cell_type": "markdown",
   "metadata": {
    "jupyter": {
     "source_hidden": true
    },
    "tags": []
   },
   "source": [
    "<div class=\"alert alert-success\">\n",
    "    <b>Do It Yourself!</b><br>\n",
    "    Create a tuple with your name as single element.\n",
    "</div>"
   ]
  },
  {
   "cell_type": "code",
   "execution_count": null,
   "metadata": {
    "jupyter": {
     "source_hidden": true
    },
    "tags": []
   },
   "outputs": [],
   "source": [
    "# Remove this line and add your code here"
   ]
  },
  {
   "cell_type": "markdown",
   "metadata": {
    "slideshow": {
     "slide_type": "subslide"
    }
   },
   "source": [
    "You can create a tuple via the built-in function `tuple`."
   ]
  },
  {
   "cell_type": "code",
   "execution_count": null,
   "metadata": {
    "slideshow": {
     "slide_type": "fragment"
    }
   },
   "outputs": [],
   "source": [
    "t: Tuple = tuple()\n",
    "\n",
    "print(t)\n",
    "type(t)"
   ]
  },
  {
   "cell_type": "markdown",
   "metadata": {
    "slideshow": {
     "slide_type": "fragment"
    }
   },
   "source": [
    "If the argument of the `tuple` function is a sequence (string, list, or tuple), the result is a tuple with the elements of the sequence."
   ]
  },
  {
   "cell_type": "code",
   "execution_count": null,
   "metadata": {
    "slideshow": {
     "slide_type": "fragment"
    }
   },
   "outputs": [],
   "source": [
    "t: Tuple = tuple('engineering')\n",
    "\n",
    "print(t)\n",
    "type(t)"
   ]
  },
  {
   "cell_type": "markdown",
   "metadata": {
    "jupyter": {
     "source_hidden": true
    },
    "tags": []
   },
   "source": [
    "<div class=\"alert alert-success\">\n",
    "    <b>Do It Yourself!</b><br>\n",
    "    Create a tuple out of the <i>artists</i> list.\n",
    "</div>"
   ]
  },
  {
   "cell_type": "code",
   "execution_count": null,
   "metadata": {
    "jupyter": {
     "source_hidden": true
    },
    "tags": []
   },
   "outputs": [],
   "source": [
    "artists = ['John Lennon', 'Amy Winehouse', 'Adele', 'Bon Jovi', 'The Rolling Stones']\n",
    "# Remove this line and add your code here"
   ]
  },
  {
   "cell_type": "markdown",
   "metadata": {
    "slideshow": {
     "slide_type": "fragment"
    }
   },
   "source": [
    "`tuple` is a built-in function, so avoid using `tuple` as variable name.\n",
    "\n",
    "Most list operators also work on tuples. The bracket operator indexes an element."
   ]
  },
  {
   "cell_type": "code",
   "execution_count": null,
   "metadata": {
    "slideshow": {
     "slide_type": "fragment"
    }
   },
   "outputs": [],
   "source": [
    "t: Tuple = ('data', 'computer', 'science', 'artificial', 'intelligence')\n",
    "t[len(t) - 1]"
   ]
  },
  {
   "cell_type": "markdown",
   "metadata": {
    "slideshow": {
     "slide_type": "fragment"
    }
   },
   "source": [
    "The slice operator allows you to select a range of elements."
   ]
  },
  {
   "cell_type": "code",
   "execution_count": null,
   "metadata": {
    "slideshow": {
     "slide_type": "fragment"
    }
   },
   "outputs": [],
   "source": [
    "t[2:4]"
   ]
  },
  {
   "cell_type": "markdown",
   "metadata": {
    "jupyter": {
     "source_hidden": true
    },
    "tags": []
   },
   "source": [
    "<div class=\"alert alert-success\">\n",
    "    <b>Do It Yourself!</b><br>\n",
    "    Use slicing to only return the values of 'Adele' and 'Bon Jovi' from your artists tuple.\n",
    "</div>"
   ]
  },
  {
   "cell_type": "code",
   "execution_count": null,
   "metadata": {
    "jupyter": {
     "source_hidden": true
    },
    "tags": []
   },
   "outputs": [],
   "source": [
    "# Remove this line and add your code here"
   ]
  },
  {
   "cell_type": "markdown",
   "metadata": {
    "slideshow": {
     "slide_type": "slide"
    }
   },
   "source": [
    "Tuples are immutable, so if you try to assign a value to a tuple element, you will get an error message."
   ]
  },
  {
   "cell_type": "code",
   "execution_count": null,
   "metadata": {
    "slideshow": {
     "slide_type": "fragment"
    }
   },
   "outputs": [],
   "source": [
    "t[0] = 'Data'"
   ]
  },
  {
   "cell_type": "markdown",
   "metadata": {
    "slideshow": {
     "slide_type": "fragment"
    }
   },
   "source": [
    "In order to replace elements in a tuple, you have to create a new one.\n",
    "\n",
    "So, *tuples* have a strong resemblance with *strings*."
   ]
  },
  {
   "cell_type": "code",
   "execution_count": null,
   "metadata": {
    "slideshow": {
     "slide_type": "fragment"
    }
   },
   "outputs": [],
   "source": [
    "print(t)\n",
    "t: Tuple = ('Data',) + t[1:]\n",
    "print(t)"
   ]
  },
  {
   "cell_type": "markdown",
   "metadata": {
    "slideshow": {
     "slide_type": "fragment"
    }
   },
   "source": [
    "This statement makes a new tuple and then makes `t` refer to it."
   ]
  },
  {
   "cell_type": "markdown",
   "metadata": {
    "jupyter": {
     "source_hidden": true
    },
    "tags": []
   },
   "source": [
    "<div class=\"alert alert-success\">\n",
    "    <b>Do It Yourself!</b><br>\n",
    "    Add a new artists to your artists tuple.\n",
    "</div>"
   ]
  },
  {
   "cell_type": "code",
   "execution_count": null,
   "metadata": {
    "jupyter": {
     "source_hidden": true
    },
    "tags": []
   },
   "outputs": [],
   "source": [
    "# Remove this line and add your code here"
   ]
  },
  {
   "cell_type": "markdown",
   "metadata": {},
   "source": [
    "## 4. Comparing Tuples\n",
    "\n",
    "The relational operators work with tuples and other sequences; Python starts by comparing\n",
    "the first element from each sequence. \n",
    "\n",
    "If they are equal, it goes on to the next elements, and\n",
    "so on, until it finds elements that differ. \n",
    "\n",
    "Subsequent elements are not considered (even if\n",
    "they are really big)."
   ]
  },
  {
   "cell_type": "code",
   "execution_count": null,
   "metadata": {},
   "outputs": [],
   "source": [
    "('abc',) == ('abc','def')"
   ]
  },
  {
   "cell_type": "code",
   "execution_count": null,
   "metadata": {
    "slideshow": {
     "slide_type": "fragment"
    }
   },
   "outputs": [],
   "source": [
    "(0, 3, 20) < (0, 3, 40000)"
   ]
  },
  {
   "cell_type": "markdown",
   "metadata": {},
   "source": [
    "The `sort` function works in the same manner. \n",
    "\n",
    "It sorts based on the first element. \n",
    "If the first elements match, it considers the second one, and so on.\n",
    "\n",
    "### DSU Pattern\n",
    "\n",
    "This feature is used within the **DSU pattern**:\n",
    "\n",
    "- **Decorate** a sequence by creating a list of tuples with sort keys preceding the elements of the sequence.\n",
    "- **Sort** the list of tuples with the `sort` function.\n",
    "- **Undecorate** by extracting the elements of the sequence."
   ]
  },
  {
   "cell_type": "code",
   "execution_count": null,
   "metadata": {},
   "outputs": [],
   "source": [
    "poem: str = 'My tactic is to talk to you and listen to you and construct with words an indestructible bridge'\n",
    "words: List = poem.split()\n",
    "length_words: List = list()\n",
    "\n",
    "for word in words:\n",
    "    length_words.append((len(word), word))\n",
    "    \n",
    "length_words"
   ]
  },
  {
   "cell_type": "markdown",
   "metadata": {},
   "source": [
    "In this example, we want to sort words from the longest to the shortest.\n",
    "\n",
    "To do so, we consider our text (i.e. `poem`) and we create a list of words with the `split` method.\n",
    "\n",
    "Then, we iterate over the list and we append a tuple to the `length_words` list.\n",
    "\n",
    "This tuple has the length of the word as first element, and the word itself as second element.\n",
    "With this we *decorate* the original sequence of words."
   ]
  },
  {
   "cell_type": "code",
   "execution_count": null,
   "metadata": {
    "tags": []
   },
   "outputs": [],
   "source": [
    "length_words.sort(reverse=True)\n",
    "length_words"
   ]
  },
  {
   "cell_type": "markdown",
   "metadata": {
    "tags": []
   },
   "source": [
    "Afterwards, we *sort* the list of tuples (i.e. `length_words`)."
   ]
  },
  {
   "cell_type": "code",
   "execution_count": null,
   "metadata": {
    "tags": []
   },
   "outputs": [],
   "source": [
    "sort_words: List = list()\n",
    "\n",
    "for length, word in length_words:\n",
    "    sort_words.append(word)\n",
    "    \n",
    "print(sort_words)"
   ]
  },
  {
   "cell_type": "markdown",
   "metadata": {
    "tags": []
   },
   "source": [
    "Finally, we iterate over the list of tuples (i.e. `length_words`) to *undecorate* te sequence, and we append each word to the new list `sort_words`."
   ]
  },
  {
   "cell_type": "markdown",
   "metadata": {
    "jupyter": {
     "source_hidden": true
    },
    "tags": []
   },
   "source": [
    "<div class=\"alert alert-success\">\n",
    "    <b>Do It Yourself!</b><br>\n",
    "    Let's consider again the <i>poem</i> variable. We want to sort its words based on the number of times that the letter <i>a</i> appears on it. Use the DSU pattern.\n",
    "</div>"
   ]
  },
  {
   "cell_type": "code",
   "execution_count": null,
   "metadata": {
    "jupyter": {
     "source_hidden": true
    },
    "tags": []
   },
   "outputs": [],
   "source": [
    "poem = 'My tactic is to talk to you and listen to you and construct with words an indestructible bridge'\n",
    "# Remove this line and add your code here"
   ]
  },
  {
   "cell_type": "markdown",
   "metadata": {
    "slideshow": {
     "slide_type": "slide"
    }
   },
   "source": [
    "## 5. Tuple Assignment\n",
    "\n",
    "Python allows us to have a tuple on the left side of an assignment.\n",
    "\n",
    "In this way, we can assign more than one variable at a time.\n",
    "\n",
    "We usually omit the use of parentheses on the left side of an assignment statement."
   ]
  },
  {
   "cell_type": "code",
   "execution_count": null,
   "metadata": {},
   "outputs": [],
   "source": [
    "my_list: List = ['Data', 'Science']\n",
    "\n",
    "a, b = my_list\n",
    "\n",
    "print(a)\n",
    "print(b)"
   ]
  },
  {
   "cell_type": "markdown",
   "metadata": {},
   "source": [
    "We have seen this contruct a few cells ago as well: `for length, word in length_words:`.\n",
    "\n",
    "If you want to swap the value of two variables you can use a temporary variable."
   ]
  },
  {
   "cell_type": "code",
   "execution_count": null,
   "metadata": {
    "slideshow": {
     "slide_type": "fragment"
    }
   },
   "outputs": [],
   "source": [
    "a: str = 'Data'\n",
    "b: str = 'Computer'\n",
    "\n",
    "tmp: str = a\n",
    "a = b\n",
    "b = tmp\n",
    "\n",
    "print('a =', a)\n",
    "print('b =', b)"
   ]
  },
  {
   "cell_type": "markdown",
   "metadata": {
    "slideshow": {
     "slide_type": "fragment"
    }
   },
   "source": [
    "You can also use the **tuple assignment**."
   ]
  },
  {
   "cell_type": "code",
   "execution_count": null,
   "metadata": {
    "slideshow": {
     "slide_type": "fragment"
    }
   },
   "outputs": [],
   "source": [
    "a: str = 'Data'\n",
    "b: str = 'Computer'\n",
    "\n",
    "print((b, a))\n",
    "\n",
    "(a, b) = (b, a)\n",
    "\n",
    "print('a =', a)\n",
    "print('b =', b)"
   ]
  },
  {
   "cell_type": "markdown",
   "metadata": {
    "slideshow": {
     "slide_type": "fragment"
    }
   },
   "source": [
    "The left side is a tuple of variables; the right side is a tuple of expressions. \n",
    "\n",
    "Each value is assigned to its respective variable. \n",
    "\n",
    "All the expressions on the right side are evaluated\n",
    "before any of the assignments.\n",
    "\n",
    "The tuple assignment requires that both sides have the same number of elements.\n",
    "\n",
    "<div class=\"alert alert-info\">\n",
    "    Note that we are creating a new tuple and not updating an existing tuple.\n",
    "</div>"
   ]
  },
  {
   "cell_type": "code",
   "execution_count": null,
   "metadata": {
    "slideshow": {
     "slide_type": "fragment"
    }
   },
   "outputs": [],
   "source": [
    "a, b = 'Data', 'Computer'\n",
    "\n",
    "print(b)"
   ]
  },
  {
   "cell_type": "markdown",
   "metadata": {
    "slideshow": {
     "slide_type": "fragment"
    }
   },
   "source": [
    "More generally, the right side can be any kind of sequence (string, list or tuple). \n",
    "\n",
    "For example,\n",
    "to split an email address into a user name and a domain, you could write:"
   ]
  },
  {
   "cell_type": "code",
   "execution_count": null,
   "metadata": {
    "slideshow": {
     "slide_type": "fragment"
    }
   },
   "outputs": [],
   "source": [
    "uname, domain = 'monty@python.org'.split('@')\n",
    "\n",
    "print(domain)"
   ]
  },
  {
   "cell_type": "markdown",
   "metadata": {
    "slideshow": {
     "slide_type": "fragment"
    }
   },
   "source": [
    "The return value from split is a list with two elements; the first element is assigned to `uname`, the second to `domain`."
   ]
  },
  {
   "cell_type": "code",
   "execution_count": null,
   "metadata": {
    "slideshow": {
     "slide_type": "fragment"
    }
   },
   "outputs": [],
   "source": [
    "print('uname =', uname)\n",
    "print('domain =', domain)"
   ]
  },
  {
   "cell_type": "markdown",
   "metadata": {
    "jupyter": {
     "source_hidden": true
    },
    "tags": []
   },
   "source": [
    "<div class=\"alert alert-success\">\n",
    "    <b>Do It Yourself!</b><br>\n",
    "    Assign the elements of the list <i>artist</i> to a tuple with three elements. Then, rearrange the tuple so we get them in the right order, i.e. The, Rolling, Stones.\n",
    "</div>"
   ]
  },
  {
   "cell_type": "code",
   "execution_count": null,
   "metadata": {
    "jupyter": {
     "source_hidden": true
    },
    "tags": []
   },
   "outputs": [],
   "source": [
    "artist = ['Rolling', 'Stones', 'The']\n",
    "# Remove this line and add your code here"
   ]
  },
  {
   "cell_type": "markdown",
   "metadata": {
    "slideshow": {
     "slide_type": "slide"
    }
   },
   "source": [
    "## 6. Tuples as Return Values\n",
    "\n",
    "A function/method can return only one single value.\n",
    "\n",
    "By means of a tuple a function can return a collection of values.\n",
    "\n",
    "Suppose you want to divide two integers and compute the quotient and remainder. \n",
    "\n",
    "It is inefficient to compute `x / y` and then `x % y`. \n",
    "\n",
    "It is better to compute them both at the same time via the function `divmod`."
   ]
  },
  {
   "cell_type": "code",
   "execution_count": null,
   "metadata": {
    "slideshow": {
     "slide_type": "fragment"
    }
   },
   "outputs": [],
   "source": [
    "t: Tuple = divmod(7, 3)\n",
    "(quot, rem) = t\n",
    "print('quotient =', quot)\n",
    "print('remainder =', rem)"
   ]
  },
  {
   "cell_type": "markdown",
   "metadata": {
    "slideshow": {
     "slide_type": "fragment"
    }
   },
   "source": [
    "Using the tuple assignment you can obtain the results separately."
   ]
  },
  {
   "cell_type": "code",
   "execution_count": null,
   "metadata": {
    "slideshow": {
     "slide_type": "fragment"
    }
   },
   "outputs": [],
   "source": [
    "(quot, rem) = divmod(7, 3)\n",
    "print('quotient =', quot)\n",
    "print('remainder =', rem)"
   ]
  },
  {
   "cell_type": "markdown",
   "metadata": {
    "slideshow": {
     "slide_type": "slide"
    }
   },
   "source": [
    "The calculation of the `min` and `max` can be captured as follows, where\n",
    "`min` and `max` are built-in functions for finding the smallest and largest elements of a sequence."
   ]
  },
  {
   "cell_type": "code",
   "execution_count": null,
   "metadata": {
    "slideshow": {
     "slide_type": "fragment"
    }
   },
   "outputs": [],
   "source": [
    "from typing import List, Tuple\n",
    "\n",
    "def min_max(t: List[int]) -> Tuple:\n",
    "    \"\"\"\n",
    "    Given a list return the min and the max value in the list.\n",
    "    :param t: list of integer numbers\n",
    "    :returns: a tuple containing the min and max value.\n",
    "    \"\"\"\n",
    "    return min(t), max(t)\n",
    "\n",
    "min_max([2,5,1,7,4,9])"
   ]
  },
  {
   "cell_type": "markdown",
   "metadata": {
    "jupyter": {
     "source_hidden": true
    },
    "tags": []
   },
   "source": [
    "<div class=\"alert alert-success\">\n",
    "    <b>Do It Yourself!</b><br>\n",
    "    Create a function that takes a list of strings and returns the shortest and longest words as a tuple.\n",
    "</div>"
   ]
  },
  {
   "cell_type": "code",
   "execution_count": null,
   "metadata": {
    "jupyter": {
     "source_hidden": true
    },
    "tags": []
   },
   "outputs": [],
   "source": [
    "words = ['What', 'matters', 'in', 'life', 'is', 'not', 'what', 'happens', 'to',\n",
    "         'you', 'but', 'what', 'you', 'remember', 'and', 'how', 'you', 'remember', 'it']\n",
    "# Remove this line and add your code here"
   ]
  },
  {
   "cell_type": "markdown",
   "metadata": {
    "slideshow": {
     "slide_type": "slide"
    }
   },
   "source": [
    "## 7. Variable-length Argument Tuples\n",
    "\n",
    "Functions/methods can take a variable number of arguments.\n",
    "\n",
    "A parameter name that starts with a `*` **gathers** arguments into a tuple.\n",
    "\n",
    "The `gather` argument can have any name, but often the name `args` is used."
   ]
  },
  {
   "cell_type": "code",
   "execution_count": null,
   "metadata": {
    "slideshow": {
     "slide_type": "fragment"
    }
   },
   "outputs": [],
   "source": [
    "def print_all(*args: any) -> None:\n",
    "    \"\"\"\n",
    "    Prints the values of a variable list.\n",
    "    :param args: tuple of values.\n",
    "    \"\"\"\n",
    "    print(args)\n",
    "    \n",
    "print_all(1, True, '42')"
   ]
  },
  {
   "cell_type": "markdown",
   "metadata": {
    "slideshow": {
     "slide_type": "fragment"
    }
   },
   "source": [
    "The inverse of the gather is **scatter**, it splits the tuple in separate elements."
   ]
  },
  {
   "cell_type": "code",
   "execution_count": null,
   "metadata": {
    "slideshow": {
     "slide_type": "fragment"
    }
   },
   "outputs": [],
   "source": [
    "t: Tuple = (7, 3)\n",
    "\n",
    "divmod(t)"
   ]
  },
  {
   "cell_type": "code",
   "execution_count": null,
   "metadata": {
    "slideshow": {
     "slide_type": "fragment"
    }
   },
   "outputs": [],
   "source": [
    "t: Tuple = (7, 3)\n",
    "\n",
    "divmod(*t)"
   ]
  },
  {
   "cell_type": "markdown",
   "metadata": {
    "slideshow": {
     "slide_type": "fragment"
    }
   },
   "source": [
    "A number of built-in functions use variable-length argument tuples."
   ]
  },
  {
   "cell_type": "code",
   "execution_count": null,
   "metadata": {
    "slideshow": {
     "slide_type": "fragment"
    }
   },
   "outputs": [],
   "source": [
    "max(1, 4, 7, 1, 25, 8)"
   ]
  },
  {
   "cell_type": "markdown",
   "metadata": {
    "slideshow": {
     "slide_type": "fragment"
    }
   },
   "source": [
    "An exception is the `sum` function."
   ]
  },
  {
   "cell_type": "code",
   "execution_count": null,
   "metadata": {},
   "outputs": [],
   "source": [
    "sum((1, 2, 3), 0)"
   ]
  },
  {
   "cell_type": "code",
   "execution_count": null,
   "metadata": {
    "slideshow": {
     "slide_type": "fragment"
    }
   },
   "outputs": [],
   "source": [
    "def sum_all(*args: Tuple) -> int:\n",
    "    \"\"\"\n",
    "    Adds the values of a variable list of integers.\n",
    "    :param args: tuple of integer numbers\n",
    "    :returns: the sum of the list of integers.\n",
    "    \"\"\"\n",
    "    print(type(args))\n",
    "    return sum(args, 0)\n",
    "    \n",
    "x = sum_all(1,2,3,4,5,6,7,8,9)\n",
    "print(x)"
   ]
  },
  {
   "cell_type": "markdown",
   "metadata": {
    "jupyter": {
     "source_hidden": true
    },
    "tags": []
   },
   "source": [
    "<div class=\"alert alert-success\">\n",
    "    <b>Do It Yourself!</b><br>\n",
    "    Create a function that receives a variable number of arguments and multiples all received items. Then, it returns the result.\n",
    "</div>"
   ]
  },
  {
   "cell_type": "code",
   "execution_count": null,
   "metadata": {
    "jupyter": {
     "source_hidden": true
    },
    "tags": []
   },
   "outputs": [],
   "source": [
    "# Remove this line and add your code here"
   ]
  },
  {
   "cell_type": "markdown",
   "metadata": {
    "slideshow": {
     "slide_type": "slide"
    }
   },
   "source": [
    "## 8. Lists and Tuples\n",
    "\n",
    "`zip` is a built-in function that takes two or more sequences and returns a list of tuples where each tuple contains one element from each sequence. \n",
    "\n",
    "The name of the function refers to a zipper."
   ]
  },
  {
   "cell_type": "code",
   "execution_count": null,
   "metadata": {
    "slideshow": {
     "slide_type": "fragment"
    }
   },
   "outputs": [],
   "source": [
    "s = 'abc'\n",
    "t = [0, 1, 2]\n",
    "\n",
    "z = zip(s, t)\n",
    "print(z)"
   ]
  },
  {
   "cell_type": "markdown",
   "metadata": {
    "slideshow": {
     "slide_type": "fragment"
    }
   },
   "source": [
    "The result of the `zip` is a **zip object** that knows how to iterate through the elements.\n",
    "\n",
    "A `for` loop is needed to iterate over the elements of a **zip object**."
   ]
  },
  {
   "cell_type": "code",
   "execution_count": null,
   "metadata": {
    "slideshow": {
     "slide_type": "fragment"
    }
   },
   "outputs": [],
   "source": [
    "for pair in zip(s, t):\n",
    "    print(pair)"
   ]
  },
  {
   "cell_type": "markdown",
   "metadata": {
    "slideshow": {
     "slide_type": "fragment"
    }
   },
   "source": [
    "Observe the subtle difference between the code in the cell above and below, by running the cell below *twice* in a row.\n",
    "\n",
    "The variable `z` does not contain a value representing the list of tuples, but the zip object."
   ]
  },
  {
   "cell_type": "code",
   "execution_count": null,
   "metadata": {
    "slideshow": {
     "slide_type": "fragment"
    }
   },
   "outputs": [],
   "source": [
    "for pair in z:\n",
    "    print(pair)"
   ]
  },
  {
   "cell_type": "code",
   "execution_count": null,
   "metadata": {},
   "outputs": [],
   "source": [
    "z[0]"
   ]
  },
  {
   "cell_type": "markdown",
   "metadata": {
    "slideshow": {
     "slide_type": "slide"
    }
   },
   "source": [
    "A zip object is an iterator that iterates through a sequence.\n",
    "\n",
    "There are 2 major differences:\n",
    "* indexing an element is not supported\n",
    "* the iteration cannot be repeated\n",
    "\n",
    "If you want to use list operators and methods, you can use a zip object to make a list."
   ]
  },
  {
   "cell_type": "code",
   "execution_count": null,
   "metadata": {
    "slideshow": {
     "slide_type": "fragment"
    }
   },
   "outputs": [],
   "source": [
    "list(zip(s, t))"
   ]
  },
  {
   "cell_type": "markdown",
   "metadata": {
    "slideshow": {
     "slide_type": "fragment"
    }
   },
   "source": [
    "The result is a list of tuples consisting of a character and a digit.\n",
    "\n",
    "If the lists you are zipping have not the same length, the result is a zip object with the length of the shortest list."
   ]
  },
  {
   "cell_type": "code",
   "execution_count": null,
   "metadata": {
    "slideshow": {
     "slide_type": "fragment"
    }
   },
   "outputs": [],
   "source": [
    "list(zip('Data', 'Computer'))"
   ]
  },
  {
   "cell_type": "markdown",
   "metadata": {
    "slideshow": {
     "slide_type": "slide"
    }
   },
   "source": [
    "You can use **tuple assignment** in a `for` loop to traverse a list of tuples."
   ]
  },
  {
   "cell_type": "code",
   "execution_count": null,
   "metadata": {
    "slideshow": {
     "slide_type": "fragment"
    }
   },
   "outputs": [],
   "source": [
    "t: List = [('a', 0), ('b', 1), ('c', 2)]\n",
    "\n",
    "for letter, number in t:\n",
    "    print(number, letter)"
   ]
  },
  {
   "cell_type": "markdown",
   "metadata": {
    "slideshow": {
     "slide_type": "fragment"
    }
   },
   "source": [
    "If you combine `zip`, a `for` loop and a tuple assignment, you have a very powerful and concise way for traversing two (or more) sequences at the same time. \n",
    "\n",
    "The function `has_match` takes two sequences, `t1` and `t2`, and returns `True` if there is an index `i` such that `t1[i] == t2[i]`."
   ]
  },
  {
   "cell_type": "code",
   "execution_count": null,
   "metadata": {
    "slideshow": {
     "slide_type": "fragment"
    }
   },
   "outputs": [],
   "source": [
    "from typing import List\n",
    "\n",
    "def has_perfect_match(t1: List[any], t2: List[any]) -> bool:\n",
    "    \"\"\"\n",
    "    Checks whether there is at least one matching element.\n",
    "    :param t1: list of values of any type\n",
    "    :param t2: list of values of any type\n",
    "    :returns: a boolean value to indicate that there is matching \n",
    "        element at the same index in both lists.\n",
    "    \"\"\"\n",
    "    for x, y in zip(t1, t2):\n",
    "        if x == y:\n",
    "            return True\n",
    "    return False\n",
    "\n",
    "has_perfect_match(['Data', 'Science', 'Statistics'], ['Computer', 'Science', \"Programming\"])"
   ]
  },
  {
   "cell_type": "markdown",
   "metadata": {},
   "source": [
    "The following cell shows the code if you want the index to be returned instead of a boolean value."
   ]
  },
  {
   "cell_type": "code",
   "execution_count": null,
   "metadata": {
    "slideshow": {
     "slide_type": "fragment"
    }
   },
   "outputs": [],
   "source": [
    "from typing import List\n",
    "\n",
    "def has_match(t1: List[any], t2: List[any]) -> int:\n",
    "    \"\"\"\n",
    "    Checks whether there is at least one matching element.\n",
    "    :param t1: list of values of any type\n",
    "    :param t2: list of values of any type\n",
    "    :returns: the index of the matching element in both lists.\n",
    "    \"\"\"\n",
    "    i = 0\n",
    "    for x, y in zip(t1, t2):\n",
    "        if x == y:\n",
    "            return i\n",
    "        i += 1\n",
    "    return -1\n",
    "\n",
    "has_match(['Data', 'Science', 'Statistics'], ['Computer', 'Science', \"Programming\"])"
   ]
  },
  {
   "cell_type": "markdown",
   "metadata": {
    "jupyter": {
     "source_hidden": true
    },
    "tags": []
   },
   "source": [
    "<div class=\"alert alert-success\">\n",
    "    <b>Do It Yourself!</b><br>\n",
    "    Use the <i>zip</i> function to create a list of tuples out of <i>nums1</i> and <i>nums2</i>. Then, iterate over the zip object and return True if there is at least one pair where the first number is divisible by the second one, False otherwise.\n",
    "</div>"
   ]
  },
  {
   "cell_type": "code",
   "execution_count": null,
   "metadata": {
    "jupyter": {
     "source_hidden": true
    },
    "tags": []
   },
   "outputs": [],
   "source": [
    "nums1 = [2, 3, 4, 4, 5]\n",
    "nums2 = [5, 5, 3, 2, 5]\n",
    "# Remove this line and add your code here"
   ]
  },
  {
   "cell_type": "markdown",
   "metadata": {
    "slideshow": {
     "slide_type": "slide"
    }
   },
   "source": [
    "If you need to traverse the elements of a sequence and their indices, you can use the built-in function `enumerate`.\n",
    "\n",
    "The `enumerate` function has the same characteristics as the `zip` function.\n",
    "\n",
    "It creates an **enumerate object** of which the elements can be accessed via iteration. \n",
    "\n",
    "Each pair contains an index (starting from 0) and an element from the given sequence."
   ]
  },
  {
   "cell_type": "code",
   "execution_count": null,
   "metadata": {
    "slideshow": {
     "slide_type": "fragment"
    }
   },
   "outputs": [],
   "source": [
    "for index, element in enumerate('abcdef'):\n",
    "    print(index, element)"
   ]
  },
  {
   "cell_type": "markdown",
   "metadata": {
    "jupyter": {
     "source_hidden": true
    },
    "tags": []
   },
   "source": [
    "<div class=\"alert alert-success\">\n",
    "    <b>Do It Yourself!</b><br>\n",
    "    Create a function that receives a list of integers and an integer as parameters. Use the <i>enumerate</i> function to traverse that list and return the position of the first number that is equal to the one received as parameter. If the number is not part of the list return -1.\n",
    "</div>"
   ]
  },
  {
   "cell_type": "code",
   "execution_count": null,
   "metadata": {
    "jupyter": {
     "source_hidden": true
    },
    "tags": []
   },
   "outputs": [],
   "source": [
    "# Remove this line and add your code here"
   ]
  },
  {
   "cell_type": "markdown",
   "metadata": {
    "slideshow": {
     "slide_type": "slide"
    }
   },
   "source": [
    "## 9. Dictionaries and Tuples\n",
    "\n",
    "Dictionaries are very handy to store values using keys. \n",
    "\n",
    "You can transform a dictionary into a **dict_items object**, which is similar to the **zip object** and the **enumerate object**.\n",
    "\n",
    "You can transform a dictionary into a `dict_items` object via the built-in function `items`. \n",
    "\n",
    "This function returns a sequence of tuples, where each tuple is a key-value pair."
   ]
  },
  {
   "cell_type": "code",
   "execution_count": null,
   "metadata": {
    "slideshow": {
     "slide_type": "fragment"
    }
   },
   "outputs": [],
   "source": [
    "d: Dict = {'a': 0, 'b': 1, 'c': 2}\n",
    "\n",
    "t = d.items()\n",
    "t    "
   ]
  },
  {
   "cell_type": "markdown",
   "metadata": {
    "slideshow": {
     "slide_type": "fragment"
    }
   },
   "source": [
    "The `dict_items` is an iterator that iterates over the key-value pairs."
   ]
  },
  {
   "cell_type": "code",
   "execution_count": null,
   "metadata": {
    "slideshow": {
     "slide_type": "fragment"
    }
   },
   "outputs": [],
   "source": [
    "for key, value in d.items():\n",
    "    print(key, value)"
   ]
  },
  {
   "cell_type": "markdown",
   "metadata": {
    "slideshow": {
     "slide_type": "fragment"
    }
   },
   "source": [
    "You can use a list of tuples to create a dictionary."
   ]
  },
  {
   "cell_type": "code",
   "execution_count": null,
   "metadata": {
    "slideshow": {
     "slide_type": "fragment"
    }
   },
   "outputs": [],
   "source": [
    "t: List = [('a', 0), ('c', 2), ('b', 1)]\n",
    "d: Dict = dict(t)\n",
    "d"
   ]
  },
  {
   "cell_type": "markdown",
   "metadata": {
    "slideshow": {
     "slide_type": "fragment"
    }
   },
   "source": [
    "Combining `dict` with `zip` yields a concise way to create a dictionary."
   ]
  },
  {
   "cell_type": "code",
   "execution_count": null,
   "metadata": {
    "slideshow": {
     "slide_type": "fragment"
    }
   },
   "outputs": [],
   "source": [
    "d: Dict = dict(zip('abcdef', range(6)))\n",
    "d"
   ]
  },
  {
   "cell_type": "markdown",
   "metadata": {
    "slideshow": {
     "slide_type": "slide"
    }
   },
   "source": [
    "The dictionary method `update`  takes a list of tuples and adds them, as key-value pairs, to an existing dictionary.\n",
    "\n",
    "It is common to use tuples as keys in dictionaries (primarily because you cannot use lists). \n",
    "\n",
    "For example, a telephone directory might map from last-name, first-name pairs to telephone numbers. \n",
    "\n",
    "Assuming that we have defined `last`, `first` and `number`, we could write the following statement."
   ]
  },
  {
   "cell_type": "code",
   "execution_count": null,
   "metadata": {
    "slideshow": {
     "slide_type": "fragment"
    }
   },
   "outputs": [],
   "source": [
    "directory: Dict = dict()\n",
    "directory['van den Brand', 'Mark'] = '2727'\n",
    "directory['Ochoa', 'Lina'] = '2728'\n",
    "directory['Seraj', 'Mazyar'] = '2729'\n",
    "\n",
    "for last, first in directory:\n",
    "    print(first, last, directory[last, first])"
   ]
  },
  {
   "cell_type": "markdown",
   "metadata": {
    "jupyter": {
     "source_hidden": true
    },
    "tags": []
   },
   "source": [
    "<div class=\"alert alert-success\">\n",
    "    <b>Do It Yourself!</b><br>\n",
    "    Take the <i>eng_sp</i> dictionary and based on it create the <i>sp_eng</i> which swaps english words by spanish words. For instance, instead of having 'hello' : 'hola', the <i>sp_eng</i> dictionary will have 'hola' : 'hello'. Use the <i>items</i> method to achieve this goal.\n",
    "</div>"
   ]
  },
  {
   "cell_type": "code",
   "execution_count": null,
   "metadata": {
    "jupyter": {
     "source_hidden": true
    },
    "tags": []
   },
   "outputs": [],
   "source": [
    "eng_sp = {'hello' : 'hola', 'dog' : 'perro', 'cat': 'gato', 'love': 'amor', 'sport' : 'deporte'}\n",
    "# Remove this line and add your code here"
   ]
  },
  {
   "cell_type": "markdown",
   "metadata": {
    "slideshow": {
     "slide_type": "slide"
    }
   },
   "source": [
    "## 10. Sequences of Sequences\n",
    "\n",
    "In many contexts, the different kinds of sequences (strings, lists and tuples) can be used interchangeably. \n",
    "\n",
    "So how should you choose one over the others?"
   ]
  },
  {
   "cell_type": "markdown",
   "metadata": {
    "slideshow": {
     "slide_type": "fragment"
    }
   },
   "source": [
    "**Option 1: Strings**\n",
    "\n",
    "To start with the obvious, strings are more limited than other sequences because the elements have to be characters. \n",
    "\n",
    "They are also immutable. \n",
    "\n",
    "If you need the ability to change the\n",
    "characters in a string (as opposed to creating a new string), you might want to use a list of characters instead."
   ]
  },
  {
   "cell_type": "markdown",
   "metadata": {
    "slideshow": {
     "slide_type": "fragment"
    }
   },
   "source": [
    "**Option 2: Lists**\n",
    "\n",
    "Lists are more common than tuples, mostly because they are mutable."
   ]
  },
  {
   "cell_type": "markdown",
   "metadata": {},
   "source": [
    "**Option 3: Tuples**\n",
    "\n",
    "There are a few cases where you might prefer tuples over lists:\n",
    "1. In some contexts, like a return statement, it is syntactically simpler to create a tuple than a list.\n",
    "2. If you want to use a sequence as a dictionary key, you have to use an immutable type like a tuple or string.\n",
    "3. If you are passing a sequence as an argument to a function, using tuples reduces the potential for unexpected behavior due to aliasing."
   ]
  },
  {
   "cell_type": "markdown",
   "metadata": {
    "slideshow": {
     "slide_type": "fragment"
    }
   },
   "source": [
    "Because tuples are immutable, they do not provide methods like `sort` and `reverse`, which modify existing lists. \n",
    "\n",
    "But Python provides the built-in function `sorted`, which takes any\n",
    "sequence and returns a new list with the same elements in sorted order, and `reversed`,\n",
    "which takes a sequence and returns an iterator that traverses the list in reverse order."
   ]
  },
  {
   "cell_type": "markdown",
   "metadata": {},
   "source": [
    "## 11. Sets\n",
    "\n",
    "Python provides another **mutable** built-in type known as **set**.\n",
    "\n",
    "A set is an **unordered** collection of elements that has **no duplicated** items.\n",
    "\n",
    "We can create a set by listing its elements within curly braces (i.e. `{}`)."
   ]
  },
  {
   "cell_type": "code",
   "execution_count": null,
   "metadata": {},
   "outputs": [],
   "source": [
    "from typing import Set\n",
    "\n",
    "fruits: Set = {'apple', 'pear', 'papaya', 'mango', 'banana', 'apple'}\n",
    "fruits"
   ]
  },
  {
   "cell_type": "markdown",
   "metadata": {},
   "source": [
    "Notice that we added `'apple'` twice but the set only considers one occurrence."
   ]
  },
  {
   "cell_type": "markdown",
   "metadata": {},
   "source": [
    "To create a set we can use the `set` function."
   ]
  },
  {
   "cell_type": "code",
   "execution_count": null,
   "metadata": {},
   "outputs": [],
   "source": [
    "candies: Set = set()\n",
    "type(candies)"
   ]
  },
  {
   "cell_type": "markdown",
   "metadata": {},
   "source": [
    "To add a new element to the set, we use the `add` method."
   ]
  },
  {
   "cell_type": "code",
   "execution_count": null,
   "metadata": {},
   "outputs": [],
   "source": [
    "candies.add('chocolate')\n",
    "candies.add('chocolate')\n",
    "candies.add('marshmallow')\n",
    "candies"
   ]
  },
  {
   "cell_type": "markdown",
   "metadata": {
    "jupyter": {
     "source_hidden": true
    },
    "tags": []
   },
   "source": [
    "<div class=\"alert alert-success\">\n",
    "    <b>Do It Yourself!</b><br>\n",
    "    Create a set of <i>proteins</i> and add some items to it.\n",
    "</div>"
   ]
  },
  {
   "cell_type": "code",
   "execution_count": null,
   "metadata": {
    "jupyter": {
     "source_hidden": true
    },
    "tags": []
   },
   "outputs": [],
   "source": [
    "# Remove this line and add your code here"
   ]
  },
  {
   "cell_type": "markdown",
   "metadata": {},
   "source": [
    "Sets provide methods and operators to compute common set operations (e.g. difference, union, intersection).\n",
    "\n",
    "To compute the **union** between sets, we use the `union` method or the `|` operator."
   ]
  },
  {
   "cell_type": "code",
   "execution_count": null,
   "metadata": {},
   "outputs": [],
   "source": [
    "food_fun: Set = fruits.union(candies)\n",
    "food_op: Set = fruits | candies\n",
    "\n",
    "print(food_fun)\n",
    "print(food_op)"
   ]
  },
  {
   "cell_type": "markdown",
   "metadata": {},
   "source": [
    "To compute the **intersection** between sets, we can use the `intersection` method or the `&` operator."
   ]
  },
  {
   "cell_type": "code",
   "execution_count": null,
   "metadata": {},
   "outputs": [],
   "source": [
    "fruits2: Set = {'apple', 'mango', 'pineapple', 'lemon'}\n",
    "fruits_inter_fun: Set = fruits.intersection(fruits2)\n",
    "fruits_inter_op: Set = fruits & fruits2\n",
    "\n",
    "print(fruits_inter_fun)\n",
    "print(fruits_inter_op)"
   ]
  },
  {
   "cell_type": "markdown",
   "metadata": {},
   "source": [
    "And to compute the **difference** between sets, we can use the `difference` method or the `–` operator."
   ]
  },
  {
   "cell_type": "code",
   "execution_count": null,
   "metadata": {
    "scrolled": true
   },
   "outputs": [],
   "source": [
    "fruits_diff_fun: Set = fruits.difference(fruits2)\n",
    "fruits_diff_op: Set = fruits - fruits2\n",
    "\n",
    "print(fruits_diff_fun)\n",
    "print(fruits_diff_op)"
   ]
  },
  {
   "cell_type": "markdown",
   "metadata": {},
   "source": [
    "Some of exercises can be done concisely and efficiently with sets.\n",
    "\n",
    "For example, let us consider a program that uses two dictionaries to find the words that appear in one dictionary but not in the other dictionary."
   ]
  },
  {
   "cell_type": "code",
   "execution_count": null,
   "metadata": {},
   "outputs": [],
   "source": [
    "words1: Dict = {'because': 3, 'you': 5, 'are': 2, 'mine': 2, 'not': 3,\n",
    "    'I': 2, 'look': 1, 'die': 1, 'love': 1}\n",
    "\n",
    "words2: Dict = {'you': 5, 'look': 1, 'die': 1, 'looking': 2}\n",
    "\n",
    "\n",
    "res: Dict = dict()\n",
    "    \n",
    "for word in words1:\n",
    "    if word not in words2:\n",
    "        res[word] = None\n",
    "        \n",
    "print(res)"
   ]
  },
  {
   "cell_type": "markdown",
   "metadata": {},
   "source": [
    "In all of these dictionaries, the values are `None` because we never use them. As a result, we waste some storage space.\n",
    "\n",
    "There is a better way to solve this problem with sets."
   ]
  },
  {
   "cell_type": "code",
   "execution_count": null,
   "metadata": {},
   "outputs": [],
   "source": [
    "words1: Dict = {'because': 3, 'you': 5, 'are': 2, 'mine': 2, 'not': 3,\n",
    "    'I': 2, 'look': 1, 'die': 1, 'love': 1}\n",
    "\n",
    "words2: Dict = {'you': 5, 'look': 1, 'die': 1, 'looking': 2}\n",
    "\n",
    "set(words1) - set(words2)"
   ]
  },
  {
   "cell_type": "markdown",
   "metadata": {},
   "source": [
    "The result is a set instead of a dictionary, but the behavior is the same."
   ]
  },
  {
   "cell_type": "markdown",
   "metadata": {},
   "source": [
    "Let us see another example. Suppose we want to check if a list has duplicates. One way of doing it is using a `for` loop where we have an additional list to check wether the item is inlcuded there or not."
   ]
  },
  {
   "cell_type": "code",
   "execution_count": null,
   "metadata": {},
   "outputs": [],
   "source": [
    "def has_duplicates(lst: List[any]) -> bool:\n",
    "    \"\"\" \n",
    "    Check for duplicate elements in the list.\n",
    "    :param lst: list of values of any type\n",
    "    :returns: a boolean value to indicate that there are duplicates.\n",
    "    \"\"\"\n",
    "    lst_alt: List[any] = list()\n",
    "    \n",
    "    for elem in lst:\n",
    "        if elem in lst_alt:\n",
    "            return True\n",
    "        else:\n",
    "            lst_alt.append(elem)\n",
    "\n",
    "    return False\n",
    "\n",
    "lst1 = [1, 2, 3, 4, 5, 6, 2, 3]\n",
    "lst2 = [1, 2, 3, 4, 5, 6, 7, 8]\n",
    "\n",
    "print(has_duplicates(lst1))\n",
    "print(has_duplicates(lst2))"
   ]
  },
  {
   "cell_type": "markdown",
   "metadata": {},
   "source": [
    "This function can be way simpler by using sets: we just need to check if the length of the list converted in a set is the same as the original list. Let's try."
   ]
  },
  {
   "cell_type": "code",
   "execution_count": null,
   "metadata": {},
   "outputs": [],
   "source": [
    "def has_duplicates(lst: List[any]) -> bool:\n",
    "    \"\"\" \n",
    "    Check for duplicate elements in the list.\n",
    "    :param lst: list of values of any type\n",
    "    :returns: a boolean value to indicate that there are duplicates.\n",
    "    \"\"\"\n",
    "    return len(set(lst)) < len(lst)\n",
    "\n",
    "lst1 = [1, 2, 3, 4, 5, 6, 2, 3]\n",
    "lst2 = [1, 2, 3, 4, 5, 6, 7, 8]\n",
    "\n",
    "print(has_duplicates(lst1))\n",
    "print(has_duplicates(lst2))"
   ]
  },
  {
   "cell_type": "markdown",
   "metadata": {
    "jupyter": {
     "source_hidden": true
    },
    "tags": []
   },
   "source": [
    "<div class=\"alert alert-success\">\n",
    "    <b>Do It Yourself!</b><br>\n",
    "    Create a function that receives two dictionaries as input and prints the name of the keys shared by both of them. Use sets to solve this problem.\n",
    "</div>"
   ]
  },
  {
   "cell_type": "code",
   "execution_count": null,
   "metadata": {
    "jupyter": {
     "source_hidden": true
    },
    "tags": []
   },
   "outputs": [],
   "source": [
    "dict1 = {'a' : 1, 'b': 2, 'c': 3}\n",
    "dict2 = {'b': 1, 'z': 2, 'y': 3, 'c': 4}\n",
    "# Remove this line and add your code here"
   ]
  },
  {
   "cell_type": "markdown",
   "metadata": {
    "slideshow": {
     "slide_type": "slide"
    }
   },
   "source": [
    "## 12. Data Structure Selection\n",
    "\n",
    "You have seen the core data structures of Python.\n",
    "\n",
    "We will now demonstrate which data structures are most suited to solve a specific problem.\n",
    "\n",
    "Aspects that play a role when choosing a data structure are:\n",
    "* Ease of implementation\n",
    "* Runtime performance\n",
    "* Memory usage"
   ]
  },
  {
   "cell_type": "markdown",
   "metadata": {
    "slideshow": {
     "slide_type": "slide"
    }
   },
   "source": [
    "### Word Frequency Analysis\n",
    "\n",
    "The `string` module provides a predefined string `whitespace` that contains `space`, `tab`, `newline`, etc."
   ]
  },
  {
   "cell_type": "code",
   "execution_count": null,
   "metadata": {
    "slideshow": {
     "slide_type": "fragment"
    }
   },
   "outputs": [],
   "source": [
    "import string\n",
    "string.whitespace"
   ]
  },
  {
   "cell_type": "markdown",
   "metadata": {
    "slideshow": {
     "slide_type": "fragment"
    }
   },
   "source": [
    "Furthermore, it contains a string `punctuation`, that contains punctuation characters."
   ]
  },
  {
   "cell_type": "code",
   "execution_count": null,
   "metadata": {
    "slideshow": {
     "slide_type": "fragment"
    }
   },
   "outputs": [],
   "source": [
    "import string\n",
    "string.punctuation"
   ]
  },
  {
   "cell_type": "markdown",
   "metadata": {
    "slideshow": {
     "slide_type": "fragment"
    }
   },
   "source": [
    "Write a program that gets a file and breaks each line into words, strips whitespace and\n",
    "punctuation from the words, and converts them to lowercase."
   ]
  },
  {
   "cell_type": "code",
   "execution_count": null,
   "metadata": {
    "slideshow": {
     "slide_type": "fragment"
    }
   },
   "outputs": [],
   "source": [
    "text = open('datasets/text.txt')"
   ]
  },
  {
   "cell_type": "code",
   "execution_count": null,
   "metadata": {
    "slideshow": {
     "slide_type": "fragment"
    }
   },
   "outputs": [],
   "source": [
    "from typing import List, Dict\n",
    "\n",
    "def split_text(text_arg: str) -> List[str]:\n",
    "    \"\"\"\n",
    "    Splits a text into words which is returned as a list.\n",
    "    The words are decapitalized (lower) and punctuation is stripped.\n",
    "    :param text_arg: a string\n",
    "    :returns: a list of strings.\n",
    "    \"\"\"\n",
    "    body: str = text_arg.read()\n",
    "    \n",
    "    stripped_words: List[str] = []\n",
    "    words: List[str] = body.split()\n",
    "    for w in words:\n",
    "        lower_w: str = w.lower()\n",
    "        stripped_w: str = lower_w.strip(string.punctuation)\n",
    "        stripped_words.append(stripped_w)\n",
    "        \n",
    "    return stripped_words\n",
    "\n",
    "def histogram(words: List[str]) -> Dict:\n",
    "    \"\"\"\n",
    "    Transforms the list of words into dictionary.\n",
    "    :param words: a list of strings\n",
    "    :returns: a dictionary.\n",
    "    \"\"\"\n",
    "    word_hist: Dict = dict()\n",
    "    for word in words:\n",
    "        if word not in word_hist:\n",
    "            word_hist[word] = 1\n",
    "        else:\n",
    "            word_hist[word] += 1\n",
    "    return word_hist\n",
    " \n",
    "text = open('datasets/text.txt') \n",
    "\n",
    "words = split_text(text)\n",
    "print(len(words))\n",
    "\n",
    "word_histo = histogram(words)\n",
    "print(word_histo)"
   ]
  },
  {
   "cell_type": "code",
   "execution_count": null,
   "metadata": {
    "slideshow": {
     "slide_type": "fragment"
    }
   },
   "outputs": [],
   "source": [
    "# import the relevant libraries, see \n",
    "import matplotlib.pyplot as plt\n",
    "import pandas as pd\n",
    "%matplotlib inline\n",
    "\n",
    "df = pd.DataFrame.from_dict(word_histo, orient=\"index\")\n",
    "\n",
    "df.plot.bar(color=\"r\")"
   ]
  },
  {
   "cell_type": "markdown",
   "metadata": {
    "slideshow": {
     "slide_type": "slide"
    }
   },
   "source": [
    "### Word Histogram\n",
    "\n",
    "The next cell contains a collection of functions to read a file and build a histogram."
   ]
  },
  {
   "cell_type": "code",
   "execution_count": null,
   "metadata": {
    "slideshow": {
     "slide_type": "fragment"
    }
   },
   "outputs": [],
   "source": [
    "def process_file(filename: str) -> Dict:\n",
    "    \"\"\"\n",
    "    Transforms the content of the given file into a dictionary of words \n",
    "    where the frequencies is counted.\n",
    "    :param filename: a string representing a file\n",
    "    :returns: a dictionary with the frequency of the words.\n",
    "    \"\"\"\n",
    "    word_histo: Dict = dict()\n",
    "    fp: TextIO = open(filename)\n",
    "    \n",
    "    for line in fp:\n",
    "        process_line(line, word_histo)\n",
    "        \n",
    "    return word_histo\n",
    "\n",
    "def process_line(line: str, histo: Dict) -> Dict:\n",
    "    \"\"\"\n",
    "    Add the words of a single line, after preprocessing, to the dictionary.\n",
    "    :param line: a string representing a line in a file\n",
    "    :param histo: a dictionary that contains frequency information\n",
    "    :returns: a dictionary with the frequency of the words.\n",
    "    \"\"\"\n",
    "    line = line.replace('-', ' ')\n",
    "    \n",
    "    for word in line.split():\n",
    "        word = word.strip(string.punctuation + string.whitespace)\n",
    "        word = word.lower()\n",
    "        histo[word] = histo.get(word, 0) + 1\n",
    "\n",
    "hist = process_file('datasets/emma.txt')\n",
    "print(hist)"
   ]
  },
  {
   "cell_type": "markdown",
   "metadata": {
    "slideshow": {
     "slide_type": "fragment"
    }
   },
   "source": [
    "The function `process_file` process one-by-one the lines of the file, and passes them to `process_line`. \n",
    "\n",
    "The histogram `hist` is used as an accumulator.\n",
    "\n",
    "The function `process_line` replaces hyphens with spaces, by the `replace` function before splitting, via `split`, the line into a list of strings.\n",
    "\n",
    "It traverses the list of words and uses `strip` and `lower` to remove punctuation and convert to lower case. \n",
    "\n",
    "Finally, `process_line` updates the histogram by creating a new item (word) or incrementing an existing one.\n",
    "\n",
    "To count the total number of words in the file, we can add up the frequencies in the histogram."
   ]
  },
  {
   "cell_type": "code",
   "execution_count": null,
   "metadata": {
    "slideshow": {
     "slide_type": "fragment"
    }
   },
   "outputs": [],
   "source": [
    "def total_words(hist: Dict) -> int:\n",
    "    \"\"\"\n",
    "    Counts the total number of words in the dictionary and thus original file.\n",
    "    :param hist: a dictionary\n",
    "    :returns: the total number of words.\n",
    "    \"\"\"\n",
    "    return sum(hist.values())\n",
    "\n",
    "print(total_words(hist))"
   ]
  },
  {
   "cell_type": "markdown",
   "metadata": {
    "slideshow": {
     "slide_type": "fragment"
    }
   },
   "source": [
    "The number of different words is just the number of items in the dictionary."
   ]
  },
  {
   "cell_type": "code",
   "execution_count": null,
   "metadata": {
    "slideshow": {
     "slide_type": "fragment"
    }
   },
   "outputs": [],
   "source": [
    "def different_words(hist: Dict) -> int:\n",
    "    \"\"\"\n",
    "    Counts the number of distinct words in the dictionary and thus original file.\n",
    "    :param hist: a dictionary\n",
    "    :returns: the number of different words.\n",
    "    \"\"\"\n",
    "    \n",
    "    return len(hist)\n",
    "\n",
    "print(different_words(hist))"
   ]
  },
  {
   "cell_type": "markdown",
   "metadata": {
    "slideshow": {
     "slide_type": "slide"
    }
   },
   "source": [
    "### Most Common Words\n",
    "\n",
    "To find the most common words, we can make a list of tuples, where each tuple contains a word and its frequency, and sort it."
   ]
  },
  {
   "cell_type": "code",
   "execution_count": null,
   "metadata": {
    "slideshow": {
     "slide_type": "fragment"
    }
   },
   "outputs": [],
   "source": [
    "from typing import Tuple\n",
    "\n",
    "def most_common(hist: Dict) -> List[Tuple]:\n",
    "    \"\"\"\n",
    "    Transforms the dictionary in a list and sorts the list on most values.\n",
    "    :param hist: a dictionary\n",
    "    :returns: a tuple of words based on their frequency.\n",
    "    \"\"\"\n",
    "    frequencies = []\n",
    "    \n",
    "    for key, value in hist.items():\n",
    "        frequencies.append((value, key))\n",
    "        \n",
    "    frequencies.sort(reverse=True)\n",
    "    #frequencies.sort()\n",
    "    \n",
    "    return frequencies"
   ]
  },
  {
   "cell_type": "markdown",
   "metadata": {
    "slideshow": {
     "slide_type": "fragment"
    }
   },
   "source": [
    "In each tuple, the frequency appears first, so the resulting list is sorted by frequency. "
   ]
  },
  {
   "cell_type": "code",
   "execution_count": null,
   "metadata": {
    "slideshow": {
     "slide_type": "fragment"
    }
   },
   "outputs": [],
   "source": [
    "frequencies = most_common(hist)\n",
    "print('The most common words are:')\n",
    "\n",
    "for freq, word in frequencies[:10]:\n",
    "    print(word, freq, sep='\\t')"
   ]
  },
  {
   "cell_type": "markdown",
   "metadata": {
    "slideshow": {
     "slide_type": "fragment"
    }
   },
   "source": [
    "This code can be simplified using the key parameter of the sort function.\n",
    "\n",
    "If you are curious,\n",
    "you can read about it at https://wiki.python.org/moin/HowTo/Sorting."
   ]
  },
  {
   "cell_type": "markdown",
   "metadata": {
    "slideshow": {
     "slide_type": "slide"
    }
   },
   "source": [
    "### Optional Parameters\n",
    "\n",
    "We have seen built-in functions and methods that take optional arguments.\n",
    "\n",
    "It is possible to write programmer-defined functions with optional arguments, too. \n",
    "\n",
    "The next cell contains a function that prints the most common words in a histogram."
   ]
  },
  {
   "cell_type": "code",
   "execution_count": null,
   "metadata": {
    "slideshow": {
     "slide_type": "fragment"
    }
   },
   "outputs": [],
   "source": [
    "def print_most_common(hist: Dict, num: int = 10) -> None:\n",
    "    \"\"\"\n",
    "    Prints the top of the most common words, default number is 10.\n",
    "    :param hist: a dictionary\n",
    "    :param num: the number of tuples to be printed.\n",
    "    \"\"\"\n",
    "    t = most_common(hist)\n",
    "    print('The most common words are:')\n",
    "    \n",
    "    for freq, word in t[:num]:\n",
    "        print(word, freq, sep='\\t')"
   ]
  },
  {
   "cell_type": "markdown",
   "metadata": {
    "slideshow": {
     "slide_type": "fragment"
    }
   },
   "source": [
    "The first parameter is required; the second is optional. \n",
    "\n",
    "The default value of `num` is `10`."
   ]
  },
  {
   "cell_type": "code",
   "execution_count": null,
   "metadata": {
    "slideshow": {
     "slide_type": "fragment"
    }
   },
   "outputs": [],
   "source": [
    "print_most_common(hist, 5)"
   ]
  },
  {
   "cell_type": "markdown",
   "metadata": {
    "slideshow": {
     "slide_type": "fragment"
    }
   },
   "source": [
    "`num` gets the default value, unless you provide a second argument."
   ]
  },
  {
   "cell_type": "code",
   "execution_count": null,
   "metadata": {
    "slideshow": {
     "slide_type": "fragment"
    }
   },
   "outputs": [],
   "source": [
    "print_most_common(hist, 20)"
   ]
  },
  {
   "cell_type": "markdown",
   "metadata": {
    "slideshow": {
     "slide_type": "fragment"
    }
   },
   "source": [
    "`num` gets the value of the second argument instead. \n",
    "\n",
    "In other words, the optional argument overrides the default value.\n",
    "\n",
    "If a function has both required and optional parameters, all the required parameters have to come first, followed by the optional ones."
   ]
  },
  {
   "cell_type": "markdown",
   "metadata": {
    "slideshow": {
     "slide_type": "slide"
    }
   },
   "source": [
    "### Random Words\n",
    "\n",
    "To choose a random word from the histogram, the simplest algorithm is to build a list with multiple copies of each word, according to the observed frequency, and then choose from the list."
   ]
  },
  {
   "cell_type": "code",
   "execution_count": null,
   "metadata": {
    "slideshow": {
     "slide_type": "fragment"
    }
   },
   "outputs": [],
   "source": [
    "import random \n",
    "\n",
    "def random_word(hist: Dict) -> str:\n",
    "    \"\"\"\n",
    "    Chooses a random word from a dictionary.\n",
    "    :param hist: a dictionary\n",
    "    :returns: a random word of the dictionary.\n",
    "    \"\"\"\n",
    "    word_lst: List[str] = []\n",
    "    \n",
    "    for word, freq in hist.items():\n",
    "        word_lst.extend([word] * freq) # the word is added to the list as often as the frequency\n",
    "    \n",
    "    print(len(word_lst))\n",
    "    return random.choice(word_lst)\n",
    "\n",
    "print(random_word(hist))"
   ]
  },
  {
   "cell_type": "markdown",
   "metadata": {},
   "source": [
    "---\n",
    "This Jupyter Notebook is based on Chapter 10 of the book Python for Everybody and on Chapters 12, 13 and 19 of the book Think Python."
   ]
  },
  {
   "cell_type": "markdown",
   "metadata": {},
   "source": [
    "---\n",
    "\n",
    "# (End of Notebook)\n",
    "\n",
    "&copy; 2022-2023 - **TU/e** - Eindhoven University of Technology"
   ]
  }
 ],
 "metadata": {
  "kernelspec": {
   "display_name": "Python 3 (ipykernel)",
   "language": "python",
   "name": "python3"
  },
  "language_info": {
   "codemirror_mode": {
    "name": "ipython",
    "version": 3
   },
   "file_extension": ".py",
   "mimetype": "text/x-python",
   "name": "python",
   "nbconvert_exporter": "python",
   "pygments_lexer": "ipython3",
   "version": "3.9.7"
  }
 },
 "nbformat": 4,
 "nbformat_minor": 4
}
