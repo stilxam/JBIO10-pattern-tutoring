{
 "cells": [
  {
   "cell_type": "markdown",
   "metadata": {
    "slideshow": {
     "slide_type": "slide"
    }
   },
   "source": [
    "# Files"
   ]
  },
  {
   "cell_type": "markdown",
   "metadata": {
    "slideshow": {
     "slide_type": "fragment"
    }
   },
   "source": [
    "_(c) 2022, Mark van den Brand and Lina Ochoa Venegas, Eindhoven University of Technology_"
   ]
  },
  {
   "cell_type": "markdown",
   "metadata": {},
   "source": [
    "## Table of Contents\n",
    "- [1. Introduction](#introduction)\n",
    "- [2. Persistence](#persistence)\n",
    "- [3. Opening Files](#opening-files)\n",
    "- [4. Reading Files](#reading-files)\n",
    "- [5. Searching through a File](#searching-file)\n",
    "- [6. File Names and Paths](#names-paths)\n",
    "- [7. Let the User Choose the File](#choose-file)\n",
    "- [8. Writing Files](#writing-files)\n",
    "- [9. The `with` Statement](#with)\n",
    "- [10. File Formats](#file-formats)"
   ]
  },
  {
   "cell_type": "markdown",
   "metadata": {},
   "source": [
    "## 1. Introduction <a class=\"anchor\" id=\"introduction\"></a>\n",
    "\n",
    "This Jupyter Notebook discusses how we can store data in a *persistent* way. Storing data in a *persistent* way means that we can retrieve the\n",
    "data at a later moment in time for inspection or further computations. \n",
    "Programs that do not manipulate data do not make much sense, so developing serious software always involves data manipulation or inspection.\n",
    "The storage of data is as important as the manipulation of data and this can be done via files and databases.\n",
    "It is not difficult that data storage in banks, insurrance companies, hospitals, companies providing social media services, etc. are crucial.\n",
    "\n",
    "We have already seen how we can open a file and read the content of a file, but storing data to process it later is indispensible. This functionality enables us to store data at some point in time and retrieve it at a later point in time."
   ]
  },
  {
   "cell_type": "markdown",
   "metadata": {
    "slideshow": {
     "slide_type": "slide"
    }
   },
   "source": [
    "## 2. Persistence <a class=\"anchor\" id=\"persistence\"></a>\n",
    "\n",
    "The programs we have seen and that you have written, process data (input values) and print the results.\n",
    "The produced data evaporates, however, in real life this is not what we want. \n",
    "Banks, webshops, etc. do not want to lose their data about customers, their shopping history, etc. Actually from a data science point of view this data is extremely important, because via this data trends, etc. can be predicted.\n",
    "\n",
    "Programs that store their data are **persistent**. "
   ]
  },
  {
   "cell_type": "markdown",
   "metadata": {
    "slideshow": {
     "slide_type": "fragment"
    }
   },
   "source": [
    "Some programs are launched and they start with reading in (stored) data and continue with this data. Before terminating the new data is stored again.\n",
    "Other programs run \"forever\" and store their data in a persistent way (on disk) in order to ensure that no data is lost."
   ]
  },
  {
   "cell_type": "markdown",
   "metadata": {
    "slideshow": {
     "slide_type": "fragment"
    }
   },
   "source": [
    "One of the simplest ways for programs to maintain their data is by reading and writing (text) **files**. \n",
    "Another way is to store data in a **database**."
   ]
  },
  {
   "cell_type": "markdown",
   "metadata": {},
   "source": [
    "## 3. Opening Files <a class=\"anchor\" id=\"opening-files\"></a>\n",
    "\n",
    "When we aim at opening a file, what we are really doing is asking the Operating System (OS) to find a file by name and verify that it exists.\n",
    "We use the built-in function `open` in Python to achieve this task."
   ]
  },
  {
   "cell_type": "code",
   "execution_count": null,
   "metadata": {},
   "outputs": [],
   "source": [
    "file_out = open('datasets/output.txt')"
   ]
  },
  {
   "cell_type": "markdown",
   "metadata": {},
   "source": [
    "If the function `open` is successful, the OS returns a **file handler**.\n",
    "The file handler is not the real data, but instead, it is an intermediary that we can use to read from or write to the file.\n",
    "\n",
    "A text file can be seen as a **sequence of lines**.\n",
    "\n",
    "Python considers a special character to break the text into lines. This special character is known as the **newline** character, which represents the end of the line.\n",
    "\n",
    "The newline character is represented as `\\n`. If you include this character in a string, the content after the newline character will be displayed in a new line."
   ]
  },
  {
   "cell_type": "code",
   "execution_count": null,
   "metadata": {},
   "outputs": [],
   "source": [
    "print('Data\\nScience')"
   ]
  },
  {
   "cell_type": "markdown",
   "metadata": {
    "tags": []
   },
   "source": [
    "<div class=\"alert alert-success\">\n",
    "    <b>Do It Yourself!</b><br>\n",
    "    Can you print the text: <br><br>\n",
    "    \"I am <br>\n",
    "    a Data Science student\" <br><br>\n",
    "    while using the newline character?\n",
    "</div>"
   ]
  },
  {
   "cell_type": "code",
   "execution_count": null,
   "metadata": {
    "tags": []
   },
   "outputs": [],
   "source": [
    "# Remove this line and add your code here"
   ]
  },
  {
   "cell_type": "markdown",
   "metadata": {},
   "source": [
    "## 4. Reading Files <a class=\"anchor\" id=\"reading-files\"></a>\n",
    "\n",
    "To read a file we rely on the `open` function.\n",
    "This function does not read the **entire content** of the file once it is called. This happens mainly because the file might be **too large** to keep it in main memory.\n",
    "Thus, the `open` function takes the same amount of time to execute regardless of the size of the file.\n",
    "\n",
    "Once we call the `open` function, we get a file handler that can be used within a `for` loop to read each line of the file.\n",
    "In this case, Python is in charge of splitting the content of the file into **separate lines**.\n",
    "With the `for` loop we can efficiently read a file of any size, because each line is read, counted, and then discarded.\n",
    "\n",
    "The following code creates a **file handler** (`file_logs`) and counts the number of lines in the file."
   ]
  },
  {
   "cell_type": "code",
   "execution_count": null,
   "metadata": {},
   "outputs": [],
   "source": [
    "file_logs = open('datasets/logs.txt')\n",
    "count: int = 0\n",
    "\n",
    "for line in file_logs:\n",
    "    count += 1\n",
    "    \n",
    "print(count)"
   ]
  },
  {
   "cell_type": "markdown",
   "metadata": {},
   "source": [
    "If you know that the size of the file is **small** with reference to the size of your main memory, you can use the `read` method on the file handler.\n",
    "This method reads the whole content of the file as a **big string** including all line and newline characters.\n",
    "\n",
    "It is a good idea to store the output of the `read` method in a variable, given that it **exhausts resources** (once resources are read, no more content can be obtained in a future invocation)."
   ]
  },
  {
   "cell_type": "code",
   "execution_count": null,
   "metadata": {
    "scrolled": true
   },
   "outputs": [],
   "source": [
    "file_logs = open('datasets/logs.txt')\n",
    "first_call: str = file_logs.read()\n",
    "second_call: str = file_logs.read()\n",
    "\n",
    "print('First call:\\n' + first_call)\n",
    "print('Second call:\\n' + second_call)"
   ]
  },
  {
   "cell_type": "markdown",
   "metadata": {
    "tags": []
   },
   "source": [
    "<div class=\"alert alert-success\">\n",
    "    <b>Do It Yourself!</b><br>\n",
    "    Read the <i>logs.txt</i> file and print its lines one by one.\n",
    "</div>"
   ]
  },
  {
   "cell_type": "code",
   "execution_count": null,
   "metadata": {
    "tags": []
   },
   "outputs": [],
   "source": [
    "# Remove this line and add your code here"
   ]
  },
  {
   "cell_type": "markdown",
   "metadata": {},
   "source": [
    "## 5. Searching in a File <a class=\"anchor\" id=\"searching-file\"></a>\n",
    "\n",
    "It is quite common to search for specific or interesting lines in a file, and skip the ones that do not meet a given condition. \n",
    "For instance, we can use the `startswith` string method to print the lines that start by \"INFO\"."
   ]
  },
  {
   "cell_type": "code",
   "execution_count": null,
   "metadata": {},
   "outputs": [],
   "source": [
    "file_logs = open('datasets/logs.txt')\n",
    "\n",
    "for line in file_logs:\n",
    "    if line.startswith('INFO'):\n",
    "        print(line)"
   ]
  },
  {
   "cell_type": "markdown",
   "metadata": {},
   "source": [
    "We have filtered the information. \n",
    "But, why are we seeing the extra blank line between lines?"
   ]
  },
  {
   "cell_type": "markdown",
   "metadata": {},
   "source": [
    "This is related to the invisible newline character present in all lines. Thus, the `print` function prints all lines with this newline character and it also adds an **additional newline character**, resulting in double spacing.\n",
    "\n",
    "To improve the asthetics of our output we can use the `rstrip` method, which strips whitespaces from the end of a string."
   ]
  },
  {
   "cell_type": "code",
   "execution_count": null,
   "metadata": {
    "scrolled": true
   },
   "outputs": [],
   "source": [
    "file_logs = open('datasets/logs.txt')\n",
    "\n",
    "for line in file_logs:\n",
    "    if line.startswith('INFO'):\n",
    "        print(line.rstrip())"
   ]
  },
  {
   "cell_type": "markdown",
   "metadata": {},
   "source": [
    "As your programs get more complex, you would like to use the `continue` statement to filter out uninteresting lines."
   ]
  },
  {
   "cell_type": "code",
   "execution_count": null,
   "metadata": {
    "scrolled": true
   },
   "outputs": [],
   "source": [
    "file_logs = open('datasets/logs.txt')\n",
    "\n",
    "for line in file_logs:\n",
    "    if not line.startswith('INFO'): \n",
    "        continue\n",
    "    print(line.rstrip())"
   ]
  },
  {
   "cell_type": "markdown",
   "metadata": {},
   "source": [
    "In the previous code, we use the contracted version of the `if` statement. That is why we place the `continue` statement in the same line."
   ]
  },
  {
   "cell_type": "markdown",
   "metadata": {},
   "source": [
    "We can also use the `find` string method to look for a string in a given line of the file. \n",
    "This method returns the **position** of the string or `-1` if the string is not found.\n",
    "\n",
    "Let us print now all lines that contain the text \"from:bob@mail.nl\"."
   ]
  },
  {
   "cell_type": "code",
   "execution_count": null,
   "metadata": {},
   "outputs": [],
   "source": [
    "file_logs = open('datasets/logs.txt')\n",
    "\n",
    "for line in file_logs:\n",
    "    if line.find('from:bob@mail.nl') == -1: \n",
    "        continue\n",
    "    print(line.rstrip())"
   ]
  },
  {
   "cell_type": "markdown",
   "metadata": {
    "tags": []
   },
   "source": [
    "<div class=\"alert alert-success\">\n",
    "    <b>Do It Yourself!</b><br>\n",
    "    Read the <i>logs.txt</i> file and count the ERROR lines.\n",
    "</div>"
   ]
  },
  {
   "cell_type": "code",
   "execution_count": null,
   "metadata": {
    "tags": []
   },
   "outputs": [],
   "source": [
    "# Remove this line and add your code here"
   ]
  },
  {
   "cell_type": "markdown",
   "metadata": {
    "slideshow": {
     "slide_type": "slide"
    }
   },
   "source": [
    "## 6. File Names and Paths <a class=\"anchor\" id=\"names-paths\"></a>\n",
    "\n",
    "Files are organized into **directories** (also called “folders”). \n",
    "Every running program has a **current directory**, which is the default directory for most operations. \n",
    "For example, when you open a file for reading, Python looks for it in the current directory.\n",
    "\n",
    "The `os` module provides functions for working with files and directories (“os” stands for\n",
    "“operating system”). \n",
    "\n",
    "`os.getcwd` returns the name of the current directory."
   ]
  },
  {
   "cell_type": "code",
   "execution_count": null,
   "metadata": {
    "slideshow": {
     "slide_type": "fragment"
    }
   },
   "outputs": [],
   "source": [
    "import os\n",
    "\n",
    "cwd: str = os.getcwd()\n",
    "print(cwd)"
   ]
  },
  {
   "cell_type": "markdown",
   "metadata": {
    "slideshow": {
     "slide_type": "fragment"
    }
   },
   "source": [
    "A string like `/path/to/user/path/to/course-material-jbi010/lectures/week3` that identifies a file or directory is called a **path**. \n",
    "\n",
    "<div class=\"alert alert-info\">\n",
    "    <b>Different path per OS</b><br>\n",
    "    Every OS may have a different way of representing paths.\n",
    "</div>\n",
    "\n",
    "A simple filename, like `words.txt` is also considered a path, \n",
    "but it is a **relative path** because it relates to the current directory. \n",
    "\n",
    "For instance, if the current directory is `/path/to/user/path/to/course-material-jbi010/lectures/week3`, the filename\n",
    "`output.txt` would refer to `/path/to/user/path/to/course-material-jbi010/lectures/week3/output.txt`.\n",
    "\n",
    "A path that begins with `/` does not depend on the current directory; it is called an **absolute\n",
    "path**. \n",
    "It shows the path from the root folder of your system.\n",
    "To find the absolute path to a file, you can use `os.path.abspath`."
   ]
  },
  {
   "cell_type": "code",
   "execution_count": null,
   "metadata": {
    "slideshow": {
     "slide_type": "fragment"
    }
   },
   "outputs": [],
   "source": [
    "os.path.abspath('datasets/output.txt')"
   ]
  },
  {
   "cell_type": "markdown",
   "metadata": {
    "slideshow": {
     "slide_type": "fragment"
    }
   },
   "source": [
    "`os.path` provides other functions for working with filenames and paths. \n",
    "\n",
    "`os.path.exists` checks whether a file or directory **exists**."
   ]
  },
  {
   "cell_type": "code",
   "execution_count": null,
   "metadata": {
    "slideshow": {
     "slide_type": "fragment"
    }
   },
   "outputs": [],
   "source": [
    "os.path.exists('datasets/output.txt')"
   ]
  },
  {
   "cell_type": "markdown",
   "metadata": {
    "slideshow": {
     "slide_type": "fragment"
    }
   },
   "source": [
    "If it exists, you can use `os.path.isdir` to check whether it **is a directory**.\n",
    "\n",
    "<div class=\"alert alert-info\">\n",
    "    <b>Running cells with absolute paths</b><br>\n",
    "    We use an absolute path in the next cells, please change accordingly if you want to run the cells.\n",
    "</div>"
   ]
  },
  {
   "cell_type": "code",
   "execution_count": null,
   "metadata": {
    "slideshow": {
     "slide_type": "fragment"
    }
   },
   "outputs": [],
   "source": [
    "os.path.isdir('datasets/output.txt')"
   ]
  },
  {
   "cell_type": "code",
   "execution_count": null,
   "metadata": {
    "slideshow": {
     "slide_type": "fragment"
    }
   },
   "outputs": [],
   "source": [
    "os.path.isdir('/home/lina/Documents/tue/courses/jbi010/course-material-jbi010/202223/lectures/week3')"
   ]
  },
  {
   "cell_type": "markdown",
   "metadata": {
    "slideshow": {
     "slide_type": "fragment"
    }
   },
   "source": [
    "`os.listdir` returns a **list of the files** (and other directories) in the given directory."
   ]
  },
  {
   "cell_type": "code",
   "execution_count": null,
   "metadata": {
    "slideshow": {
     "slide_type": "fragment"
    }
   },
   "outputs": [],
   "source": [
    "os.listdir(cwd)"
   ]
  },
  {
   "cell_type": "markdown",
   "metadata": {
    "slideshow": {
     "slide_type": "fragment"
    }
   },
   "source": [
    "The application of these `os` functions are demonstrated in the following function, which iterates over a directory and prints all files and (sub)directories.\n",
    "\n",
    "`os.path.join` takes a directory and a file name and joins them into a **complete path**."
   ]
  },
  {
   "cell_type": "code",
   "execution_count": null,
   "metadata": {
    "slideshow": {
     "slide_type": "fragment"
    }
   },
   "outputs": [],
   "source": [
    "def content(dir_name: str) -> None:\n",
    "    \"\"\"\n",
    "    Prints all files in subdirectories starting from dir_name.\n",
    "    :param dir_name: starting directory\n",
    "    \"\"\"\n",
    "    current_directories: str = os.listdir(dir_name)\n",
    "    \n",
    "    for name in current_directories:\n",
    "        path: str = os.path.join(dir_name, name)\n",
    "        \n",
    "        if os.path.isfile(path):\n",
    "            print(f'File is: {path}')\n",
    "        else:\n",
    "            print(f'Path is: {path}')\n",
    "            \n",
    "content('/home/lina/Documents/tue/courses/jbi010/course-material-jbi010/202223/lectures')"
   ]
  },
  {
   "cell_type": "markdown",
   "metadata": {
    "tags": []
   },
   "source": [
    "<div class=\"alert alert-success\">\n",
    "    <b>Do It Yourself!</b><br>\n",
    "    Call the <i>content()</i> function in one of the folders of your file system.\n",
    "</div>"
   ]
  },
  {
   "cell_type": "code",
   "execution_count": null,
   "metadata": {
    "tags": []
   },
   "outputs": [],
   "source": [
    "# Remove this line and add your code here"
   ]
  },
  {
   "cell_type": "markdown",
   "metadata": {
    "slideshow": {
     "slide_type": "fragment"
    }
   },
   "source": [
    "The `os` module provides a function called `walk` that walks over all subdirectories.\n"
   ]
  },
  {
   "cell_type": "code",
   "execution_count": null,
   "metadata": {},
   "outputs": [],
   "source": [
    "for path in os.walk('/home/lina/Documents/tue/courses/jbi010/course-material-jbi010/202223/lectures'):\n",
    "    print(path)"
   ]
  },
  {
   "cell_type": "markdown",
   "metadata": {
    "tags": []
   },
   "source": [
    "<div class=\"alert alert-success\">\n",
    "    <b>Do It Yourself!</b><br>\n",
    "    Use the <i>walk()</i> method to check the content of a folder in your file system.\n",
    "</div>"
   ]
  },
  {
   "cell_type": "code",
   "execution_count": null,
   "metadata": {
    "tags": []
   },
   "outputs": [],
   "source": [
    "# Remove this line and add your code here"
   ]
  },
  {
   "cell_type": "markdown",
   "metadata": {},
   "source": [
    "## 7. Let the User Choose the File <a class=\"anchor\" id=\"choose-file\"></a>\n",
    "\n",
    "Sometimes we would like to let the user **choose the file** he or she wants to open. In this way, we do not need to modify our code every time we require a different file.\n",
    "\n",
    "To do so, we can use the `input` function as follows."
   ]
  },
  {
   "cell_type": "code",
   "execution_count": null,
   "metadata": {},
   "outputs": [],
   "source": [
    "file = input('Enter the file name:')\n",
    "file_handle: str = open(file)\n",
    "\n",
    "print(file)"
   ]
  },
  {
   "cell_type": "markdown",
   "metadata": {},
   "source": [
    "But what can go wrong with this code?"
   ]
  },
  {
   "cell_type": "markdown",
   "metadata": {
    "slideshow": {
     "slide_type": "slide"
    }
   },
   "source": [
    "### Catching Exceptions\n",
    "\n",
    "It might happen that our users or ourselves input a wrong path to our file, which will result in an **exception**.\n",
    "\n",
    "In general, the reading and writing of files is error-prone. \n",
    "The file may not exist, it may be read or write protected, etc.\n",
    "If you try to open a file that does not exist, you get a `FileNotFoundError`."
   ]
  },
  {
   "cell_type": "code",
   "execution_count": null,
   "metadata": {
    "slideshow": {
     "slide_type": "fragment"
    }
   },
   "outputs": [],
   "source": [
    "fbad = open('bad.txt')"
   ]
  },
  {
   "cell_type": "markdown",
   "metadata": {
    "slideshow": {
     "slide_type": "fragment"
    }
   },
   "source": [
    "If you are not allowed to open a file, you get a `PermissionError`."
   ]
  },
  {
   "cell_type": "code",
   "execution_count": null,
   "metadata": {
    "slideshow": {
     "slide_type": "fragment"
    }
   },
   "outputs": [],
   "source": [
    "file_out = open('/etc/passwd', 'w')"
   ]
  },
  {
   "cell_type": "markdown",
   "metadata": {
    "slideshow": {
     "slide_type": "fragment"
    }
   },
   "source": [
    "If you try to open a directory, you get another another `FileNotFoundError`."
   ]
  },
  {
   "cell_type": "code",
   "execution_count": null,
   "metadata": {
    "slideshow": {
     "slide_type": "fragment"
    }
   },
   "outputs": [],
   "source": [
    "file_in = open('/users')"
   ]
  },
  {
   "cell_type": "markdown",
   "metadata": {
    "slideshow": {
     "slide_type": "fragment"
    }
   },
   "source": [
    "You could use functions like `os.path.exists` and `os.path.isfile` to prevent these type of errors.\n",
    "\n",
    "However, a lot of (subtle) errors may happen when doing file-IO and thus a lot of code\n",
    "may be involved to make it full proof.\n",
    "\n",
    "If “`Errno 21`” is any indication, there are at least 21 things that can go wrong.\n",
    "It is better to go ahead and try—and deal with problems if they happen—which is exactly\n",
    "what the `try` statement does. "
   ]
  },
  {
   "cell_type": "code",
   "execution_count": null,
   "metadata": {
    "slideshow": {
     "slide_type": "fragment"
    }
   },
   "outputs": [],
   "source": [
    "try:\n",
    "    fbad: str = open('bad_file')\n",
    "except FileNotFoundError as e:\n",
    "    print(\"Didn't find the file!\")"
   ]
  },
  {
   "cell_type": "markdown",
   "metadata": {
    "slideshow": {
     "slide_type": "fragment"
    }
   },
   "source": [
    "Python starts by executing the `try` clause. \n",
    "If all goes well, it skips the `except` clause and proceeds. \n",
    "If an exception occurs, it jumps out of the `try` clause and executes the `except` clause.\n",
    "\n",
    "Remember that tangling an exception with a try statement is called **catching an exception**.  \n",
    "In general, catching an exception gives you a chance to fix the problem, or try again, or at least end the program gracefully."
   ]
  },
  {
   "cell_type": "markdown",
   "metadata": {
    "tags": []
   },
   "source": [
    "<div class=\"alert alert-success\">\n",
    "    <b>Do It Yourself!</b><br>\n",
    "    Handle the exception in the following code.\n",
    "</div>"
   ]
  },
  {
   "cell_type": "code",
   "execution_count": null,
   "metadata": {
    "tags": []
   },
   "outputs": [],
   "source": [
    "# Modify the following code\n",
    "file = input('Enter the file name:')\n",
    "file_handle = open(file)\n",
    "\n",
    "print(file)"
   ]
  },
  {
   "cell_type": "markdown",
   "metadata": {},
   "source": [
    "## 8. Writing Files <a class=\"anchor\" id=\"writing-files\"></a>\n",
    "\n",
    "To write a file you should open it with mode `w` (from *write*) as second parameter."
   ]
  },
  {
   "cell_type": "code",
   "execution_count": null,
   "metadata": {
    "slideshow": {
     "slide_type": "fragment"
    }
   },
   "outputs": [],
   "source": [
    "file_out = open('datasets/output.txt', 'w')"
   ]
  },
  {
   "cell_type": "markdown",
   "metadata": {
    "slideshow": {
     "slide_type": "fragment"
    }
   },
   "source": [
    "If the file already exists, opening it in write mode removes the current content from the file, *so be careful!* \n",
    "If the file does not exist, a new one is created.\n",
    "\n",
    "`open` returns a file object that provides methods (`write` and `close`) for working with the file. \n",
    "The `write` method puts data into the file."
   ]
  },
  {
   "cell_type": "code",
   "execution_count": null,
   "metadata": {
    "slideshow": {
     "slide_type": "fragment"
    }
   },
   "outputs": [],
   "source": [
    "line1: str = 'There are bright Data Scientists\\n'\n",
    "file_out.write(line1)"
   ]
  },
  {
   "cell_type": "markdown",
   "metadata": {
    "slideshow": {
     "slide_type": "fragment"
    }
   },
   "source": [
    "The output number indicates how many characters are written to the file.\n",
    "\n",
    "You need to explicitly add newline characters when using the `write` method. Contrary to the `print` function, the `write` method does not automatically add newlines at the end of strings.\n",
    "\n",
    "The file object keeps track of the position the next data is to be written.\n",
    "If you write more data to the file, it will be **appended**."
   ]
  },
  {
   "cell_type": "code",
   "execution_count": null,
   "metadata": {
    "slideshow": {
     "slide_type": "fragment"
    }
   },
   "outputs": [],
   "source": [
    "line2: str = 'But there are also bright Computer Scientists\\n'\n",
    "file_out.write(line2)"
   ]
  },
  {
   "cell_type": "markdown",
   "metadata": {
    "slideshow": {
     "slide_type": "fragment"
    }
   },
   "source": [
    "When you are done writing, you must `close` the file. \n",
    "Writing a file is what we know as a **buffered operation**, meaning that as long as you do not close the file, no information is actually written to the file.\n",
    "Instead, the data is temporarily stored in a **buffer**, a memory region used to store temporal data that is being moved from one place to another.\n",
    "If you do not close the file, you will keep using unnecesary memory.\n",
    "When your program is terminated it will try to close the file, but beware, part of your data might be lost!\n",
    "\n",
    "<div class=\"alert alert-info\">\n",
    "    <b>Close files as a good practice</b><br>\n",
    "    Similar to type hints and comments, make it common practice to <b>close files explicitly</b>, because different Python environments may have different behaviour in this respect.\n",
    "</div>"
   ]
  },
  {
   "cell_type": "code",
   "execution_count": null,
   "metadata": {
    "slideshow": {
     "slide_type": "fragment"
    }
   },
   "outputs": [],
   "source": [
    "file_out.close()"
   ]
  },
  {
   "cell_type": "markdown",
   "metadata": {
    "tags": []
   },
   "source": [
    "<div class=\"alert alert-success\">\n",
    "    <b>Do It Yourself!</b><br>\n",
    "    Copy the content of <i>logs.txt</i> in the <i>output.txt</i> file.\n",
    "</div>"
   ]
  },
  {
   "cell_type": "code",
   "execution_count": null,
   "metadata": {
    "tags": []
   },
   "outputs": [],
   "source": [
    "# Remove this line and add your code here"
   ]
  },
  {
   "cell_type": "markdown",
   "metadata": {},
   "source": [
    "## 9. The `with` Statement <a class=\"anchor\" id=\"with\"></a>\n",
    "\n",
    "In the previous section, we saw that we need to explicitly close a file, otherwise you will keep using unneeded memory.\n",
    "This problem is known as a **memory leak**: the memory of your computer decreases every time you create and open a new resource without closing it.\n",
    "However, remembering every time that you need to close a file is error-prone.\n",
    "\n",
    "Python offers the `with` statement as a way to cope with human errors related to the handling of these resources (e.g. files, network connections).\n",
    "This statement generates a temporal context (called **runtime context**) that runs all the statements defined in its body.\n",
    "In addition, a **context manager** will take care of the resource handling.\n",
    "\n",
    "The syntax of this statement is as follows:\n",
    "\n",
    "```python\n",
    "with expression as ctx_manager:\n",
    "    # Body\n",
    "```\n",
    "\n",
    "The context manager (`ctx_manager`) results from evaluating the `with` expression.\n",
    "It is in essence an *object* that implements the **context management protocol**.\n",
    "\n",
    "<div class=\"alert alert-info\">\n",
    "    <b>More about context managers</b><br>\n",
    "    If you want to know more about <b>context managers</b> and their protocol, please visit <a href=\"https://book.pythontips.com/en/latest/context_managers.html\">this link</a>.\n",
    "</div>\n",
    "\n",
    "We can change the way how we open our files as follows."
   ]
  },
  {
   "cell_type": "code",
   "execution_count": null,
   "metadata": {},
   "outputs": [],
   "source": [
    "with open('datasets/output.txt', 'w') as file_out:\n",
    "    line1: str = 'There are bright Data Scientists\\n'\n",
    "    line2: str = 'But there are also bright Computer Scientists\\n'\n",
    "    file_out.write(line1)\n",
    "    file_out.write(line2)"
   ]
  },
  {
   "cell_type": "markdown",
   "metadata": {},
   "source": [
    "Notice that the `open('datasets/output.txt', 'w')` expression creates a context manager (i.e. our file handler).\n",
    "The output of this expression is saved in the variable `file_out`.\n",
    "Afterward, we encapsulate all the file-management related statements within the body of the `with` statement.\n",
    "The important part now is that we don't need to call the `close` method anymore!\n",
    "The context manager will take care of that for us.\n",
    "\n",
    "Using the `with` statement can actually make your code more **readable and safer**."
   ]
  },
  {
   "cell_type": "markdown",
   "metadata": {},
   "source": [
    "## 10. File Formats <a class=\"anchor\" id=\"file-formats\"></a>\n",
    "\n",
    "There are a plethora of formats used to store data. Some of the most popular formats are *plain text (txt)*, *Comma-Separated Values (CSV)*, *JavaScript Object Notation (JSON)*, and *Extensible Markup Language (XML)*. \n",
    "\n",
    "### Plain Text\n",
    "So far, we have been interacting with **plain text** files–with the `.txt` extension–, representing characters written using a specific encoding such as ASCII or Unicode. A\n",
    "n **encoding** is a system that represents each character as a number for digital representation. \n",
    "(Have a look at the `logs.txt` file.)"
   ]
  },
  {
   "cell_type": "code",
   "execution_count": null,
   "metadata": {},
   "outputs": [],
   "source": [
    "# Read the first line of the log.txt file\n",
    "\n",
    "with open('datasets/logs.txt') as file:\n",
    "    print(file.readline()) "
   ]
  },
  {
   "cell_type": "markdown",
   "metadata": {},
   "source": [
    "### Comma-Separated Values (CSV)\n",
    "\n",
    "The **Comma-Separated Values (CSV)** format–with the `.csv` extension–uses a comma, semicolon, or another character to separate values in a file. \n",
    "Each line in the file reports a case or record, and each value within the record is an observation for a given variable. \n",
    "Each record should have the same number of observations. \n",
    "CSV files usually store rectangular data in plain text and they look as follows.\n",
    "(Also have a look at the `logs.csv` file.)\n",
    "\n",
    "```\n",
    "variable_1, variable_2, ..., variable_n\n",
    "row_1_value_1, row_1_value_2, ..., row_1_value_n\n",
    "row_2_value_1, row_2_value_2, ..., row_2_value_n\n",
    "row_3_value_1, row_3_value_2, ..., row_3_value_n\n",
    "```\n",
    "\n",
    "In Pyhon, we can use the `csv` library to interact with CSV files. \n",
    "We can use the `reader` function to create a reader object that will iterate over the rows in the CSV file. \n",
    "We can access each value using an index–based on the position of the variable in the file. \n",
    "Notice that the header of the data file will also be printed if you do not exclude it explicitly."
   ]
  },
  {
   "cell_type": "code",
   "execution_count": null,
   "metadata": {},
   "outputs": [],
   "source": [
    "import csv\n",
    "\n",
    "with open('datasets/logs.csv') as file:\n",
    "    reader = csv.reader(file, delimiter=',') # Default value of delimiter is ','\n",
    "    \n",
    "    for row in reader:\n",
    "        typ = row[0]        # We write typ because type is a reserved word\n",
    "        timestamp = row[1]\n",
    "        from_email = row[2]\n",
    "        to_email = row[3]\n",
    "        message = row[4]\n",
    "        \n",
    "        print(f'{typ} {message} [{timestamp}] from:{from_email} to:{to_email}')"
   ]
  },
  {
   "cell_type": "markdown",
   "metadata": {},
   "source": [
    "However, indexing is error-prone. \n",
    "We can instead use the `DictReader` function that will create a dictionary for each record in the file. \n",
    "You can access specific values with the name of the variable–declared in the first row of the file. \n",
    "In this case, you do not need to manage the header row, the `csv` library will do it for you."
   ]
  },
  {
   "cell_type": "code",
   "execution_count": null,
   "metadata": {},
   "outputs": [],
   "source": [
    "import csv\n",
    "\n",
    "with open('datasets/logs.csv') as file:\n",
    "    reader = csv.DictReader(file)\n",
    "    \n",
    "    for row in reader:\n",
    "        typ = row['type']            # We write typ because type is a reserved word\n",
    "        timestamp = row['timestamp']\n",
    "        from_email = row['from']\n",
    "        to_email = row['to']\n",
    "        message = row['message']\n",
    "        \n",
    "        print(f'{typ} {message} [{timestamp}] from:{from_email} to:{to_email}')"
   ]
  },
  {
   "cell_type": "markdown",
   "metadata": {},
   "source": [
    "### JavaScript Object Notation (JSON)\n",
    "\n",
    "The **JavaScript Object Notation (JSON)** is a file format–with the `.json` extension–used to store data objects represented as attribute-value pairs. \n",
    "We can think of it as an object that usually contains data in the form of lists and dictionaries. \n",
    "This format is specially popular when there is data transfer between web applications and servers. \n",
    "JSON files look as follows. \n",
    "(Also have a look at the `logs.json` file.)\n",
    "\n",
    "```\n",
    "{\n",
    "    \"key_1\" : {\n",
    "        \"key_1_1\" : \"value_1\",\n",
    "        \"key_1_2\" : \"value_2\",\n",
    "        \"key_1_3\" : [...],\n",
    "        ...\n",
    "    },\n",
    "    ...\n",
    "}\n",
    "```\n",
    "\n",
    "JSON supports the following formats:\n",
    "\n",
    "* **Object:** unordered set of name-value pairs. An object starts with `{` and ends with `}` (similar to a dictionary in Python).\n",
    "* **Array:** sequence of values. An array begins with `[` and `]` (similar to a list in Python). \n",
    "* **Value:** can be a string (in double quotes), a number, `true`, `false`, `null`, an object, or an array. \n",
    "\n",
    "In Python, we can use the `json` library to interact with JSON files.\n",
    "We can use the `load` function which creates a Python object based on [this conversion table](https://docs.python.org/3/library/json.html#json-to-py-table). \n",
    "You can then interact with the data as you normaly do in Python."
   ]
  },
  {
   "cell_type": "code",
   "execution_count": null,
   "metadata": {},
   "outputs": [],
   "source": [
    "import json\n",
    "\n",
    "with open('datasets/logs.json') as file:\n",
    "    data = json.load(file)  # We get a dictionary out from the JSON file\n",
    "    \n",
    "    for obj in data:                 # Iterate over all objects (dictionaries) in the array (list)\n",
    "        typ = obj['type']            # We write typ because type is a reserved word\n",
    "        timestamp = obj['timestamp']\n",
    "        from_email = obj['from']\n",
    "        to_email = obj['to']\n",
    "        message = obj['message']\n",
    "        \n",
    "        print(f'{typ} {message} [{timestamp}] from:{from_email} to:{to_email}')"
   ]
  },
  {
   "cell_type": "markdown",
   "metadata": {},
   "source": [
    "### Extensible Markup Language (XML)\n",
    "\n",
    "The Extensible Markup Language (XML) is a markup language and data format used to represent and store arbitrary data structures. \n",
    "The XML language was formalized in the World Wide Web Consortium's XML 1.0 Specification of 1998. \n",
    "It consists of a set of structured *tags*, each one with zero or more *attributes*, and an *element* (characters in between the opening and ending tags). \n",
    "XML files look as follows. (Also have a look at the `logs.xml` file.)\n",
    "\n",
    "```\n",
    "<tag_1>\n",
    "    <tag_1_1 attr_1=\"value_1\" attr_2=\"value_2\" ...>\n",
    "        element_1_1\n",
    "    </<tag_1_1>\n",
    "    <tag_1_2>\n",
    "        element_1_2\n",
    "    </<tag_1_2>\n",
    "    ...\n",
    "</tag_1>\n",
    "```\n",
    "\n",
    "In Python, we can use the `xml.etree.ElementTree` library to interact with XML files. \n",
    "We use the `parse` function to read and parse an XML file. \n",
    "The output of the function is a tree. \n",
    "Trees are out of the scope of this course, but you should know that these are frequent data structures used in computer science and data science. \n",
    "You can traverse the tree to get relevant information from each of its nodes. \n",
    "In the following cell, we show a very simple interaction with the tree structure."
   ]
  },
  {
   "cell_type": "code",
   "execution_count": null,
   "metadata": {},
   "outputs": [],
   "source": [
    "import xml.etree.ElementTree as ET\n",
    "\n",
    "tree = ET.parse('datasets/logs.xml')\n",
    "root = tree.getroot()                # Get the root node of the tree\n",
    "\n",
    "for message in root.iter('message'): # Get all tags of type 'message'\n",
    "    print(message.text)              # and print their text."
   ]
  },
  {
   "cell_type": "markdown",
   "metadata": {},
   "source": [
    "---\n",
    "This Jupyter Notebook is based on Chapter 7 of the book Python for Everybody and Chapter 14 of the book Think Python."
   ]
  },
  {
   "cell_type": "markdown",
   "metadata": {},
   "source": [
    "---\n",
    "\n",
    "# (End of Notebook)\n",
    "\n",
    "&copy; 2022-2023 - **TU/e** - Eindhoven University of Technology"
   ]
  }
 ],
 "metadata": {
  "kernelspec": {
   "display_name": "Python 3 (ipykernel)",
   "language": "python",
   "name": "python3"
  },
  "language_info": {
   "codemirror_mode": {
    "name": "ipython",
    "version": 3
   },
   "file_extension": ".py",
   "mimetype": "text/x-python",
   "name": "python",
   "nbconvert_exporter": "python",
   "pygments_lexer": "ipython3",
   "version": "3.9.7"
  }
 },
 "nbformat": 4,
 "nbformat_minor": 4
}
