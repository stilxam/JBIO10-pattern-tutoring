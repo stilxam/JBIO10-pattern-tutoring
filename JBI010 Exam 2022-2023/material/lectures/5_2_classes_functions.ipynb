{
 "cells": [
  {
   "cell_type": "markdown",
   "metadata": {
    "slideshow": {
     "slide_type": "slide"
    }
   },
   "source": [
    "# Classes and Functions\n"
   ]
  },
  {
   "cell_type": "markdown",
   "metadata": {
    "slideshow": {
     "slide_type": "fragment"
    }
   },
   "source": [
    "_(c) 2022, Mark van den Brand and Lina Ochoa Venegas, Eindhoven University of Technology_"
   ]
  },
  {
   "cell_type": "markdown",
   "metadata": {},
   "source": [
    "## Table of Contents\n",
    "\n",
    "- [1. Introduction](#1.-Introduction)\n",
    "- [2. The `Time` Class](#2.-The-Time-Class)\n",
    "- [3. Modifiers](#3.-Modifiers)\n",
    "- [4. Pure Functions](#4.-Pure-Functions)\n",
    "- [5. Prototyping vs. Planning](#5.-Prototyping-vs.-Planning)\n",
    "- [6. Invariants](#6.-Invariants)"
   ]
  },
  {
   "cell_type": "markdown",
   "metadata": {
    "slideshow": {
     "slide_type": "slide"
    }
   },
   "source": [
    "## 1. Introduction\n",
    "\n",
    "The next step is to develop functions that manipulate the programmer-defined types. We will see how these types can be passed as arguments to functions and be returned as results.\n",
    "In this chapter, a functional programming style will be used."
   ]
  },
  {
   "cell_type": "markdown",
   "metadata": {
    "slideshow": {
     "slide_type": "slide"
    }
   },
   "source": [
    "## 2. Time\n",
    "\n",
    "We will start with introducing another programmer-defined type: the class `Time`, together with the `__init__` and `__str__` methods."
   ]
  },
  {
   "cell_type": "code",
   "execution_count": null,
   "metadata": {
    "slideshow": {
     "slide_type": "fragment"
    }
   },
   "outputs": [],
   "source": [
    "class Time:\n",
    "    \"\"\"\n",
    "    Represents the time of day.\n",
    "    attributes: hour, minute, second\n",
    "    \"\"\"\n",
    "    \n",
    "    def __init__(self, hour: int = 0, minute: int = 0, second: int = 0) -> None:\n",
    "        \"\"\" \n",
    "        Initializes a Time object.\n",
    "        :param hour: integer value for hour\n",
    "        :param minute: integer value for minute\n",
    "        :param second: integer value for second\n",
    "        \"\"\"\n",
    "        self.hour: int = hour\n",
    "        self.minute: int = minute\n",
    "        self.second: int = second\n",
    "            \n",
    "    def __str__(self) -> str:\n",
    "        \"\"\" \n",
    "        Returns a string representation of the Time object.\n",
    "        :returns: string representation of the Time object.\n",
    "        \"\"\"\n",
    "        return '{:02d}:{:02d}:{:02d}'.format(self.hour, self.minute, self.second)"
   ]
  },
  {
   "cell_type": "markdown",
   "metadata": {
    "slideshow": {
     "slide_type": "fragment"
    }
   },
   "source": [
    "We can now create `Time` objects and initialize them."
   ]
  },
  {
   "cell_type": "code",
   "execution_count": null,
   "metadata": {
    "slideshow": {
     "slide_type": "fragment"
    }
   },
   "outputs": [],
   "source": [
    "time: Time = Time(11, 59, 33)\n",
    "print(time)"
   ]
  },
  {
   "cell_type": "markdown",
   "metadata": {
    "slideshow": {
     "slide_type": "fragment"
    }
   },
   "source": [
    "***Functions* in contrast to *methods* are defined outside the scope of a class!**\n",
    "We will develop functions that allows us to manipulate `Time` objects.\n",
    "There exists two types of functions, namely **pure functions** and **modifiers**.\n",
    "\n",
    "We will define a function to compare two `Time` objects. \n",
    "The function is defined outside the `Time` class"
   ]
  },
  {
   "cell_type": "code",
   "execution_count": null,
   "metadata": {
    "slideshow": {
     "slide_type": "fragment"
    }
   },
   "outputs": [],
   "source": [
    "def is_after(time1: Time, time2: Time) -> bool:\n",
    "    \"\"\" \n",
    "    Returns a Boolean to indicate whether time1 is greater than time2.\n",
    "    :param time1: a Time object\n",
    "    :param time2: a Time object\n",
    "    :returns: `True` if time1 is greater than time2, `False` otherwise.\n",
    "    \"\"\"\n",
    "    return time1.hour > time2.hour or time1.minute > time2.minute or time1.second > time2.second\n",
    "\n",
    "\n",
    "new_time: Time = Time(11, 59, 31)\n",
    "is_after(time,new_time)"
   ]
  },
  {
   "cell_type": "markdown",
   "metadata": {},
   "source": [
    "The previous function is defined in the **global scope** of the program, which means that the function is available to the rest of the members declared in the notebook.\n",
    "Python turns symbols declared within the global scope into a module called `__main__`.\n",
    "You can see that this is the name of the module storing the program execution by typing `__name__`."
   ]
  },
  {
   "cell_type": "code",
   "execution_count": null,
   "metadata": {},
   "outputs": [],
   "source": [
    "__name__"
   ]
  },
  {
   "cell_type": "markdown",
   "metadata": {
    "tags": []
   },
   "source": [
    "<div class=\"alert alert-success\">\n",
    "    <b>Do It Yourself!</b><br>\n",
    "    Create the function <i>print_time_meridiem(time : Time)</i>, which takes an instance of type Time and prints the time following the 12-hour convention (e.g. 12:05 pm, 11:46 am).\n",
    "</div>"
   ]
  },
  {
   "cell_type": "code",
   "execution_count": null,
   "metadata": {
    "jupyter": {
     "source_hidden": true
    },
    "tags": []
   },
   "outputs": [],
   "source": [
    "# Remove this line and add your code here"
   ]
  },
  {
   "cell_type": "markdown",
   "metadata": {
    "slideshow": {
     "slide_type": "slide"
    }
   },
   "source": [
    "## 3. Modifiers\n",
    "\n",
    "It may be useful for a function to modify the objects it gets as parameters. \n",
    "In that case, the changes are visible to the caller. \n",
    "Functions that work this way are called **modifiers**.\n",
    "\n",
    "Hereafter, we will use the **prototype and patch** developing strategy, which is \n",
    "a way of tackling a complex problem by\n",
    "starting with a simple *prototype* and *incrementally* dealing with the more complex situations.\n",
    "In the next cell, a first version of the function `increment` is presented."
   ]
  },
  {
   "cell_type": "code",
   "execution_count": null,
   "metadata": {
    "slideshow": {
     "slide_type": "fragment"
    }
   },
   "outputs": [],
   "source": [
    "def increment(time: Time, seconds: int) -> None:\n",
    "    \"\"\" \n",
    "    Adds seconds to a Time object.\n",
    "    :param time: a Time object\n",
    "    :param seconds: number of seconds to be added\n",
    "    :returns: a Time object increased by seconds.\n",
    "    \"\"\"\n",
    "    time.second += seconds\n",
    "    \n",
    "    # fix the seconds if greater than 60\n",
    "    if time.second >= 60:\n",
    "        time.second -= 60\n",
    "        time.minute += 1\n",
    "        \n",
    "    # fix the minutes if greater than 60\n",
    "    if time.minute >= 60:\n",
    "        time.minute -= 60\n",
    "        time.hour += 1\n",
    "\n",
    "    # fix with hours if greater than 24\n",
    "    if time.hour >= 24:\n",
    "        time.hour -= 24 "
   ]
  },
  {
   "cell_type": "markdown",
   "metadata": {},
   "source": [
    "The function starts with adding the `seconds` to `time.second`; the remainder deals with the special cases we\n",
    "saw before.\n",
    "\n",
    "This function does not need to return the `time` object, because it is being directly modified within the function body.\n",
    "Let us see an example where the object is being changed by the *modifier* function."
   ]
  },
  {
   "cell_type": "code",
   "execution_count": null,
   "metadata": {},
   "outputs": [],
   "source": [
    "my_time: Time = Time(20, 20, 30)\n",
    "print(f'Before incrementing: {my_time}')\n",
    "\n",
    "increment(my_time, 30)\n",
    "print(f'After incrementing: {my_time}')"
   ]
  },
  {
   "cell_type": "markdown",
   "metadata": {},
   "source": [
    "However, the `increment` function is not correct when the number of seconds to be added is larger than `60`.\n",
    "It is then necessary to add more than 1 minute to `time.minutes`."
   ]
  },
  {
   "cell_type": "code",
   "execution_count": null,
   "metadata": {},
   "outputs": [],
   "source": [
    "my_time: Time = Time(20, 20, 30)\n",
    "print(f'Before incrementing: {my_time}')\n",
    "\n",
    "increment(my_time, 95)\n",
    "print(f'After incrementing: {my_time}')"
   ]
  },
  {
   "cell_type": "markdown",
   "metadata": {},
   "source": [
    "A straightforward solution is to use a `while` loop, but this may not be very efficient."
   ]
  },
  {
   "cell_type": "code",
   "execution_count": null,
   "metadata": {},
   "outputs": [],
   "source": [
    "def increment(time: Time, seconds: int) -> None:\n",
    "    \"\"\" \n",
    "    Adds seconds to a Time object.\n",
    "    :param time: a Time object\n",
    "    :param seconds: number of seconds to be added\n",
    "    :returns: a Time object increased by seconds.\n",
    "    \"\"\"\n",
    "    time.second += seconds\n",
    "    \n",
    "    # fix the seconds if greater than 60\n",
    "    while time.second >= 60:\n",
    "        time.second -= 60\n",
    "        time.minute += 1\n",
    "        \n",
    "    # fix the minutes if greater than 60\n",
    "    while time.minute >= 60:\n",
    "        time.minute -= 60\n",
    "        time.hour += 1\n",
    "\n",
    "    # fix with hours if greater than 24\n",
    "    while time.hour >= 24:\n",
    "        time.hour -= 24 "
   ]
  },
  {
   "cell_type": "markdown",
   "metadata": {},
   "source": [
    "To improve the efficiency of our solution, we can leverage the `divmod` function, which given two numbers (i.e. *dividend* and *divisor* in the given order), returns their *quotient* and *remainder* as a tuple."
   ]
  },
  {
   "cell_type": "code",
   "execution_count": null,
   "metadata": {},
   "outputs": [],
   "source": [
    "(minutes, seconds) = divmod(95, 60)\n",
    "print(f'minutes={minutes} seconds={seconds}')"
   ]
  },
  {
   "cell_type": "markdown",
   "metadata": {},
   "source": [
    "Let us modify our solution!"
   ]
  },
  {
   "cell_type": "code",
   "execution_count": null,
   "metadata": {
    "slideshow": {
     "slide_type": "fragment"
    }
   },
   "outputs": [],
   "source": [
    "def increment(time: Time, seconds: int) -> None:\n",
    "    \"\"\" \n",
    "    Adds seconds to a Time object.\n",
    "    :param time: a Time object\n",
    "    :param seconds: number of seconds to be added\n",
    "    :returns: a Time object increased by seconds.\n",
    "    \"\"\"\n",
    "    # One hour has 3600 seconds = 60 seconds x 60 minutes\n",
    "    (hours, seconds) = divmod(seconds, 3600)\n",
    "   \n",
    "    # One minute has 60 seconds\n",
    "    (minutes, seconds) = divmod(seconds, 60)\n",
    "    \n",
    "    time.hour += hours\n",
    "    time.minute += minutes\n",
    "    time.second += seconds\n",
    "    \n",
    "    \n",
    "my_time: Time = Time(20, 20, 30)\n",
    "print(f'Before incrementing: {my_time}')\n",
    "\n",
    "increment(my_time, 3660)\n",
    "print(f'After incrementing: {my_time}')"
   ]
  },
  {
   "cell_type": "markdown",
   "metadata": {
    "tags": []
   },
   "source": [
    "<div class=\"alert alert-success\">\n",
    "    <b>Do It Yourself!</b><br>\n",
    "    Let's introduce some changes to the previous exercise. Create the modifier <i>convert_utc_modifier(time : Time, utc_units : int) -> Time</i>, which takes an instance of type Time (representing the Coordinated Universal Time -UTC) and adds the number of UTC units to it. This function adds the integer to the <i>hours</i> attribute. Remember that an hour must be equal or greater to zero, and less than 24.\n",
    "</div>"
   ]
  },
  {
   "cell_type": "code",
   "execution_count": null,
   "metadata": {
    "jupyter": {
     "source_hidden": true
    },
    "tags": []
   },
   "outputs": [],
   "source": [
    "# Remove this line and add your code here"
   ]
  },
  {
   "cell_type": "markdown",
   "metadata": {
    "slideshow": {
     "slide_type": "fragment"
    }
   },
   "source": [
    "## 4. Pure Functions\n",
    "\n",
    "Anything that can be done with modifiers can also be done with pure functions. \n",
    "In fact, some programming languages, also known as **functional programming languages**, \n",
    "only allow pure functions. \n",
    "\n",
    "There is some evidence that programs that use pure functions are faster to develop and less error-prone than programs\n",
    "that use modifiers. \n",
    "It is, therefore, good practice to develop **pure functions** instead of **modifiers**.\n",
    "However, modifiers are convenient at times, and functional programs tend to be less efficient.\n",
    "Thus, defining a modifier from time to time is not forbidden.\n",
    "\n",
    "The next cell shows a simple prototype of the `add_time` function."
   ]
  },
  {
   "cell_type": "code",
   "execution_count": null,
   "metadata": {
    "slideshow": {
     "slide_type": "fragment"
    }
   },
   "outputs": [],
   "source": [
    "def add_time(t1: Time, t2: Time) -> Time:\n",
    "    \"\"\" \n",
    "    Returns a new Time object containing the sum of two Time objects.\n",
    "    :param time1: a Time object\n",
    "    :param time2: a Time object\n",
    "    :returns: a Time object containing the sum of two Time objects.\n",
    "    \"\"\"\n",
    "    hour: int = t1.hour + t2.hour\n",
    "    minute: int = t1.minute + t2.minute\n",
    "    second: int = t1.second + t2.second\n",
    "    addition: Time = Time(hour, minute, second)\n",
    "    return addition"
   ]
  },
  {
   "cell_type": "markdown",
   "metadata": {
    "slideshow": {
     "slide_type": "fragment"
    }
   },
   "source": [
    "This function creates a new `Time` object (`addition`). \n",
    "Its attributes are initialized by adding\n",
    "the values of the attributes of the arguments, and eventually returns the created object.\n",
    "\n",
    "This is called a **pure function** because it does not have any side effects:\n",
    "* it *does not modify any of the objects* passed to it as arguments and \n",
    "* it has no effect, like *displaying a value or getting user input*, other than returning a value.\n",
    "\n",
    "The function of the previous cell can be tested by creating and adding 2 `Time` objects."
   ]
  },
  {
   "cell_type": "code",
   "execution_count": null,
   "metadata": {
    "slideshow": {
     "slide_type": "fragment"
    }
   },
   "outputs": [],
   "source": [
    "start: Time = Time(23, 45, 0)\n",
    "duration: Time = Time(1, 35, 0)\n",
    "finished: Time = add_time(start, duration)\n",
    "\n",
    "print(finished)"
   ]
  },
  {
   "cell_type": "markdown",
   "metadata": {
    "slideshow": {
     "slide_type": "fragment"
    }
   },
   "source": [
    "This is of course an illegal time.\n",
    "\n",
    "The problem is caused by the fact that we did not keep track of the fact that there are only `60` seconds in a minute, `60` minutes in an hour, and `24` hours in a day, *or do we allow more hours in a `Time` object?*\n",
    "We need to *carry* over seconds to minutes and minutes to hours."
   ]
  },
  {
   "cell_type": "code",
   "execution_count": null,
   "metadata": {
    "slideshow": {
     "slide_type": "fragment"
    }
   },
   "outputs": [],
   "source": [
    "def add_time(t1: Time, t2: Time) -> Time:\n",
    "    \"\"\" \n",
    "    Returns a new Time object containing the sum of two Time objects.\n",
    "    :param time1: a Time object\n",
    "    :param time2: a Time object\n",
    "    :returns: a Time object containing the sum of two Time objects.\n",
    "    \"\"\"\n",
    "    hour: int = t1.hour + t2.hour\n",
    "    minute: int = t1.minute + t2.minute\n",
    "    second: int = t1.second + t2.second\n",
    "    \n",
    "    # fix the seconds if greater than 60\n",
    "    if second >= 60:\n",
    "        second -= 60\n",
    "        minute += 1\n",
    "\n",
    "    # fix the minutes if greater than 60\n",
    "    if minute >= 60:\n",
    "        minute -= 60\n",
    "        hour += 1\n",
    "        \n",
    "    # fix with hours if greater than 24\n",
    "    if hour >= 24:\n",
    "        hour -= 24\n",
    "    \n",
    "    addition: Time = Time(hour, minute, second)\n",
    "    return addition\n",
    "\n",
    "\n",
    "start: Time = Time(23, 45, 0)\n",
    "duration: Time = Time(1, 35, 0)\n",
    "finished: Time = add_time(start, duration)\n",
    "\n",
    "print(finished)"
   ]
  },
  {
   "cell_type": "markdown",
   "metadata": {
    "slideshow": {
     "slide_type": "fragment"
    }
   },
   "source": [
    "This solution is slightly more elaborated than the previous.\n",
    "But, the function is quite long and a more concise solution will be presented later in the chapter."
   ]
  },
  {
   "cell_type": "markdown",
   "metadata": {
    "tags": []
   },
   "source": [
    "<div class=\"alert alert-success\">\n",
    "    <b>Do It Yourself!</b><br>\n",
    "    Create the pure function <i>convert_utc(time : Time, utc_units : int) -> Time</i>, which takes an instance of type Time (representing the Coordinated Universal Time -UTC) and the number of UTC units. This function adds the integer to the <i>hours</i> attribute. Remember that an hour must be equal or greater to zero, and less than 24.\n",
    "</div>"
   ]
  },
  {
   "cell_type": "code",
   "execution_count": null,
   "metadata": {
    "jupyter": {
     "source_hidden": true
    },
    "tags": []
   },
   "outputs": [],
   "source": [
    "# Remove this line and add your code here"
   ]
  },
  {
   "cell_type": "markdown",
   "metadata": {
    "slideshow": {
     "slide_type": "fragment"
    }
   },
   "source": [
    "## 5. Prototyping vs. Planning\n",
    "\n",
    "The development strategy used so far in this chapter has been *prototype and patch*.\n",
    "The problem with this approach is that the code becomes bulky, it may contain code to deal with a lot of corner cases.\n",
    "In the `Time` case, you have to be aware of the seconds, minutes, and hours, all three may have a carry over.\n",
    "This approach can be effective, especially if you do not have yet a deep understanding\n",
    "of the problem, but it may involve a lot of testing.\n",
    "\n",
    "An alternative strategy is **designed development**, in which high-level insight into the problem can\n",
    "make the programming much easier. \n",
    "The more experienced you become as a programmer, the more similarities \n",
    "you see between problems. \n",
    "You start to see patterns and often these patterns can be applied to similar problems.\n",
    "It often involves taking a step back and looking at the problem from a different angle. \n",
    "\n",
    "There are different\n",
    "alternatives to represent time and maybe an alternative way of looking at time may simplify the manipulation\n",
    "of time objects.\n",
    "For instance, to realize that the conversion from time to seconds and back allows us just to manipulate time\n",
    "in terms of the number of seconds: `1` minute is `60` seconds and `1` hour is `3600` seconds.\n",
    "\n",
    "So, if we **convert the `Time` object to an integer value representing seconds and back, the solution might be way simpler!**"
   ]
  },
  {
   "cell_type": "code",
   "execution_count": null,
   "metadata": {
    "slideshow": {
     "slide_type": "fragment"
    }
   },
   "outputs": [],
   "source": [
    "def time_to_int(time: Time) -> int:\n",
    "    \"\"\" \n",
    "    Converts a Time object into an integer value representing seconds.\n",
    "    :param time: a Time object to be converted\n",
    "    :returns: number of seconds as an Integer value.\n",
    "    \"\"\"\n",
    "    minutes: int = 60 * time.hour + time.minute\n",
    "    seconds: int = 60 * minutes + time.second\n",
    "    return seconds\n",
    "\n",
    "print(start)\n",
    "print(time_to_int(start))"
   ]
  },
  {
   "cell_type": "markdown",
   "metadata": {
    "slideshow": {
     "slide_type": "fragment"
    }
   },
   "source": [
    "We need now to develop a function `int_to_time` that converts a number of seconds into hours, minutes, and seconds—that is, a `Time` object.\n",
    "This function explicitly takes an integer value as argument and returns a `Time` object.\n",
    "Internally, it will use the `divmod` function again."
   ]
  },
  {
   "cell_type": "code",
   "execution_count": null,
   "metadata": {
    "slideshow": {
     "slide_type": "fragment"
    }
   },
   "outputs": [],
   "source": [
    "def int_to_time(seconds: int) -> Time:\n",
    "    \"\"\" \n",
    "    Converts an integer value representing seconds into a Time object.\n",
    "    :param seconds: as Integer value\n",
    "    :returns: a Time object.\n",
    "    \"\"\"\n",
    "    time: Time = Time()\n",
    "    minutes, time.second = divmod(seconds, 60)\n",
    "    time.hour, time.minute = divmod(minutes, 60)\n",
    "        \n",
    "    return time"
   ]
  },
  {
   "cell_type": "markdown",
   "metadata": {},
   "source": [
    "**Is the function correct?**\n",
    "One way to check that both functions are correct is by means of using a *consistency check*. \n",
    "In this case, we will verify with the expression `time_to_int(int_to_time(x)) == x`."
   ]
  },
  {
   "cell_type": "code",
   "execution_count": null,
   "metadata": {},
   "outputs": [],
   "source": [
    "x = 86300\n",
    "assert time_to_int(int_to_time(x)) == x"
   ]
  },
  {
   "cell_type": "markdown",
   "metadata": {},
   "source": [
    "Seems to be working! \n",
    "But, let us check some corner cases, for instance:\n",
    "- `int_to_time(0)`: expecting `00:00:00`.\n",
    "- `int_to_time(86400)`: expecting `00:00:00` given that 86.400 seconds is equal to 24 hours. `24:00:00` is not a legal time."
   ]
  },
  {
   "cell_type": "code",
   "execution_count": null,
   "metadata": {},
   "outputs": [],
   "source": [
    "my_time: Time = int_to_time(86400)\n",
    "assert my_time == 1, f'Excesive number hours ({my_time.hour}) are nor being handled'"
   ]
  },
  {
   "cell_type": "markdown",
   "metadata": {
    "slideshow": {
     "slide_type": "fragment"
    }
   },
   "source": [
    "The solution presented so far does not deal with the fact that there are only `24` hours in a day.\n",
    "\n",
    "Thus, the proposed test, `time_to_int(int_to_time(x)) == x`\n",
    "does not work for values equal or greater than `86400`."
   ]
  },
  {
   "cell_type": "code",
   "execution_count": null,
   "metadata": {
    "slideshow": {
     "slide_type": "fragment"
    }
   },
   "outputs": [],
   "source": [
    "def int_to_time(seconds: int) -> Time:\n",
    "    \"\"\" \n",
    "    Converts an integer value representing seconds into a Time object.\n",
    "    :param seconds: as Integer value\n",
    "    :returns: a Time object.\n",
    "    \"\"\"\n",
    "    time: Time = Time()\n",
    "    minutes, time.second = divmod(seconds, 60)\n",
    "    time.hour, time.minute = divmod(minutes, 60)\n",
    "    \n",
    "    # fix with hours if greater than 24\n",
    "    if time.hour >= 24:\n",
    "        time.hour -= 24\n",
    "        \n",
    "    return time"
   ]
  },
  {
   "cell_type": "code",
   "execution_count": null,
   "metadata": {},
   "outputs": [],
   "source": [
    "my_time: Time = int_to_time(86400)\n",
    "print(my_time)\n",
    "assert my_time.hour == 0, f'Excesive number hours ({my_time.hour}) are not being handled'"
   ]
  },
  {
   "cell_type": "markdown",
   "metadata": {},
   "source": [
    "Now, let us consider our initial check, but this time `x` will be set to `86400`."
   ]
  },
  {
   "cell_type": "code",
   "execution_count": null,
   "metadata": {
    "slideshow": {
     "slide_type": "fragment"
    }
   },
   "outputs": [],
   "source": [
    "time_to_int(int_to_time(86400)) == 86400"
   ]
  },
  {
   "cell_type": "code",
   "execution_count": null,
   "metadata": {
    "tags": []
   },
   "outputs": [],
   "source": [
    "time_to_int(int_to_time(86400))"
   ]
  },
  {
   "cell_type": "markdown",
   "metadata": {},
   "source": [
    "To solve this issue we can leverage the `%` operator!"
   ]
  },
  {
   "cell_type": "code",
   "execution_count": null,
   "metadata": {},
   "outputs": [],
   "source": [
    "x = 86400\n",
    "assert time_to_int(int_to_time(x)) == x % 86400"
   ]
  },
  {
   "cell_type": "markdown",
   "metadata": {
    "slideshow": {
     "slide_type": "fragment"
    }
   },
   "source": [
    "Once we are convinced that both functions are correct (according to our specifications), we can reimplement\n",
    "the `add_time` and `increment` functions."
   ]
  },
  {
   "cell_type": "code",
   "execution_count": null,
   "metadata": {
    "slideshow": {
     "slide_type": "fragment"
    }
   },
   "outputs": [],
   "source": [
    "def add_time(t1: Time, t2: Time) -> Time:\n",
    "    \"\"\" \n",
    "    Returns a new Time object containing the sum of two Time objects.\n",
    "    :param time1: a Time object\n",
    "    :param time2: a Time object\n",
    "    :returns: a Time object containing the sum of two Time objects.\n",
    "    \"\"\"\n",
    "    seconds: int = time_to_int(t1) + time_to_int(t2)\n",
    "    return int_to_time(seconds)\n",
    "\n",
    "\n",
    "start: Time = Time(23, 45, 0)\n",
    "duration: Time = Time(1, 35, 0)\n",
    "finished: Time = add_time(start, duration)\n",
    "\n",
    "print(finished)"
   ]
  },
  {
   "cell_type": "code",
   "execution_count": null,
   "metadata": {
    "slideshow": {
     "slide_type": "fragment"
    }
   },
   "outputs": [],
   "source": [
    "def increment(time: Time, seconds: int) -> None:\n",
    "    \"\"\" \n",
    "    Adds seconds to a Time object.\n",
    "    :param time: a Time object\n",
    "    :param seconds: number of seconds to be added\n",
    "    :returns: a Time object increased by seconds.\n",
    "    \"\"\"\n",
    "    seconds: int = time_to_int(time) + seconds\n",
    "    return int_to_time(seconds)\n",
    "\n",
    "\n",
    "start: Time = Time(20, 20, 30)\n",
    "duration: Time = 160\n",
    "finished: Time = increment(start, duration)\n",
    "\n",
    "print(finished)"
   ]
  },
  {
   "cell_type": "markdown",
   "metadata": {},
   "source": [
    "Notice that the new implementation of the `increment` function is a *pure function*.\n",
    "We are not directly modifying the `Time` object that we receive as paramaeter.\n",
    "Instead, we are creating a new `Time` object without touching the argument, and returning this new value."
   ]
  },
  {
   "cell_type": "markdown",
   "metadata": {
    "tags": []
   },
   "source": [
    "<div class=\"alert alert-success\">\n",
    "    <b>Do It Yourself!</b><br>\n",
    "    These time conversion functions allow us to develop also a <i>sub_time(t1 : Time, t2 : Time) -> Time</i> function, that subtracts two time intervals. Again, make sure you that your are not 'travelling back to the future', or end up with a negative time.\n",
    "</div>"
   ]
  },
  {
   "cell_type": "code",
   "execution_count": null,
   "metadata": {
    "jupyter": {
     "source_hidden": true
    },
    "slideshow": {
     "slide_type": "fragment"
    },
    "tags": []
   },
   "outputs": [],
   "source": [
    "# Remove this line and add your code here"
   ]
  },
  {
   "cell_type": "markdown",
   "metadata": {
    "slideshow": {
     "slide_type": "slide"
    }
   },
   "source": [
    "## 6. Invariants\n",
    "\n",
    "A `Time` object is well-formed if the values of `minute` and `second` are between 0 and 60\n",
    "(including 0 but not 60) and if the value of `hour` is between 0 and 24.\n",
    "Requirements like these are called **invariants** because they should always be true. \n",
    "To put it a different way, if they are not true, something has gone wrong.\n",
    "\n",
    "Writing code to check invariants can help detect errors and find their causes. \n",
    "The next cell contains the function `valid_time` that takes a `Time` object and returns `False` if it\n",
    "violates an **invariant**."
   ]
  },
  {
   "cell_type": "code",
   "execution_count": null,
   "metadata": {
    "slideshow": {
     "slide_type": "fragment"
    }
   },
   "outputs": [],
   "source": [
    "def valid_time(time: Time) -> bool:\n",
    "    \"\"\" \n",
    "    Checks whether we are dealing with a correct Time object. That is,\n",
    "    minutes and seconds are between [0, 60) and hours are between [0, 24).\n",
    "    :param time: Time object to be checked\n",
    "    :returns: `True` if the time is valid, `False` otherwise.\n",
    "    \"\"\"\n",
    "    valid = True\n",
    "    \n",
    "    if time.hour < 0 or time.minute < 0 or time.second < 0:\n",
    "        valid = False\n",
    "    if time.hour >= 24 or time.minute >= 60 or time.second >= 60:\n",
    "        valid = False\n",
    "        \n",
    "    return valid"
   ]
  },
  {
   "cell_type": "markdown",
   "metadata": {
    "slideshow": {
     "slide_type": "fragment"
    }
   },
   "source": [
    "At the beginning of each function you could check the arguments to make sure they are\n",
    "valid."
   ]
  },
  {
   "cell_type": "code",
   "execution_count": null,
   "metadata": {
    "slideshow": {
     "slide_type": "fragment"
    }
   },
   "outputs": [],
   "source": [
    "def add_time(t1: Time, t2: Time) -> Time:\n",
    "    \"\"\" \n",
    "    Returns a new Time object containing the sum of two Time objects.\n",
    "    :param time1: a Time object\n",
    "    :param time2: a Time object\n",
    "    :returns: a Time object containing the sum of two Time objects.\n",
    "    \"\"\"\n",
    "    if not valid_time(t1) or not valid_time(t2):\n",
    "        raise ValueError('Invalid Time object in add_time')\n",
    "        \n",
    "    seconds: int = time_to_int(t1) + time_to_int(t2)\n",
    "    return int_to_time(seconds)"
   ]
  },
  {
   "cell_type": "markdown",
   "metadata": {
    "slideshow": {
     "slide_type": "fragment"
    }
   },
   "source": [
    "Or you could use an **assert statement**, which checks a given invariant and raises an exception\n",
    "if it fails.\n",
    "This alternative is useful during the development process but not necessarily to inform your users about a mistake on the use of your program."
   ]
  },
  {
   "cell_type": "code",
   "execution_count": null,
   "metadata": {
    "slideshow": {
     "slide_type": "fragment"
    }
   },
   "outputs": [],
   "source": [
    "def add_time(t1: Time, t2: Time) -> Time:\n",
    "    \"\"\" \n",
    "    Returns a new Time object containing the sum of two Time objects.\n",
    "    :param time1: a Time object\n",
    "    :param time2: a Time object\n",
    "    :returns: a Time object containing the sum of two Time objects.\n",
    "    \"\"\"\n",
    "    assert valid_time(t1) and valid_time(t2), 'Invalid Time object in add_time'\n",
    "    \n",
    "    seconds: int = time_to_int(t1) + time_to_int(t2)\n",
    "    return int_to_time(seconds)"
   ]
  },
  {
   "cell_type": "markdown",
   "metadata": {},
   "source": [
    "---\n",
    "\n",
    "This Jupyter Notebook is based on Chapter 16 of the book Think Python."
   ]
  },
  {
   "cell_type": "markdown",
   "metadata": {},
   "source": [
    "---\n",
    "\n",
    "# (End of Notebook)\n",
    "\n",
    "&copy; 2022-2023 - **TU/e** - Eindhoven University of Technology"
   ]
  }
 ],
 "metadata": {
  "kernelspec": {
   "display_name": "Python 3 (ipykernel)",
   "language": "python",
   "name": "python3"
  },
  "language_info": {
   "codemirror_mode": {
    "name": "ipython",
    "version": 3
   },
   "file_extension": ".py",
   "mimetype": "text/x-python",
   "name": "python",
   "nbconvert_exporter": "python",
   "pygments_lexer": "ipython3",
   "version": "3.9.7"
  }
 },
 "nbformat": 4,
 "nbformat_minor": 4
}
