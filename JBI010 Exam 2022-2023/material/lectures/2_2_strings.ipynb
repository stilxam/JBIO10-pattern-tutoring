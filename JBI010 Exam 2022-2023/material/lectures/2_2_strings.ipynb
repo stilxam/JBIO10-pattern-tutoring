{
 "cells": [
  {
   "cell_type": "markdown",
   "metadata": {
    "slideshow": {
     "slide_type": "slide"
    }
   },
   "source": [
    "# Strings"
   ]
  },
  {
   "cell_type": "markdown",
   "metadata": {
    "slideshow": {
     "slide_type": "fragment"
    }
   },
   "source": [
    "_(c) 2022, Mark van den Brand and Lina Ochoa Venegas, Eindhoven University of Technology_"
   ]
  },
  {
   "cell_type": "markdown",
   "metadata": {},
   "source": [
    "## Table of Contents\n",
    "\n",
    "- [1. Introduction](#introduction)\n",
    "- [2. Strings](#strings)\n",
    "- [3. Indexing](#indexing)\n",
    "- [4. Length](#length)\n",
    "- [5. Traversal With a `for` Loop](#traversal)\n",
    "- [6. Slicing](#slicing)\n",
    "- [7. Strings Are Immutable](#immutable)\n",
    "- [8. Searching](#searching)\n",
    "- [9. Looping and Counting](#looping-counting)\n",
    "- [10. The `in` Operator](#in-operator)\n",
    "- [11. Comparison](#comparison)\n",
    "- [12. String Methods](#methods)\n",
    "- [13. Format Operator](#format-operator)\n",
    "- [14. F-strings](#f-strings)\n",
    "- [15. Reading Word Lists](#reading-words)\n",
    "- [16. Simple Examples](#simple-examples)\n",
    "- [17. Frequent String Related Errors](#errors)"
   ]
  },
  {
   "cell_type": "markdown",
   "metadata": {},
   "source": [
    "## 1. Introduction <a class=\"anchor\" id=\"introduction\"></a>\n",
    "\n",
    "We have already mentioned and worked with string values.\n",
    "In this chapter, we dive deeper into the string type and some of the main operations and expressions that can be built with such a type."
   ]
  },
  {
   "cell_type": "markdown",
   "metadata": {
    "slideshow": {
     "slide_type": "slide"
    }
   },
   "source": [
    "## 2. Strings <a class=\"anchor\" id=\"strings\"></a>\n",
    "\n",
    "We have seen and used some of the most relevant language constructs that Python offers.\n",
    "The next step in programming is how to represent data. \n",
    "\n",
    "We have seen so far a number of basic data types: integers (`int`), floats (`float`), and Booleans (`bool`).\n",
    "However, we will need more powerful data types to describe and manipulate data. \n",
    "For instance, if we want to calculate the average of a list of integers, the basic data types that we have covered so far are not sufficient.\n",
    "\n",
    "We will start with *strings*, which is a (non-basic) data type `str` in Python. \n",
    "We have already seen some examples that include variables and values of such type.\n",
    "Strings are interesting because they allow us to introduce a new language construct for iteration, the `for` loop, and a number of basic Python functions to manipulate strings.\n",
    "\n",
    "A string represents a **sequence** of characters.\n",
    "You can consider a *sequence* as a list of elements, we will see *lists* later on."
   ]
  },
  {
   "cell_type": "markdown",
   "metadata": {},
   "source": [
    "## 3. Indexing <a class=\"anchor\" id=\"indexing\"></a>\n",
    "\n",
    "One of the operations that we can perform on strings is selecting one of the characters, via *indexing*.\n",
    "Indexing looks as follows:\n",
    "\n",
    "```python\n",
    "string_variable_or_value[index_expression]\n",
    "```\n",
    "The first part will refer to a string variable or value (`string_variable_or_value`).\n",
    "The expression in square brackets is called an **index** (`index_expression`). \n",
    "This expression must yield an integer value.\n",
    "The index indicates which character in the sequence you want to extract (hence the name).\n",
    "Let us see an example."
   ]
  },
  {
   "cell_type": "code",
   "execution_count": null,
   "metadata": {
    "slideshow": {
     "slide_type": "fragment"
    }
   },
   "outputs": [],
   "source": [
    "bike: str = 'gazelle'\n",
    "letter: str = bike[1]\n",
    "letter"
   ]
  },
  {
   "cell_type": "markdown",
   "metadata": {
    "slideshow": {
     "slide_type": "fragment"
    }
   },
   "source": [
    "The first assignment statement assigns the value \"gazelle\" to the variable `bike`.\n",
    "The second statement selects character number at position `1` from the value stored in the `bike` variable, and assigns it to the variable `letter`. \n",
    "The index `1` does not yield the first letter of `gazelle`, but the second.\n",
    "This is because Python uses 0-based index.\n",
    "The first letter of a string is obtained by index `0`.\n",
    "\n",
    "Beware, the type-hint of `letter` is `str`, whereas you would expect `char`, which is not a basic data type in Python. \n",
    "In other programming languages individual characters have their own type, in some programming languages the type of an individual character is an integer."
   ]
  },
  {
   "cell_type": "code",
   "execution_count": null,
   "metadata": {
    "slideshow": {
     "slide_type": "fragment"
    }
   },
   "outputs": [],
   "source": [
    "letter: str = bike[0]\n",
    "letter"
   ]
  },
  {
   "cell_type": "markdown",
   "metadata": {
    "slideshow": {
     "slide_type": "fragment"
    }
   },
   "source": [
    "So `g` is the $0^{th}$ letter of `'gazelle'`, `a` is the $1^{st}$ letter, `z` is the $2^{th}$\n",
    "letter, and so on. \n",
    "\n",
    "The following table presents the index of each letter in the string `'gazelle'`.\n",
    "\n",
    "| 0 | 1 | 2 | 3 | 4 | 5 | 6 |\n",
    "|---|---|---|---|---|---|---|\n",
    "| g | a | z | e | l | l | e |"
   ]
  },
  {
   "cell_type": "markdown",
   "metadata": {},
   "source": [
    "As an index you can use an expression that contains variables and operators:"
   ]
  },
  {
   "cell_type": "code",
   "execution_count": null,
   "metadata": {
    "slideshow": {
     "slide_type": "fragment"
    }
   },
   "outputs": [],
   "source": [
    "i: int = 0\n",
    "letter: str = bike[i]\n",
    "print(letter)\n",
    "\n",
    "letter = bike[i+1]\n",
    "print(letter)\n",
    "\n",
    "letter = bike[i+1*2]\n",
    "print(letter)"
   ]
  },
  {
   "cell_type": "markdown",
   "metadata": {
    "slideshow": {
     "slide_type": "fragment"
    }
   },
   "source": [
    "The value of the index **must** be an integer."
   ]
  },
  {
   "cell_type": "code",
   "execution_count": null,
   "metadata": {
    "slideshow": {
     "slide_type": "fragment"
    }
   },
   "outputs": [],
   "source": [
    "letter: str = bike[1.5]"
   ]
  },
  {
   "cell_type": "markdown",
   "metadata": {
    "tags": []
   },
   "source": [
    "<div class=\"alert alert-success\">\n",
    "    <b>Do It Yourself!</b><br>\n",
    "    Assign the value 'Maurits Cornelis Escher' to the variable <i>artist</i>. Then, print the first letter of the first, middle and last name of the artist.\n",
    "</div>"
   ]
  },
  {
   "cell_type": "code",
   "execution_count": null,
   "metadata": {
    "tags": []
   },
   "outputs": [],
   "source": [
    "# Remove this line and add your code here"
   ]
  },
  {
   "cell_type": "markdown",
   "metadata": {
    "slideshow": {
     "slide_type": "slide"
    }
   },
   "source": [
    "## 4. Length <a class=\"anchor\" id=\"length\"></a>\n",
    "\n",
    "There are more operations that we can apply on a sequence, such as calculating the length of a sequence (or string).\n",
    "\n",
    "`len` is a built-in function to obtain the length of a sequence, and thus of a string."
   ]
  },
  {
   "cell_type": "code",
   "execution_count": null,
   "metadata": {
    "slideshow": {
     "slide_type": "fragment"
    }
   },
   "outputs": [],
   "source": [
    "len(bike)"
   ]
  },
  {
   "cell_type": "code",
   "execution_count": null,
   "metadata": {},
   "outputs": [],
   "source": [
    "len('gazelle')"
   ]
  },
  {
   "cell_type": "markdown",
   "metadata": {
    "slideshow": {
     "slide_type": "fragment"
    }
   },
   "source": [
    "Given the fact that the first letter is accessed via the index `0`, the last letter is accessed via `len - 1`."
   ]
  },
  {
   "cell_type": "code",
   "execution_count": null,
   "metadata": {
    "slideshow": {
     "slide_type": "fragment"
    }
   },
   "outputs": [],
   "source": [
    "length: int = len(bike)\n",
    "bike[length]"
   ]
  },
  {
   "cell_type": "code",
   "execution_count": null,
   "metadata": {
    "slideshow": {
     "slide_type": "fragment"
    }
   },
   "outputs": [],
   "source": [
    "bike[length - 1]"
   ]
  },
  {
   "cell_type": "markdown",
   "metadata": {},
   "source": [
    "<div class=\"alert alert-info\">\n",
    "    <b>Negative indices</b><br>\n",
    "    Python allows a concise way to access sequence (or string) elements \"from the back\" by using negative numbers as index. Try to find out the values of <code>bike[-1]</code>, <code>bike[-2]</code>, and so on.\n",
    "</div>\n"
   ]
  },
  {
   "cell_type": "markdown",
   "metadata": {
    "tags": []
   },
   "source": [
    "<div class=\"alert alert-success\">\n",
    "    <b>Do It Yourself!</b><br>\n",
    "    Make sure you have declared the variable <i>artist</i> and you have assigned it the value 'Maurits Cornelis Escher'. Then, print the penultimate (second last) and antepenultimate (third last) letters of the artist name.\n",
    "</div>"
   ]
  },
  {
   "cell_type": "code",
   "execution_count": null,
   "metadata": {
    "tags": []
   },
   "outputs": [],
   "source": [
    "# Remove this line and add your code here"
   ]
  },
  {
   "cell_type": "markdown",
   "metadata": {
    "slideshow": {
     "slide_type": "slide"
    }
   },
   "source": [
    "## 5. Traversal With a `for` Loop <a class=\"anchor\" id=\"traversal\"></a>\n",
    "\n",
    "Programs often involve processing a string by reading its characters one by one.\n",
    "Often they start at the beginning, select each character, do something to the selected character, and continue until the end of the string. \n",
    "This pattern of processing is called a **traversal** of a sequence (or string). \n",
    "\n",
    "One way to write a traversal is with a `while` loop. \n",
    "Note that we need an explicit *index* in order to access all elements of the sequence (or characters of the string).\n",
    "The next cell contains a correct implementation for iterating over a string with a `while` loop."
   ]
  },
  {
   "cell_type": "code",
   "execution_count": null,
   "metadata": {
    "slideshow": {
     "slide_type": "fragment"
    }
   },
   "outputs": [],
   "source": [
    "index: int = 0\n",
    "\n",
    "while index < len(bike):\n",
    "    letter = bike[index]\n",
    "    print(letter)\n",
    "    index += 1"
   ]
  },
  {
   "cell_type": "markdown",
   "metadata": {},
   "source": [
    "However, using an explicit index often introduces serious mistakes in programs. \n",
    "For example, programmers start at the wrong index (`1` instead of `0`) and terminate to early or to late (by using `<=` instead of `<`).\n",
    "\n",
    "So-called **out-of-bound** errors, or **off-by-one** errors are the root cause for serious security threats.\n",
    "Below you find code that contains multiple **out-of-bound** errors."
   ]
  },
  {
   "cell_type": "code",
   "execution_count": null,
   "metadata": {
    "scrolled": true
   },
   "outputs": [],
   "source": [
    "index: int = 1\n",
    "while index <= len(bike):\n",
    "    letter = bike[index]\n",
    "    print(letter)\n",
    "    index += 1"
   ]
  },
  {
   "cell_type": "markdown",
   "metadata": {
    "tags": []
   },
   "source": [
    "<div class=\"alert alert-success\">\n",
    "    <b>Do It Yourself!</b><br>\n",
    "    Make sure you have declared the variable <i>artist</i> and you have assigned it the value 'Maurits Cornelis Escher'. Then, only print the characters located in an even position. Use a <i>while</i> loop.\n",
    "</div>"
   ]
  },
  {
   "cell_type": "code",
   "execution_count": null,
   "metadata": {
    "tags": []
   },
   "outputs": [],
   "source": [
    "# Remove this line and add your code here"
   ]
  },
  {
   "cell_type": "markdown",
   "metadata": {
    "slideshow": {
     "slide_type": "fragment"
    }
   },
   "source": [
    "A better and more secure way of writing a traversal is using a `for` loop.\n",
    "A `for` loop implicitly handles the indexes of a sequence and gets each item within the sequence.\n",
    "Let us see an example in the cell below."
   ]
  },
  {
   "cell_type": "code",
   "execution_count": null,
   "metadata": {
    "slideshow": {
     "slide_type": "fragment"
    }
   },
   "outputs": [],
   "source": [
    "for letter in 'sparta':\n",
    "    print(letter)"
   ]
  },
  {
   "cell_type": "markdown",
   "metadata": {
    "slideshow": {
     "slide_type": "fragment"
    }
   },
   "source": [
    "Each time the loop is executed, the next character in the string is assigned to the variable `letter`. \n",
    "The loop continues until no characters are left.\n",
    "\n",
    "The following example shows how to use concatenation (string addition) and a `for` loop\n",
    "to generate a list of names in alphabetical order. "
   ]
  },
  {
   "cell_type": "code",
   "execution_count": null,
   "metadata": {
    "scrolled": true,
    "slideshow": {
     "slide_type": "fragment"
    }
   },
   "outputs": [],
   "source": [
    "prefixes: str = 'JKLMNOPQ'\n",
    "suffix: str = 'ack'\n",
    "\n",
    "for letter in prefixes:\n",
    "    print(letter + suffix)"
   ]
  },
  {
   "cell_type": "markdown",
   "metadata": {
    "tags": []
   },
   "source": [
    "<div class=\"alert alert-success\">\n",
    "    <b>Do It Yourself!</b><br>\n",
    "    There is a hidden text in the following cell. To find the hidden message you should print all characters in the variable <i>code</i> except for those that are equal to 'x', 'y', or 'z'. Use a <i>for</i> loop to solve this problem.\n",
    "</div>"
   ]
  },
  {
   "cell_type": "code",
   "execution_count": null,
   "metadata": {
    "tags": []
   },
   "outputs": [],
   "source": [
    "code = 'Esxzcxxhyezrzy wyzyaxsz zyxbxoxrxxn yinz zyLxexxeuzwaryxdexyzn'\n",
    "\n",
    "# Remove this line and add your code here"
   ]
  },
  {
   "cell_type": "markdown",
   "metadata": {
    "slideshow": {
     "slide_type": "slide"
    }
   },
   "source": [
    "## 6. Slicing <a class=\"anchor\" id=\"slicing\"></a>\n",
    "\n",
    "We are now able to select individual characters of a string and to iterate over all characters of a string, but sometimes we want just a part (segment) of a string.\n",
    "A segment of a string is called a **slice**.\n",
    "A slice is obtained by giving a range of indices.\n",
    "\n",
    "In the next cell, we show how we can obtain the segments `Data` and `Science` from the giving string."
   ]
  },
  {
   "cell_type": "code",
   "execution_count": null,
   "metadata": {
    "slideshow": {
     "slide_type": "fragment"
    }
   },
   "outputs": [],
   "source": [
    "ds_str: str = 'Data Science'\n",
    "\n",
    "# Compute and print the length of the string\n",
    "ln: int = len(ds_str)\n",
    "print(ln)\n",
    "\n",
    "# Slice the string\n",
    "data: str = ds_str[0:4]\n",
    "science: str = ds_str[5:ln]\n",
    "\n",
    "# Print the \"Data\" part\n",
    "print(data)\n",
    "print(len(data))\n",
    "\n",
    "# Print the \"Science\" part\n",
    "print(science)\n",
    "print(len(science))"
   ]
  },
  {
   "cell_type": "markdown",
   "metadata": {
    "slideshow": {
     "slide_type": "fragment"
    }
   },
   "source": [
    "The operator `[n:m]` returns the part of the string from the $n^{th}$ character to the $m^{th}$\n",
    "character, including the first but excluding the last. \n",
    "\n",
    "Notice that:\n",
    "- If you omit the first index (before the colon), the slice starts at the beginning of the string (`[:m]`).\n",
    "- If you omit the second index, the slice goes to the end of the string (`[n:]`).\n",
    "\n",
    "Beware, take care of the *start* and *end* indices of the string. \n",
    "This is a frequent source of errors."
   ]
  },
  {
   "cell_type": "code",
   "execution_count": null,
   "metadata": {
    "slideshow": {
     "slide_type": "fragment"
    }
   },
   "outputs": [],
   "source": [
    "ds_str: str = 'Data Science'\n",
    "\n",
    "data: str = ds_str[:4]\n",
    "science: str = ds_str[5:]\n",
    "\n",
    "print(data)\n",
    "print(science)"
   ]
  },
  {
   "cell_type": "markdown",
   "metadata": {
    "slideshow": {
     "slide_type": "fragment"
    }
   },
   "source": [
    "If the first index is greater than or equal to the second the result is an empty string, represented\n",
    "by two quotation marks:"
   ]
  },
  {
   "cell_type": "code",
   "execution_count": null,
   "metadata": {
    "slideshow": {
     "slide_type": "fragment"
    }
   },
   "outputs": [],
   "source": [
    "ds: str = 'Data Science'\n",
    "\n",
    "data: str = ds[4:4]\n",
    "data"
   ]
  },
  {
   "cell_type": "markdown",
   "metadata": {
    "tags": []
   },
   "source": [
    "<div class=\"alert alert-success\">\n",
    "    <b>Do It Yourself!</b><br>\n",
    "    Assign the string 'skateboard' to the variable <i>word</i>. Now, print the first and second half in independent lines by just slicing the string and using the <i>len</i> function. \n",
    "</div>"
   ]
  },
  {
   "cell_type": "code",
   "execution_count": null,
   "metadata": {
    "tags": []
   },
   "outputs": [],
   "source": [
    "# Remove this line and add your code here"
   ]
  },
  {
   "cell_type": "markdown",
   "metadata": {
    "slideshow": {
     "slide_type": "slide"
    }
   },
   "source": [
    "## 7. Strings are Immutable <a class=\"anchor\" id=\"immutable\"></a>\n",
    "\n",
    "What is meant by *immutable*? \n",
    "Immutable means that the string can not be changed, it is not possible to replace in an existing string a single character or a range of characters by another character or another slice, respectively.\n",
    "It also means that it is not possible to use the `[]` operator on the left hand side of an assignment."
   ]
  },
  {
   "cell_type": "code",
   "execution_count": null,
   "metadata": {
    "slideshow": {
     "slide_type": "fragment"
    }
   },
   "outputs": [],
   "source": [
    "greeting: str = 'Hello Data Scientist'\n",
    "greeting[0] = 'h'"
   ]
  },
  {
   "cell_type": "markdown",
   "metadata": {
    "slideshow": {
     "slide_type": "fragment"
    }
   },
   "source": [
    "If you want to change a string you *must* create a new string.\n",
    "\n",
    "In the cell below, we create a new string `new_greeting` by concatenating the letter `h` with the slice consisting of all characters of the original string except the first character.\n",
    "The original string is not *changed*."
   ]
  },
  {
   "cell_type": "code",
   "execution_count": null,
   "metadata": {
    "slideshow": {
     "slide_type": "fragment"
    }
   },
   "outputs": [],
   "source": [
    "print(greeting)\n",
    "new_greeting: str = 'h' + greeting[1:]\n",
    "print(new_greeting)"
   ]
  },
  {
   "cell_type": "markdown",
   "metadata": {
    "tags": []
   },
   "source": [
    "<div class=\"alert alert-success\">\n",
    "    <b>Do It Yourself!</b><br>\n",
    "    Assign the string 'break' to a variable. Replace the first letter by 'g' and the last one by 't'.\n",
    "</div>"
   ]
  },
  {
   "cell_type": "code",
   "execution_count": null,
   "metadata": {
    "tags": []
   },
   "outputs": [],
   "source": [
    "# Remove this line and add your code here"
   ]
  },
  {
   "cell_type": "markdown",
   "metadata": {
    "slideshow": {
     "slide_type": "slide"
    }
   },
   "source": [
    "## 8. Searching <a class=\"anchor\" id=\"searching\"></a>\n",
    "\n",
    "Finding a specific element in a long list can be boring, in principle you have to inspect all elements until you find the element you are looking for. \n",
    "\n",
    "The next cell shows a few lines of code that mimicks this searching for an element by means of looking for a specific letter in a word."
   ]
  },
  {
   "cell_type": "code",
   "execution_count": null,
   "metadata": {
    "slideshow": {
     "slide_type": "fragment"
    }
   },
   "outputs": [],
   "source": [
    "def find(word: str, letter: str) -> int:\n",
    "    \"\"\"\n",
    "    Finds at which position the letter appears first. If the letter does \n",
    "    not appear in the string -1 is returned.\n",
    "    :param word: base word\n",
    "    :param letter: letter to find\n",
    "    :returns: position of the letter within the word.\n",
    "    \"\"\"\n",
    "    index: int = 0\n",
    "    \n",
    "    while index < len(word):\n",
    "        if word[index] == letter:\n",
    "            return index\n",
    "        index += 1\n",
    "        \n",
    "    return -1\n",
    "\n",
    "find('data science', 'a')"
   ]
  },
  {
   "cell_type": "markdown",
   "metadata": {
    "slideshow": {
     "slide_type": "fragment"
    }
   },
   "source": [
    "The function `find` is in fact the inverse of the `[]` operator. \n",
    "Instead of taking an index and extracting the corresponding character, it takes a character and finds the index where that character appears. \n",
    "If the character is not found, the function returns `-1`.\n",
    "\n",
    "\n",
    "<div class=\"alert alert-info\">\n",
    "    <b>Break loop with a <code>return</code> statement</b><br>\n",
    "    This is the first example we have seen of a return statement inside a loop. \n",
    "    <br><br>\n",
    "    If <code>word[index] == letter</code>, the function breaks out of the loop and returns immediately.\n",
    "    If the character does not appear in the string, the program exits the loop normally and returns <code>-1</code>.\n",
    "    <br><br>\n",
    "    This pattern of computation —traversing a sequence and returning when we find what we\n",
    "are looking for— is called a <b>search</b>.\n",
    "</div>\n",
    "\n",
    "Is it possible to write this function in a different way?"
   ]
  },
  {
   "cell_type": "code",
   "execution_count": null,
   "metadata": {
    "slideshow": {
     "slide_type": "fragment"
    }
   },
   "outputs": [],
   "source": [
    "def find(word: str, letter: str) -> int:\n",
    "    \"\"\"\n",
    "    Finds at which position the letter appears first. If the letter does \n",
    "    not appear in the string -1 is returned.\n",
    "    :param word: base word\n",
    "    :param letter: letter to find\n",
    "    :returns: position of the letter within the word.\n",
    "    \"\"\"\n",
    "    index: int = 0\n",
    "    \n",
    "    for char in word:\n",
    "        if char == letter:\n",
    "            break\n",
    "        index += 1\n",
    "        \n",
    "    if index >= len(word):\n",
    "        return -1\n",
    "    else:\n",
    "        return index\n",
    "\n",
    "find('data science', 'z')"
   ]
  },
  {
   "cell_type": "markdown",
   "metadata": {},
   "source": [
    "Of course, we could have used `return index` instead of `break` if the character in the string matches the letter we were looking for."
   ]
  },
  {
   "cell_type": "markdown",
   "metadata": {
    "tags": []
   },
   "source": [
    "<div class=\"alert alert-success\">\n",
    "    <b>Do It Yourself!</b><br>\n",
    "    In the following cell there is information about the ticket of a concert. You want to extract the number of the ticket. Use the search pattern and previous string functions and operators to return the ticket reference.\n",
    "</div>"
   ]
  },
  {
   "cell_type": "code",
   "execution_count": null,
   "metadata": {
    "tags": []
   },
   "outputs": [],
   "source": [
    "info = 'Ticket reference: 9090873982'\n",
    "\n",
    "# Remove this line and add your code here"
   ]
  },
  {
   "cell_type": "markdown",
   "metadata": {
    "slideshow": {
     "slide_type": "slide"
    }
   },
   "source": [
    "## 9. Looping and Counting <a class=\"anchor\" id=\"looping-counting\"></a>\n",
    "\n",
    "The following program counts the number of times the letter `e` appears in a string."
   ]
  },
  {
   "cell_type": "code",
   "execution_count": null,
   "metadata": {
    "slideshow": {
     "slide_type": "fragment"
    }
   },
   "outputs": [],
   "source": [
    "word: str = 'gazelle'\n",
    "count: int = 0\n",
    "\n",
    "for letter in word:\n",
    "    if letter == 'e':\n",
    "        count += 1\n",
    "        \n",
    "print(count)"
   ]
  },
  {
   "cell_type": "markdown",
   "metadata": {
    "slideshow": {
     "slide_type": "fragment"
    }
   },
   "source": [
    "This program demonstrates another pattern of computation called a **counter**. \n",
    "\n",
    "The variable `count` is initialized to `0` and then incremented each time the letter is encountered. \n",
    "When the loop exits, count contains the result—that is, the total number of `e`’s in the word `gazelle`."
   ]
  },
  {
   "cell_type": "markdown",
   "metadata": {
    "tags": []
   },
   "source": [
    "<div class=\"alert alert-success\">\n",
    "    <b>Do It Yourself!</b><br>\n",
    "    Count the number of vowels in the word 'supercalifragilisticexpialidocious'.\n",
    "</div>"
   ]
  },
  {
   "cell_type": "code",
   "execution_count": null,
   "metadata": {
    "tags": []
   },
   "outputs": [],
   "source": [
    "# Remove this line and add your code here"
   ]
  },
  {
   "cell_type": "markdown",
   "metadata": {
    "slideshow": {
     "slide_type": "slide"
    }
   },
   "source": [
    "## 10. The `in` Operator <a class=\"anchor\" id=\"in-operator\"></a>\n",
    "\n",
    "The word `in` is a boolean operator that takes two strings and returns `True` if the first appears\n",
    "as a substring in the second."
   ]
  },
  {
   "cell_type": "code",
   "execution_count": null,
   "metadata": {
    "slideshow": {
     "slide_type": "fragment"
    }
   },
   "outputs": [],
   "source": [
    "'zel' in 'gazelle'"
   ]
  },
  {
   "cell_type": "code",
   "execution_count": null,
   "metadata": {
    "slideshow": {
     "slide_type": "fragment"
    }
   },
   "outputs": [],
   "source": [
    "'par' in 'gazelle'"
   ]
  },
  {
   "cell_type": "markdown",
   "metadata": {
    "slideshow": {
     "slide_type": "fragment"
    }
   },
   "source": [
    "For example, the following function prints all the letters from `word1` that also appear in `word2`."
   ]
  },
  {
   "cell_type": "code",
   "execution_count": null,
   "metadata": {
    "slideshow": {
     "slide_type": "fragment"
    }
   },
   "outputs": [],
   "source": [
    "def in_both(word1: str, word2: str) -> None:\n",
    "    \"\"\"\n",
    "    Prints the letters that appear in both words.\n",
    "    :param word1: first word\n",
    "    :param word2: second word\n",
    "    \"\"\"\n",
    "    for letter in word1:\n",
    "        if letter in word2:\n",
    "            print(letter)\n",
    "\n",
    "in_both('trek', 'gazelle')"
   ]
  },
  {
   "cell_type": "markdown",
   "metadata": {
    "tags": []
   },
   "source": [
    "<div class=\"alert alert-success\">\n",
    "    <b>Do It Yourself!</b><br>\n",
    "    Count the number of vowels in the word 'supercalifragilisticexpialidocious' but this time use the <i>in</i> operator.\n",
    "</div>"
   ]
  },
  {
   "cell_type": "code",
   "execution_count": null,
   "metadata": {
    "tags": []
   },
   "outputs": [],
   "source": [
    "# Remove this line and add your code here"
   ]
  },
  {
   "cell_type": "markdown",
   "metadata": {
    "slideshow": {
     "slide_type": "slide"
    }
   },
   "source": [
    "## 11. Comparison <a class=\"anchor\" id=\"comparison\"></a>\n",
    "\n",
    "An important operation on strings is checking whether strings are equal or not.\n",
    "If you have to search for a certain word in a text or dictionary you will need such an operation. \n",
    "\n",
    "Python offers a number of relational operators that work on strings, for instance to check whether two strings are equal."
   ]
  },
  {
   "cell_type": "code",
   "execution_count": null,
   "metadata": {
    "slideshow": {
     "slide_type": "fragment"
    }
   },
   "outputs": [],
   "source": [
    "word: str = input('> ')\n",
    "if word == 'apple':\n",
    "    print('Hmmm, an apple!')"
   ]
  },
  {
   "cell_type": "markdown",
   "metadata": {
    "slideshow": {
     "slide_type": "fragment"
    }
   },
   "source": [
    "Other relational operations are useful for putting words in **lexicographical order** (or *dictionary order*).\n",
    "In this type of order, digits precede letters, and uppercase letters precede lowercase characters. \n",
    "For instance, the word \"Pineapple\" comes before \"apple\" when using lexicographical order."
   ]
  },
  {
   "cell_type": "code",
   "execution_count": null,
   "metadata": {
    "slideshow": {
     "slide_type": "fragment"
    }
   },
   "outputs": [],
   "source": [
    "word: str = input('> ')\n",
    "if word < 'apple':\n",
    "    print('Your word, ' + word + ', comes before apple!')\n",
    "elif word > 'apple':\n",
    "    print('Your word, ' + word + ', comes after apple!')\n",
    "else:\n",
    "    print('Hmmm, an apple!')"
   ]
  },
  {
   "cell_type": "markdown",
   "metadata": {
    "slideshow": {
     "slide_type": "fragment"
    }
   },
   "source": [
    "<div class=\"alert alert-info\">\n",
    "    <b>Comparing uppercase and lowercase characters</b><br>\n",
    "    If you do not want to make any distinction between uppercase and lowercase characters, you can convert strings to a standard format, such as all lowercase, before doing string comparison.\n",
    "</div>"
   ]
  },
  {
   "cell_type": "markdown",
   "metadata": {
    "tags": []
   },
   "source": [
    "<div class=\"alert alert-success\">\n",
    "    <b>Do It Yourself!</b><br>\n",
    "    In the following cell you will find three words. Can you print them in alphabetical order? Use the comparison operator for that purpose.\n",
    "</div>"
   ]
  },
  {
   "cell_type": "code",
   "execution_count": null,
   "metadata": {
    "tags": []
   },
   "outputs": [],
   "source": [
    "word1: str = 'purple'\n",
    "word2: str = 'green'\n",
    "word3: str = 'red'\n",
    "\n",
    "# Remove this line and add your code here"
   ]
  },
  {
   "cell_type": "markdown",
   "metadata": {
    "slideshow": {
     "slide_type": "slide"
    }
   },
   "source": [
    "## 12. String Methods <a class=\"anchor\" id=\"methods\"></a>\n",
    "\n",
    "A string is an example of a Python **object**.\n",
    "For now, an object is equivalente to a value.\n",
    "However, it has more information than a normal value. \n",
    "An object contains *data* and a set of *methods*.\n",
    "**Methods** are functions that are built into the object. \n",
    "\n",
    "Contrary to normal function, methods have a slightly different syntax.\n",
    "The Python function `dir` lists all the methods available for an object. \n",
    "Let us see the methods that an object of type *string* has."
   ]
  },
  {
   "cell_type": "code",
   "execution_count": null,
   "metadata": {},
   "outputs": [],
   "source": [
    "text: str = 'Data Science'\n",
    "dir(text)"
   ]
  },
  {
   "cell_type": "markdown",
   "metadata": {},
   "source": [
    "As you can see, Python provides a whole collection of useful methods on strings.\n",
    "\n",
    "Calling a method is similar to calling a function, the only difference is that you place first the name of the variable and then the name of the method separated by a dot. Something like `variable.method()`.\n",
    "\n",
    "For instance, instead of the function syntax `upper(word)`, we use the method syntax `word.upper()`."
   ]
  },
  {
   "cell_type": "code",
   "execution_count": null,
   "metadata": {
    "slideshow": {
     "slide_type": "fragment"
    }
   },
   "outputs": [],
   "source": [
    "word: str = 'gazelle'\n",
    "new_word: str = word.upper()\n",
    "new_word"
   ]
  },
  {
   "cell_type": "markdown",
   "metadata": {
    "slideshow": {
     "slide_type": "fragment"
    }
   },
   "source": [
    "This form of dot notation specifies the name of the method (`upper`), and the name of the\n",
    "string to apply the method to (`word`). \n",
    "\n",
    "The empty parentheses indicate that this method takes no arguments.\n",
    "\n",
    "A method call is called an **invocation**. \n",
    "In this case, we would say that we are invoking the method `upper` on `word`.\n",
    "\n",
    "As it turns out, there is a string method named `find` that is remarkably similar to the\n",
    "function we wrote."
   ]
  },
  {
   "cell_type": "code",
   "execution_count": null,
   "metadata": {
    "slideshow": {
     "slide_type": "fragment"
    }
   },
   "outputs": [],
   "source": [
    "word: str = 'gazelle'\n",
    "index: int = word.find('z')\n",
    "index"
   ]
  },
  {
   "cell_type": "markdown",
   "metadata": {
    "slideshow": {
     "slide_type": "fragment"
    }
   },
   "source": [
    "Actually, the `find` method is more general than our function; it can find substrings, not just\n",
    "characters.\n",
    "Furthermore, the method can also be directly invoked on a string **object**."
   ]
  },
  {
   "cell_type": "code",
   "execution_count": null,
   "metadata": {
    "slideshow": {
     "slide_type": "fragment"
    }
   },
   "outputs": [],
   "source": [
    "index: int = 'sparta'.find('par')\n",
    "index"
   ]
  },
  {
   "cell_type": "markdown",
   "metadata": {
    "slideshow": {
     "slide_type": "fragment"
    }
   },
   "source": [
    "The `find` method can take 1 or 2 **optional arguments**.\n",
    "- The *first optional argument* is the *index* where the search in the string object should **start** (inclusive).\n",
    "- The *second optional argument* is the *index* where the search in the string object should **stop** (exclusive)."
   ]
  },
  {
   "cell_type": "code",
   "execution_count": null,
   "metadata": {
    "slideshow": {
     "slide_type": "fragment"
    }
   },
   "outputs": [],
   "source": [
    "name: str = 'bob'\n",
    "name.find('b', 1, 2)"
   ]
  },
  {
   "cell_type": "markdown",
   "metadata": {
    "slideshow": {
     "slide_type": "fragment"
    }
   },
   "source": [
    "This search fails because `b` does not appear in the index range from `1` to `2`, not including `2`.\n",
    "\n",
    "Searching up to, but not including, the second index makes `find` consistent with the slice operator."
   ]
  },
  {
   "cell_type": "code",
   "execution_count": null,
   "metadata": {
    "slideshow": {
     "slide_type": "fragment"
    }
   },
   "outputs": [],
   "source": [
    "name[1:2].find('b')"
   ]
  },
  {
   "cell_type": "markdown",
   "metadata": {},
   "source": [
    "## 13. Format Operator <a class=\"anchor\" id=\"format-operator\"></a>\n",
    "\n",
    "With the **format operator** `%` we can build a string by replacing parts of it with data stored in variables.\n",
    "Remember that when `%` is used with integers it is known as the modulus operator. When playing around with strings we call it the format operator.\n",
    "\n",
    "The first operand should always be a string containing *format sequences*. \n",
    "The second argument is one or more variables. \n",
    "If you have more than one variable they should be stored in a tuple (we will talk about this data type later).\n",
    "\n",
    "A format sequence are markers such as `'%d'` to format an integer, `'%g'` to format floats, and `'%s'` to format strings.\n",
    "\n",
    "| Formating type | Description | Output |\n",
    "|:--------------:|:------------|:-------:|\n",
    "| `%e`  | Scientific format.     | `5.000000e+00` |\n",
    "| `%s`  | Text or string value.  | `this is text` |\n",
    "| `%d`  | Integer value.         | `456` |\n",
    "| `%f`  | Floating-point number. | `3.141516` |"
   ]
  },
  {
   "cell_type": "code",
   "execution_count": null,
   "metadata": {},
   "outputs": [],
   "source": [
    "'Format %f,' % 45.6"
   ]
  },
  {
   "cell_type": "code",
   "execution_count": null,
   "metadata": {},
   "outputs": [],
   "source": [
    "days: int = 365\n",
    "'A year has %d days' % days"
   ]
  },
  {
   "cell_type": "code",
   "execution_count": null,
   "metadata": {},
   "outputs": [],
   "source": [
    "who: str = 'Tom'\n",
    "budget: float = 1.99999999\n",
    "days: int = 365\n",
    "\n",
    "'%s says that he is allowed to spend %g euros every single day of the %d days of the year.' % (who, budget, days)"
   ]
  },
  {
   "cell_type": "markdown",
   "metadata": {},
   "source": [
    "You can get an error if your don't write all needed elements to format the string."
   ]
  },
  {
   "cell_type": "code",
   "execution_count": null,
   "metadata": {},
   "outputs": [],
   "source": [
    "day: str = 'Monday'\n",
    "hour: int = 5\n",
    "place: str = 'the park'\n",
    "\n",
    "'Se you on %s at %d in %s' % (day, hour)"
   ]
  },
  {
   "cell_type": "markdown",
   "metadata": {},
   "source": [
    "Or when you use a wrong format sequence."
   ]
  },
  {
   "cell_type": "code",
   "execution_count": null,
   "metadata": {},
   "outputs": [],
   "source": [
    "day: str = 'Monday'\n",
    "hour: int = 5\n",
    "place: str = 'the park'\n",
    "\n",
    "'Se you on %d at %d in %s' % (day, hour, place)"
   ]
  },
  {
   "cell_type": "markdown",
   "metadata": {
    "tags": []
   },
   "source": [
    "<div class=\"alert alert-success\">\n",
    "    <b>Do It Yourself!</b><br>\n",
    "    Create three variables: the first one will contain your name, the second one your age, and the third one your passion. Print a string that says 'My name is <i>name</i>. I am <i>age</i> years old. And my passion is <i>passion</i>.' Use the format operator to create this string.\n",
    "</div>"
   ]
  },
  {
   "cell_type": "code",
   "execution_count": null,
   "metadata": {
    "tags": []
   },
   "outputs": [],
   "source": [
    "# Remove this line and add your code here"
   ]
  },
  {
   "cell_type": "markdown",
   "metadata": {},
   "source": [
    "<div class=\"alert alert-info\">\n",
    "    <b>More information about the format operator</b><br>\n",
    "    For more information on the format operator, \n",
    "    see <a href=\"https://docs.python.org/3/library/stdtypes.html#printf-style-string-formatting\"><b>printf-style String Formatting</b></a>. \n",
    "</div>\n",
    "\n",
    "<div class=\"alert alert-info\">\n",
    "    <b><code>format</code> method</b><br>\n",
    "    A more powerful alternative is\n",
    "the string format method, which you can read about at <a href=\"https://docs.python.org/3/library/stdtypes.html#str.format\"><b><code>str.format()</code></b></a>. \n",
    "</div>"
   ]
  },
  {
   "cell_type": "markdown",
   "metadata": {},
   "source": [
    "## 14. F-strings <a class=\"anchor\" id=\"f-strings\"></a>\n",
    "\n",
    "Another elegant way of formatting and creating string is via the **f-strings** or *literal string interpolation*.\n",
    "F-strings are called this way because of the preceding `f` letter.\n",
    "This language construct provides a convenient way of embedding expressions within a string.\n",
    "\n",
    "They are built as follows:\n",
    "```python\n",
    "var1 = 'value1'\n",
    "var2 = 'value2'\n",
    "...\n",
    "\n",
    "f'{var1 + 3} some text here {var2 * 2}'\n",
    "```\n",
    "\n",
    "Notice that the letter `f` is placed before the quotes are opened.\n",
    "Then, within the string, expressions are placed within curly braces `{}`.\n",
    "The expressions are eveluated during runtime, and the string is built.\n",
    "The process of evaluating a string literal containing one or more placeholders that yield a value is known as **string interpolation**.\n",
    "\n",
    "Let us rewrite the examples we introduced before with f-strings."
   ]
  },
  {
   "cell_type": "code",
   "execution_count": null,
   "metadata": {},
   "outputs": [],
   "source": [
    "f'Format {45.6}'"
   ]
  },
  {
   "cell_type": "code",
   "execution_count": null,
   "metadata": {},
   "outputs": [],
   "source": [
    "days: int = 365\n",
    "f'A year has {days} days'"
   ]
  },
  {
   "cell_type": "code",
   "execution_count": null,
   "metadata": {},
   "outputs": [],
   "source": [
    "who: str = 'Tom'\n",
    "budget: float = 1.99999999\n",
    "days: int = 365\n",
    "\n",
    "f'{who} says that he is allowed to spend {budget:g} euros every single day of the {days} days of the year.'"
   ]
  },
  {
   "cell_type": "markdown",
   "metadata": {
    "tags": []
   },
   "source": [
    "<div class=\"alert alert-success\">\n",
    "    <b>Do It Yourself!</b><br>\n",
    "    Create three variables: the first one will contain your name, the second one your age, and the third one your passion. Print a string that says 'My name is <i>name</i>. I am <i>age</i> years old. And my passion is <i>passion</i>.' Use f-strings to create this string.\n",
    "</div>"
   ]
  },
  {
   "cell_type": "code",
   "execution_count": null,
   "metadata": {
    "tags": []
   },
   "outputs": [],
   "source": [
    "# Remove this line and add your code here"
   ]
  },
  {
   "cell_type": "markdown",
   "metadata": {
    "slideshow": {
     "slide_type": "slide"
    }
   },
   "source": [
    "## 15. Reading Word Lists <a class=\"anchor\" id=\"reading-words\"></a>\n",
    "\n",
    "In one of the next notebooks, file manipulation will be discussed, however we need now to have a list of words.\n",
    "\n",
    "The file `words.txt` is in plain text, so you can open it with a text editor, but you can also read it from Python. \n",
    "It is located within the `assets` folder.\n",
    "Ensure you have this folder in the right place within your file system.\n",
    "\n",
    "The built-in function `open` takes the name of the file as a parameter and returns a\n",
    "file **object** you can use to read the content of the file."
   ]
  },
  {
   "cell_type": "code",
   "execution_count": null,
   "metadata": {
    "slideshow": {
     "slide_type": "fragment"
    }
   },
   "outputs": [],
   "source": [
    "file = open('assets/words.txt')"
   ]
  },
  {
   "cell_type": "markdown",
   "metadata": {
    "slideshow": {
     "slide_type": "fragment"
    }
   },
   "source": [
    "The `file` object provides several methods for reading, including **readline**, which reads characters from the `file` until it gets to a newline and returns the result as a string."
   ]
  },
  {
   "cell_type": "code",
   "execution_count": null,
   "metadata": {
    "slideshow": {
     "slide_type": "fragment"
    }
   },
   "outputs": [],
   "source": [
    "file.readline()"
   ]
  },
  {
   "cell_type": "markdown",
   "metadata": {
    "slideshow": {
     "slide_type": "fragment"
    }
   },
   "source": [
    "The character `\\n` represents the whitespace character `newline`, which separates a word from the next in our `words.txt` file.\n",
    "The `file` object keeps track of where it is in the file, so if you call `readline` again, you get the next word."
   ]
  },
  {
   "cell_type": "code",
   "execution_count": null,
   "metadata": {
    "slideshow": {
     "slide_type": "fragment"
    }
   },
   "outputs": [],
   "source": [
    "file.readline()"
   ]
  },
  {
   "cell_type": "markdown",
   "metadata": {
    "slideshow": {
     "slide_type": "fragment"
    }
   },
   "source": [
    "The fact that every word that we read via `readline` is terminated by a whitespace might be inconvenient. \n",
    "We can get rid of these whitespace characters with the string method `strip`."
   ]
  },
  {
   "cell_type": "code",
   "execution_count": null,
   "metadata": {
    "slideshow": {
     "slide_type": "fragment"
    }
   },
   "outputs": [],
   "source": [
    "line: str = file.readline()\n",
    "word: str = line.strip()\n",
    "word"
   ]
  },
  {
   "cell_type": "markdown",
   "metadata": {
    "slideshow": {
     "slide_type": "fragment"
    }
   },
   "source": [
    "You can also use a file object as part of a `for` loop. \n",
    "Here, the file object acts as if it is a list of lines.\n",
    "\n",
    "The following program reads `words.txt` and prints each word, one per line."
   ]
  },
  {
   "cell_type": "code",
   "execution_count": null,
   "metadata": {
    "slideshow": {
     "slide_type": "fragment"
    }
   },
   "outputs": [],
   "source": [
    "file = open('assets/words.txt')\n",
    "for line in file:\n",
    "    word: str = line.strip()\n",
    "    print(word)"
   ]
  },
  {
   "cell_type": "markdown",
   "metadata": {
    "slideshow": {
     "slide_type": "slide"
    }
   },
   "source": [
    "## 16. Simple Examples <a class=\"anchor\" id=\"simple-examples\"></a>\n",
    "\n",
    "We will show a number of simple examples where we manipulate strings.\n",
    "\n",
    "### Words with more than 20 characters\n",
    "The first program prints all words with a length greater than 20.\n",
    "A straightforward solution is to use a `for` loop to iterate over the list of words\n",
    "First, we need to read the file with words.\n",
    "\n",
    "In the body of the `for` loop there is a conditional checking for the length of the words, after stripping the whitespace."
   ]
  },
  {
   "cell_type": "code",
   "execution_count": null,
   "metadata": {
    "slideshow": {
     "slide_type": "fragment"
    }
   },
   "outputs": [],
   "source": [
    "file = open('assets/words.txt')\n",
    "\n",
    "for line in file:\n",
    "    word: str = line.strip()\n",
    "    if len(word) > 20:\n",
    "        print(word)"
   ]
  },
  {
   "cell_type": "markdown",
   "metadata": {
    "slideshow": {
     "slide_type": "fragment"
    }
   },
   "source": [
    "### Number of words without an \"e\"\n",
    "\n",
    "The second program counts the number of words without an `'e'` character.\n",
    "Again we use a `for` loop, but now we need to keep a counter for counting the number of words without an `'e'` letter."
   ]
  },
  {
   "cell_type": "code",
   "execution_count": null,
   "metadata": {
    "slideshow": {
     "slide_type": "fragment"
    }
   },
   "outputs": [],
   "source": [
    "file = open('assets/words.txt')\n",
    "no_e_count: int = 0\n",
    "\n",
    "for word in file:\n",
    "    if 'e' not in word:\n",
    "        no_e_count += 1\n",
    "\n",
    "print(no_e_count)"
   ]
  },
  {
   "cell_type": "markdown",
   "metadata": {
    "slideshow": {
     "slide_type": "fragment"
    }
   },
   "source": [
    "### Percentage of words without an \"e\" \n",
    "The third program is variation of the second one.\n",
    "Now, we want to compute the percentage of words without an `'e'` character.\n",
    "For that, we will need the total number of words without an `'e'`, and also the *total* number of words in the file.\n",
    "\n",
    "We could introduce a separate loop for counting the total number of words, but we are already iterating over all words with the `for` loop.\n",
    "So there is no need for the extra loop.\n",
    "However, we do need to keep a counter for counting the number of words with an `'e'` letter and a counter for counting all words."
   ]
  },
  {
   "cell_type": "code",
   "execution_count": null,
   "metadata": {
    "slideshow": {
     "slide_type": "fragment"
    }
   },
   "outputs": [],
   "source": [
    "file = open('assets/words.txt')\n",
    "\n",
    "count: int = 0\n",
    "no_e_count: int = 0\n",
    "\n",
    "for word in file:\n",
    "    count += 1\n",
    "    if 'e' not in word:\n",
    "        no_e_count += 1\n",
    "\n",
    "print(f'Total number of words: {count}')\n",
    "print(f'Words without an \"e\": {no_e_count}')\n",
    "print(f'Percentage is: {int((no_e_count / count) * 100)}')"
   ]
  },
  {
   "cell_type": "markdown",
   "metadata": {},
   "source": [
    "### Forbidden letters\n",
    "The fourth example checks whether forbidden letters are used in a word."
   ]
  },
  {
   "cell_type": "code",
   "execution_count": null,
   "metadata": {},
   "outputs": [],
   "source": [
    "def avoids(word: str, forbidden: str) -> bool:\n",
    "    \"\"\"\n",
    "    Checks whether the forbidden letters do not appear in the word.\n",
    "    :param word: target word\n",
    "    :param forbidden: forbidden letters\n",
    "    :returns: `True` if the word does not have forbidden letters, \n",
    "        `False` otherwise. \n",
    "    \"\"\"\n",
    "    for letter in forbidden:\n",
    "        if letter in word:\n",
    "            return False\n",
    "    return True\n",
    "\n",
    "avoids('foo', 'abcf')"
   ]
  },
  {
   "cell_type": "code",
   "execution_count": null,
   "metadata": {},
   "outputs": [],
   "source": [
    "forbidden_letters = input('> ')\n",
    "file = open('assets/words.txt')\n",
    "\n",
    "count = 0\n",
    "for word in file:\n",
    "    if avoids(word, forbidden_letters):\n",
    "        count += 1\n",
    "\n",
    "print(f'Number of words avoiding forbidden letters: {count}')"
   ]
  },
  {
   "cell_type": "code",
   "execution_count": null,
   "metadata": {},
   "outputs": [],
   "source": [
    "def uses_only(word: str, only: str) -> bool:\n",
    "    \"\"\"\n",
    "    Checks whether all the letters in the word appear in the allowed\n",
    "    letters.\n",
    "    :param word: target word\n",
    "    :param only: allowed letters\n",
    "    :returns: `True` if the word only contains allowed letters, \n",
    "        `False` otherwise.\n",
    "    \"\"\"\n",
    "    for letter in word:\n",
    "        if letter not in only:\n",
    "            return False\n",
    "    return True\n",
    "\n",
    "uses_only('foo', 'fol')"
   ]
  },
  {
   "cell_type": "markdown",
   "metadata": {},
   "source": [
    "## 17. Frequent String Related Errors <a class=\"anchor\" id=\"errors\"></a>\n",
    "\n",
    "One of the most frequently occurring and most expensive errors are the **off-by-one** errors.\n",
    "When traversing a sequence (string) it turns out to be very hard to get the indices right.\n",
    "\n",
    "Consider the following function that tests whether one word is the reverse of the other.\n",
    "So, `stop` and `pots` are possible candidates.\n",
    "We are going to use a loop in combination with indices.\n",
    "\n",
    "\n",
    "<div class=\"alert alert-info\">\n",
    "    <b>Recursive solution</b><br>\n",
    "    A recursive solution is more <i>robust</i> in this case. We will explore recursive functions later in the book.\n",
    "</div>\n"
   ]
  },
  {
   "cell_type": "code",
   "execution_count": null,
   "metadata": {
    "slideshow": {
     "slide_type": "fragment"
    }
   },
   "outputs": [],
   "source": [
    "def is_reverse(word1: str, word2:str) -> bool:\n",
    "    \"\"\"\n",
    "    Checks whether the first word is a reverse of the second one.\n",
    "    :param word1: first word\n",
    "    :param word2: second word\n",
    "    :returns: `True` if the first word is a reverse of the second \n",
    "        word, `False` otherwise.\n",
    "    \"\"\"\n",
    "    if len(word1) != len(word2):\n",
    "        return False\n",
    "    \n",
    "    i: int = 0\n",
    "    j: int = len(word2)\n",
    "    \n",
    "    while (j > 0):\n",
    "        if word1[i] != word2[j]:\n",
    "            return False\n",
    "        i += 1\n",
    "        j -= 1\n",
    "        \n",
    "    return True"
   ]
  },
  {
   "cell_type": "markdown",
   "metadata": {
    "slideshow": {
     "slide_type": "fragment"
    }
   },
   "source": [
    "First we check both words have the same length, if not, then the words cannot be the reverse of each other.\n",
    "\n",
    "Next we iterate over the both words, `word1` from the first character to the end, and `word2` starting for the end of the word to the beginning. \n",
    "\n",
    "We check per character whether they appear in both words."
   ]
  },
  {
   "cell_type": "code",
   "execution_count": null,
   "metadata": {
    "slideshow": {
     "slide_type": "fragment"
    }
   },
   "outputs": [],
   "source": [
    "is_reverse('pots', 'stop')"
   ]
  },
  {
   "cell_type": "markdown",
   "metadata": {
    "slideshow": {
     "slide_type": "fragment"
    }
   },
   "source": [
    "We get an `IndexError`.\n",
    "Adding a `print` statement when we enter the loop to see the values of `i` and `j` gives insight in what we did wrong. "
   ]
  },
  {
   "cell_type": "code",
   "execution_count": null,
   "metadata": {
    "slideshow": {
     "slide_type": "fragment"
    }
   },
   "outputs": [],
   "source": [
    "def is_reverse(word1: str, word2 :str) -> bool:\n",
    "    \"\"\"\n",
    "    Checks whether the first word is a reverse of the second one.\n",
    "    :param word1: first word\n",
    "    :param word2: second word\n",
    "    :returns: `True` if the first word is a reverse of the second \n",
    "        word, `False` otherwise.\n",
    "    \"\"\"\n",
    "    if len(word1) != len(word2):\n",
    "        return False\n",
    "    \n",
    "    i = 0\n",
    "    j = len(word2)\n",
    "    \n",
    "    while (j > 0):\n",
    "        print(i, j)\n",
    "        \n",
    "        if word1[i] != word2[j]:\n",
    "            return False\n",
    "        \n",
    "        i += 1\n",
    "        j -= 1\n",
    "        \n",
    "    return True\n",
    "\n",
    "is_reverse('stop', 'pots')"
   ]
  },
  {
   "cell_type": "markdown",
   "metadata": {
    "slideshow": {
     "slide_type": "fragment"
    }
   },
   "source": [
    "We did not initialized the variable `j` in a correct way. "
   ]
  },
  {
   "cell_type": "code",
   "execution_count": null,
   "metadata": {
    "slideshow": {
     "slide_type": "fragment"
    }
   },
   "outputs": [],
   "source": [
    "def is_reverse(word1: str, word2: str) -> bool:\n",
    "    \"\"\"\n",
    "    Checks whether the first word is a reverse of the second one.\n",
    "    :param word1: first word\n",
    "    :param word2: second word\n",
    "    :returns: `True` if the first word is a reverse of the second \n",
    "        word, `False` otherwise.\n",
    "    \"\"\"\n",
    "    if len(word1) != len(word2):\n",
    "        return False\n",
    "    \n",
    "    i = 0\n",
    "    j = len(word2) - 1\n",
    "    \n",
    "    while (j >= 0):\n",
    "        print(i, j)\n",
    "        \n",
    "        if word1[i] != word2[j]:\n",
    "            return False\n",
    "        \n",
    "        i += 1\n",
    "        j -= 1\n",
    "        \n",
    "    return True\n",
    "\n",
    "is_reverse('stop', 'pots')"
   ]
  },
  {
   "cell_type": "code",
   "execution_count": null,
   "metadata": {
    "slideshow": {
     "slide_type": "fragment"
    }
   },
   "outputs": [],
   "source": [
    "is_reverse('stop', 'lots')"
   ]
  },
  {
   "cell_type": "markdown",
   "metadata": {
    "slideshow": {
     "slide_type": "fragment"
    }
   },
   "source": [
    "Is the `is_reverse` function now correct?"
   ]
  },
  {
   "cell_type": "markdown",
   "metadata": {},
   "source": [
    "---\n",
    "\n",
    "This Jupyter Notebook is based on Chapter 6 of the book Python for Everybody and Chapter 8 of the book Think Python."
   ]
  },
  {
   "cell_type": "markdown",
   "metadata": {},
   "source": [
    "---\n",
    "\n",
    "# (End of Notebook)\n",
    "\n",
    "&copy; 2022-2023 - **TU/e** - Eindhoven University of Technology"
   ]
  }
 ],
 "metadata": {
  "kernelspec": {
   "display_name": "Python 3.9.5 ('base')",
   "language": "python",
   "name": "python3"
  },
  "language_info": {
   "codemirror_mode": {
    "name": "ipython",
    "version": 3
   },
   "file_extension": ".py",
   "mimetype": "text/x-python",
   "name": "python",
   "nbconvert_exporter": "python",
   "pygments_lexer": "ipython3",
   "version": "3.9.5"
  },
  "vscode": {
   "interpreter": {
    "hash": "3aea9d04d643a3dad58bd6e15bcfdd921ab432a7c2b9a15d89f108cc0c05ed72"
   }
  }
 },
 "nbformat": 4,
 "nbformat_minor": 4
}
