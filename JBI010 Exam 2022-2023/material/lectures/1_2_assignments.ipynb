{
 "cells": [
  {
   "cell_type": "markdown",
   "metadata": {
    "slideshow": {
     "slide_type": "slide"
    }
   },
   "source": [
    "# Variables, Expressions, and Assignments\n",
    "\n",
    "This Jupyter Notebook is based on Chapter 2 of the books Python for Everybody and Think Python; and sections 5.1, 7.1, 7.2, and 5.12 of the book Think Python."
   ]
  },
  {
   "cell_type": "markdown",
   "metadata": {
    "slideshow": {
     "slide_type": "fragment"
    }
   },
   "source": [
    "_(c) 2022, Mark van den Brand and Lina Ochoa Venegas, Eindhoven University of Technology_"
   ]
  },
  {
   "cell_type": "markdown",
   "metadata": {
    "tags": []
   },
   "source": [
    "## Table of Contents\n",
    "\n",
    "* [1. Introduction](#introduction)\n",
    "* [2. Values and Types](#values-types)\n",
    "* [3. Expressions and Statements](#expressions-statements)\n",
    "* [4. Assignment Statements](#assignments)\n",
    "* [5. Names and Keywords](#names-keywords)\n",
    "* [6. Reassignments](#reassignments)\n",
    "* [7. Updating Variables](#update)\n",
    "* [8. Order of Operations](#order-operations)\n",
    "* [9. Floor Division and Modulus Operators](#floor-modulus)\n",
    "* [10. String Operations](#string-operations)\n",
    "* [11. Asking the User for Input](#input)\n",
    "* [12. Script Mode](#script)"
   ]
  },
  {
   "cell_type": "markdown",
   "metadata": {},
   "source": [
    "## 1. Introduction <a class=\"anchor\" id=\"introduction\"></a>\n",
    "\n",
    "In this notebook, we introduce some of the main building blocks needed to create programs–that is, variables, expressions, and assignments.\n",
    "Programming related *variables* can be intepret in the same way that we interpret mathematical variables, as elements that store values that can later be changed.\n",
    "Usually, variables and values are used within the so-called expressions.\n",
    "Once again, just as in mathematics, an *expression* is a construct of values and variables connected with operators that result in a new value.\n",
    "Lastly, an *assignment* is a language construct know as an *statement* that assign a value (either as a constant or expression) to a variable.\n",
    "The rest of this notebook will dive into the main concepts that we need to fully understand these three language constructs."
   ]
  },
  {
   "cell_type": "markdown",
   "metadata": {},
   "source": [
    "## 2. Values and Types <a class=\"anchor\" id=\"values-types\"></a>\n",
    "\n",
    "A **value** is the basic unit used in a program. It may be, for instance, a number respresenting temperature. It may be a string representing a word. \n",
    "Some values are 42, 42.0, and 'Hello, Data Scientists!'.\n",
    "\n",
    "Each value has its own **type**: 42 is an integer (`int` in Python), 42.0 is a floating-point number (`float` in Python), and 'Hello, Data Scientists!' is a string (`str` in Python).\n",
    "\n",
    "The Python interpreter can tell you the type of a value: \n",
    "the function `type` takes a value as argument and returns its corresponding type."
   ]
  },
  {
   "cell_type": "code",
   "execution_count": null,
   "metadata": {},
   "outputs": [],
   "source": [
    "type(42)"
   ]
  },
  {
   "cell_type": "code",
   "execution_count": null,
   "metadata": {},
   "outputs": [],
   "source": [
    "type(42.0)"
   ]
  },
  {
   "cell_type": "code",
   "execution_count": null,
   "metadata": {},
   "outputs": [],
   "source": [
    "type('Hello Data Scientists!')"
   ]
  },
  {
   "cell_type": "markdown",
   "metadata": {},
   "source": [
    "Observe the difference between `type(42)` and `type('42')`!"
   ]
  },
  {
   "cell_type": "code",
   "execution_count": null,
   "metadata": {},
   "outputs": [],
   "source": [
    "type('42')"
   ]
  },
  {
   "cell_type": "markdown",
   "metadata": {
    "slideshow": {
     "slide_type": "slide"
    }
   },
   "source": [
    "## 3. Expressions and Statements <a class=\"anchor\" id=\"expressions-statements\"></a>\n",
    "\n",
    "On the one hand, an **expression** is a combination of values, variables, and operators. \n",
    "\n",
    "A value all by itself is considered an expression, and so is a variable."
   ]
  },
  {
   "cell_type": "code",
   "execution_count": null,
   "metadata": {
    "slideshow": {
     "slide_type": "fragment"
    }
   },
   "outputs": [],
   "source": [
    "42"
   ]
  },
  {
   "cell_type": "code",
   "execution_count": null,
   "metadata": {
    "slideshow": {
     "slide_type": "fragment"
    }
   },
   "outputs": [],
   "source": [
    "n = 17\n",
    "n"
   ]
  },
  {
   "cell_type": "code",
   "execution_count": null,
   "metadata": {
    "slideshow": {
     "slide_type": "fragment"
    }
   },
   "outputs": [],
   "source": [
    "m = 27\n",
    "m + 25"
   ]
  },
  {
   "cell_type": "code",
   "execution_count": null,
   "metadata": {},
   "outputs": [],
   "source": [
    "k = 9\n",
    "k * 37"
   ]
  },
  {
   "cell_type": "markdown",
   "metadata": {
    "slideshow": {
     "slide_type": "fragment"
    }
   },
   "source": [
    "When you type an expression at the prompt, the interpreter **evaluates** it, which means that\n",
    "it calculates the value of the expression and displays it. \n",
    "\n",
    "In boxes above, `m` has the value `27` and `m + 25` has the value `52`.\n",
    "`m + 25` is said to be an expression."
   ]
  },
  {
   "cell_type": "markdown",
   "metadata": {
    "slideshow": {
     "slide_type": "slide"
    }
   },
   "source": [
    "On the other hand, a **statement** is an instruction that has an effect, like creating a variable or displaying a value. "
   ]
  },
  {
   "cell_type": "code",
   "execution_count": null,
   "metadata": {},
   "outputs": [],
   "source": [
    "n = 17"
   ]
  },
  {
   "cell_type": "code",
   "execution_count": null,
   "metadata": {
    "slideshow": {
     "slide_type": "fragment"
    }
   },
   "outputs": [],
   "source": [
    "print(n)"
   ]
  },
  {
   "cell_type": "markdown",
   "metadata": {
    "slideshow": {
     "slide_type": "fragment"
    }
   },
   "source": [
    "The first statement initializes the variable `n` with the value `17`, this is a so-called *assignment statement*. \n",
    "\n",
    "The second statement is a `print` statement that prints the value of the variable `n`.\n",
    "\n",
    "The effect is not always visible. Assigning a value to a variable is not visible, but printing the value of a variable is.\n",
    "\n",
    "\n",
    "<div class=\"alert alert-info\">\n",
    "    Statements do not have values, but effects.\n",
    "</div>"
   ]
  },
  {
   "cell_type": "markdown",
   "metadata": {
    "slideshow": {
     "slide_type": "slide"
    }
   },
   "source": [
    "## 4. Assignment Statements <a class=\"anchor\" id=\"assignments\"></a>\n",
    "\n",
    "We have already seen that Python allows you to evaluate expressions, for instance `40 + 2`. \n",
    "It is very convenient if we are able to store the calculated value in some variable\n",
    "for future use. \n",
    "The latter can be done via an assignment statement.\n",
    "An **assignment statement** creates a new variable with a given name and assigns it a value."
   ]
  },
  {
   "cell_type": "code",
   "execution_count": null,
   "metadata": {
    "slideshow": {
     "slide_type": "fragment"
    }
   },
   "outputs": [],
   "source": [
    "magicnumber = 40 + 2    \n",
    "pi = 3.141592653589793  \n",
    "message = 'Data is eating the world'  "
   ]
  },
  {
   "cell_type": "code",
   "execution_count": null,
   "metadata": {},
   "outputs": [],
   "source": [
    "print(magicnumber)"
   ]
  },
  {
   "cell_type": "markdown",
   "metadata": {
    "slideshow": {
     "slide_type": "fragment"
    }
   },
   "source": [
    "The example in the previous code contains three assignments. \n",
    "The first one assigns the value of the expression `40 + 2` to a new variable called `magicnumber`; the second one assigns the value of π to the variable `pi`, and;\n",
    "the last assignment assigns the string value `'Data is eatig the world'` to the variable `message`.\n",
    "\n",
    "Programmers generally choose names for their variables that are meaningful.\n",
    "In this way, they document what the variable is used for.\n",
    "\n",
    "<div class=\"alert alert-info\">\n",
    "    The type of the new variable is automatically derived from the expression in the right-hand side. In contrast to other languages, Python itself does not offer a way of declaring the type of a variable explicitly. While you get used to programming, it may be good practice to add the types explicitly as comments, or even better to use the concept of <i>type-hints</i>. \n",
    "</div>"
   ]
  },
  {
   "cell_type": "code",
   "execution_count": null,
   "metadata": {
    "slideshow": {
     "slide_type": "fragment"
    }
   },
   "outputs": [],
   "source": [
    "# You can add type hints to your variables to \n",
    "magicnumber: int = 40 + 2   # An integer\n",
    "pi: float = 3.141592653589793 # A float\n",
    "message: str = 'Data is eating the world' # A string"
   ]
  },
  {
   "cell_type": "markdown",
   "metadata": {
    "tags": []
   },
   "source": [
    "<div class=\"alert alert-success\">\n",
    "    <b>Do It Yourself!</b><br>\n",
    "    Let's compute the volume of a cube with side $s = 5$. Remember that the volume of a cube is defined as $v = s^3$. Assign the value to a variable called `volume`.\n",
    "</div>"
   ]
  },
  {
   "cell_type": "code",
   "execution_count": null,
   "metadata": {
    "tags": []
   },
   "outputs": [],
   "source": [
    "# Remove this line and add your code here"
   ]
  },
  {
   "cell_type": "markdown",
   "metadata": {
    "tags": []
   },
   "source": [
    "<div class=\"alert alert-success\">\n",
    "    <b>Do It Yourself!</b><br>\n",
    "    Well done! Now, why don't you print the result in a message? It can say something like \"The volume of the cube with side 5 is $volume$\".\n",
    "</div>"
   ]
  },
  {
   "cell_type": "code",
   "execution_count": null,
   "metadata": {
    "tags": []
   },
   "outputs": [],
   "source": [
    "# Remove this line and add your code here"
   ]
  },
  {
   "cell_type": "markdown",
   "metadata": {
    "slideshow": {
     "slide_type": "fragment"
    }
   },
   "source": [
    "Beware that there is no checking of types (*type checking*) in Python, so a variable to which you have assigned an integer may be re-used as a float, even if we provide *type-hints*."
   ]
  },
  {
   "cell_type": "code",
   "execution_count": null,
   "metadata": {
    "slideshow": {
     "slide_type": "fragment"
    }
   },
   "outputs": [],
   "source": [
    "magicnumber: int = 40 + 2 # An integer \n",
    "print(type(magicnumber))\n",
    "\n",
    "magicnumber: int = 3.141592653589793 # A float\n",
    "print(type(magicnumber))\n",
    "\n",
    "magicnumber: int = \"Hello\" # A string\n",
    "print(type(magicnumber))"
   ]
  },
  {
   "cell_type": "markdown",
   "metadata": {
    "slideshow": {
     "slide_type": "slide"
    },
    "tags": []
   },
   "source": [
    "## 5. Names and Keywords <a class=\"anchor\" id=\"names-keywords\"></a>\n",
    "\n",
    "Names of variable and other language constructs such as functions (we will cover this topic later), should be meaningful and reflect the purpose of the construct.\n",
    "\n",
    "In general, Python names should adhere to the following rules:\n",
    "- It should start with a letter or underscore.\n",
    "- It cannot start with a number.\n",
    "- It must only contain alpha-numeric (i.e., letters a-z A-Z and digits 0-9) characters and underscores.\n",
    "- They cannot share the name of a Python keyword.\n",
    "\n",
    "If you use illegal variable names you will get a syntax error.\n",
    "\n",
    "<div class=\"alert alert-info\">\n",
    "    <b>Naming conventions</b> <br>\n",
    "    If you are developing software in a team, which will be very likely in the future, it makes sense to agree upon a number of basic principles. One of them is the <b>naming convention</b> principle. If you want to read more on this, please have a look at <i>Code Complete</i> a book by Steven McConnell.\n",
    "</div>"
   ]
  },
  {
   "cell_type": "markdown",
   "metadata": {
    "slideshow": {
     "slide_type": "fragment"
    }
   },
   "source": [
    "By choosing the right variables names you make the code self-documenting, what is better the variable `v` or `velocity`?"
   ]
  },
  {
   "cell_type": "code",
   "execution_count": null,
   "metadata": {
    "slideshow": {
     "slide_type": "fragment"
    }
   },
   "outputs": [],
   "source": [
    "velocity: int = 5 # in meters/second."
   ]
  },
  {
   "cell_type": "markdown",
   "metadata": {},
   "source": [
    "The following are examples of invalid variable names."
   ]
  },
  {
   "cell_type": "code",
   "execution_count": null,
   "metadata": {
    "slideshow": {
     "slide_type": "fragment"
    }
   },
   "outputs": [],
   "source": [
    "99ballons: str = 'Nena'"
   ]
  },
  {
   "cell_type": "code",
   "execution_count": null,
   "metadata": {
    "slideshow": {
     "slide_type": "fragment"
    }
   },
   "outputs": [],
   "source": [
    "largenr$: int = 1000000"
   ]
  },
  {
   "cell_type": "markdown",
   "metadata": {
    "slideshow": {
     "slide_type": "slide"
    }
   },
   "source": [
    "Every programming language has a collection of reserved **keywords**. They are used in predefined language constructs, such as *loops* and *conditionals*.\n",
    "These language concepts and their usage will be explained later.\n",
    "\n",
    "The interpreter uses keywords to recognize these language constructs in a program.\n",
    "Python 3 has the following keywords:\n",
    "\n",
    "`False` `class` `finally` `is` `return` \n",
    "\n",
    "`None` `continue` `for` `lambda` `try` \n",
    "\n",
    "`True` `def` `from` `nonlocal` `while` \n",
    "\n",
    "`and` `del` `global` `not` `with` \n",
    "\n",
    "`as` `elif` `if` `or` `yield` \n",
    "\n",
    "`assert` `else` `import` `pass` `break`  \n",
    "\n",
    "`except` `in` `raise`\n"
   ]
  },
  {
   "cell_type": "code",
   "execution_count": null,
   "metadata": {
    "slideshow": {
     "slide_type": "fragment"
    }
   },
   "outputs": [],
   "source": [
    "# Wrong variable name\n",
    "while: str = 'while'"
   ]
  },
  {
   "cell_type": "code",
   "execution_count": null,
   "metadata": {},
   "outputs": [],
   "source": [
    "# Correct variable name\n",
    "while_name: str = 'while'"
   ]
  },
  {
   "cell_type": "markdown",
   "metadata": {
    "slideshow": {
     "slide_type": "slide"
    }
   },
   "source": [
    "## 6. Reassignments <a class=\"anchor\" id=\"reassignments\"></a>\n",
    "\n",
    "It is allowed to assign a new value to an existing variable.\n",
    "This process is called **reassignment**. \n",
    "As soon as you assign a value to a variable, the old value is lost."
   ]
  },
  {
   "cell_type": "code",
   "execution_count": null,
   "metadata": {
    "slideshow": {
     "slide_type": "fragment"
    }
   },
   "outputs": [],
   "source": [
    "x: int = 42\n",
    "print(x)\n",
    "\n",
    "x = 43\n",
    "print(x)"
   ]
  },
  {
   "cell_type": "markdown",
   "metadata": {
    "slideshow": {
     "slide_type": "fragment"
    }
   },
   "source": [
    "The assignment of a variable to another variable, for instance `b = a` does not imply that if `a` is reassigned then `b` changes as well."
   ]
  },
  {
   "cell_type": "code",
   "execution_count": null,
   "metadata": {
    "slideshow": {
     "slide_type": "fragment"
    }
   },
   "outputs": [],
   "source": [
    "a: int = 42\n",
    "b: int = a # a and b have now the same value\n",
    "\n",
    "print('a =', a)\n",
    "print('b =', b)\n",
    "\n",
    "a = 43 # a and b are no longer equal\n",
    "\n",
    "print(a)\n",
    "print(b)"
   ]
  },
  {
   "cell_type": "markdown",
   "metadata": {
    "slideshow": {
     "slide_type": "fragment"
    }
   },
   "source": [
    "<div class=\"alert alert-info\">\n",
    "    Reassigning variables is useful but one should take care. It may hinder understandability of the software.\n",
    "</div>\n",
    "\n",
    "<div class=\"alert alert-info\">\n",
    "    <b>Types of reassigned variables</b>\n",
    "    As pointed out earlier, the type of the reassigned value does not need to have the same type of the original value.\n",
    "</div>"
   ]
  },
  {
   "cell_type": "markdown",
   "metadata": {
    "tags": []
   },
   "source": [
    "<div class=\"alert alert-success\">\n",
    "    <b>Do It Yourself!</b><br>\n",
    "    You have a variable <i>salary</i> that shows the weekly salary of an employee. However, you want to compute the monthly salary. Can you reassign the value to the <i>salary</i> variable according to the instruction?\n",
    "</div>"
   ]
  },
  {
   "cell_type": "code",
   "execution_count": null,
   "metadata": {
    "tags": []
   },
   "outputs": [],
   "source": [
    "# Remove this line and add your code here"
   ]
  },
  {
   "cell_type": "markdown",
   "metadata": {
    "slideshow": {
     "slide_type": "slide"
    }
   },
   "source": [
    "## 7. Updating Variables <a class=\"anchor\" id=\"update\"></a>\n",
    "\n",
    "A frequently used reassignment is for **updating** puposes: the value of a variable depends on the previous value of the variable."
   ]
  },
  {
   "cell_type": "code",
   "execution_count": null,
   "metadata": {
    "slideshow": {
     "slide_type": "fragment"
    }
   },
   "outputs": [],
   "source": [
    "print(x)\n",
    "x = x + 1\n",
    "\n",
    "print(x)"
   ]
  },
  {
   "cell_type": "markdown",
   "metadata": {
    "slideshow": {
     "slide_type": "fragment"
    }
   },
   "source": [
    "This statement expresses \"get the current value of `x`, add one, and then update `x` with the new value.”\n",
    "\n",
    "Beware, that the variable should be initialized first, usually with a simple assignment."
   ]
  },
  {
   "cell_type": "code",
   "execution_count": null,
   "metadata": {
    "slideshow": {
     "slide_type": "fragment"
    }
   },
   "outputs": [],
   "source": [
    "y = y + 1\n",
    "print(y)"
   ]
  },
  {
   "cell_type": "markdown",
   "metadata": {
    "tags": []
   },
   "source": [
    "<div class=\"alert alert-success\">\n",
    "    <b>Do It Yourself!</b><br>\n",
    "    Do you remember the salary excercise of the previous section (cf. 13. Reassignments)? Well, if you have not done it yet, update the <i>salary</i> variable by using its previous value.\n",
    "</div>"
   ]
  },
  {
   "cell_type": "code",
   "execution_count": null,
   "metadata": {
    "tags": []
   },
   "outputs": [],
   "source": [
    "# Remove this line and add your code here"
   ]
  },
  {
   "cell_type": "code",
   "execution_count": null,
   "metadata": {
    "slideshow": {
     "slide_type": "fragment"
    }
   },
   "outputs": [],
   "source": [
    "y: int = 0   # integer\n",
    "y = y + 1\n",
    "print(y)"
   ]
  },
  {
   "cell_type": "markdown",
   "metadata": {
    "slideshow": {
     "slide_type": "fragment"
    }
   },
   "source": [
    "Updating a variable by adding `1` is called an **increment**; subtracting `1` is called a **decrement**. A shorthand way of doing is using `+=` and `-=`, which stands for `x = x + ...` and `x = x - ...` respectively."
   ]
  },
  {
   "cell_type": "code",
   "execution_count": null,
   "metadata": {},
   "outputs": [],
   "source": [
    "z: int = 0    # integer\n",
    "z += 100\n",
    "print(z)"
   ]
  },
  {
   "cell_type": "code",
   "execution_count": null,
   "metadata": {},
   "outputs": [],
   "source": [
    "z -= 1\n",
    "print(z)"
   ]
  },
  {
   "cell_type": "markdown",
   "metadata": {
    "slideshow": {
     "slide_type": "slide"
    }
   },
   "source": [
    "## 8. Order of Operations <a class=\"anchor\" id=\"order-operations\"></a>\n",
    "\n",
    "Expressions may contain multiple operators. \n",
    "The order of evaluation depends on the **priorities of the operators** also known as **rules of precedence**.\n",
    "\n",
    "For mathematical operators, Python follows mathematical\n",
    "convention. \n",
    "The acronym PEMDAS is a useful way to remember the rules:\n",
    "\n",
    "+ **Parentheses** have the highest precedence and can be used to force an expression to evaluate in the order you want. Since expressions in parentheses are evaluated first, `2 * (3 - 1)` is `4`, and `(1 + 1)**(5 - 2)` is `8`. You can also use parentheses to make an expression easier to read, even if it does not change the result.\n",
    "+ **Exponentiation** has the next highest precedence, so `1 + 2**3` is `9`, not `27`, and `2 * 3**2` is `18`, not `36`.\n",
    "+ **Multiplication** and **division** have higher precedence than **addition** and **subtraction**. So `2 * 3 - 1` is `5`, not `4`, and `6 + 4 / 2` is `8`, not `5`.\n",
    "+ Operators with the same precedence are evaluated from left to right (except exponentiation). So in the expression `degrees / 2 * pi`, the division happens first and the result is multiplied by `pi`. To divide by 2π, you can use parentheses or write: `degrees / 2 / pi`.\n",
    "\n",
    "In case of doubt, *use parentheses!*"
   ]
  },
  {
   "cell_type": "markdown",
   "metadata": {},
   "source": [
    "<div class=\"alert alert-success\">\n",
    "    <b>Do It Yourself!</b><br>\n",
    "    Let's see what happens when we evaluate the following expressions. Just run the cell to check the resulting value.\n",
    "</div>"
   ]
  },
  {
   "cell_type": "code",
   "execution_count": null,
   "metadata": {},
   "outputs": [],
   "source": [
    "# Parentheses 1\n",
    "2 * (3 - 1) "
   ]
  },
  {
   "cell_type": "code",
   "execution_count": null,
   "metadata": {},
   "outputs": [],
   "source": [
    "# Parentheses 2\n",
    "(1 + 1)**(5 - 2)"
   ]
  },
  {
   "cell_type": "code",
   "execution_count": null,
   "metadata": {},
   "outputs": [],
   "source": [
    "# Exponentiation 1\n",
    "1 + 2**3"
   ]
  },
  {
   "cell_type": "code",
   "execution_count": null,
   "metadata": {},
   "outputs": [],
   "source": [
    "# Exponentiation 2\n",
    "2 * 3**2"
   ]
  },
  {
   "cell_type": "code",
   "execution_count": null,
   "metadata": {},
   "outputs": [],
   "source": [
    "# MDAS 1\n",
    "2 * 3 - 1"
   ]
  },
  {
   "cell_type": "code",
   "execution_count": null,
   "metadata": {},
   "outputs": [],
   "source": [
    "# MDAS 2\n",
    "6 + 4 / 2"
   ]
  },
  {
   "cell_type": "code",
   "execution_count": null,
   "metadata": {},
   "outputs": [],
   "source": [
    "# Same precedence 1\n",
    "degrees: int = 180\n",
    "pi: float = 3.141592653589793\n",
    "degrees / 2 * pi"
   ]
  },
  {
   "cell_type": "code",
   "execution_count": null,
   "metadata": {},
   "outputs": [],
   "source": [
    "# Same precedence 2\n",
    "degrees / 2 / pi"
   ]
  },
  {
   "cell_type": "markdown",
   "metadata": {},
   "source": [
    "## 9. Floor Division and Modulus Operators <a class=\"anchor\" id=\"floor-modulus\"></a>\n",
    "\n",
    "The **floor division operator** `//` divides two numbers and rounds down to an integer.\n",
    "\n",
    "For example, suppose that driving to the south of France takes 555 minutes.\n",
    "You might want to know how long that is in hours.\n",
    "\n",
    "Conventional division returns a floating-point number."
   ]
  },
  {
   "cell_type": "code",
   "execution_count": null,
   "metadata": {},
   "outputs": [],
   "source": [
    "minutes: int = 555\n",
    "minutes / 60"
   ]
  },
  {
   "cell_type": "markdown",
   "metadata": {},
   "source": [
    "Hours are normally not represented with decimal points. \n",
    "Floor division returns the integer number of hours, dropping the fraction part."
   ]
  },
  {
   "cell_type": "code",
   "execution_count": null,
   "metadata": {},
   "outputs": [],
   "source": [
    "minutes: int = 555\n",
    "hours: int = minutes // 60\n",
    "hours"
   ]
  },
  {
   "cell_type": "markdown",
   "metadata": {
    "tags": []
   },
   "source": [
    "<div class=\"alert alert-success\">\n",
    "    <b>Do It Yourself!</b><br>\n",
    "    You soend around 225 minutes every week on programming activities. You want to know around how many hours you invest in this activity during a month. Use the $//$ operator to get the answer.\n",
    "</div>"
   ]
  },
  {
   "cell_type": "code",
   "execution_count": null,
   "metadata": {
    "tags": []
   },
   "outputs": [],
   "source": [
    "# Remove this line and add your code here"
   ]
  },
  {
   "cell_type": "markdown",
   "metadata": {},
   "source": [
    "The **modulus operator** `%` works on integer values. It computes the remainder when dividing the first integer by the second one. "
   ]
  },
  {
   "cell_type": "code",
   "execution_count": null,
   "metadata": {},
   "outputs": [],
   "source": [
    "remainder: int = minutes % 60\n",
    "remainder"
   ]
  },
  {
   "cell_type": "markdown",
   "metadata": {},
   "source": [
    "The modulus operator is more useful than it seems. \n",
    "\n",
    "For example, you can check whether one number is divisible by another—if `x % y` is zero, then `x` is divisible by `y`."
   ]
  },
  {
   "cell_type": "markdown",
   "metadata": {
    "tags": []
   },
   "source": [
    "<div class=\"alert alert-success\">\n",
    "    <b>Do It Yourself!</b><br>\n",
    "    A child asks you the time. You check your digital clock and it says 17. The child does not understand what it means. Can you tell him what hour it is by using a number between 1 and 12? Use the % operator to solve this problem.\n",
    "</div>"
   ]
  },
  {
   "cell_type": "code",
   "execution_count": null,
   "metadata": {
    "tags": []
   },
   "outputs": [],
   "source": [
    "# Remove this line and add your code here"
   ]
  },
  {
   "cell_type": "markdown",
   "metadata": {
    "slideshow": {
     "slide_type": "slide"
    }
   },
   "source": [
    "## 10. String Operations <a class=\"anchor\" id=\"string-operations\"></a>\n",
    "\n",
    "In general, you cannot perform mathematical operations on strings, even if the strings look like numbers, so the following operations are illegal: `'2'-'1'` `'eggs'/'easy'` `'third'*'a charm'`"
   ]
  },
  {
   "cell_type": "code",
   "execution_count": null,
   "metadata": {
    "slideshow": {
     "slide_type": "fragment"
    }
   },
   "outputs": [],
   "source": [
    "'2' - '1'"
   ]
  },
  {
   "cell_type": "markdown",
   "metadata": {
    "slideshow": {
     "slide_type": "fragment"
    }
   },
   "source": [
    "But there are two exceptions, `+` and `*`.\n",
    "The `+` operator performs string concatenation, which means it joins the strings by linking them end-to-end."
   ]
  },
  {
   "cell_type": "code",
   "execution_count": null,
   "metadata": {
    "slideshow": {
     "slide_type": "fragment"
    }
   },
   "outputs": [],
   "source": [
    "first: str = 'data'\n",
    "second: str = ' '\n",
    "third: str = 'science'\n",
    "first + ((second) + third)"
   ]
  },
  {
   "cell_type": "markdown",
   "metadata": {
    "slideshow": {
     "slide_type": "fragment"
    }
   },
   "source": [
    "The `*` operator also works on strings; it performs repetition. "
   ]
  },
  {
   "cell_type": "code",
   "execution_count": null,
   "metadata": {
    "slideshow": {
     "slide_type": "fragment"
    }
   },
   "outputs": [],
   "source": [
    "('Data' + ' ') * 3"
   ]
  },
  {
   "cell_type": "markdown",
   "metadata": {
    "tags": []
   },
   "source": [
    "<div class=\"alert alert-success\">\n",
    "    <b>Do It Yourself!</b><br>\n",
    "    Speedy Gonzales is a cartoon known to be the <i>fastest mouse in all Mexico</i>. He is also famous for saying \"Arriba Arriba Andale Arriba Arriba Yepa\". Can you use the following variables, namely <i>arriba</i>, <i>andale</i> and <i>yepa</i> to print the mentioned expression? Don't forget to use the string operators.\n",
    "</div>"
   ]
  },
  {
   "cell_type": "code",
   "execution_count": null,
   "metadata": {
    "tags": []
   },
   "outputs": [],
   "source": [
    "arriba = \"Arriba\"\n",
    "andale = \"Andale\"\n",
    "yepa = \"Yepa\"\n",
    "\n",
    "# Remove this line and add your code here"
   ]
  },
  {
   "cell_type": "markdown",
   "metadata": {},
   "source": [
    "## 11. Asking the User for Input <a class=\"anchor\" id=\"input\"></a>\n",
    "\n",
    "The programs we have written so far accept no input from the user. \n",
    "To get data from the user through the Python prompt, we can use the built-in function `input`.\n",
    "\n",
    "When `input` is called your whole program stops and waits for the user to enter the required data. \n",
    "Once the user types the value and presses `Return` or `Enter`, the function returns the input value as a string and the program continues with its execution.\n",
    "\n",
    "Try it out!"
   ]
  },
  {
   "cell_type": "code",
   "execution_count": null,
   "metadata": {},
   "outputs": [],
   "source": [
    "inp = input()\n",
    "inp * 3"
   ]
  },
  {
   "cell_type": "markdown",
   "metadata": {},
   "source": [
    "You can also print a message to clarify the purpose of the required input as follows.  \n",
    "\n",
    "<div class=\"alert alert-info\">\n",
    "    <b>New line character</b> <br>\n",
    "    The sequence `\\n` at the end of the prompt represents a newline, which is a special character\n",
    "that causes a line break. That’s why the user’s input appears below the prompt.\n",
    "</div>\n",
    "\n",
    "<div class=\"alert alert-info\">\n",
    "    <b><code>input</code> type</b> <br>\n",
    "    TWe did not provide any *type-hint* for the variable <code>inp</code>, however, the type of <code>inp</code> is <code>str</code>.\n",
    "</div>"
   ]
  },
  {
   "cell_type": "code",
   "execution_count": null,
   "metadata": {},
   "outputs": [],
   "source": [
    "food = input('What is your favourite food? \\n')\n",
    "print('I love ' + food)"
   ]
  },
  {
   "cell_type": "markdown",
   "metadata": {},
   "source": [
    "The resulting string can later be translated to a different type, like an integer or a float. \n",
    "To do so, you use the functions `int` and `float`, respectively. \n",
    "But be careful, the user might introduce a value that cannot be converted to the type you required."
   ]
  },
  {
   "cell_type": "code",
   "execution_count": null,
   "metadata": {},
   "outputs": [],
   "source": [
    "age = input('What is your age? ')\n",
    "print(int(age))\n",
    "print(float(age))"
   ]
  },
  {
   "cell_type": "markdown",
   "metadata": {
    "tags": []
   },
   "source": [
    "<div class=\"alert alert-success\">\n",
    "    <b>Do It Yourself!</b><br>\n",
    "    We want to know the name of a user so we can display a welcome message in our program. The message should say something like \"Hello $name$, welcome to our hello world program!\".\n",
    "</div>"
   ]
  },
  {
   "cell_type": "code",
   "execution_count": null,
   "metadata": {
    "tags": []
   },
   "outputs": [],
   "source": [
    "# Remove this line and add your code here"
   ]
  },
  {
   "cell_type": "markdown",
   "metadata": {
    "slideshow": {
     "slide_type": "slide"
    }
   },
   "source": [
    "## 12. Script Mode <a class=\"anchor\" id=\"script\"></a>\n",
    "\n",
    "So far we have run Python in **interactive mode** in these Jupyter notebooks, which means that you interact directly with the interpreter in the **code cells**.\n",
    "The interactive mode is a good way to get started, but if you are working\n",
    "with more than a few lines of code, it can be clumsy.\n",
    "The alternative is to save code in a file called a script and then run the interpreter in **script mode** to execute the script. \n",
    "By convention, Python scripts have names that end with `.py`.\n",
    "\n",
    "Use the **PyCharm** icon in **Anaconda Navigator** to create and execute stand-alone Python scripts.\n",
    "Later in the course, you will have to work with Python projects for the assignments, in order to get acquainted with another way of interacing with Python code. "
   ]
  },
  {
   "cell_type": "markdown",
   "metadata": {},
   "source": [
    "---\n",
    "\n",
    "# (End of Notebook)\n",
    "\n",
    "&copy; 2022-2023 - **TU/e** - Eindhoven University of Technology"
   ]
  }
 ],
 "metadata": {
  "anaconda-cloud": {},
  "kernelspec": {
   "display_name": "Python 3 (ipykernel)",
   "language": "python",
   "name": "python3"
  },
  "language_info": {
   "codemirror_mode": {
    "name": "ipython",
    "version": 3
   },
   "file_extension": ".py",
   "mimetype": "text/x-python",
   "name": "python",
   "nbconvert_exporter": "python",
   "pygments_lexer": "ipython3",
   "version": "3.9.7"
  }
 },
 "nbformat": 4,
 "nbformat_minor": 4
}
