{
 "cells": [
  {
   "cell_type": "markdown",
   "metadata": {
    "slideshow": {
     "slide_type": "slide"
    }
   },
   "source": [
    "# Searching and Sorting\n",
    "\n"
   ]
  },
  {
   "cell_type": "markdown",
   "metadata": {
    "slideshow": {
     "slide_type": "fragment"
    }
   },
   "source": [
    "_(c) 2022, Mark van den Brand and Lina Ochea Venegas, Eindhoven University of Technology_"
   ]
  },
  {
   "cell_type": "markdown",
   "metadata": {},
   "source": [
    "## Table of Contents\n",
    "<div class=\"toc\" style=\"margin-top: 1em;\">\n",
    "    <ul class=\"toc-item\">\n",
    "        <li>\n",
    "            <span><a href=\"#1.-Searching-for-Two-Largest-Values-in-a-List\" data-toc-modified-id=\"1.-Searching-for-Two-Largest-Values-in-a-List\">1. Searching for Two Largest Values in a List</a></span>\n",
    "        </li>\n",
    "        <li>\n",
    "            <span><a href=\"#2.-Timing-the-Functions\" data-toc-modified-id=\"2.-Timing-the-Functions\">2. Timing the Functions</a></span>\n",
    "        </li>\n",
    "        <li>\n",
    "            <span><a href=\"#3.-Searching\" data-toc-modified-id=\"3.-Searching\">3. Searching</a></span>\n",
    "        </li>\n",
    "        <li>\n",
    "            <span><a href=\"#4.-Sorting\" data-toc-modified-id=\"4.-Sorting\">4. Sorting</a></span>\n",
    "        </li>\n",
    "    </ul>\n",
    "</div>"
   ]
  },
  {
   "cell_type": "markdown",
   "metadata": {
    "slideshow": {
     "slide_type": "slide"
    }
   },
   "source": [
    "## 1. Searching for Two Largest Values in a List\n",
    "\n",
    "The following example is based on Chapter 11 of the book *Practical Programming* by P. Gries, J. Campbell, and J. Montojo.\n",
    "\n",
    "Suppose we have the following list of data, for instance representing the number of seals treated in the Sealcentre in Pieterburen (NL).\n",
    "\n",
    "| 2009 | 2010 | 2011 | 2012 | 2013 | 2014 | 2015 | 2016 | 2017 | 2018 |\n",
    "|:----:|:----:|:----:|:----:|:----:|:----:|:----:|:----:|:----:|:----:|\n",
    "| 334  | 468  | 549  | 836  | 660  | 389  | 308  | 392  | 520  | 271  |\n",
    "\n",
    "The first number, 334, represents the number of seals treated in 2009 and the last number, 271, the number of seals treated in 2018.\n",
    "\n",
    "**What is the position of the highest number in the list?**\n",
    "We can use the `list.index` to find the corresponding index."
   ]
  },
  {
   "cell_type": "code",
   "execution_count": null,
   "metadata": {
    "slideshow": {
     "slide_type": "fragment"
    }
   },
   "outputs": [],
   "source": [
    "counts = [334, 468, 549, 836, 660, 389, 308, 392, 520, 271]\n",
    "high = max(counts)\n",
    "counts.index(high)"
   ]
  },
  {
   "cell_type": "markdown",
   "metadata": {
    "slideshow": {
     "slide_type": "fragment"
    }
   },
   "source": [
    "Or, more concise:"
   ]
  },
  {
   "cell_type": "code",
   "execution_count": null,
   "metadata": {
    "slideshow": {
     "slide_type": "fragment"
    }
   },
   "outputs": [],
   "source": [
    "counts = [334, 468, 549, 836, 660, 389, 308, 392, 520, 271]\n",
    "counts.index(max(counts))"
   ]
  },
  {
   "cell_type": "markdown",
   "metadata": {
    "slideshow": {
     "slide_type": "fragment"
    }
   },
   "source": [
    "Now, suppose we want to find the indexes of the 2 highest numbers. There is no direct method to do so.\n",
    "\n",
    "We will present three alternative algorithms:\n",
    "1. *Find, remove, find*: \n",
    "    - Find the index for highest numbers. \n",
    "    - Remove the highest number.\n",
    "    - Look for the index of the next highest number. \n",
    "    - Insert the highest number back.\n",
    "    - Adapt the second index if needed.\n",
    "2. *Sort*: \n",
    "    - Copy the list.\n",
    "    - Sort the list.\n",
    "    - Use the two highest numbers to find the corresponding indices in the original list.\n",
    "3. *Walk through the list*:\n",
    "    - Iterate over the list and keep track of the two highest numbers found so far.\n",
    "    - Update if a higher number is found.\n",
    "\n",
    "The ultimate question is of course which *one is the fastest solution*?"
   ]
  },
  {
   "cell_type": "markdown",
   "metadata": {
    "slideshow": {
     "slide_type": "slide"
    }
   },
   "source": [
    "### Find, Remove, Find"
   ]
  },
  {
   "cell_type": "code",
   "execution_count": null,
   "metadata": {
    "slideshow": {
     "slide_type": "fragment"
    }
   },
   "outputs": [],
   "source": [
    "from typing import List, Tuple\n",
    "\n",
    "def find_two_highest_remove(values: List[int]) -> Tuple[int, int]:\n",
    "    \"\"\"\n",
    "    Find the indices of the two highest values in a list.\n",
    "    :param values: the list of values to be processed\n",
    "    :returns: a tuple containing the indices of the two highest values.\n",
    "    \n",
    "    >>> seals = [334, 468, 549, 836, 660, 389, 308, 392, 520, 271]\n",
    "    >>> find_two_highest_remove(seals)\n",
    "    (3, 4)\n",
    "    >>> seals == [334, 468, 549, 836, 660, 389, 308, 392, 520, 271]\n",
    "    True\n",
    "    \"\"\"\n",
    "    # Find the index of the maximum in seals\n",
    "    # Remove that item form the list\n",
    "    # Find the index of the new maximum in the list\n",
    "    # Put the highest item back in the list\n",
    "    # If necessary, adjust the second index\n",
    "    # Return the two indices"
   ]
  },
  {
   "cell_type": "markdown",
   "metadata": {
    "slideshow": {
     "slide_type": "fragment"
    }
   },
   "source": [
    "As we have seen `max` and `list.index` can hel us finding the index of the highest number."
   ]
  },
  {
   "cell_type": "code",
   "execution_count": null,
   "metadata": {
    "slideshow": {
     "slide_type": "fragment"
    }
   },
   "outputs": [],
   "source": [
    "from typing import List, Tuple\n",
    "\n",
    "def find_two_highest_remove(values: List[int]) -> Tuple[int, int]:\n",
    "    \"\"\"\n",
    "    Find the indices of the two highest values in a list.\n",
    "    :param values: the list of values to be processed\n",
    "    :returns: a tuple containing the indices of the two highest values.\n",
    "    \n",
    "    >>> seals = [334, 468, 549, 836, 660, 389, 308, 392, 520, 271]\n",
    "    >>> find_two_highest_remove(seals)\n",
    "    (3, 4)\n",
    "    >>> seals == [334, 468, 549, 836, 660, 389, 308, 392, 520, 271]\n",
    "    True\n",
    "    \"\"\"\n",
    "    # Find the index of the maximum in seals\n",
    "    highest: int = max(values)\n",
    "    high_index1: int = values.index(highest)\n",
    "    # Remove that item form the list\n",
    "    values.remove(highest)\n",
    "#    print(high_index1)\n",
    "    \n",
    "    # Find the index of the new maximum in the list\n",
    "    next_highest: int = max(values)\n",
    "    high_index2: int = values.index(next_highest)\n",
    "#    print(high_index2)\n",
    "    \n",
    "    # Put the highest item back in the list\n",
    "    # If necessary, adjust the second index\n",
    "    # Return the two indices\n",
    "    \n",
    "find_two_highest_remove([334, 468, 549, 836, 660, 389, 308, 392, 520, 271])"
   ]
  },
  {
   "cell_type": "markdown",
   "metadata": {
    "slideshow": {
     "slide_type": "fragment"
    }
   },
   "source": [
    "Since we removed the highest amount, we have to put it back and if necessary adapt the index of the second-highest amount, if the highest amount was before the second-highest amount in the list."
   ]
  },
  {
   "cell_type": "code",
   "execution_count": null,
   "metadata": {
    "slideshow": {
     "slide_type": "fragment"
    }
   },
   "outputs": [],
   "source": [
    "from typing import List, Tuple\n",
    "\n",
    "def find_two_highest_remove(values: List[int]) -> Tuple[int, int]:\n",
    "    \"\"\"\n",
    "    Find the indices of the two highest values in a list.\n",
    "    :param values: the list of values to be processed\n",
    "    :returns: a tuple containing the indices of the two highest values.\n",
    "    \n",
    "    >>> seals = [334, 468, 549, 836, 660, 389, 308, 392, 520, 271]\n",
    "    >>> find_two_highest_remove(seals)\n",
    "    (3, 4)\n",
    "    >>> seals == [334, 468, 549, 836, 660, 389, 308, 392, 520, 271]\n",
    "    True\n",
    "    \"\"\"\n",
    "    # Find the index of the maximum in seals\n",
    "    highest: int = max(values)\n",
    "    high_index1: int = values.index(highest)\n",
    "    # Remove that item form the list\n",
    "    values.remove(highest)\n",
    "    \n",
    "    # Find the index of the new maximum in the list\n",
    "    next_highest: int = max(values)\n",
    "    high_index2: int = values.index(next_highest)\n",
    "    \n",
    "    # Put the highest item back in the list\n",
    "    values.insert(high_index1, highest)\n",
    "    \n",
    "    # If necessary, adjust the second index\n",
    "    if high_index1 <= high_index2:\n",
    "        high_index2 += 1\n",
    "        \n",
    "    # Return the two indices\n",
    "    return (high_index1, high_index2)\n",
    "\n",
    "find_two_highest_remove([334, 468, 549, 836, 660, 389, 308, 392, 520, 271])"
   ]
  },
  {
   "cell_type": "code",
   "execution_count": null,
   "metadata": {},
   "outputs": [],
   "source": [
    "import doctest\n",
    "doctest.testmod(verbose=True)  # with details"
   ]
  },
  {
   "cell_type": "markdown",
   "metadata": {
    "tags": []
   },
   "source": [
    "<div class=\"alert alert-success\">\n",
    "    <b>Do It Yourself!</b><br>\n",
    "    Create the function <i>find_two_lowest_remove</i>, which finds the indexes of the 2 lowest numbers of a list of integers received as parameter. Use the <b>find, remove, find</b> algorithm to compute the expected output. \n",
    "</div>"
   ]
  },
  {
   "cell_type": "code",
   "execution_count": null,
   "metadata": {
    "tags": []
   },
   "outputs": [],
   "source": [
    "# Remove this line and add your code here"
   ]
  },
  {
   "cell_type": "markdown",
   "metadata": {
    "slideshow": {
     "slide_type": "slide"
    }
   },
   "source": [
    "### Sort\n",
    "\n",
    "In the next cell you will find the refined algorithm based on sorting."
   ]
  },
  {
   "cell_type": "code",
   "execution_count": null,
   "metadata": {
    "slideshow": {
     "slide_type": "fragment"
    }
   },
   "outputs": [],
   "source": [
    "from typing import List, Tuple\n",
    "\n",
    "def find_two_highest_sort(values: List[int]) -> Tuple[int, int]:\n",
    "    \"\"\"\n",
    "    Find the indices of the two highest values in a list.\n",
    "    :param values: the list of values to be processed\n",
    "    :returns: a tuple containing the indices of the two highest values.\n",
    "    \n",
    "    >>> seals = [334, 468, 549, 836, 660, 389, 308, 392, 520, 271]\n",
    "    >>> find_two_highest_remove(seals)\n",
    "    (3, 4)\n",
    "    >>> seals == [334, 468, 549, 836, 660, 389, 308, 392, 520, 271]\n",
    "    True\n",
    "    \"\"\"\n",
    "    # Sort a copy of amounts\n",
    "    # Get the two highest values\n",
    "    # Find their indices in the original list\n",
    "    # Return the two indices"
   ]
  },
  {
   "cell_type": "markdown",
   "metadata": {
    "slideshow": {
     "slide_type": "fragment"
    }
   },
   "source": [
    "We have to refine the sorting and obtaining the index. Note that we sort the list in reverse order!"
   ]
  },
  {
   "cell_type": "code",
   "execution_count": null,
   "metadata": {
    "slideshow": {
     "slide_type": "fragment"
    }
   },
   "outputs": [],
   "source": [
    "from typing import List, Tuple\n",
    "\n",
    "def find_two_highest_sort(values: List[int]) -> Tuple[int, int]:\n",
    "    \"\"\"\n",
    "    Find the indices of the two highest values in a list.\n",
    "    :param values: the list of values to be processed\n",
    "    :returns: a tuple containing the indices of the two highest values.\n",
    "    \n",
    "    >>> seals = [334, 468, 549, 836, 660, 389, 308, 392, 520, 271]\n",
    "    >>> find_two_highest_remove(seals)\n",
    "    (3, 4)\n",
    "    >>> seals == [334, 468, 549, 836, 660, 389, 308, 392, 520, 271]\n",
    "    True\n",
    "    \"\"\"\n",
    "    # Sort a copy of amounts\n",
    "    temp_values: List[int] = sorted(values, reverse = True)\n",
    "    print(temp_values)\n",
    "    \n",
    "    # Get the two highest values\n",
    "    highest: int = temp_values[0]\n",
    "    next_highest: int = temp_values[1]\n",
    "    print(highest)\n",
    "    print(next_highest)\n",
    "    \n",
    "    # Find their indices in the original list\n",
    "    # Return the two indices\n",
    "    \n",
    "find_two_highest_sort([334, 468, 549, 836, 660, 389, 308, 392, 520, 271])"
   ]
  },
  {
   "cell_type": "markdown",
   "metadata": {
    "slideshow": {
     "slide_type": "fragment"
    }
   },
   "source": [
    "We need to find the indices for both values in the original list."
   ]
  },
  {
   "cell_type": "code",
   "execution_count": null,
   "metadata": {
    "slideshow": {
     "slide_type": "fragment"
    }
   },
   "outputs": [],
   "source": [
    "from typing import List, Tuple\n",
    "\n",
    "def find_two_highest_sort(values: List[int]) -> Tuple[int, int]:\n",
    "    \"\"\"\n",
    "    Find the indices of the two highest values in a list.\n",
    "    :param values: the list of values to be processed\n",
    "    :returns: a tuple containing the indices of the two highest values.\n",
    "    \n",
    "    >>> seals = [334, 468, 549, 836, 660, 389, 308, 392, 520, 271]\n",
    "    >>> find_two_highest_remove(seals)\n",
    "    (3, 4)\n",
    "    >>> seals == [334, 468, 549, 836, 660, 389, 308, 392, 520, 271]\n",
    "    True\n",
    "    \"\"\"\n",
    "    # Sort a copy of amounts\n",
    "    temp_values: List[int] = sorted(values, reverse=True)\n",
    "\n",
    "    # Get the two highest values\n",
    "    highest: int = temp_values[0]\n",
    "    next_highest: int = temp_values[1]\n",
    "    \n",
    "    # Find their indices in the original list\n",
    "    high_index1: int = values.index(highest)\n",
    "    high_index2: int = values.index(next_highest)\n",
    "    \n",
    "    # Return the two indices\n",
    "    return (high_index1, high_index2)\n",
    "\n",
    "find_two_highest_sort([334, 468, 549, 836, 660, 389, 308, 392, 520, 271])"
   ]
  },
  {
   "cell_type": "code",
   "execution_count": null,
   "metadata": {
    "slideshow": {
     "slide_type": "fragment"
    }
   },
   "outputs": [],
   "source": [
    "doctest.testmod(verbose=True)  # with details"
   ]
  },
  {
   "cell_type": "markdown",
   "metadata": {
    "tags": []
   },
   "source": [
    "<div class=\"alert alert-success\">\n",
    "    <b>Do It Yourself!</b><br>\n",
    "    Create the function <i>find_two_lowest_sort</i>, which finds the indexes of the 2 lowest numbers of a list of integers received as parameter. Use the <b>sort</b> algorithm to compute the expected output. \n",
    "</div>"
   ]
  },
  {
   "cell_type": "code",
   "execution_count": null,
   "metadata": {
    "tags": []
   },
   "outputs": [],
   "source": [
    "# Remove this line and add your code here"
   ]
  },
  {
   "cell_type": "markdown",
   "metadata": {
    "slideshow": {
     "slide_type": "slide"
    }
   },
   "source": [
    "### Walk Through the List\n",
    "\n",
    "In the next cell, you will find the refined algorithm where walk over the list to find the highest two values."
   ]
  },
  {
   "cell_type": "code",
   "execution_count": null,
   "metadata": {
    "slideshow": {
     "slide_type": "fragment"
    }
   },
   "outputs": [],
   "source": [
    "from typing import List, Tuple\n",
    "\n",
    "def find_two_highest_walk(values: List[int]) -> Tuple[int, int]:\n",
    "    \"\"\"\n",
    "    Find the indices of the two highest values in a list.\n",
    "    :param values: the list of values to be processed\n",
    "    :returns: a tuple containing the indices of the two highest values.\n",
    "    \n",
    "    >>> seals = [334, 468, 549, 836, 660, 389, 308, 392, 520, 271]\n",
    "    >>> find_two_highest_remove(seals)\n",
    "    (3, 4)\n",
    "    >>> seals == [334, 468, 549, 836, 660, 389, 308, 392, 520, 271]\n",
    "    True\n",
    "    \"\"\"\n",
    "\n",
    "    # Examine each value in the list in order\n",
    "    # Keep track of the indices of the two highest values found so far\n",
    "    # Update the indices when a new higher value is found\n",
    "    # Return the two indices"
   ]
  },
  {
   "cell_type": "markdown",
   "metadata": {},
   "source": [
    "We start with swapping the first and second line of the refinement steps. Furthermore, the updating of the indices is a step in the loop."
   ]
  },
  {
   "cell_type": "code",
   "execution_count": null,
   "metadata": {
    "slideshow": {
     "slide_type": "fragment"
    }
   },
   "outputs": [],
   "source": [
    "from typing import List, Tuple\n",
    "\n",
    "def find_two_highest_walk(values: List[int]) -> Tuple[int, int]:\n",
    "    \"\"\"\n",
    "    Find the indices of the two highest values in a list.\n",
    "    :param values: the list of values to be processed\n",
    "    :returns: a tuple containing the indices of the two highest values.\n",
    "    \n",
    "    >>> seals = [334, 468, 549, 836, 660, 389, 308, 392, 520, 271]\n",
    "    >>> find_two_highest_remove(seals)\n",
    "    (3, 4)\n",
    "    >>> seals == [334, 468, 549, 836, 660, 389, 308, 392, 520, 271]\n",
    "    True\n",
    "    \"\"\"\n",
    "\n",
    "    # Keep track of the indices of the two highest values found so far\n",
    "    # Examine each value in the list in order\n",
    "    #     Update the indices when a new higher value is found\n",
    "    # Return the two indices "
   ]
  },
  {
   "cell_type": "code",
   "execution_count": null,
   "metadata": {
    "slideshow": {
     "slide_type": "fragment"
    }
   },
   "outputs": [],
   "source": [
    "from typing import List, Tuple\n",
    "\n",
    "def find_two_highest_walk(values: List[int]) -> Tuple[int, int]:\n",
    "    \"\"\"\n",
    "    Find the indices of the two highest values in a list.\n",
    "    :param values: the list of values to be processed\n",
    "    :returns: a tuple containing the indices of the two highest values.\n",
    "    \n",
    "    >>> seals = [334, 468, 549, 836, 660, 389, 308, 392, 520, 271]\n",
    "    >>> find_two_highest_remove(seals)\n",
    "    (3, 4)\n",
    "    >>> seals == [334, 468, 549, 836, 660, 389, 308, 392, 520, 271]\n",
    "    True\n",
    "    \"\"\"\n",
    "\n",
    "    # Keep track of the indices of the two highest values found so far\n",
    "    if values[0] > values[1]:\n",
    "        high_index1, high_index2 = 0, 1\n",
    "    else:\n",
    "        high_index1, high_index2 = 1, 0\n",
    "        \n",
    "    # Examine each value in the list in order\n",
    "    #     Update the indices when a new higher value is found\n",
    "    # Return the two indices "
   ]
  },
  {
   "cell_type": "markdown",
   "metadata": {},
   "source": [
    "We will now use a for loop over the indices, because we are interested in the indices and not in the values themselves.\n",
    "\n",
    "There are alternative solutions, like using a while loop or a for loop to iterate over the values."
   ]
  },
  {
   "cell_type": "code",
   "execution_count": null,
   "metadata": {
    "slideshow": {
     "slide_type": "fragment"
    }
   },
   "outputs": [],
   "source": [
    "from typing import List, Tuple\n",
    "\n",
    "def find_two_highest_walk(values: List[int]) -> Tuple[int, int]:\n",
    "    \"\"\"\n",
    "    Find the indices of the two highest values in a list.\n",
    "    :param values: the list of values to be processed\n",
    "    :returns: a tuple containing the indices of the two highest values.\n",
    "    \n",
    "    >>> seals = [334, 468, 549, 836, 660, 389, 308, 392, 520, 271]\n",
    "    >>> find_two_highest_remove(seals)\n",
    "    (3, 4)\n",
    "    >>> seals == [334, 468, 549, 836, 660, 389, 308, 392, 520, 271]\n",
    "    True\n",
    "    \"\"\"\n",
    "    # Keep track of the indices of the two highest values found so far\n",
    "    if values[0] > values[1]:\n",
    "        high_index1, high_index2 = (0, 1)\n",
    "    else:\n",
    "        high_index1, high_index2 = (1, 0)\n",
    "        \n",
    "    # Examine each value in the list in order\n",
    "    for i in range(2, len(values)):\n",
    "        pass\n",
    "    #     Update the indices when a new higher value is found\n",
    "    # Return the two indices   "
   ]
  },
  {
   "cell_type": "markdown",
   "metadata": {
    "slideshow": {
     "slide_type": "fragment"
    }
   },
   "source": [
    "We need to update the indices if the value at the current index is higher than one of the current values.\n",
    "\n",
    "1. We have to update both indices if the value at the current index is higher than the highest values seen so far. In this case, both indices have to be updated.\n",
    "2. The value at the current index is between the highest values seen so far. Only the index of the lowest highest values has to be updated.\n",
    "3. The value at the current index is lower than the highest values seen so far. Nothing needs to be done."
   ]
  },
  {
   "cell_type": "code",
   "execution_count": null,
   "metadata": {
    "slideshow": {
     "slide_type": "fragment"
    }
   },
   "outputs": [],
   "source": [
    "from typing import List, Tuple\n",
    "\n",
    "def find_two_highest_walk(values: List[int]) -> Tuple[int, int]:\n",
    "    \"\"\"\n",
    "    Find the indices of the two highest values in a list.\n",
    "    :param values: the list of values to be processed\n",
    "    :returns: a tuple containing the indices of the two highest values.\n",
    "    \n",
    "    >>> seals = [334, 468, 549, 836, 660, 389, 308, 392, 520, 271]\n",
    "    >>> find_two_highest_remove(seals)\n",
    "    (3, 4)\n",
    "    >>> seals == [334, 468, 549, 836, 660, 389, 308, 392, 520, 271]\n",
    "    True\n",
    "    \"\"\"\n",
    "    # Keep track of the indices of the two highest values found so far\n",
    "    if values[0] > values[1]:\n",
    "        high_index1, high_index2 = (0, 1)\n",
    "    else:\n",
    "        high_index1, high_index2 = (1, 0)\n",
    "        \n",
    "    # Examine each value in the list in order\n",
    "    for i in range(2, len(values)):\n",
    "    #     Update the indices when a new higher value is found\n",
    "        if values[i] > values[high_index1]:\n",
    "            high_index2 = high_index1\n",
    "            high_index1 = i\n",
    "        elif values[i] > values[high_index2]:\n",
    "            high_index2 = i\n",
    "        \n",
    "    # Return the two indices \n",
    "    return (high_index1, high_index2)\n",
    "\n",
    "find_two_highest_walk([334, 468, 549, 836, 660, 389, 308, 392, 520, 271])"
   ]
  },
  {
   "cell_type": "code",
   "execution_count": null,
   "metadata": {
    "slideshow": {
     "slide_type": "fragment"
    }
   },
   "outputs": [],
   "source": [
    "doctest.testmod(verbose=True)  # with details"
   ]
  },
  {
   "cell_type": "markdown",
   "metadata": {
    "tags": []
   },
   "source": [
    "<div class=\"alert alert-success\">\n",
    "    <b>Do It Yourself!</b><br>\n",
    "    Create the function <i>find_two_lowest_walk</i>, which finds the indexes of the 2 lowest numbers of a list of integers received as parameter. Use the <b>walk through the list</b> algorithm to compute the expected output. \n",
    "</div>"
   ]
  },
  {
   "cell_type": "code",
   "execution_count": null,
   "metadata": {
    "tags": []
   },
   "outputs": [],
   "source": [
    "# Remove this line and add your code here"
   ]
  },
  {
   "cell_type": "markdown",
   "metadata": {},
   "source": [
    "## 2. Timing the Functions\n",
    "\n",
    "First we are going to generate a huge list of arbitrary unique numbers."
   ]
  },
  {
   "cell_type": "code",
   "execution_count": null,
   "metadata": {},
   "outputs": [],
   "source": [
    "import random\n",
    "from typing import List\n",
    "\n",
    "i: int = 0\n",
    "rdlst: List[int] = []\n",
    "    \n",
    "while i < 80000:\n",
    "    rdnr: int = random.randint(0, 1000000)\n",
    "    if rdnr not in rdlst:\n",
    "        rdlst = rdlst + [rdnr]\n",
    "    i += 1\n",
    "    \n",
    "#print(rdlst)"
   ]
  },
  {
   "cell_type": "markdown",
   "metadata": {},
   "source": [
    "Via profiling you get insight in the efficiency of your code."
   ]
  },
  {
   "cell_type": "code",
   "execution_count": null,
   "metadata": {},
   "outputs": [],
   "source": [
    "import time\n",
    "\n",
    "t1 = time.perf_counter()\n",
    "#find_two_highest_remove([334, 468, 549, 836, 660, 389, 308, 392, 520, 271])\n",
    "find_two_highest_remove(rdlst)\n",
    "t2 = time.perf_counter()\n",
    "print(\"The remove code took {:.2f}ms\".format((t2 - t1) * 1000))\n",
    "\n",
    "t1 = time.perf_counter()\n",
    "#find_two_highest_sort([334, 468, 549, 836, 660, 389, 308, 392, 520, 271])\n",
    "find_two_highest_sort(rdlst)\n",
    "t2 = time.perf_counter()\n",
    "print(\"The sort code took {:.2f}ms\".format((t2 - t1) * 1000))\n",
    "\n",
    "t1 = time.perf_counter()\n",
    "#find_two_highest_walk([334, 468, 549, 836, 660, 389, 308, 392, 520, 271])\n",
    "find_two_highest_walk(rdlst)\n",
    "t2 = time.perf_counter()\n",
    "print(\"The walk code took {:.2f}ms\".format((t2 - t1) * 1000))"
   ]
  },
  {
   "cell_type": "markdown",
   "metadata": {
    "tags": []
   },
   "source": [
    "<div class=\"alert alert-success\">\n",
    "    <b>Do It Yourself!</b><br>\n",
    "    Report the time taken by each of the three functions to return the indices of the lowest numbers of the list of integers.\n",
    "</div>"
   ]
  },
  {
   "cell_type": "code",
   "execution_count": null,
   "metadata": {
    "tags": []
   },
   "outputs": [],
   "source": [
    "# Remove this line and add your code here"
   ]
  },
  {
   "cell_type": "markdown",
   "metadata": {
    "slideshow": {
     "slide_type": "slide"
    }
   },
   "source": [
    "## 3. Searching\n",
    "\n",
    "Searching elements in a list is a frequently used operation, as we saw in the cells above. In these cells, we use the built-in method `index` on lists. \n",
    "\n",
    "We are going to present a number of different search algorithms for unsorted lists, eventually, we will produce a more efficient algorithm if the list elements are sorted."
   ]
  },
  {
   "cell_type": "markdown",
   "metadata": {
    "slideshow": {
     "slide_type": "slide"
    }
   },
   "source": [
    "### Linear Search\n",
    "\n",
    "Linear search starts with the index `0` and looks at each list item one by one, in order to see whether the element at the given index is the element we are looking for?\n",
    "\n",
    "We will give two variants, each of the variants uses a loop."
   ]
  },
  {
   "cell_type": "code",
   "execution_count": null,
   "metadata": {},
   "outputs": [],
   "source": [
    "from typing import Any, List\n",
    "\n",
    "def linear_search(lst: List, value: Any) -> int:\n",
    "    \"\"\"\n",
    "    Find the index of the first occurrence of value in lst.\n",
    "    :param lst: list of elements\n",
    "    :param value: value to be found\n",
    "    :returns: -1 if value is not found in lst or index\n",
    "    \n",
    "    >>> linear_search([2, 5, 1, -3], 5)\n",
    "    1\n",
    "    >>> linear_search([2, 4, 2], 2)\n",
    "    0\n",
    "    >>> linear_search([2, 5, 1, -3], 4)\n",
    "    -1\n",
    "    >>> linear_search([], 5)\n",
    "    -1\n",
    "    \"\"\"\n",
    "    \n",
    "    # Examine the items at each index i in lst, starting at index 0\n",
    "    # Is lst[i] the value we are looking for? If so, stop searching. "
   ]
  },
  {
   "cell_type": "markdown",
   "metadata": {},
   "source": [
    "We will first present a solution using a while-loop and an auxilary variable representing the index."
   ]
  },
  {
   "cell_type": "code",
   "execution_count": null,
   "metadata": {},
   "outputs": [],
   "source": [
    "from typing import Any, List\n",
    "\n",
    "def linear_search(lst: List, value: Any) -> int:\n",
    "    \"\"\"\n",
    "    Find the index of the first occurrence of value in lst.\n",
    "    :param lst: list of elements\n",
    "    :param value: value to be found\n",
    "    :returns: -1 if value is not found in lst or index\n",
    "    \n",
    "    >>> linear_search([2, 5, 1, -3], 5)\n",
    "    1\n",
    "    >>> linear_search([2, 4, 2], 2)\n",
    "    0\n",
    "    >>> linear_search([2, 5, 1, -3], 4)\n",
    "    -1\n",
    "    >>> linear_search([], 5)\n",
    "    -1\n",
    "    \"\"\"\n",
    "    \n",
    "    # Start at index 0\n",
    "    i: int = 0\n",
    "    # Examine the items at each index i in lst\n",
    "    # Is lst[i] the value we are looking for? If so, stop searching. \n",
    "    while i != len(lst) and lst[i] != value:\n",
    "        i += 1\n",
    "        \n",
    "    # If we have inspected all elements\n",
    "    if i == len(lst):\n",
    "        return -1\n",
    "    else:\n",
    "        return i"
   ]
  },
  {
   "cell_type": "code",
   "execution_count": null,
   "metadata": {
    "slideshow": {
     "slide_type": "fragment"
    }
   },
   "outputs": [],
   "source": [
    "import doctest\n",
    "\n",
    "doctest.testmod(verbose=True)  # with details"
   ]
  },
  {
   "cell_type": "markdown",
   "metadata": {},
   "source": [
    "The next solution present uses a for-loop and an auxilary variable representing the index."
   ]
  },
  {
   "cell_type": "code",
   "execution_count": null,
   "metadata": {},
   "outputs": [],
   "source": [
    "from typing import Any\n",
    "\n",
    "def linear_search(lst: List, value: Any) -> int:\n",
    "    \"\"\"\n",
    "    Find the index of the first occurrence of value in lst.\n",
    "    :param lst: list of elements\n",
    "    :param value: value to be found\n",
    "    :returns: -1 if value is not found in lst or index\n",
    "    \n",
    "    >>> linear_search([2, 5, 1, -3], 5)\n",
    "    1\n",
    "    >>> linear_search([2, 4, 2], 2)\n",
    "    0\n",
    "    >>> linear_search([2, 5, 1, -3], 4)\n",
    "    -1\n",
    "    >>> linear_search([], 5)\n",
    "    -1\n",
    "    \"\"\"\n",
    "    for i in range(len(lst)):\n",
    "        if lst[i] == value:\n",
    "            return i\n",
    "    return -1"
   ]
  },
  {
   "cell_type": "code",
   "execution_count": null,
   "metadata": {
    "slideshow": {
     "slide_type": "fragment"
    }
   },
   "outputs": [],
   "source": [
    "doctest.testmod(verbose=True)  # with details"
   ]
  },
  {
   "cell_type": "markdown",
   "metadata": {
    "slideshow": {
     "slide_type": "fragment"
    }
   },
   "source": [
    "Suppose the list is sorted, would you use the same search function?"
   ]
  },
  {
   "cell_type": "markdown",
   "metadata": {
    "slideshow": {
     "slide_type": "slide"
    }
   },
   "source": [
    "### Binary Search\n",
    "\n",
    "Binary search is only applicable if the elements in the list are sorted. The basic idea of binary search is the find the middle of the list, compare the value with the middle element, if the two are the equal, then the index of the middle element is returned. Otherwise two options are possible, the value is smaller the middle element then the search is continued in the first half, else the search is continued in the second half.\n",
    "\n",
    "The advantage is that the number of steps to find the index in a list with 1.000.000 is about 20!"
   ]
  },
  {
   "cell_type": "code",
   "execution_count": null,
   "metadata": {},
   "outputs": [],
   "source": [
    "from typing import Any\n",
    "\n",
    "def binary_search(lst: List, value: Any) -> int:\n",
    "    \"\"\"\n",
    "    Find the index of the first occurrence of value in lst.\n",
    "    :param lst: list of elements\n",
    "    :param value: value to be found\n",
    "    :returns: -1 if value is not found in lst or index\n",
    "    \n",
    "    >>> binary_search([1, 2, 4, 4, 5, 7, 9, 10], 1)\n",
    "    0\n",
    "    >>> binary_search([1, 2, 4, 4, 5, 7, 9, 10], 4)\n",
    "    2\n",
    "    >>> binary_search([1, 2, 4, 4, 5, 7, 9, 10], 5)\n",
    "    4\n",
    "    >>> binary_search([1, 2, 4, 4, 5, 7, 9, 10], 10)\n",
    "    7\n",
    "    >>> binary_search([1, 2, 4, 4, 5, 7, 9, 10], -3)\n",
    "    -1\n",
    "    >>> binary_search([1, 2, 4, 4, 5, 7, 9, 10], 11)\n",
    "    -1\n",
    "    >>> binary_search([1, 2, 4, 4, 5, 7, 9, 10], 3)\n",
    "    -1\n",
    "    >>> binary_search([], -3)\n",
    "    -1\n",
    "    >>> binary_search([1], 1)\n",
    "    0\n",
    "    \"\"\"\n",
    "    \n",
    "    # Mark the left and right indices of the part of the list to be searched\n",
    "    i: int = 0\n",
    "    j: int = len(lst) - 1\n",
    "    \n",
    "    while i != j + 1:\n",
    "        m = (i + j) // 2\n",
    "        if lst[m] < value:\n",
    "            i = m + 1\n",
    "        else:\n",
    "            j = m - 1\n",
    "    \n",
    "    if 0 <= i < len(lst) and lst[i] == value:\n",
    "        return i\n",
    "    else:\n",
    "        return -1\n",
    "\n",
    "    \n",
    "binary_search([1, 2, 4, 4, 5, 7, 9, 10, 12, 15, \n",
    "               20, 20, 25, 33, 33, 44, 55, 60, \n",
    "               61, 62, 64, 67, 70, 73, 76, 78], 55)"
   ]
  },
  {
   "cell_type": "code",
   "execution_count": null,
   "metadata": {
    "slideshow": {
     "slide_type": "fragment"
    }
   },
   "outputs": [],
   "source": [
    "import doctest\n",
    "\n",
    "doctest.testmod(verbose=True)  # with details"
   ]
  },
  {
   "cell_type": "markdown",
   "metadata": {},
   "source": [
    "There are a lot of test cases because the test cases cover:\n",
    "* The value is the first item.\n",
    "* The value occurs twice, we want the index of the first occurrence.\n",
    "* The value is exactly in the middle of the list.\n",
    "* The value is the last item of the list.\n",
    "* The value is smaller than all elements in the list.\n",
    "* The value is larger than all elements in the list.\n",
    "* The value is not in the list, but is larger than some but smaller than others.\n",
    "* The list has no items.\n",
    "* The list has exactly one item."
   ]
  },
  {
   "cell_type": "markdown",
   "metadata": {
    "tags": []
   },
   "source": [
    "<div class=\"alert alert-success\">\n",
    "    <b>Do It Yourself!</b><br>\n",
    "    Use the linear and the binary search to find the word <i>done</i> in the list. Profile each function and compare the time taken by each one of them.\n",
    "</div>"
   ]
  },
  {
   "cell_type": "code",
   "execution_count": null,
   "metadata": {
    "tags": []
   },
   "outputs": [],
   "source": [
    "lst = ['we', 'are', 'almost', 'done', 'with', 'the', 'course']\n",
    "\n",
    "# Remove this line and add your code here"
   ]
  },
  {
   "cell_type": "markdown",
   "metadata": {},
   "source": [
    "Again some timing measurements."
   ]
  },
  {
   "cell_type": "code",
   "execution_count": null,
   "metadata": {},
   "outputs": [],
   "source": [
    "import time\n",
    "\n",
    "t1 = time.perf_counter()\n",
    "\n",
    "idx1: int = linear_search(rdlst, 202123)\n",
    "t2 = time.perf_counter()\n",
    "print(\"The linear search code took {:.2f}ms\".format((t2 - t1) * 1000))\n",
    "print(idx1)\n",
    "\n",
    "rdlst.sort()\n",
    "\n",
    "t1 = time.perf_counter()\n",
    "idx2: int = binary_search(rdlst, 202123)\n",
    "t2 = time.perf_counter()\n",
    "print(\"The binary search code took {:.2f}ms\".format((t2 - t1) * 1000))\n",
    "print(idx2)"
   ]
  },
  {
   "cell_type": "markdown",
   "metadata": {
    "slideshow": {
     "slide_type": "slide"
    }
   },
   "source": [
    "## 4. Sorting\n",
    "\n",
    "Sorting is an operation that you need to perform frequently. There are multiple sorting algorithms, such as bubble sort, insertion sort, merge sort, quick sort, etc. Each algorithm has a different time complexity, this means the amount of time need to sort an array. \n",
    "\n",
    "Of course, Python offers built-in functions for sorting, e.g. `list.sort`.\n",
    "But it is good to understand the basic principles of various sorting algorithms."
   ]
  },
  {
   "cell_type": "markdown",
   "metadata": {
    "slideshow": {
     "slide_type": "slide"
    }
   },
   "source": [
    "### Bubble Sort\n",
    "\n",
    "The first algorithm that will be discussed is *bubble sort*.\n",
    "\n",
    "The basic idea of *bubble sort* is to move the largest element to the end of a list, array, etc. \n",
    "\n",
    "We will use a list of elements for which the comparison operator `>` is defined.\n",
    "\n",
    "Suppose we have to sort the list `[4, 3, 5, 2, 1]`.\n",
    "\n",
    "In the first step the element `5` bubbles to the end of the list, giving `[4, 3, 2, 1, 5]`.\n",
    "\n",
    "In the second step the element `4` bubbles to the end of the list, but will not pass the element `5`, giving `[3, 2, 1, 4, 5]`.\n",
    "\n",
    "In the third step the element `3` bubbles to the end of the list, but will not pass the element `4`, giving `[2, 1, 3, 4, 5]`.\n",
    "\n",
    "In the fourth step the element `2` bubbles to the end of the list, but will not pass the element `3`, giving `[1, 2, 3, 4, 5]`.\n",
    "\n",
    "The first version of *bubble sort* is a recursive version."
   ]
  },
  {
   "cell_type": "code",
   "execution_count": null,
   "metadata": {
    "slideshow": {
     "slide_type": "fragment"
    }
   },
   "outputs": [],
   "source": [
    "from typing import List\n",
    "\n",
    "def bubble_to_end(lst: List[any]) -> List[any]:\n",
    "    \"\"\" \n",
    "    Moves the largest element to the end of the list.\n",
    "    :param lst: list to be processed\n",
    "    :returns: a modified list with largest element at the end.\n",
    "    \"\"\"\n",
    "    if len(lst) <= 1:   # Stop condition for moving\n",
    "        return lst\n",
    "    else:\n",
    "        if lst[0] > lst[1]:\n",
    "            # Swap the first and second elements in the row\n",
    "            lst[0], lst[1] = lst[1], lst[0] \n",
    "        first: any = lst[0]\n",
    "        return [first] + bubble_to_end(lst[1:])\n",
    "    \n",
    "def bubble_sort_r(unsorted: List[any]) -> List[any]:\n",
    "    \"\"\" \n",
    "    Sorts a list in a recursive way.\n",
    "    :param unsorted: unsorted list\n",
    "    :returns: sorted list.\n",
    "    \n",
    "    >>> bubble_sort_r([3, 4, 7, -1, 2, 5])\n",
    "    [-1, 2, 3, 4, 5, 7]\n",
    "    >>> bubble_sort_r([])\n",
    "    []\n",
    "    >>> bubble_sort_r([5, 4, 3, 2, 1])\n",
    "    [1, 2, 3, 4, 5]\n",
    "    \"\"\"\n",
    "    if len(unsorted) <= 1:  # Stop condition for sorting\n",
    "        return unsorted\n",
    "    else:\n",
    "        unsorted = bubble_to_end(unsorted)    #move (bubble) largest element to the end\n",
    "        print(unsorted)\n",
    "        last: any = unsorted.pop()               #remove last element and remember it\n",
    "        sortedList = bubble_sort_r(unsorted)\n",
    "        print(sortedList)\n",
    "        return sortedList + [last]  #sort the rest and concatenate last element\n",
    "    \n",
    "print(bubble_sort_r([4, 3, 5, 2, 1]))"
   ]
  },
  {
   "cell_type": "code",
   "execution_count": null,
   "metadata": {
    "slideshow": {
     "slide_type": "fragment"
    }
   },
   "outputs": [],
   "source": [
    "import doctest\n",
    "\n",
    "doctest.testmod(verbose=True)  # with details"
   ]
  },
  {
   "cell_type": "markdown",
   "metadata": {
    "slideshow": {
     "slide_type": "fragment"
    }
   },
   "source": [
    "The time complexity of the *bubble sort* algorithm is $n^2$ worst case.\n",
    "\n",
    "The next cell shows the iterative version of *bubble sort*, it has the same time complexity."
   ]
  },
  {
   "cell_type": "code",
   "execution_count": null,
   "metadata": {
    "slideshow": {
     "slide_type": "fragment"
    }
   },
   "outputs": [],
   "source": [
    "from typing import List\n",
    "\n",
    "def bubble_sort(unsorted : List[any]) -> List[any]:\n",
    "    \"\"\" \n",
    "    Sorts a list in a recursive way.\n",
    "    :param unsorted: unsorted list\n",
    "    :returns: sorted list.\n",
    "    \n",
    "    >>> bubble_sort_r([3, 4, 7, -1, 2, 5])\n",
    "    [-1, 2, 3, 4, 5, 7]\n",
    "    >>> bubble_sort_r([])\n",
    "    []\n",
    "    >>> bubble_sort_r([5, 4, 3, 2, 1])\n",
    "    [1, 2, 3, 4, 5]\n",
    "    \"\"\"\n",
    "    offset: int = 1\n",
    "    swapped: bool = True\n",
    "    while swapped:  #Non-terminating loop\n",
    "        swapped = False\n",
    "        #move the biggest element to the end of the list\n",
    "        for i in range(len(unsorted) - offset): \n",
    "            if unsorted[i] > unsorted[i + 1]:\n",
    "                unsorted[i], unsorted[i + 1] = unsorted[i + 1], unsorted[i] #swap\n",
    "                swapped = True\n",
    "                \n",
    "        # you can ignore the last element(s) because they are sorted       \n",
    "        offset += 1\n",
    "        #print(unsorted)\n",
    "        #print(offset)\n",
    "        \n",
    "    return unsorted\n",
    "        \n",
    "print(bubble_sort([4, 3, 5, 2, 1]))"
   ]
  },
  {
   "cell_type": "code",
   "execution_count": null,
   "metadata": {
    "slideshow": {
     "slide_type": "fragment"
    }
   },
   "outputs": [],
   "source": [
    "doctest.testmod(verbose=True)  # with details"
   ]
  },
  {
   "cell_type": "code",
   "execution_count": null,
   "metadata": {},
   "outputs": [],
   "source": [
    "import random\n",
    "from typing import List\n",
    "\n",
    "i: int = 0\n",
    "rdlst: List[int] = []\n",
    "    \n",
    "while i < 10000:\n",
    "    rdnr: int = random.randint(0,1000000)\n",
    "    if rdnr not in rdlst:\n",
    "        rdlst = rdlst + [rdnr]\n",
    "    i += 1\n",
    "    \n",
    "#print(rdlst)"
   ]
  },
  {
   "cell_type": "markdown",
   "metadata": {},
   "source": [
    "Again some timing measurements."
   ]
  },
  {
   "cell_type": "code",
   "execution_count": null,
   "metadata": {},
   "outputs": [],
   "source": [
    "import time\n",
    "\n",
    "org_lst = rdlst.copy()\n",
    "\n",
    "t1 = time.perf_counter()\n",
    "lst2: List[int] = bubble_sort(rdlst)\n",
    "t2 = time.perf_counter()\n",
    "print(\"The binary search code took {:.2f}ms\".format((t2 - t1) * 1000))"
   ]
  },
  {
   "cell_type": "markdown",
   "metadata": {
    "slideshow": {
     "slide_type": "slide"
    }
   },
   "source": [
    "### Insertion Sort\n",
    "\n",
    "The second algorithm that will be discussed is *insertion sort*.\n",
    "\n",
    "The basic idea of *insertion sort* is to move the smaller elements in front of bigger elements.  \n",
    "\n",
    "We will use a list of elements for which the comparison operator `>` is defined.\n",
    "\n",
    "Suppose we have to sort the list `[4, 3, 5, 2, 1]`.\n",
    "\n",
    "In the first step the element `3` will be inserted before the `4` in the list, giving `[3, 4, 5, 2, 1]`. This is done by storing the value `3` and copying the `4` to the place of the `3`, the intermediate result is: `[4, 4, 5, 2, 1]`. Now the original `4` is replaced by `3`, giving `[3, 4, 5, 2, 1]`.\n",
    "\n",
    "In the second step the first 3 elements `3, 4, 5` are sorted and next element `2` must be inserted before the `3`. This is done by storing the value `2` and copying the first 3 elements one position to the right, the intermediate result is: `[3, 3, 4, 5, 1]`.Now the original `3` is replaced by `3`, giving `[2, 3, 4, 5, 1]`.\n",
    "\n",
    "In the third and final step the first 4 elements `2, 3, 4, 5` are sorted and next element `1` must be inserted before the `2`. This is done by storing the value `1` and copying the first 4 elements one position to the right, the intermediate result is: `[2, 2, 3, 4, 5]`.Now the original `2` is replaced by `1`, giving `[1, 2, 3, 4, 5]`.\n",
    "\n",
    "\n",
    "The next cell shows a version of *insertion sort*."
   ]
  },
  {
   "cell_type": "code",
   "execution_count": null,
   "metadata": {
    "slideshow": {
     "slide_type": "fragment"
    }
   },
   "outputs": [],
   "source": [
    "from typing import List\n",
    "\n",
    "def insertion_sort(unsorted: List[any]) -> List[any]:\n",
    "    \"\"\"\n",
    "    Sorts the list by inserting the values at the right position in the list.\n",
    "    :param unsorted: unsorted list\n",
    "    :returns: sorted list\n",
    "    \n",
    "    >>> insertion_sort([3, 4, 7, -1, 2, 9, 5])\n",
    "    [-1, 2, 3, 4, 5, 7, 9]\n",
    "    >>> insertion_sort([])\n",
    "    []\n",
    "    >>> insertion_sort([6, 5, 4, 3, 2, 1])\n",
    "    [1, 2, 3, 4, 5, 6]\n",
    "    \"\"\"\n",
    "    for index in range(1, len(unsorted)):\n",
    "        currentvalue: any = unsorted[index]\n",
    "        position: int = index\n",
    "\n",
    "        # print(unsorted)\n",
    "        # shift elements that are greater than the \"current value\" to the right and\n",
    "        # create an \"open\" slot in the list to insert the \"current value\".\n",
    "        while position > 0 and unsorted[position - 1] > currentvalue:\n",
    "            unsorted[position] = unsorted[position - 1]\n",
    "            position -= 1\n",
    "        #print(unsorted)\n",
    "        unsorted[position] = currentvalue\n",
    "    \n",
    "    return unsorted\n",
    "\n",
    "alist = [54, 26, 93, 17, 77, 31, 44, 55, 20]\n",
    "sortedList = insertion_sort(alist)\n",
    "print(sortedList)"
   ]
  },
  {
   "cell_type": "code",
   "execution_count": null,
   "metadata": {
    "slideshow": {
     "slide_type": "fragment"
    }
   },
   "outputs": [],
   "source": [
    "import doctest\n",
    "\n",
    "doctest.testmod(verbose=True)  # with details"
   ]
  },
  {
   "cell_type": "code",
   "execution_count": null,
   "metadata": {},
   "outputs": [],
   "source": [
    "import time\n",
    "\n",
    "rdlst = org_lst.copy()\n",
    "\n",
    "t1 = time.perf_counter()\n",
    "lst1: List[int] = bubble_sort(rdlst)\n",
    "t2 = time.perf_counter()\n",
    "print(\"The binary search code took {:.2f}ms\".format((t2 - t1) * 1000))\n",
    "\n",
    "rdlst = org_lst.copy()\n",
    "\n",
    "t1 = time.perf_counter()\n",
    "lst2: List[int] = insertion_sort(rdlst)\n",
    "t2 = time.perf_counter()\n",
    "print(\"The insertion search code took {:.2f}ms\".format((t2 - t1) * 1000))\n",
    "\n",
    "if lst1 == lst2:\n",
    "    print(\"lst1 == lst2\")"
   ]
  },
  {
   "cell_type": "markdown",
   "metadata": {
    "slideshow": {
     "slide_type": "slide"
    }
   },
   "source": [
    "### Merge Sort\n",
    "\n",
    "The third algorithm that will be discussed is *merge sort*. This algorithm and the next are based on the same idea as the *binary_search* algorithm. Splitting the list recursively in 2 parts and sort each part and then merge.\n",
    "\n",
    "The basic idea of *merge sort* is to split the list in two halves and sort each halves\n",
    "and merge the both into one list again.\n",
    "\n",
    "We will use again a list of elements for which the comparison operator `>` is defined.\n",
    "\n",
    "Suppose we have to sort the list `[4, 3, 5, 2, 1]`.\n",
    "\n",
    "In the first step the list is splitted into `[4, 3]` and `[5, 2, 1]`\n",
    "\n",
    "In the second step the list `[4, 3]` is splitted into `[4]` and `[3]`, and\n",
    "the resulting two 'sorted lists' are merged into `[3, 4]`.\n",
    "\n",
    "In the third step the list `[5, 2, 1]` is splitted into `[5]` and `[2, 1]`.\n",
    "\n",
    "In the fourth step the list `[2, 1]` is splitted into `[2]` and `[1]`, and\n",
    "the resulting two 'sorted lists' are merged into `[1, 2]`. \n",
    "\n",
    "The list `[1, 2]` can now be merged with the sorted list `[5]`, resulting in `[1, 2, 5]`.\n",
    "\n",
    "The list `[1, 2, 5]` can now be merged with the sorted list `[3, 4]`, resulting in the sorted list `[1, 2, 3, 4, 5]`.\n",
    "\n",
    "The  version of *merge sort* is a recursive version."
   ]
  },
  {
   "cell_type": "code",
   "execution_count": null,
   "metadata": {
    "slideshow": {
     "slide_type": "fragment"
    }
   },
   "outputs": [],
   "source": [
    "from typing import List\n",
    "\n",
    "def merging(left_sorted: List[any], right_sorted: List[any]) -> List[any]:\n",
    "    \"\"\"\n",
    "    merging two lists into a merged list\n",
    "    :param left_sorted: one sorted list\n",
    "    :param right_sorted: another sorted list\n",
    "    :returns: merged sorted list\n",
    "    \"\"\"\n",
    "    \n",
    "    sorted_list: List[any] = []\n",
    "    i: int = 0\n",
    "    j: int = 0\n",
    "    while i < len(left_sorted) and j < len(right_sorted):\n",
    "        if left_sorted[i] < right_sorted[j]:\n",
    "            sorted_list.append(left_sorted[i])\n",
    "            i += 1\n",
    "        else:\n",
    "            sorted_list.append(right_sorted[j])\n",
    "            j += 1\n",
    "\n",
    "    if i < len(left_sorted):\n",
    "        sorted_list += left_sorted[i:]\n",
    "\n",
    "    if j < len(right_sorted):\n",
    "        sorted_list += right_sorted[j:]\n",
    "\n",
    "#    print(\"Merging \", sorted_list)\n",
    "    return sorted_list\n",
    "\n",
    "def merge_sort(unsorted: List[any]) -> List[any]:\n",
    "    \"\"\"\n",
    "    Sorts a list by means of divide and conquer.\n",
    "    :param unsorted: unsorted list\n",
    "    :returns: sorted list.\n",
    "    \n",
    "    >>> merge_sort([3, 4, 7, -1, 2, 9, 5])\n",
    "    [-1, 2, 3, 4, 5, 7, 9]\n",
    "    >>> merge_sort([])\n",
    "    []\n",
    "    >>> merge_sort([6, 5, 4, 3, 2, 1])\n",
    "    [1, 2, 3, 4, 5, 6]\n",
    "    \"\"\"\n",
    "    if len(unsorted) > 1:\n",
    "        middle = len(unsorted) // 2\n",
    "        left_unsorted = unsorted[:middle]\n",
    "        right_unsorted = unsorted[middle:]\n",
    "\n",
    "        left_sorted = merge_sort(left_unsorted)\n",
    "        right_sorted = merge_sort(right_unsorted)\n",
    "\n",
    "        return merging(left_sorted, right_sorted)\n",
    "    else:\n",
    "        return unsorted\n",
    "    \n",
    "\n",
    "alist = [54, 26, 93, 17, 77, 31, 44, 55, 20]\n",
    "#alist = [4, 3, 5, 2, 1]\n",
    "print(alist)\n",
    "sList = merge_sort(alist)\n",
    "print(sList)"
   ]
  },
  {
   "cell_type": "code",
   "execution_count": null,
   "metadata": {
    "slideshow": {
     "slide_type": "fragment"
    }
   },
   "outputs": [],
   "source": [
    "import doctest\n",
    "\n",
    "doctest.testmod(verbose=True)  # with details"
   ]
  },
  {
   "cell_type": "markdown",
   "metadata": {
    "slideshow": {
     "slide_type": "fragment"
    }
   },
   "source": [
    "*merge sort* is more efficient than *bubble sort* because of the *divide-and-conquer* strategy, however the creation of intermediate lists may be problematic.\n",
    "\n"
   ]
  },
  {
   "cell_type": "code",
   "execution_count": null,
   "metadata": {},
   "outputs": [],
   "source": [
    "import time\n",
    "\n",
    "rdlst = org_lst.copy()\n",
    "\n",
    "t1 = time.perf_counter()\n",
    "lst1: List[int] = bubble_sort(rdlst)\n",
    "t2 = time.perf_counter()\n",
    "print(\"The bubble sort took {:.2f}ms\".format((t2 - t1) * 1000))\n",
    "\n",
    "rdlst = org_lst.copy()\n",
    "\n",
    "t1 = time.perf_counter()\n",
    "lst2: List[int] = insertion_sort(rdlst)\n",
    "t2 = time.perf_counter()\n",
    "print(\"The insertion sort took {:.2f}ms\".format((t2 - t1) * 1000))\n",
    "\n",
    "rdlst = org_lst.copy()\n",
    "\n",
    "t1 = time.perf_counter()\n",
    "lst3: List[int] = merge_sort(rdlst)\n",
    "t2 = time.perf_counter()\n",
    "print(\"The merge sort took {:.2f}ms\".format((t2 - t1) * 1000))\n",
    "\n",
    "if lst1 == lst2:\n",
    "    print(\"lst1 == lst2\")\n",
    "\n",
    "if lst1 == lst3:\n",
    "    print(\"lst1 == lst3\")"
   ]
  },
  {
   "cell_type": "markdown",
   "metadata": {
    "slideshow": {
     "slide_type": "slide"
    }
   },
   "source": [
    "### Quicksort\n",
    "\n",
    "Quicksort is an algorithm presented by Tony Hoare in 1962.\n",
    "<img src=\"assets/CAR_Hoare.jpg\" width=400 height=400 />\n",
    "\n",
    "It is like merge sort a recursive algorithm, where the list \n",
    "to be sorted is recursively \"split\" into 2 parts, sorted and \n",
    "combined again. In contrast to merge sort,\n",
    "where the split is done based on the length of the list, \n",
    "each half is sorted and the results are merged. In case of quicksort\n",
    "the splitting results two parts that can be concatenated.\n",
    "This is possible because a *pivot* is chosen and the elements \n",
    "of the list are reshuffled in relation to the pivot. Elements\n",
    "smaller than the pivot are moved to left of the pivot, elements greater\n",
    "than the pivot are moved to the right of the pivot.\n",
    "\n",
    "The challenge is to find the right pivot. The better the pivot the faster the algorithm, because the sublist (left and right of the pivot) will be more or less of the same length."
   ]
  },
  {
   "cell_type": "code",
   "execution_count": null,
   "metadata": {},
   "outputs": [],
   "source": [
    "def partition(array: List[any], low: int, high: int) -> int: \n",
    "    \"\"\" \n",
    "    Reshuffles the elements of the list according to a pivot.\n",
    "    The arbitrary chosen pivot is the last element of the list.\n",
    "    The pivot is moved to the \"middle\" of the list.\n",
    "    :param array: list of elements\n",
    "    :param low: index in the list\n",
    "    :param high: index in the list\n",
    "    :returns: index of the pivot.\n",
    "    \n",
    "    >>> L = [1]\n",
    "    >>> partition(L, 0, 0)\n",
    "    0\n",
    "    >>> L = [5, 4, 2, 1, 3]\n",
    "    >>> partition(L, 0, 4)\n",
    "    2\n",
    "    >>> L = [5, 4, 3, 2, 1]\n",
    "    >>> partition(L, 0, 4)\n",
    "    0\n",
    "    \"\"\"\n",
    "    i: int  = low - 1             # index of smaller element \n",
    "    pivot: any = array[high]     # choose a pivot \n",
    "  \n",
    "    for j in range(low, high): \n",
    "  \n",
    "        # If current element is smaller than or equal to pivot \n",
    "        if array[j] <= pivot: \n",
    "            # increment index of smaller element and swap elements\n",
    "            i += 1 \n",
    "            array[i], array[j] = array[j], array[i] \n",
    "            \n",
    "    # swap the pivot to the right position\n",
    "    array[i + 1], array[high] = array[high], array[i + 1] \n",
    "    \n",
    "    #return the index of the pivot\n",
    "    return i + 1 \n",
    "  \n",
    "# The main function that implements QuickSort \n",
    "# arr[] --> Array to be sorted, \n",
    "# low  --> Starting index, \n",
    "# high  --> Ending index \n",
    "  \n",
    "# Function to do Quick sort \n",
    "def quick_sort(array: List[any], low: int, high: int) -> None: \n",
    "    \"\"\"\n",
    "    Sorts a list by partitioning the list in two parts,\n",
    "    a part with elements smaller than a pivot and elements greater\n",
    "    than the pivot.\n",
    "    The partitioned parts are recursively sorted.\n",
    "    :param array: list of elements to be sorted\n",
    "    :param low: index in the list\n",
    "    :param high: index in the list\n",
    "    :returns: sorted list.\n",
    "    \n",
    "    >>> L = [3, 4, 7, -1, 2, 5]\n",
    "    >>> quick_sort(L, 0, 5)\n",
    "    >>> L\n",
    "    [-1, 2, 3, 4, 5, 7]\n",
    "    \"\"\"\n",
    "    if low < high: \n",
    "  \n",
    "        # pi is partitioning index, arr[p] is now \n",
    "        # at right place \n",
    "        pi: int = partition(array, low, high) \n",
    "  \n",
    "        # Separately sort elements before \n",
    "        # partition and after partition \n",
    "        quick_sort(array, low, pi - 1) \n",
    "        quick_sort(array, pi + 1, high) \n",
    "        \n",
    "alist = [54,26,93,17,77,31,44,55,20]\n",
    "#alist = [4, 3, 5, 2, 1]\n",
    "print(alist)\n",
    "quick_sort(alist, 0, len(alist)-1)\n",
    "print(alist)"
   ]
  },
  {
   "cell_type": "code",
   "execution_count": null,
   "metadata": {},
   "outputs": [],
   "source": [
    "import doctest\n",
    "\n",
    "doctest.testmod(verbose=True)  # with details"
   ]
  },
  {
   "cell_type": "code",
   "execution_count": null,
   "metadata": {},
   "outputs": [],
   "source": [
    "import time\n",
    "\n",
    "rdlst = org_lst.copy()\n",
    "\n",
    "t1 = time.perf_counter()\n",
    "lst1: List[int] = bubble_sort(rdlst)\n",
    "t2 = time.perf_counter()\n",
    "print(\"The bubble sort took {:.2f}ms\".format((t2 - t1) * 1000))\n",
    "\n",
    "rdlst = org_lst.copy()\n",
    "\n",
    "t1 = time.perf_counter()\n",
    "lst2: List[int] = insertion_sort(rdlst)\n",
    "t2 = time.perf_counter()\n",
    "print(\"The insertion sort took {:.2f}ms\".format((t2 - t1) * 1000))\n",
    "\n",
    "rdlst = org_lst.copy()\n",
    "\n",
    "t1 = time.perf_counter()\n",
    "lst3: List[int] = merge_sort(rdlst)\n",
    "t2 = time.perf_counter()\n",
    "print(\"The merge sort took {:.2f}ms\".format((t2 - t1) * 1000))\n",
    "\n",
    "rdlst1 = org_lst.copy()\n",
    "\n",
    "t1 = time.perf_counter()\n",
    "quick_sort(rdlst1, 0, len(rdlst1) - 1)\n",
    "t2 = time.perf_counter()\n",
    "print(\"The quick sort took {:.2f}ms\".format((t2 - t1) * 1000))\n",
    "\n",
    "rdlst2 = org_lst.copy()\n",
    "\n",
    "t1 = time.perf_counter()\n",
    "rdlst2.sort()\n",
    "t2 = time.perf_counter()\n",
    "print(\"The python sort took {:.2f}ms\".format((t2 - t1) * 1000))\n",
    "\n",
    "if lst1 == lst2:\n",
    "    print(\"lst1 == lst2\")\n",
    "\n",
    "if lst1 == lst3:\n",
    "    print(\"lst1 == lst3\")\n",
    "\n",
    "if lst1 == rdlst1:\n",
    "    print(\"lst1 == rdlst1\")\n",
    "\n",
    "if lst1 == rdlst2:\n",
    "    print(\"lst1 == rdlst2\")"
   ]
  },
  {
   "cell_type": "markdown",
   "metadata": {
    "tags": []
   },
   "source": [
    "<div class=\"alert alert-success\">\n",
    "    <b>Do It Yourself!</b><br>\n",
    "    Use the four functions to sort an array of integers and profile each one of them. Create a copy of the list otherwise you will end up sorting the same list. What is the difference among each algorithm?\n",
    "</div>"
   ]
  },
  {
   "cell_type": "code",
   "execution_count": null,
   "metadata": {
    "tags": []
   },
   "outputs": [],
   "source": [
    "lst = [54, 26, 93, 17, 77, 31, 44, 55, 20]\n",
    "\n",
    "# Remove this line and add your code here"
   ]
  },
  {
   "cell_type": "markdown",
   "metadata": {},
   "source": [
    "**Advice:** when writing code always make sure that the code is correct (via testing for instance) before starting optimizing."
   ]
  },
  {
   "cell_type": "markdown",
   "metadata": {},
   "source": [
    "---\n",
    "This Jupyter Notebook is based on external content related to algorithms (e.g. searching and sorting)."
   ]
  },
  {
   "cell_type": "markdown",
   "metadata": {},
   "source": [
    "---\n",
    "\n",
    "# (End of Notebook)\n",
    "\n",
    "&copy; 2022-2023 - **TU/e** - Eindhoven University of Technology"
   ]
  }
 ],
 "metadata": {
  "anaconda-cloud": {},
  "kernelspec": {
   "display_name": "Python 3 (ipykernel)",
   "language": "python",
   "name": "python3"
  },
  "language_info": {
   "codemirror_mode": {
    "name": "ipython",
    "version": 3
   },
   "file_extension": ".py",
   "mimetype": "text/x-python",
   "name": "python",
   "nbconvert_exporter": "python",
   "pygments_lexer": "ipython3",
   "version": "3.9.7"
  }
 },
 "nbformat": 4,
 "nbformat_minor": 4
}
