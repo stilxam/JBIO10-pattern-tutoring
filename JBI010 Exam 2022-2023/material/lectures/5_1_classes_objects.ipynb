{
 "cells": [
  {
   "cell_type": "markdown",
   "metadata": {
    "slideshow": {
     "slide_type": "slide"
    }
   },
   "source": [
    "# Classes and Objects"
   ]
  },
  {
   "cell_type": "markdown",
   "metadata": {
    "slideshow": {
     "slide_type": "fragment"
    }
   },
   "source": [
    "_(c) 2022, Mark van den Brand and Lina Ochoa Venegas, Eindhoven University of Technology_"
   ]
  },
  {
   "cell_type": "markdown",
   "metadata": {},
   "source": [
    "## Table of Contents\n",
    "\n",
    "- [1. Object-Oriented Programming (A Bit of History)](#1.-Object-Oriented-Programming-(A-Bit-of-History))\n",
    "- [2. Introduction](#2.-Introduction)\n",
    "- [3. Programmer-defined Types](#3.-Programmer-defined-Types)\n",
    "- [4. The `Point` Class](#4.-The-Point-Class)\n",
    "- [5. The `init` Method](#5.-The-init-Method)\n",
    "- [6. Printing an Object](#6.-Printing-an-Object)\n",
    "- [7. The `str` Method](#7.-The-str-Method)\n",
    "- [8. Rectangles](#8.-Rectangles)\n",
    "- [9. Classes and Objects](#9.-Classes-and-Objects)\n",
    "- [10. Instances as Return Values](#10.-Instances-as-Return-Values)\n",
    "- [11. Objects are Mutable](#11.-Objects-are-Mutable)\n",
    "- [12. Copying](#12.-Copying)"
   ]
  },
  {
   "cell_type": "markdown",
   "metadata": {},
   "source": [
    "## 1. Object-Oriented Programming (A Bit of History)\n",
    "\n",
    "The terms \"**objects**\" and \"**oriented**\" in the modern sense of object-oriented programming made first appeared at MIT in the late 1950s and early 1960s. \n",
    "In the environment of the artificial intelligence group, as early as 1960, \"object\" could refer to identified items (LISP atoms) with properties (attributes). \n",
    "Another early MIT example was *Sketchpad* created by Ivan Sutherland between 1960–1961. \n",
    "De defined the notions of \"object\" and \"**instance**\" (with the *class* concept covered by \"master\" or \"definition\"), albeit specialized to graphical interaction.\n",
    "\n",
    "*Simula* is the name of two simulation programming languages, *Simula I* and *Simula 67*, developed in the 1960s at the Norwegian Computing Center in Oslo, by Ole-Johan Dahl and Kristen Nygaard. \n",
    "Syntactically, it is an superset of ALGOL 60. \n",
    "Simula 67 introduced **objects**, **classes**, **inheritance** and **subclasses**, **virtual procedures**, **coroutines**, and featured **garbage collection**. \n",
    "Simula is considered the real first object-oriented programming language. \n",
    "The influence of Simula is often understated, and Simula-type objects are reimplemented in *C++*, *Object Pascal*, *Java*, *C#*, and many other languages. \n",
    "Computer scientists such as Bjarne Stroustrup, creator of C++, and James Gosling, creator of Java, have acknowledged Simula as a major influence.\n",
    "\n",
    "<img src=\"assets/Ole-Johan_Dahl.jpg\" alt=\"Ole-Johan Dahl\" width=\"300\"/>\n",
    "\n",
    "<div style=\"text-align:center\">\n",
    "    <span style=\"font-size:0.9em; font-weight: bold;\">Ole-Johan Dahl.</span>\n",
    "</div>\n",
    "<br>\n",
    "<img src=\"assets/220px-Kristen-Nygaard-SBLP-1997-head.png\" alt=\"Kristen Nygaard\" width=\"300\"/>\n",
    "\n",
    "<div style=\"text-align:center\">\n",
    "    <span style=\"font-size:0.9em; font-weight: bold;\">Kristen Nygaard.</span>\n",
    "</div>\n",
    "<br>\n"
   ]
  },
  {
   "cell_type": "markdown",
   "metadata": {},
   "source": [
    "## 2. Introduction\n",
    "\n",
    "There are two major programming paradigms: **imperative** and **declarative**. The difference between these two paradigms can be characterized as *how* versus *what*. In the first paradigm your code gives step-by-step solution, so you give the precise control flow, whereas the second paradigm gives a solution without describing the control flow. Programming languages support one of these paradigms. The **imperative** programming languages can be **procedural**\n",
    "(Pascal, C, Algol, etc.) or **object-oriented** (Java, C++, C#, etc.). \n",
    "The **logical** (Prolog) and **functional** (Haskell, Clean) programming languages are examples of the **declarative** paradigm. This is a very rough classification, if you want to learn more, please read the book \"Concepts of Programming Languages\" by Robert Sebesta.\n",
    "\n",
    "So far, we have seen the imperative way of programming in Python: creating data structures, and developing functions that manipulate such data structures. \n",
    "We will gradualy introduce concepts from **object-oriented** programming.\n",
    "\n",
    "The idea of object-oriented programming is to bring code and data together; this will increase the level of abstraction and facilitates encapsulation of data. \n",
    "\n",
    "The Object-Oriented (OO) paradigm enables information hiding, the underlying structure is invisible and the programmer can use, among others, so-called *getters* and *setters* to manipulate the data.\n",
    "\n",
    "Object-orientation is already quite old, in 1962 the language *Simula* was introduced which had already concepts like classes and objects, inheritance, and dynamic binding. \n",
    "In 1970 the language *Smalltalk* was introduced. If you want to learn more about the history of programming languages read the book \"History of Programming Languages\" by Thomas Bergin and Richard Gibson.\n",
    "\n",
    "<img src=\"assets/CoverHistoryofPL.jpg\" alt=\"Cover of History of Programming Languags\" width=\"500\"/>\n",
    "\n",
    "<div style=\"text-align:center\">\n",
    "    <span style=\"font-size:0.9em; font-weight: bold;\">Cover of History of Programming Languages.</span>\n",
    "</div>\n",
    "<br>\n",
    "\n",
    "The most popular and used object-oriented programming languages nowadays are C++, C#, Java and, of course, Python.\n",
    "\n",
    "## Why is object-oriented programming so important?\n",
    "\n",
    "It allows us to structure our software in a flexible and proper way. \n",
    "You will see that when you start developing software, your code becomes rapidly (very) big. \n",
    "Programs of hundreds or even thousands of lines of code are no exception. \n",
    "Bulky code is hard to develop and more importantly to understand and maintain. \n",
    "About 80% of all the time spent on software development is devoted to maintenance and of this amount of maintenance time is spent on understanding the code, this is also around 75%. \n",
    "So, any mechanism to structure your code in a better way reduces the maintenance time of your code. \n",
    "Object-oriented programming is an important mechanism to do so. \n",
    "This is one of the most important reasons for the popularity of object-oriented programming. \n",
    "Python modules are often developed using object-oriented programming.\n",
    "An important example in data science is `pandas`, which uses the `Series` and `DataFrame` classes as building blocks for all their analyses."
   ]
  },
  {
   "cell_type": "markdown",
   "metadata": {
    "slideshow": {
     "slide_type": "slide"
    }
   },
   "source": [
    "## 3. Programmer-defined Types\n",
    "\n",
    "We have seen and used a number of built-in types of Python like **tuples**, **lists**, **sets**, and **dictionaries**.\n",
    "\n",
    "However, if you want to describe a real-life object, such as a house, a bank account or an employee, the built-in types may not be powerful enough. \n",
    "Of course, you need to think of how you would characterize a house, there are multiple ways of doing this. \n",
    "For instance,\n",
    "you can characterize the house as an *appartment*, *stand-alone*, but maybe also by the number of rooms, the number of floors,\n",
    "or its address. \n",
    "\n",
    "So, to desribe an object like a house, we are now going to define our own types. We will start with something very simple,\n",
    "because a house is far to complex."
   ]
  },
  {
   "cell_type": "markdown",
   "metadata": {
    "slideshow": {
     "slide_type": "slide"
    }
   },
   "source": [
    "## 4. The `Point` Class\n",
    "\n",
    "We will start by creating a type called `Point` that represents a point in a two-dimensional space.\n",
    "In mathematical notation, points are often written in parentheses with a comma separating the coordinates. \n",
    "$(0, 0)$ represents the origin, and $(x, y)$ represents the point $x$\n",
    "units to the right and $y$ units up from the origin.\n",
    "\n",
    "There are several ways we might represent points in Python:\n",
    "\n",
    "* We could store the coordinates separately in two variables, `x` and `y`.\n",
    "* We could store the coordinates as elements in a list or tuple.\n",
    "* We could create a new type to represent points as objects.\n",
    "\n",
    "Creating a new type is more complicated than the other options, but it offers numerous advantages as we will see later on.\n",
    "\n",
    "A programmer-defined type is also called a **class**. \n",
    "The following cell shows the class definition for `Point`."
   ]
  },
  {
   "cell_type": "code",
   "execution_count": null,
   "metadata": {
    "slideshow": {
     "slide_type": "fragment"
    }
   },
   "outputs": [],
   "source": [
    "class Point:\n",
    "    \"\"\"\n",
    "    Represents a point in a 2-D space.\n",
    "    \"\"\""
   ]
  },
  {
   "cell_type": "markdown",
   "metadata": {},
   "source": [
    "A new class `Point` has been introduced. "
   ]
  },
  {
   "cell_type": "markdown",
   "metadata": {
    "jupyter": {
     "source_hidden": true
    },
    "tags": []
   },
   "source": [
    "<div class=\"alert alert-success\">\n",
    "    <b>Do It Yourself!</b><br>\n",
    "    Define the class <i>Dog</i>, which represents a dog (obviously). Include a docstring with the description of the class.\n",
    "</div>"
   ]
  },
  {
   "cell_type": "code",
   "execution_count": null,
   "metadata": {
    "jupyter": {
     "source_hidden": true
    },
    "tags": []
   },
   "outputs": [],
   "source": [
    "# Remove this line and add your code here"
   ]
  },
  {
   "cell_type": "markdown",
   "metadata": {
    "slideshow": {
     "slide_type": "fragment"
    }
   },
   "source": [
    "There is not much you can do so far with this class `Point`.\n",
    "The body is a docstring that explains what the class defines or is used for.\n",
    "Defining a class named `Point` creates a **class object**."
   ]
  },
  {
   "cell_type": "code",
   "execution_count": null,
   "metadata": {
    "slideshow": {
     "slide_type": "fragment"
    }
   },
   "outputs": [],
   "source": [
    "Point"
   ]
  },
  {
   "cell_type": "markdown",
   "metadata": {
    "slideshow": {
     "slide_type": "fragment"
    }
   },
   "source": [
    "Because `Point` is defined at the top level, its “full name” is `__main__.Point`.\n",
    "\n",
    "The class object is like a **factory** for creating objects; it is a built-in mechanism that based on the class allocates pieces of memory to store the data. \n",
    "Every object is a separate allocated piece of memory.\n",
    "\n",
    "To create a `Point`, you call `Point` as if it was a function."
   ]
  },
  {
   "cell_type": "code",
   "execution_count": null,
   "metadata": {
    "scrolled": true,
    "slideshow": {
     "slide_type": "fragment"
    }
   },
   "outputs": [],
   "source": [
    "pnt: Point = Point()\n",
    "pnt"
   ]
  },
  {
   "cell_type": "markdown",
   "metadata": {
    "slideshow": {
     "slide_type": "fragment"
    }
   },
   "source": [
    "The return value is a reference to a `Point` object, which we assign to the variable `pnt`.\n",
    "\n",
    "Creating a new object is called **instantiation**, and the object is an **instance** of the class.\n",
    "When you print an instance, Python tells you what class it belongs to and where it is stored in memory.\n",
    "Every object is an instance of some class, so “object” and “instance” are interchangeable."
   ]
  },
  {
   "cell_type": "markdown",
   "metadata": {
    "jupyter": {
     "source_hidden": true
    },
    "tags": []
   },
   "source": [
    "<div class=\"alert alert-success\">\n",
    "    <b>Do It Yourself!</b><br>\n",
    "    Create an instance of a Dog and assign its value to a the variable <i>doggy</i>.\n",
    "</div>"
   ]
  },
  {
   "cell_type": "code",
   "execution_count": null,
   "metadata": {
    "jupyter": {
     "source_hidden": true
    },
    "tags": []
   },
   "outputs": [],
   "source": [
    "# Remove this line and add your code here"
   ]
  },
  {
   "cell_type": "markdown",
   "metadata": {},
   "source": [
    "## 5. The `init` Method\n",
    "\n",
    "The class `Point` we have created in the previous section is not really useful. \n",
    "\n",
    "The next step is to assign values to an instance of the class `Point`. \n",
    "For this, we will introduce the *init* method.\n",
    "The **init** method (short for “initialization”) is a special method that gets invoked when an\n",
    "object is created. \n",
    "Its full name is `__init__` (two underscore characters, followed by\n",
    "init, and then two more underscores). \n",
    "\n",
    "Its purpose is to initialize a new object, this is the *initialization* method. \n",
    "When the object is created, for instance via `Point(3, 4)`, the parameters are passed to the created object.\n",
    "\n",
    "An `__init__` method for the `Point` class is shown in the next cell."
   ]
  },
  {
   "cell_type": "code",
   "execution_count": null,
   "metadata": {
    "slideshow": {
     "slide_type": "fragment"
    }
   },
   "outputs": [],
   "source": [
    "class Point:\n",
    "    \"\"\"\n",
    "    Represents a point in 2-D space. \n",
    "    :attributes: x, y\n",
    "    \"\"\"\n",
    "\n",
    "    def __init__(self, x: float = 0.0, y: float = 0.0) -> None:\n",
    "        \"\"\" \n",
    "        Initializes a Point object.\n",
    "        :param x: x argument\n",
    "        :param y: y argument\n",
    "        \"\"\"\n",
    "        self.x: float = x\n",
    "        self.y: float = y\n",
    "            \n",
    "pnt: Point = Point(3.0, 4.0)"
   ]
  },
  {
   "cell_type": "markdown",
   "metadata": {
    "slideshow": {
     "slide_type": "fragment"
    }
   },
   "source": [
    "The first argument of the `__init__` method is `self`. \n",
    "The `self` argument is a reference to the current **object** or **instance** of the class, and is used to access variables (read **attributes**) that belong to the class. \n",
    "\n",
    "We use the `dot` notation to assign values to named elements of an object.\n",
    "The elements are called **attributes**, see the corresponding visualization of the corresponding **object diagram**.\n",
    "\n",
    "|           | Point |\n",
    "|:----------|:----------|\n",
    "| pnt $\\rightarrow$ | x $\\rightarrow$ 3.0 |\n",
    "|   | y $\\rightarrow$ 4.0 |\n",
    "\n",
    "The variable `pnt` refers to a `Point` object, which contains two attributes. \n",
    "Each attribute is of type floating-point number.\n",
    "\n",
    "<div class=\"alert alert-info\">\n",
    "    <b>Dynamically typed language</b><br>\n",
    "    Python is a dynamically typed language. This means you do not need to define the types of variables explicitly, Python will deduced them for you and report if there are inconsistencies. \n",
    "</div>\n",
    "\n",
    "<div class=\"alert alert-info\">\n",
    "    <b>Defining attributes</b><br>\n",
    "    The <b>attributes</b> of a class do not need to be declared explicitly when creating a class. However, it strongly adviced not to use this way of adding attributes to a class.\n",
    "</div>"
   ]
  },
  {
   "cell_type": "code",
   "execution_count": null,
   "metadata": {},
   "outputs": [],
   "source": [
    "pnt.z: float = 5.0"
   ]
  },
  {
   "cell_type": "markdown",
   "metadata": {
    "jupyter": {
     "source_hidden": true
    },
    "tags": []
   },
   "source": [
    "<div class=\"alert alert-success\">\n",
    "    <b>Do It Yourself!</b><br>\n",
    "    Add the attributes <i>name</i> and <i>breed</i> to the object doggy refers to. Set the values you prefer.\n",
    "</div>"
   ]
  },
  {
   "cell_type": "code",
   "execution_count": null,
   "metadata": {
    "jupyter": {
     "source_hidden": true
    },
    "tags": []
   },
   "outputs": [],
   "source": [
    "# Remove this line and add your code here"
   ]
  },
  {
   "cell_type": "markdown",
   "metadata": {},
   "source": [
    "You can read the value of an attribute using the same syntax."
   ]
  },
  {
   "cell_type": "code",
   "execution_count": null,
   "metadata": {
    "slideshow": {
     "slide_type": "fragment"
    }
   },
   "outputs": [],
   "source": [
    "print('x =', pnt.x)\n",
    "\n",
    "y: float = pnt.y\n",
    "print('y =', y)"
   ]
  },
  {
   "cell_type": "markdown",
   "metadata": {
    "slideshow": {
     "slide_type": "fragment"
    }
   },
   "source": [
    "The expression `pnt.y` means, “Go to the object `pnt` and get the value of `y`.” \n",
    "We assign that value to a variable named `y`. \n",
    "\n",
    "There is no conflict between the variable `y` and the attribute `y`;\n",
    "they live in 2 different worlds.\n",
    "\n",
    "You can use dot notation as part of any expression, as we can see in the cells below."
   ]
  },
  {
   "cell_type": "code",
   "execution_count": null,
   "metadata": {
    "slideshow": {
     "slide_type": "fragment"
    }
   },
   "outputs": [],
   "source": [
    "'(%g, %g)' % (pnt.x, pnt.y)"
   ]
  },
  {
   "cell_type": "code",
   "execution_count": null,
   "metadata": {},
   "outputs": [],
   "source": [
    "import math\n",
    "\n",
    "distance: float = math.sqrt(pnt.x**2 + pnt.y**2)\n",
    "distance"
   ]
  },
  {
   "cell_type": "markdown",
   "metadata": {
    "slideshow": {
     "slide_type": "fragment"
    }
   },
   "source": [
    "## 6. Printing an Object\n",
    "\n",
    "You can use an instance of a class as argument for a function in the usual way.\n",
    "\n",
    "For example, `print_point` takes a point as an argument and displays it in mathematical notation. \n",
    "To invoke it, you can pass `pnt` as an argument. \n",
    "The argument of the function has the type `Point`, the *type-hints* are very important to really document and understand the function."
   ]
  },
  {
   "cell_type": "code",
   "execution_count": null,
   "metadata": {
    "slideshow": {
     "slide_type": "fragment"
    }
   },
   "outputs": [],
   "source": [
    "def print_point(p: Point) -> None:\n",
    "    \"\"\"\n",
    "    Prints a point object.\n",
    "    :param p: a 2-D representation of a point\n",
    "    \"\"\"\n",
    "    print('(%g, %g)' % (p.x, p.y))\n",
    "    \n",
    "print_point(pnt)"
   ]
  },
  {
   "cell_type": "markdown",
   "metadata": {
    "slideshow": {
     "slide_type": "fragment"
    }
   },
   "source": [
    "Inside the function, `p` is an alias for `pnt`, so **if the function modifies `p`, `pnt` changes!**"
   ]
  },
  {
   "cell_type": "markdown",
   "metadata": {
    "jupyter": {
     "source_hidden": true
    },
    "tags": []
   },
   "source": [
    "<div class=\"alert alert-success\">\n",
    "    <b>Do It Yourself!</b><br>\n",
    "    Create a function <i>print_dog(dog: Dog) -> None</i> that prints a message with the attributes of the dog. Use the dot notation to access the attributes of the dog object. Print a message that says: \"This dog is called <i>name</i> and it is a <i>breed</i>\". Use the doggy variable to verify the effect of your function.\n",
    "</div>"
   ]
  },
  {
   "cell_type": "code",
   "execution_count": null,
   "metadata": {
    "jupyter": {
     "source_hidden": true
    },
    "tags": []
   },
   "outputs": [],
   "source": [
    "# Remove this line and add your code here"
   ]
  },
  {
   "cell_type": "markdown",
   "metadata": {},
   "source": [
    "It is advisable to add such a `print_point` function as method to the class `Point`.\n",
    "\n",
    "Beware that the invocation of the method, `pnt.print_point()` is different from the call of a function `print_point(pnt)`, see last sentence of the next cell."
   ]
  },
  {
   "cell_type": "code",
   "execution_count": null,
   "metadata": {
    "slideshow": {
     "slide_type": "fragment"
    }
   },
   "outputs": [],
   "source": [
    "class Point:\n",
    "    \"\"\"\n",
    "    Represents a point in 2-D space.\n",
    "    :attributes: x, y\n",
    "    \"\"\"\n",
    "\n",
    "    def __init__(self, x: float = 0.0, y: float = 0.0) -> None:\n",
    "        \"\"\" \n",
    "        Initializes a Point object.\n",
    "        :param x: x argument\n",
    "        :param y: y argument\n",
    "        \"\"\"\n",
    "        self.x: float = x\n",
    "        self.y: float = y\n",
    "            \n",
    "    def print_point(self) -> None:\n",
    "        \"\"\"\n",
    "        Prints a point object.\n",
    "        \"\"\"\n",
    "        print('(%g, %g)' % (self.x, self.y))\n",
    "            \n",
    "pnt: Point = Point(3.0, 4.0)"
   ]
  },
  {
   "cell_type": "markdown",
   "metadata": {},
   "source": [
    "To change `print_point` into a method: \n",
    "\n",
    "1. The function needs to be declared inside the class definition. This is done by *increasing* the indentation. \n",
    "1. We need to change the first argument of the method into `self`, because `print_point` can be immediately applied to the object at hand.\n",
    "\n",
    "<div class=\"alert alert-info\">\n",
    "    <b>Type hints within a class</b><br>\n",
    "    If a function is transformed into a method, so moved into its corresponding class, the type information related to the class has to be removed!\n",
    "</div>\n",
    "\n",
    "Note that the method `print_point` does not have the type hint `Point` for its argument `point` anymore. \n",
    "The type `Point` is not known within the class `Point`. \n",
    "This holds for all methods defined in a class!"
   ]
  },
  {
   "cell_type": "markdown",
   "metadata": {},
   "source": [
    "There are two ways to call `print_point`. \n",
    "The first (and uncommon) way is to use **function syntax**."
   ]
  },
  {
   "cell_type": "code",
   "execution_count": null,
   "metadata": {},
   "outputs": [],
   "source": [
    "Point.print_point(pnt)"
   ]
  },
  {
   "cell_type": "markdown",
   "metadata": {},
   "source": [
    "`Point` is the name of the class, `print_point` the method to be executed, and `pnt` the argument to be printed.\n",
    "\n",
    "The second way is more concise: the **method syntax**."
   ]
  },
  {
   "cell_type": "code",
   "execution_count": null,
   "metadata": {},
   "outputs": [],
   "source": [
    "pnt.print_point()"
   ]
  },
  {
   "cell_type": "markdown",
   "metadata": {},
   "source": [
    "`print_time` is the name of the method (again), and `start` is\n",
    "the object the method is invoked on, which is called the **subject**. \n",
    "\n",
    "The reason for this convention is an implicit metaphor:\n",
    "\n",
    "* The syntax for a function call, `print_point(pnt)`, suggests that the function is the\n",
    "active agent. It says something like, “Hey `print_point`! Here’s an object for you to\n",
    "print.”\n",
    "* In object-oriented programming, the objects are the active agents. A method invocation\n",
    "like `pnt.print_point()` says “Hey `pnt`! Please print yourself.”\n",
    "\n",
    "Shifting responsibility from the functions into the objects makes it possible to write more versatile functions (or methods), and makes it easier to maintain and reuse code."
   ]
  },
  {
   "cell_type": "markdown",
   "metadata": {},
   "source": [
    "## 7. The `str` Method\n",
    "\n",
    "A better, read more object-oriented, way of writing a print method, is by using a similar style as with the `__init__` method, by introducing the `__str__` method."
   ]
  },
  {
   "cell_type": "code",
   "execution_count": null,
   "metadata": {},
   "outputs": [],
   "source": [
    "class Point:\n",
    "    \"\"\"\n",
    "    Represents a point in 2-D space.\n",
    "    :attributes: x, y\n",
    "    \"\"\"\n",
    "\n",
    "    def __init__(self, x: float = 0.0, y: float = 0.0) -> None:\n",
    "        \"\"\" \n",
    "        Initializes a Point object.\n",
    "        :param x: x argument\n",
    "        :param y: y argument\n",
    "        \"\"\"\n",
    "        self.x: float = x\n",
    "        self.y: float = y\n",
    "            \n",
    "    def __str__(self) -> str:\n",
    "        \"\"\"\n",
    "        Prints a string representation of a point object.\n",
    "        :returns: a string representation of a Point object.\n",
    "        \"\"\"\n",
    "        return '({:.1f}, {:.1f})'.format(self.x, self.y)\n",
    "        \n",
    "    \n",
    "pnt: Point = Point(3.09, 4.01)\n",
    "print(pnt)"
   ]
  },
  {
   "cell_type": "markdown",
   "metadata": {},
   "source": [
    "When you print an object, Python invokes the `__str__` method.\n",
    "It is a good habit to start a class with the `__init__` method, in order to initialize it, and\n",
    "to write `__str__`, for debugging.\n",
    "\n",
    "The notion `{:.1f}` looks complicated, but this sequence of characters indicates that a *float* should be formatted with one *digit* after the dot.\n",
    "See https://pyformat.info for more information."
   ]
  },
  {
   "cell_type": "markdown",
   "metadata": {
    "jupyter": {
     "source_hidden": true
    },
    "tags": []
   },
   "source": [
    "<div class=\"alert alert-success\">\n",
    "    <b>Do It Yourself!</b><br>\n",
    "    Create a method <i>__str__(self) -> str</i> that uses different formatting characters, for instance, `{:.3f}` and use floats with more or less digits after the dot.\n",
    "</div>"
   ]
  },
  {
   "cell_type": "code",
   "execution_count": null,
   "metadata": {
    "jupyter": {
     "source_hidden": true
    },
    "tags": []
   },
   "outputs": [],
   "source": [
    "# Remove this line and add your code here"
   ]
  },
  {
   "cell_type": "markdown",
   "metadata": {
    "slideshow": {
     "slide_type": "slide"
    }
   },
   "source": [
    "## 8. Rectangles\n",
    "\n",
    "Sometimes it is obvious what the attributes of an object should be, but other times you have to make decisions. \n",
    "\n",
    "For example, imagine you are designing a class to represent **rectangles**.\n",
    "What attributes would you use to specify the **location** and **size** of a rectangle? \n",
    "We assume that the rectangle is just in a vertical or horizontal position.\n",
    "\n",
    "There are at least two possibilities:\n",
    "* You could specify one corner of the rectangle (or the center), the width, and the height.\n",
    "* You could specify two opposing corners.\n",
    "\n",
    "At this point it is hard to say whether one is better than the other, so we will implement the first case, just as an example."
   ]
  },
  {
   "cell_type": "code",
   "execution_count": null,
   "metadata": {
    "slideshow": {
     "slide_type": "fragment"
    }
   },
   "outputs": [],
   "source": [
    "class Rectangle:\n",
    "    \"\"\"\n",
    "    Represents a rectangle.\n",
    "    :attributes: width, height, corner\n",
    "    \"\"\"\n",
    "        \n",
    "    def __init__(self, w: float = 0, h: float = 0, x: float = 0, y: float = 0) -> None:\n",
    "        \"\"\" \n",
    "        Initializes a Rectangle object.\n",
    "        :param w: width\n",
    "        :param h: height\n",
    "        :param x: x argument\n",
    "        :param y: y argument\n",
    "        \"\"\"\n",
    "        self.width: float = w\n",
    "        self.height: float = h\n",
    "        c: Point = Point(x,y)\n",
    "        self.corner: Point = c\n",
    "            \n",
    "    def __str__(self) -> str:\n",
    "        \"\"\"\n",
    "        Prints a string representation of a Rectangle object.\n",
    "        :returns: a string representation of a Rectangle object.\n",
    "        \"\"\"\n",
    "        return '[{:.1f},{:.1f},({:.1f}, {:.1f})]'.format(self.width, self.height, self.corner.x, self.corner.y)"
   ]
  },
  {
   "cell_type": "markdown",
   "metadata": {
    "slideshow": {
     "slide_type": "fragment"
    }
   },
   "source": [
    "The docstring lists the attributes: `width` and `height` are numbers; `corner` is a `Point` object that specifies the lower-left corner.\n",
    "\n",
    "<div class=\"alert alert-info\">\n",
    "    <b>Attributes in a docstring</b><br>\n",
    "    Remember that Python is dynamically typed, the mentioning of the attributes in the docstring is not same as declaring them.\n",
    "</div>"
   ]
  },
  {
   "cell_type": "markdown",
   "metadata": {
    "jupyter": {
     "source_hidden": true
    },
    "tags": []
   },
   "source": [
    "<div class=\"alert alert-success\">\n",
    "    <b>Do It Yourself!</b><br>\n",
    "    Declare a new class called <i>DogOwner</i>. This class will have the following attributes: name, last_name, age, and dog. Include the docstring that describes this class.\n",
    "</div>"
   ]
  },
  {
   "cell_type": "code",
   "execution_count": null,
   "metadata": {
    "jupyter": {
     "source_hidden": true
    },
    "tags": []
   },
   "outputs": [],
   "source": [
    "# Remove this line and add your code here"
   ]
  },
  {
   "cell_type": "markdown",
   "metadata": {},
   "source": [
    "To represent a rectangle, you have to instantiate a Rectangle object and assign values to the attributes."
   ]
  },
  {
   "cell_type": "code",
   "execution_count": null,
   "metadata": {
    "slideshow": {
     "slide_type": "fragment"
    }
   },
   "outputs": [],
   "source": [
    "box: Rectangle = Rectangle(100.0, 200.0, 0, 0)\n",
    "print(box)"
   ]
  },
  {
   "cell_type": "markdown",
   "metadata": {},
   "source": [
    "It is possible to modify the attributes of an object using the dot notation with the attribute name (`<object>.<attribute>`)."
   ]
  },
  {
   "cell_type": "code",
   "execution_count": null,
   "metadata": {},
   "outputs": [],
   "source": [
    "box.width: float = 100.0\n",
    "box.height: float = 200.0\n",
    "box.corner: Point = Point()\n",
    "box.corner.x: float = 0.0\n",
    "box.corner.y: float = 0.0"
   ]
  },
  {
   "cell_type": "markdown",
   "metadata": {},
   "source": [
    "It is also possible to add `get`ters and `set`ters to the class, this is common practice in object-oriented languages like Java."
   ]
  },
  {
   "cell_type": "code",
   "execution_count": null,
   "metadata": {},
   "outputs": [],
   "source": [
    "class Rectangle:\n",
    "    \"\"\"\n",
    "    Represents a rectangle.\n",
    "    :attributes: width, height, corner\n",
    "    \"\"\"\n",
    "        \n",
    "    def __init__(self, w: float = 0, h: float = 0, x: float = 0, y: float = 0) -> None:\n",
    "        \"\"\" \n",
    "        Initializes a Rectangle object.\n",
    "        :param w: width\n",
    "        :param h: height\n",
    "        :param x: x argument\n",
    "        :param y: y argument\n",
    "        \"\"\"\n",
    "        self.width: float = w\n",
    "        self.height: float = h\n",
    "        c: Point = Point(x,y)\n",
    "        self.corner: Point = c\n",
    "            \n",
    "    def __str__(self) -> str:\n",
    "        \"\"\"\n",
    "        Prints a string representation of a Rectangle object.\n",
    "        :returns: a string representation of a Rectangle object.\n",
    "        \"\"\"\n",
    "        return '[{:.1f},{:.1f},({:.1f}, {:.1f})]'.format(self.width, self.height, self.corner.x, self.corner.y)\n",
    "    \n",
    "    def get_width(self) -> float:\n",
    "        \"\"\" \n",
    "        Returns the value of the attribute width\n",
    "        :returns: the width of the rectangle.\n",
    "        \"\"\"\n",
    "        return self.width\n",
    "    \n",
    "    def get_height(self) -> float:\n",
    "        \"\"\" \n",
    "        Returns the value of the attribute height.\n",
    "        :returns: the height of the rectangle.\n",
    "        \"\"\"\n",
    "        return self.height\n",
    "    \n",
    "    def set_width(self, w: float) -> None:\n",
    "        \"\"\" \n",
    "        Sets the value of the attribute width.\n",
    "        :param w: rectangle's width\n",
    "        \"\"\"\n",
    "        self.width = w\n",
    "    \n",
    "    def set_height(self, h: float) -> None:\n",
    "        \"\"\" \n",
    "        Sets the value of the attribute height.\n",
    "        :param h: rectangle's height\n",
    "        \"\"\"\n",
    "        self.height = h\n",
    "        \n",
    "    def get_corner_x(self) -> float:\n",
    "        \"\"\" \n",
    "        Returns the value of the attribute x of the corner point.\n",
    "        :returns: the x value of the corner point.\n",
    "        \"\"\"\n",
    "        return self.corner.x\n",
    "    \n",
    "    def get_corner_y(self) -> float:\n",
    "        \"\"\" \n",
    "        Returns the value of the attribute y of the corner point.\n",
    "        :returns: the y value of the corner point.\n",
    "        \"\"\"\n",
    "        return self.corner.y\n",
    "    \n",
    "    def set_corner_x(self, x: float) -> None:\n",
    "        \"\"\"\n",
    "        Sets the value of the attribute x of the corner point.\n",
    "        :param x: x coordinate of the corner point\n",
    "        \"\"\"\n",
    "        self.corner.x = x\n",
    "    \n",
    "    def set_corner_y(self, y : float) -> None:\n",
    "        \"\"\"\n",
    "        Sets the value of the attribute y of the corner point.\n",
    "        :param y: y coordinate of the corner point\n",
    "        \"\"\"\n",
    "        self.corner.y = y"
   ]
  },
  {
   "cell_type": "code",
   "execution_count": null,
   "metadata": {},
   "outputs": [],
   "source": [
    "box: Rectangle = Rectangle(100.0, 200.0, 0, 0)\n",
    "print(box)\n",
    "\n",
    "box.set_corner_x(4)\n",
    "box.get_corner_x()"
   ]
  },
  {
   "cell_type": "markdown",
   "metadata": {
    "slideshow": {
     "slide_type": "fragment"
    }
   },
   "source": [
    "The expression `box.corner.x` means, “Go to the object `box` refers to and select the attribute named `corner`; then go to that object and select the attribute named `x`.”\n",
    "\n",
    "\n",
    "|           | Rectangle |           |\n",
    "|:----------|:----------|:----------|\n",
    "| box $\\rightarrow$ | width $\\rightarrow$ 100.0 |  |\n",
    "|   | height $\\rightarrow$ 200.0 | **Point**|\n",
    "|   | corner $\\longrightarrow$ | x $\\rightarrow$ 0.0 |\n",
    "|   |                          | y $\\rightarrow$ 0.0 |\n",
    "\n",
    "The figure shows the layout of this object. \n",
    "\n",
    "An object that is an attribute of another object is **embedded**."
   ]
  },
  {
   "cell_type": "markdown",
   "metadata": {
    "jupyter": {
     "source_hidden": true
    },
    "tags": []
   },
   "source": [
    "<div class=\"alert alert-success\">\n",
    "    <b>Do It Yourself!</b><br>\n",
    "    Create a new dog owner and assign values to all of its attributes. Do not forget to assign values to his or her dog attributes!\n",
    "</div>"
   ]
  },
  {
   "cell_type": "code",
   "execution_count": null,
   "metadata": {
    "jupyter": {
     "source_hidden": true
    },
    "tags": []
   },
   "outputs": [],
   "source": [
    "# Remove this line and add your code here"
   ]
  },
  {
   "cell_type": "markdown",
   "metadata": {
    "slideshow": {
     "slide_type": "slide"
    }
   },
   "source": [
    "## 9. Classes and Objects\n",
    "\n",
    "A **class** is a description or definition of an object, but it is not the object itself.\n",
    "A *class* is a user-defined data type, that holds attributes and methods, which can be accessed and used by creating an *object* or *instance*\n",
    "of that class.\n",
    "Once we have defined a class, we can use it to create objects based on that class. \n",
    "\n",
    "An **object** is an instance of a class. \n",
    "All attributes and methods of the class can be accessed via an object. \n",
    "When a class is defined, no memory is allocated, but memory is allocated when objects are instantiated. \n",
    "\n",
    "Every class in Python is *derived* from the class `object`, so every *instance* of every class is an `object`.\n",
    "The class `object` is a *superclass* of class `Rectangle`, and class `Rectangle` is a *subclass* of class `object`.\n",
    "Class `object` has the following *attributes* (attributes are elements inside a class that refer to methods, functions, variables, or even other classes)."
   ]
  },
  {
   "cell_type": "code",
   "execution_count": null,
   "metadata": {
    "slideshow": {
     "slide_type": "fragment"
    }
   },
   "outputs": [],
   "source": [
    "dir(object)"
   ]
  },
  {
   "cell_type": "code",
   "execution_count": null,
   "metadata": {
    "slideshow": {
     "slide_type": "fragment"
    }
   },
   "outputs": [],
   "source": [
    "dir(Rectangle)"
   ]
  },
  {
   "cell_type": "markdown",
   "metadata": {
    "slideshow": {
     "slide_type": "fragment"
    }
   },
   "source": [
    "If you compare these 2 lists, you observe that they are almost the same, except for `__dict__`, `__module__`, and `__weakref__`.\n",
    "\n",
    "We can even get *help* on our `Rectangle` class."
   ]
  },
  {
   "cell_type": "code",
   "execution_count": null,
   "metadata": {
    "scrolled": true,
    "slideshow": {
     "slide_type": "fragment"
    }
   },
   "outputs": [],
   "source": [
    "help(Rectangle)"
   ]
  },
  {
   "cell_type": "markdown",
   "metadata": {
    "jupyter": {
     "source_hidden": true
    },
    "tags": []
   },
   "source": [
    "<div class=\"alert alert-success\">\n",
    "    <b>Do It Yourself!</b><br>\n",
    "    Use the function <i>help()</i> to display the documentation of the class DogOwner.\n",
    "</div>"
   ]
  },
  {
   "cell_type": "code",
   "execution_count": null,
   "metadata": {
    "jupyter": {
     "source_hidden": true
    },
    "tags": []
   },
   "outputs": [],
   "source": [
    "# Remove this line and add your code here"
   ]
  },
  {
   "cell_type": "markdown",
   "metadata": {
    "slideshow": {
     "slide_type": "fragment"
    }
   },
   "source": [
    "## 10. Instances as Return Values\n",
    "\n",
    "Functions and methods can return objects of a class. \n",
    "\n",
    "The function `find_center` takes a `Rectangle` as an argument\n",
    "and returns a `Point` that contains the coordinates of the center of the rectangle."
   ]
  },
  {
   "cell_type": "code",
   "execution_count": null,
   "metadata": {
    "slideshow": {
     "slide_type": "fragment"
    }
   },
   "outputs": [],
   "source": [
    "def find_center(rect: Rectangle) -> Point:\n",
    "    \"\"\"\n",
    "    Calculates the center of a rectangle.\n",
    "    :param rect: target rectangle\n",
    "    :returns: the center point of the rectangle.\n",
    "    \"\"\"\n",
    "    p: Point = Point(rect.corner.x + rect.width / 2, rect.corner.y + rect.height / 2)\n",
    "    return p"
   ]
  },
  {
   "cell_type": "markdown",
   "metadata": {
    "slideshow": {
     "slide_type": "fragment"
    }
   },
   "source": [
    "Here is an example that passes `box` as an argument and assigns the resulting `Point` to center."
   ]
  },
  {
   "cell_type": "code",
   "execution_count": null,
   "metadata": {
    "slideshow": {
     "slide_type": "fragment"
    }
   },
   "outputs": [],
   "source": [
    "center: Point = find_center(box)\n",
    "print(center)"
   ]
  },
  {
   "cell_type": "markdown",
   "metadata": {},
   "source": [
    "Of course, such a *function* can also be defined as a *method*, which is a better way of developing the functionality related to the Rectangle class."
   ]
  },
  {
   "cell_type": "code",
   "execution_count": null,
   "metadata": {},
   "outputs": [],
   "source": [
    "class Rectangle:\n",
    "    \"\"\"\n",
    "    Represents a rectangle.\n",
    "    :attributes: width, height, corner\n",
    "    \"\"\"\n",
    "        \n",
    "    def __init__(self, w: float = 0, h: float = 0, x: float = 0, y: float = 0) -> None:\n",
    "        \"\"\" \n",
    "        Initializes a Rectangle object.\n",
    "        :param w: width\n",
    "        :param h: height\n",
    "        :param x: x argument\n",
    "        :param y: y argument\n",
    "        \"\"\"\n",
    "        self.width: float = w\n",
    "        self.height: float = h\n",
    "        c: Point = Point(x,y)\n",
    "        self.corner: Point = c\n",
    "            \n",
    "    def __str__(self) -> str:\n",
    "        \"\"\"\n",
    "        Prints a string representation of a Rectangle object.\n",
    "        :returns: a string representation of a Rectangle object.\n",
    "        \"\"\"\n",
    "        return '[{:.1f},{:.1f},({:.1f}, {:.1f})]'.format(self.width, self.height, self.corner.x, self.corner.y)\n",
    "    \n",
    "    def find_center(self) -> Point:\n",
    "        \"\"\"\n",
    "        Calculates the center of a rectangle.\n",
    "        :param rect: target rectangle\n",
    "        :returns: the center point of the rectangle.\n",
    "        \"\"\"\n",
    "        p: Point = Point(self.corner.x + self.width / 2, self.corner.y + self.height / 2)\n",
    "        return p"
   ]
  },
  {
   "cell_type": "code",
   "execution_count": null,
   "metadata": {},
   "outputs": [],
   "source": [
    "box: Rectangle = Rectangle(300.0, 700.0, 0, 0)\n",
    "print(box)\n",
    "\n",
    "center: Point = box.find_center()\n",
    "print(center)"
   ]
  },
  {
   "cell_type": "markdown",
   "metadata": {
    "jupyter": {
     "source_hidden": true
    },
    "tags": []
   },
   "source": [
    "<div class=\"alert alert-success\">\n",
    "    <b>Do It Yourself!</b><br>\n",
    "    Create the function `add_dog_lastname(owner: DogOwner) -> Dog`, which modifies the name of the dog by concatenating the last name of the owner to it. For example, if the dog's name is \"Scooby\" and the owner's last name is \"Doo\", the new name of the dog should be \"Scooby Doo\". Return the modified instance of the dog.\n",
    "</div>"
   ]
  },
  {
   "cell_type": "code",
   "execution_count": null,
   "metadata": {
    "jupyter": {
     "source_hidden": true
    },
    "tags": []
   },
   "outputs": [],
   "source": [
    "# Remove this line and add your code here"
   ]
  },
  {
   "cell_type": "markdown",
   "metadata": {
    "slideshow": {
     "slide_type": "slide"
    }
   },
   "source": [
    "## 11. Objects are Mutable\n",
    "\n",
    "You can change the state of an object by making an assignment to one of its attributes.\n",
    "\n",
    "It is possible to change the size of a rectangle without changing its position.\n",
    "In the cell below, the `width` and `height` are adapted."
   ]
  },
  {
   "cell_type": "code",
   "execution_count": null,
   "metadata": {
    "slideshow": {
     "slide_type": "fragment"
    }
   },
   "outputs": [],
   "source": [
    "box.width = box.width + 50\n",
    "box.height = box.height + 100"
   ]
  },
  {
   "cell_type": "markdown",
   "metadata": {
    "slideshow": {
     "slide_type": "fragment"
    }
   },
   "source": [
    "Beware, this way of adapting the width and height is a shortcut and it is better to define a method to *increase* the rectangle, see below.\n",
    "\n",
    "For example, `increase_rectangle` takes a\n",
    "`Rectangle` object and two numbers, `dwidth` and `dheight`, and adds the numbers to the\n",
    "`width` and `height` of the rectangle."
   ]
  },
  {
   "cell_type": "code",
   "execution_count": null,
   "metadata": {
    "slideshow": {
     "slide_type": "fragment"
    }
   },
   "outputs": [],
   "source": [
    "class Rectangle:\n",
    "    \"\"\"\n",
    "    Represents a rectangle.\n",
    "    :attributes: width, height, corner\n",
    "    \"\"\"\n",
    "        \n",
    "    def __init__(self, w: float = 0, h: float = 0, x: float = 0, y: float = 0) -> None:\n",
    "        \"\"\" \n",
    "        Initializes a Rectangle object.\n",
    "        :param w: width\n",
    "        :param h: height\n",
    "        :param x: x argument\n",
    "        :param y: y argument\n",
    "        \"\"\"\n",
    "        self.width: float = w\n",
    "        self.height: float = h\n",
    "        c: Point = Point(x,y)\n",
    "        self.corner: Point = c\n",
    "            \n",
    "    def __str__(self) -> str:\n",
    "        \"\"\"\n",
    "        Prints a string representation of a Rectangle object.\n",
    "        :returns: a string representation of a Rectangle object.\n",
    "        \"\"\"\n",
    "        return '[{:.1f},{:.1f},({:.1f}, {:.1f})]'.format(self.width, self.height, self.corner.x, self.corner.y)\n",
    "    \n",
    "    def find_center(self) -> Point:\n",
    "        \"\"\"\n",
    "        Calculates the center of a rectangle.\n",
    "        :param rect: target rectangle\n",
    "        :returns: the center point of the rectangle.\n",
    "        \"\"\"\n",
    "        p: Point = Point(self.corner.x + self.width / 2, self.corner.y + self.height / 2)\n",
    "        return p\n",
    "    \n",
    "    def increase_rectangle(self, dwidth: int, dheight: int) -> None:\n",
    "        \"\"\"\n",
    "        Increases the size of the rectangle.\n",
    "        :param w: width change\n",
    "        :param h: height change\n",
    "        \"\"\"\n",
    "        self.width += dwidth\n",
    "        self.height += dheight"
   ]
  },
  {
   "cell_type": "markdown",
   "metadata": {},
   "source": [
    "The next cell shows how to use this function and demonstrates its effect."
   ]
  },
  {
   "cell_type": "code",
   "execution_count": null,
   "metadata": {
    "slideshow": {
     "slide_type": "fragment"
    }
   },
   "outputs": [],
   "source": [
    "box: Rectangle = Rectangle(300.0, 700.0, 0, 0)\n",
    "print(box)\n",
    "\n",
    "center: Point = box.find_center()\n",
    "print(center)\n",
    "\n",
    "box.increase_rectangle(50, 100)\n",
    "print('width = ', box.width)\n",
    "print('height = ', box.height)\n",
    "\n",
    "center : Point = box.find_center()\n",
    "print(center)"
   ]
  },
  {
   "cell_type": "markdown",
   "metadata": {
    "jupyter": {
     "source_hidden": true
    },
    "tags": []
   },
   "source": [
    "<div class=\"alert alert-success\">\n",
    "    <b>Do It Yourself!</b><br>\n",
    "    Create the function `celebrate_birthday(owner : DogOwner)`, which adds 1 year to the age of the dog's owner. Do not return the new owner. Call the function and pass an instance of a DogOwner. Use the <i>print()</i> function to see how the attributes of the object have changes.\n",
    "</div>"
   ]
  },
  {
   "cell_type": "code",
   "execution_count": null,
   "metadata": {
    "jupyter": {
     "source_hidden": true
    },
    "tags": []
   },
   "outputs": [],
   "source": [
    "# Remove this line and add your code here"
   ]
  },
  {
   "cell_type": "markdown",
   "metadata": {
    "slideshow": {
     "slide_type": "fragment"
    }
   },
   "source": [
    "## 12. Copying\n",
    "\n",
    "**Aliasing** can make a program difficult to read, it may even be dangerous, because changes in one place might have unexpected effects in another place. \n",
    "It is hard to keep track of all the variables that might\n",
    "refer to a given object and being changed unintended.\n",
    "\n",
    "**Copying** an object is often an alternative to aliasing. \n",
    "The `copy` module contains a function\n",
    "called `copy` that can duplicate any object."
   ]
  },
  {
   "cell_type": "code",
   "execution_count": null,
   "metadata": {
    "slideshow": {
     "slide_type": "fragment"
    }
   },
   "outputs": [],
   "source": [
    "import copy\n",
    "\n",
    "p1: Point = Point(3.0, 4.0)\n",
    "p2: Point = copy.copy(p1)"
   ]
  },
  {
   "cell_type": "markdown",
   "metadata": {
    "slideshow": {
     "slide_type": "fragment"
    }
   },
   "source": [
    "`p1` and `p2` contain the same data, but are different objects."
   ]
  },
  {
   "cell_type": "code",
   "execution_count": null,
   "metadata": {
    "slideshow": {
     "slide_type": "fragment"
    }
   },
   "outputs": [],
   "source": [
    "print(p1)\n",
    "print(p2)\n",
    "\n",
    "p1 is p2"
   ]
  },
  {
   "cell_type": "markdown",
   "metadata": {
    "slideshow": {
     "slide_type": "fragment"
    }
   },
   "source": [
    "The `is` operator indicates that `p1` and `p2` are not the same object, thus this explains the `False` output.\n",
    "\n",
    "The `==` operator is also defined for *programmer-defined types*, for \n",
    "programmer-defined types the `==` and `is` operator have the same behaviour, although you may have expected differently.\n",
    "\n",
    "The `==` operator yields `False` although these points contain the\n",
    "same data. "
   ]
  },
  {
   "cell_type": "code",
   "execution_count": null,
   "metadata": {
    "slideshow": {
     "slide_type": "fragment"
    }
   },
   "outputs": [],
   "source": [
    "p1 == p2"
   ]
  },
  {
   "cell_type": "markdown",
   "metadata": {
    "slideshow": {
     "slide_type": "slide"
    }
   },
   "source": [
    "If you use `copy.copy` to duplicate a `Rectangle`, you will find that it copies the `Rectangle` object but not the embedded `Point`."
   ]
  },
  {
   "cell_type": "code",
   "execution_count": null,
   "metadata": {
    "slideshow": {
     "slide_type": "fragment"
    }
   },
   "outputs": [],
   "source": [
    "box2: Rectangle = copy.copy(box)\n",
    "box2 is box"
   ]
  },
  {
   "cell_type": "code",
   "execution_count": null,
   "metadata": {
    "slideshow": {
     "slide_type": "fragment"
    }
   },
   "outputs": [],
   "source": [
    "box2.corner is box.corner"
   ]
  },
  {
   "cell_type": "markdown",
   "metadata": {
    "slideshow": {
     "slide_type": "fragment"
    }
   },
   "source": [
    "|           | Rectangle |           |  Rectangle |           |\n",
    "|:----------|:----------|:----------|:----------|:----------|\n",
    "| box2 $\\rightarrow$ | width $\\rightarrow$ 100.0 |  |100.0 $\\leftarrow$ width | $\\leftarrow$ box|\n",
    "|   | height $\\rightarrow$ 200.0 | **Point**|200.0 $\\leftarrow$ height | | \n",
    "|   | corner $\\longrightarrow$ | x $\\rightarrow$ 0.0 | $\\longleftarrow$ corner ||\n",
    "|   |                          | y $\\rightarrow$ 0.0 |||\n",
    "\n",
    "The diagram above shows the object diagram.\n",
    "\n",
    "The `copy.copy` operator is a so-called **shallow copy**.\n",
    "It copies the object and any references it contains, but not the embedded\n",
    "objects.\n",
    "In many cases this is not the desired behaviour, you want to copy the entire object structure.\n",
    "In order to do that you need to use the `copy.deepcopy` function, this function implements a **deep copy**."
   ]
  },
  {
   "cell_type": "code",
   "execution_count": null,
   "metadata": {
    "slideshow": {
     "slide_type": "fragment"
    }
   },
   "outputs": [],
   "source": [
    "box3: Rectangle = copy.deepcopy(box)\n",
    "box3 is box"
   ]
  },
  {
   "cell_type": "code",
   "execution_count": null,
   "metadata": {
    "slideshow": {
     "slide_type": "fragment"
    }
   },
   "outputs": [],
   "source": [
    "box3.corner is box.corner"
   ]
  },
  {
   "cell_type": "markdown",
   "metadata": {},
   "source": [
    "The diagram below shows the object diagram of a **deep copy**. There are now two instances of **Point**.\n",
    "\n",
    "|           | Rectangle |           |           | Rectangle |           |           |\n",
    "|:----------|:----------|:----------|:----------|:----------|:----------|:----------|\n",
    "| box3 $\\rightarrow$ | width $\\rightarrow$ 100.0 |  |box $\\rightarrow$ | width $\\rightarrow$ 100.0 | | |\n",
    "|   | height $\\rightarrow$ 200.0 | **Point**|                          | height $\\rightarrow$ 200.0| **Point** | |\n",
    "|   | corner $\\longrightarrow$ | x $\\rightarrow$ 0.0 | | corner $\\longrightarrow$ | x $\\rightarrow$ 0.0|\n",
    "|   |                          | y $\\rightarrow$ 0.0 | |                          | y $\\rightarrow$ 0.0|"
   ]
  },
  {
   "cell_type": "markdown",
   "metadata": {
    "jupyter": {
     "source_hidden": true
    },
    "tags": []
   },
   "source": [
    "<div class=\"alert alert-success\">\n",
    "    <b>Do It Yourself!</b><br>\n",
    "    Create a dog owner instance, then create two copies of it: i) a shallow copy; and ii) a deep copy. Compare the dogs of the copies against the original dog with the <i>is</i> operator. What is the difference between both cases?\n",
    "</div>"
   ]
  },
  {
   "cell_type": "code",
   "execution_count": null,
   "metadata": {
    "jupyter": {
     "source_hidden": true
    },
    "tags": []
   },
   "outputs": [],
   "source": [
    "# Remove this line and add your code here"
   ]
  },
  {
   "cell_type": "markdown",
   "metadata": {},
   "source": [
    "---\n",
    "This Jupyter Notebook is based on Chapter 15 and partly on Chapter 17 of the book Think Python"
   ]
  },
  {
   "cell_type": "markdown",
   "metadata": {},
   "source": [
    "---\n",
    "\n",
    "# (End of Notebook)\n",
    "\n",
    "&copy; 2022-2023 - **TU/e** - Eindhoven University of Technology"
   ]
  }
 ],
 "metadata": {
  "kernelspec": {
   "display_name": "Python 3 (ipykernel)",
   "language": "python",
   "name": "python3"
  },
  "language_info": {
   "codemirror_mode": {
    "name": "ipython",
    "version": 3
   },
   "file_extension": ".py",
   "mimetype": "text/x-python",
   "name": "python",
   "nbconvert_exporter": "python",
   "pygments_lexer": "ipython3",
   "version": "3.9.7"
  }
 },
 "nbformat": 4,
 "nbformat_minor": 4
}
