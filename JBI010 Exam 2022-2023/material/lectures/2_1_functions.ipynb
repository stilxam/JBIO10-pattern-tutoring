{
 "cells": [
  {
   "cell_type": "markdown",
   "metadata": {
    "slideshow": {
     "slide_type": "slide"
    }
   },
   "source": [
    "# Functions"
   ]
  },
  {
   "cell_type": "markdown",
   "metadata": {
    "slideshow": {
     "slide_type": "fragment"
    }
   },
   "source": [
    "_(c) 2022, Mark van den Brand and Lina Ochoa Venegas, Eindhoven University of Technology_"
   ]
  },
  {
   "cell_type": "markdown",
   "metadata": {},
   "source": [
    "## Table of Contents\n",
    "<div class=\"toc\" style=\"margin-top: 1em;\">\n",
    "    <ul class=\"toc-item\">\n",
    "        <li>\n",
    "            <span><a href=\"#1.-Introduction\" data-toc-modified-id=\"1.-Introduction\">1. Introduction</a></span>\n",
    "        </li>\n",
    "        <li>\n",
    "            <span><a href=\"#2.-Function-Calls\" data-toc-modified-id=\"2.-Function-Calls\">2. Function Calls</a></span>\n",
    "        </li>\n",
    "        <li>\n",
    "            <span><a href=\"#3.-Built-in-Functions\" data-toc-modified-id=\"3.-Built-in-Functions\">3. Built-in Functions</a></span>\n",
    "        </li>\n",
    "        <li>\n",
    "            <span><a href=\"#4.-Math-Functions\" data-toc-modified-id=\"4.-Math-Functions\">4. Math Functions</a></span>\n",
    "        </li>\n",
    "        <li>\n",
    "            <span><a href=\"#5.-Random-Numbers\" data-toc-modified-id=\"5.-Random-Numbers\">5. Random Numbers</a></span>\n",
    "        </li>\n",
    "        <li>\n",
    "            <span><a href=\"#6.-Composition-of-Functions-Calls\" data-toc-modified-id=\"6.-Composition-of-Functions-Calls\">6. Composition of Function Calls</a></span>\n",
    "        </li>\n",
    "        <li>\n",
    "            <span><a href=\"#7.-Adding-New-Functions\" data-toc-modified-id=\"7.-Adding-New-Functions\">7. Adding New Functions</a></span>\n",
    "        </li>\n",
    "        <li>\n",
    "            <span><a href=\"#8.-docstring\" data-toc-modified-id=\"8.-docstring\">8. docstring</a></span>\n",
    "        </li>\n",
    "        <li>\n",
    "            <span><a href=\"#9.-Definitions-and-Uses\" data-toc-modified-id=\"9.-Definitions-and-Uses\">9. Definitions and Uses</a></span>\n",
    "        </li>\n",
    "        <li>\n",
    "            <span><a href=\"#10.-Flow-of-Execution\" data-toc-modified-id=\"10.-Flow-of-Execution\">10. Flow of Execution</a></span>\n",
    "        </li>\n",
    "        <li>\n",
    "            <span><a href=\"#11.-Parameters-and-Arguments\" data-toc-modified-id=\"11.-Parameters-and-Arguments\">11. Parameters and Arguments</a></span>\n",
    "        </li>\n",
    "        <li>\n",
    "            <span><a href=\"#12.-Variables-and-Parameters\" data-toc-modified-id=\"12.-Variables-and-Parameters\">12. Variables and Parameters</a></span>\n",
    "        </li>\n",
    "        <li>\n",
    "            <span><a href=\"#13.-Functions-and-Void-Functions\" data-toc-modified-id=\"13.-Functions-and-Void-Functions\">13. Functions and Void Functions</a></span>\n",
    "        </li>\n",
    "        <li>\n",
    "            <span><a href=\"#14.-Boolean-Functions\" data-toc-modified-id=\"14.-Boolean-Functions\">14. Boolean Functions</a></span>\n",
    "        </li>\n",
    "        <li>\n",
    "            <span><a href=\"#15.-Return-Values\" data-toc-modified-id=\"15.-Return-Values\">15. Return Values</a></span>\n",
    "        </li><li>\n",
    "            <span><a href=\"#16.-Function-Composition\" data-toc-modified-id=\"16.-Function-Composition\">16. Function Composition</a></span>\n",
    "        </li>\n",
    "        <li>\n",
    "            <span><a href=\"#17.-Encapsulation\" data-toc-modified-id=\"17.-Encapsulation\">17. Encapsulation</a></span>\n",
    "        </li>\n",
    "        <li>\n",
    "            <span><a href=\"#18.-Generalization\" data-toc-modified-id=\"18.-Generalization\">18. Generalization</a></span>\n",
    "        </li>\n",
    "        <li>\n",
    "            <span><a href=\"#19.-Checking-Arguments\" data-toc-modified-id=\"19.-Checking-Arguments\">19. Checking Arguments</a></span>\n",
    "        </li>\n",
    "    </ul>\n",
    "</div>"
   ]
  },
  {
   "cell_type": "markdown",
   "metadata": {
    "slideshow": {
     "slide_type": "slide"
    }
   },
   "source": [
    "## 1. Introduction\n",
    "\n",
    "So far we have seen expressions, variables, simple and advanced statements, such as conditionals and iterations.  \n",
    "\n",
    "These language constructs allows us to write already quite complex programs and to perform advanced calculations. In fact, the first programming languages did not offer many more language constructs. Maybe you already thought that you have seen sufficient language constructs to program, however, there is more to learn and to improve the quality of the programs you will write in the future. An important concept in programming is *abstraction*."
   ]
  },
  {
   "cell_type": "markdown",
   "metadata": {
    "slideshow": {
     "slide_type": "fragment"
    }
   },
   "source": [
    "Often you need a similar piece of code somewhere else in your program. A simple and straightforward way of doing this is by copying the instructions of the piece of code you want to reuse and paste at the desired location in your program. \n",
    "\n",
    "**Functions** play an important role when grouping instructions. \n",
    "They allow us to call a group\n",
    "of instructions over and over again, without copying-and-pasting these instructions. \n",
    "\n",
    "Furthermore, **functions** introduce *abstraction*, grouping of functionality by means of group instructions and giving a simple but menaingul name to it, for instance, `print`. \n",
    "**Functions** also allow us, as we will see later, to pass on values needed to perform calculations, such as the string to be printed.\n",
    "\n",
    "First we will show how **functions** can be called, later we show how to define our own functions."
   ]
  },
  {
   "cell_type": "markdown",
   "metadata": {
    "slideshow": {
     "slide_type": "slide"
    }
   },
   "source": [
    "## 2. Function Calls\n",
    "\n",
    "We have already seen examples of **function calls**, for instance:"
   ]
  },
  {
   "cell_type": "code",
   "execution_count": 1,
   "metadata": {
    "slideshow": {
     "slide_type": "fragment"
    }
   },
   "outputs": [
    {
     "data": {
      "text/plain": [
       "int"
      ]
     },
     "execution_count": 1,
     "metadata": {},
     "output_type": "execute_result"
    }
   ],
   "source": [
    "type(42)"
   ]
  },
  {
   "cell_type": "markdown",
   "metadata": {
    "slideshow": {
     "slide_type": "fragment"
    }
   },
   "source": [
    "The name of this function is `type`. \n",
    "\n",
    "The expression in parentheses is called the **argument** of the function. \n",
    "The result, for this function, is the type of the argument.\n",
    "\n",
    "It is common to say that a function “takes” an argument and “returns” a result. The result\n",
    "is called the **return value**."
   ]
  },
  {
   "cell_type": "markdown",
   "metadata": {
    "slideshow": {
     "slide_type": "slide"
    }
   },
   "source": [
    "## 3. Built-in Functions\n",
    "\n",
    "Python has built-in functions that are convenient to use. \n",
    "For instance, it provides some functions to convert values from one type to another. \n",
    "The `int` function takes any value and converts it to an integer, if it can, or it will give an error message otherwise:"
   ]
  },
  {
   "cell_type": "code",
   "execution_count": 2,
   "metadata": {
    "slideshow": {
     "slide_type": "fragment"
    }
   },
   "outputs": [
    {
     "data": {
      "text/plain": [
       "32"
      ]
     },
     "execution_count": 2,
     "metadata": {},
     "output_type": "execute_result"
    }
   ],
   "source": [
    "int('32')"
   ]
  },
  {
   "cell_type": "code",
   "execution_count": 3,
   "metadata": {
    "slideshow": {
     "slide_type": "fragment"
    }
   },
   "outputs": [
    {
     "ename": "ValueError",
     "evalue": "invalid literal for int() with base 10: 'Integer'",
     "output_type": "error",
     "traceback": [
      "\u001b[0;31m---------------------------------------------------------------------------\u001b[0m",
      "\u001b[0;31mValueError\u001b[0m                                Traceback (most recent call last)",
      "\u001b[0;32m/tmp/ipykernel_7742/2182709609.py\u001b[0m in \u001b[0;36m<module>\u001b[0;34m\u001b[0m\n\u001b[0;32m----> 1\u001b[0;31m \u001b[0mint\u001b[0m\u001b[0;34m(\u001b[0m\u001b[0;34m'Integer'\u001b[0m\u001b[0;34m)\u001b[0m\u001b[0;34m\u001b[0m\u001b[0;34m\u001b[0m\u001b[0m\n\u001b[0m",
      "\u001b[0;31mValueError\u001b[0m: invalid literal for int() with base 10: 'Integer'"
     ]
    }
   ],
   "source": [
    "int('Integer')"
   ]
  },
  {
   "cell_type": "markdown",
   "metadata": {
    "slideshow": {
     "slide_type": "fragment"
    }
   },
   "source": [
    "`int` can convert floating-point values to integers, but it does not round off; it chops off the\n",
    "fraction part:"
   ]
  },
  {
   "cell_type": "code",
   "execution_count": 4,
   "metadata": {
    "slideshow": {
     "slide_type": "fragment"
    }
   },
   "outputs": [
    {
     "data": {
      "text/plain": [
       "3"
      ]
     },
     "execution_count": 4,
     "metadata": {},
     "output_type": "execute_result"
    }
   ],
   "source": [
    "int(3.9999)"
   ]
  },
  {
   "cell_type": "markdown",
   "metadata": {
    "slideshow": {
     "slide_type": "slide"
    }
   },
   "source": [
    "`float` converts strings and integers into floats."
   ]
  },
  {
   "cell_type": "code",
   "execution_count": 5,
   "metadata": {
    "slideshow": {
     "slide_type": "fragment"
    }
   },
   "outputs": [
    {
     "data": {
      "text/plain": [
       "32.0"
      ]
     },
     "execution_count": 5,
     "metadata": {},
     "output_type": "execute_result"
    }
   ],
   "source": [
    "float(32)"
   ]
  },
  {
   "cell_type": "code",
   "execution_count": 6,
   "metadata": {},
   "outputs": [
    {
     "data": {
      "text/plain": [
       "3.14159"
      ]
     },
     "execution_count": 6,
     "metadata": {},
     "output_type": "execute_result"
    }
   ],
   "source": [
    "float('3.14159')"
   ]
  },
  {
   "cell_type": "markdown",
   "metadata": {
    "slideshow": {
     "slide_type": "fragment"
    }
   },
   "source": [
    "`str` converts its argument into a string:"
   ]
  },
  {
   "cell_type": "code",
   "execution_count": 7,
   "metadata": {
    "slideshow": {
     "slide_type": "fragment"
    }
   },
   "outputs": [
    {
     "data": {
      "text/plain": [
       "'3.14159'"
      ]
     },
     "execution_count": 7,
     "metadata": {},
     "output_type": "execute_result"
    }
   ],
   "source": [
    "str(3.14159)"
   ]
  },
  {
   "cell_type": "markdown",
   "metadata": {},
   "source": [
    "There are other functions to compute the largest and smallest element of a list or string: `max` and `min`. We will learn more about lists and strings later on."
   ]
  },
  {
   "cell_type": "code",
   "execution_count": 8,
   "metadata": {},
   "outputs": [
    {
     "data": {
      "text/plain": [
       "'t'"
      ]
     },
     "execution_count": 8,
     "metadata": {},
     "output_type": "execute_result"
    }
   ],
   "source": [
    "max('I am a data scientist')"
   ]
  },
  {
   "cell_type": "code",
   "execution_count": 9,
   "metadata": {},
   "outputs": [
    {
     "data": {
      "text/plain": [
       "' '"
      ]
     },
     "execution_count": 9,
     "metadata": {},
     "output_type": "execute_result"
    }
   ],
   "source": [
    "min('I am a data scientist')"
   ]
  },
  {
   "cell_type": "markdown",
   "metadata": {},
   "source": [
    "Another common function is `len`, which returns the length of a list or a string."
   ]
  },
  {
   "cell_type": "code",
   "execution_count": 10,
   "metadata": {},
   "outputs": [
    {
     "data": {
      "text/plain": [
       "21"
      ]
     },
     "execution_count": 10,
     "metadata": {},
     "output_type": "execute_result"
    }
   ],
   "source": [
    "len('I am a data scientist')"
   ]
  },
  {
   "cell_type": "markdown",
   "metadata": {},
   "source": [
    "<div class=\"alert alert-info\">\n",
    "    <b>Built-in function names</b><br>\n",
    "    You should treat built-in functions as reserved words: don't use use their names to name variables.\n",
    "</div>"
   ]
  },
  {
   "cell_type": "markdown",
   "metadata": {
    "jupyter": {
     "source_hidden": true
    },
    "tags": []
   },
   "source": [
    "<div class=\"alert alert-success\">\n",
    "    <b>Do It Yourself!</b><br>\n",
    "    Compute the length of the string \"Twist and shout\".\n",
    "</div>"
   ]
  },
  {
   "cell_type": "code",
   "execution_count": null,
   "metadata": {
    "jupyter": {
     "source_hidden": true
    },
    "tags": []
   },
   "outputs": [],
   "source": [
    "# Remove this line and add your code here"
   ]
  },
  {
   "cell_type": "markdown",
   "metadata": {
    "slideshow": {
     "slide_type": "slide"
    }
   },
   "source": [
    "## 4. Math Functions\n",
    "\n",
    "The functions presented in the previous section are built-in functions. Every Python implementation will provide these functions. \n",
    "\n",
    "Another way of providing predefined functions is via **modules** or **libraries**. Python offers a rich collection of modules and libraries to facilitate a programmer so that desired frequent functionality can be easily reused, by calling the desired function from the module or library.\n",
    "\n",
    "Python has a *math module* that provides most of the familiar mathematical functions. A **module** is a file that contains a collection of related functions."
   ]
  },
  {
   "cell_type": "markdown",
   "metadata": {},
   "source": [
    "<div class=\"alert alert-info\">\n",
    "    <b>Python module</b><br>\n",
    "    A <b>module</b> is yet another mechanism to structure your software, frequently used functions, such as Math functions, can be group together in a <b>module</b>.\n",
    "</div>"
   ]
  },
  {
   "cell_type": "markdown",
   "metadata": {},
   "source": [
    "Before we can use the functions in a module, we have to import it with an import statement."
   ]
  },
  {
   "cell_type": "code",
   "execution_count": 11,
   "metadata": {
    "slideshow": {
     "slide_type": "fragment"
    }
   },
   "outputs": [],
   "source": [
    "import math"
   ]
  },
  {
   "cell_type": "markdown",
   "metadata": {
    "slideshow": {
     "slide_type": "fragment"
    }
   },
   "source": [
    "This statement creates a **module object** named \"math\". \n",
    "If you display the module object, you get some information about it."
   ]
  },
  {
   "cell_type": "code",
   "execution_count": 12,
   "metadata": {
    "slideshow": {
     "slide_type": "fragment"
    }
   },
   "outputs": [
    {
     "data": {
      "text/plain": [
       "<module 'math' from '/home/lina/anaconda3/lib/python3.9/lib-dynload/math.cpython-39-x86_64-linux-gnu.so'>"
      ]
     },
     "execution_count": 12,
     "metadata": {},
     "output_type": "execute_result"
    }
   ],
   "source": [
    "math"
   ]
  },
  {
   "cell_type": "markdown",
   "metadata": {
    "slideshow": {
     "slide_type": "fragment"
    }
   },
   "source": [
    "If you want to learn more about the functions and constants defined in the Math module, see \n",
    "https://docs.python.org/3/library/math.html. \n",
    "\n",
    "To execute one of the functions, you have to specify the name of the module and the name of the\n",
    "function, separated by a dot (also known as a period). This format is called **dot notation**."
   ]
  },
  {
   "cell_type": "code",
   "execution_count": 13,
   "metadata": {
    "slideshow": {
     "slide_type": "fragment"
    }
   },
   "outputs": [
    {
     "name": "stdout",
     "output_type": "stream",
     "text": [
      "6.989700043360188\n"
     ]
    }
   ],
   "source": [
    "signal_power: int = 25\n",
    "noise_power: int  = 5\n",
    "ratio: float = signal_power / noise_power\n",
    "decibels: float = 10 * math.log10(ratio)\n",
    "print(decibels)"
   ]
  },
  {
   "cell_type": "markdown",
   "metadata": {
    "slideshow": {
     "slide_type": "fragment"
    }
   },
   "source": [
    "The first example uses `math.log10` to compute a signal-to-noise ratio in decibels."
   ]
  },
  {
   "cell_type": "markdown",
   "metadata": {
    "slideshow": {
     "slide_type": "fragment"
    }
   },
   "source": [
    "The expression `math.pi` gets the variable `pi` from the math module. \n",
    "Its value is a floating point approximation of π in 15 digits."
   ]
  },
  {
   "cell_type": "code",
   "execution_count": null,
   "metadata": {
    "slideshow": {
     "slide_type": "fragment"
    }
   },
   "outputs": [],
   "source": [
    "print(math.pi)"
   ]
  },
  {
   "cell_type": "markdown",
   "metadata": {
    "jupyter": {
     "source_hidden": true
    },
    "tags": []
   },
   "source": [
    "<div class=\"alert alert-success\">\n",
    "    <b>Do It Yourself!</b><br>\n",
    "    Use the <i>math</i> module to compute the square root of 361.\n",
    "</div>"
   ]
  },
  {
   "cell_type": "code",
   "execution_count": null,
   "metadata": {
    "jupyter": {
     "source_hidden": true
    },
    "tags": []
   },
   "outputs": [],
   "source": [
    "# Remove this line and add your code here"
   ]
  },
  {
   "cell_type": "markdown",
   "metadata": {},
   "source": [
    "## 5. Random Numbers\n",
    "\n",
    "Python provides the module `random` to generate pseudorandom numbers.\n",
    "\n",
    "Pseudorandom numbers are not completely random because they are generated by means of a deterministic computation.\n",
    "Computers are simple, they just execute a list of instructions. If you execute twice the same list of instructions you\n",
    "will get the same result. Randomness is obtained by taking for instance the time of the day as argument in the internal\n",
    "computation to generate a random number.\n",
    "\n",
    "A computation is said to be **deterministic** if it always generates the same outputs for the same inputs."
   ]
  },
  {
   "cell_type": "markdown",
   "metadata": {},
   "source": [
    "The `random` module provides the `random` function to generate a pseudorandom float between 0.0 and 1.0 (including 0.0 but not 1.0).\n",
    "\n",
    "The following function generates 5 pseudorandom numbers by using the `random` function. Run it multiple times to check its output."
   ]
  },
  {
   "cell_type": "code",
   "execution_count": null,
   "metadata": {},
   "outputs": [],
   "source": [
    "import random\n",
    "\n",
    "i: int = 0\n",
    "while i < 5:\n",
    "    x: float = random.random()\n",
    "    print(x)\n",
    "    i += 1"
   ]
  },
  {
   "cell_type": "markdown",
   "metadata": {
    "jupyter": {
     "source_hidden": true
    },
    "tags": []
   },
   "source": [
    "<div class=\"alert alert-success\">\n",
    "    <b>Do It Yourself!</b><br>\n",
    "    Use the <code>randint</code> function to generate 10 random integers between 20 and 80.\n",
    "</div>"
   ]
  },
  {
   "cell_type": "code",
   "execution_count": null,
   "metadata": {
    "jupyter": {
     "source_hidden": true
    },
    "tags": []
   },
   "outputs": [],
   "source": [
    "# Remove this line and add your code here"
   ]
  },
  {
   "cell_type": "markdown",
   "metadata": {
    "slideshow": {
     "slide_type": "slide"
    }
   },
   "source": [
    "## 6. Composition of Function Calls\n",
    "\n",
    "The following program:"
   ]
  },
  {
   "cell_type": "code",
   "execution_count": null,
   "metadata": {
    "scrolled": true
   },
   "outputs": [],
   "source": [
    "signal_power: int = 25\n",
    "noise_power: int = 5\n",
    "ratio: float = signal_power / noise_power\n",
    "decibels: float = 10 * math.log10(ratio)\n",
    "print(decibels)"
   ]
  },
  {
   "cell_type": "markdown",
   "metadata": {},
   "source": [
    "contains program elements in isolation.\n",
    "Every line introduces a new variable and the right hand side of the\n",
    "assignment is a rather trivial operation.\n",
    "\n",
    "Programming languages offer facilities to compose operations and create\n",
    "more complicated expressions.  \n",
    "For example, the argument of a function can be any\n",
    "kind of expression, including arithmetic operators."
   ]
  },
  {
   "cell_type": "code",
   "execution_count": null,
   "metadata": {},
   "outputs": [],
   "source": [
    "degrees: float = 45.0\n",
    "x: float = math.sin(degrees / 360.0 * 2 * math.pi)\n",
    "print(x)"
   ]
  },
  {
   "cell_type": "markdown",
   "metadata": {},
   "source": [
    "And even function calls:"
   ]
  },
  {
   "cell_type": "code",
   "execution_count": 14,
   "metadata": {},
   "outputs": [
    {
     "name": "stdout",
     "output_type": "stream",
     "text": [
      "2.0\n"
     ]
    }
   ],
   "source": [
    "x = 1\n",
    "x: float = math.exp(math.log(x + 1))\n",
    "print(x)"
   ]
  },
  {
   "cell_type": "markdown",
   "metadata": {},
   "source": [
    "Almost anywhere you can put a value or an arbitrary expression, with one exception:\n",
    "the left side of an assignment statement has to be a variable name. \n",
    "Any other\n",
    "expression on the left side is a syntax error (we will see exceptions to this rule later)."
   ]
  },
  {
   "cell_type": "code",
   "execution_count": null,
   "metadata": {
    "slideshow": {
     "slide_type": "fragment"
    }
   },
   "outputs": [],
   "source": [
    "hours: int = 2\n",
    "minutes: int = hours * 60 # correct\n",
    "minutes"
   ]
  },
  {
   "cell_type": "code",
   "execution_count": null,
   "metadata": {
    "slideshow": {
     "slide_type": "fragment"
    }
   },
   "outputs": [],
   "source": [
    "hours * 60 = minutes # wrong"
   ]
  },
  {
   "cell_type": "markdown",
   "metadata": {},
   "source": [
    "Furthermore, it is important to realise the order of execution. The arguments of\n",
    "functions are evaluated **before the function is called**. \n",
    "The arguments are also evaluated **from left to right**. \n",
    "\n",
    "If in the arguments arithmetic operators are used, they are evaluated taking\n",
    "the priorities (PEDMAS) into consideration."
   ]
  },
  {
   "cell_type": "markdown",
   "metadata": {
    "jupyter": {
     "source_hidden": true
    },
    "tags": []
   },
   "source": [
    "<div class=\"alert alert-success\">\n",
    "    <b>Do It Yourself!</b><br>\n",
    "    Re-write the program presented in the first cell of this section. Use functions composition to this aim.\n",
    "</div>"
   ]
  },
  {
   "cell_type": "code",
   "execution_count": null,
   "metadata": {
    "jupyter": {
     "source_hidden": true
    },
    "tags": []
   },
   "outputs": [],
   "source": [
    "# Remove this line and add your code here"
   ]
  },
  {
   "cell_type": "markdown",
   "metadata": {
    "slideshow": {
     "slide_type": "slide"
    }
   },
   "source": [
    "## 7. Adding New Functions\n",
    "\n",
    "So far, we have only been using existing Python functions, but it is also possible\n",
    "to define our own functions. This gives us a very powerful tool when developing software.\n",
    "It allows us to structure our code by means of abstraction and hiding the internal computations\n",
    "going on the body of a function.\n",
    "\n",
    "This allows you to capture computations in functions in order to reuse them later.\n",
    "Recall that a function is the mechanism to facilitate reuse. \n",
    "\n",
    "A lot of programmers are lazy and use the principle of *copy-and-paste*. \n",
    "If they see a few lines of code that do the job, they copy and paste them, instead\n",
    "of creating a proper function. This behavior leads to *code clones* and code clones\n",
    "hamper maintenance in the long run. If it is one up to four statements it is fine, but\n",
    "if you copy and paste five or more statements please create a function.\n",
    "\n",
    "A **function definition** specifies the name of a new function and the\n",
    "sequence of statements that run when the function is called.\n",
    "\n",
    "The challenge for a programmer is to identify which group of instructions are suited to transform into a function\n",
    "and to give a good name to a function. It is a matter of experience but also of continuously reflecting on your code\n",
    "and applying refactorings when you are not satisfied. \n",
    "We will see later a bit more on refactorings."
   ]
  },
  {
   "cell_type": "code",
   "execution_count": 16,
   "metadata": {
    "slideshow": {
     "slide_type": "fragment"
    }
   },
   "outputs": [],
   "source": [
    "def print_hello():\n",
    "    print('Hello')\n",
    "    \n",
    "print_hello()"
   ]
  },
  {
   "cell_type": "markdown",
   "metadata": {
    "slideshow": {
     "slide_type": "fragment"
    }
   },
   "source": [
    "`def` is the keyword that indicates that you defined a new function.\n",
    "\n",
    "The name of the new function, in this case, is `print_hello`.\n",
    "\n",
    "<div class=\"alert alert-info\">\n",
    "    <b>Function names</b><br>\n",
    "    The rules for function names are the same as for variable names: letters,\n",
    "numbers and underscore are legal, but the first character cannot be a number. \n",
    "    You cannot use a keyword as the name of a function, and you should avoid having a variable and a function\n",
    "with the same name.\n",
    "</div>"
   ]
  },
  {
   "cell_type": "markdown",
   "metadata": {
    "slideshow": {
     "slide_type": "fragment"
    }
   },
   "source": [
    "The empty parentheses after the name indicate that this function does not take any arguments.\n",
    "\n",
    "The first line of the function definition is called the **header**; the rest is called the **body**. \n",
    "\n",
    "The header has to end with a colon and the body has to be indented. \n",
    "\n",
    "By convention, indentation is always four spaces. \n",
    "\n",
    "The body can contain any number of statements."
   ]
  },
  {
   "cell_type": "markdown",
   "metadata": {
    "slideshow": {
     "slide_type": "slide"
    }
   },
   "source": [
    "Defining a function creates a **function object**, which has type function."
   ]
  },
  {
   "cell_type": "code",
   "execution_count": 17,
   "metadata": {
    "slideshow": {
     "slide_type": "fragment"
    }
   },
   "outputs": [
    {
     "name": "stdout",
     "output_type": "stream",
     "text": [
      "<function print_hello at 0x7f15c473a3a0>\n"
     ]
    }
   ],
   "source": [
    "print(print_hello)"
   ]
  },
  {
   "cell_type": "code",
   "execution_count": 18,
   "metadata": {
    "slideshow": {
     "slide_type": "fragment"
    }
   },
   "outputs": [
    {
     "data": {
      "text/plain": [
       "function"
      ]
     },
     "execution_count": 18,
     "metadata": {},
     "output_type": "execute_result"
    }
   ],
   "source": [
    "type(print_hello)"
   ]
  },
  {
   "cell_type": "code",
   "execution_count": 19,
   "metadata": {
    "slideshow": {
     "slide_type": "fragment"
    }
   },
   "outputs": [
    {
     "name": "stdout",
     "output_type": "stream",
     "text": [
      "Hello\n"
     ]
    }
   ],
   "source": [
    "print_hello()"
   ]
  },
  {
   "cell_type": "markdown",
   "metadata": {
    "slideshow": {
     "slide_type": "slide"
    }
   },
   "source": [
    "You can define another function `print_data_scientists`."
   ]
  },
  {
   "cell_type": "code",
   "execution_count": 20,
   "metadata": {
    "slideshow": {
     "slide_type": "fragment"
    }
   },
   "outputs": [
    {
     "name": "stdout",
     "output_type": "stream",
     "text": [
      "Data Scientists\n"
     ]
    }
   ],
   "source": [
    "def print_data_scientists():\n",
    "    print('Data Scientists')\n",
    "    \n",
    "print_data_scientists()"
   ]
  },
  {
   "cell_type": "markdown",
   "metadata": {
    "slideshow": {
     "slide_type": "fragment"
    }
   },
   "source": [
    "You can define a new function `print_greeting` that calls the other 2 functions."
   ]
  },
  {
   "cell_type": "code",
   "execution_count": 21,
   "metadata": {
    "slideshow": {
     "slide_type": "fragment"
    }
   },
   "outputs": [],
   "source": [
    "def print_greeting():\n",
    "    print_hello()\n",
    "    print_data_scientists()"
   ]
  },
  {
   "cell_type": "code",
   "execution_count": 22,
   "metadata": {
    "slideshow": {
     "slide_type": "fragment"
    }
   },
   "outputs": [
    {
     "name": "stdout",
     "output_type": "stream",
     "text": [
      "Hello\n",
      "Data Scientists\n"
     ]
    }
   ],
   "source": [
    "print_greeting()"
   ]
  },
  {
   "cell_type": "markdown",
   "metadata": {
    "jupyter": {
     "source_hidden": true
    },
    "tags": []
   },
   "source": [
    "<div class=\"alert alert-success\">\n",
    "    <b>Do It Yourself!</b><br>\n",
    "    Define the function <code>compute_area</code> that computes the area of a circle. It takes an integer representing the radio of a circle as argument. The return value is the area of the circle.\n",
    "</div>"
   ]
  },
  {
   "cell_type": "code",
   "execution_count": null,
   "metadata": {
    "jupyter": {
     "source_hidden": true
    },
    "tags": []
   },
   "outputs": [],
   "source": [
    "# Remove this line and add your code here"
   ]
  },
  {
   "cell_type": "markdown",
   "metadata": {
    "slideshow": {
     "slide_type": "slide"
    }
   },
   "source": [
    "## 8. docstring\n",
    "\n",
    "A **docstring** is a string at the beginning of a function that explains its interface (“doc” is\n",
    "short for “documentation”)."
   ]
  },
  {
   "cell_type": "code",
   "execution_count": null,
   "metadata": {
    "slideshow": {
     "slide_type": "fragment"
    }
   },
   "outputs": [],
   "source": [
    "def print_squares():\n",
    "    \"\"\" \n",
    "    Prints the squares of 1 up to 5 and it does not \n",
    "    return a value.\n",
    "    \"\"\"\n",
    "    print('1, 4, 9, 16, 25')\n",
    "    \n",
    "print_squares()"
   ]
  },
  {
   "cell_type": "markdown",
   "metadata": {
    "slideshow": {
     "slide_type": "fragment"
    }
   },
   "source": [
    "By convention, all docstrings are triple-quoted strings, also known as multiline strings\n",
    "because the triple quotes allow the string to span more than one line.\n",
    "\n",
    "A **good docstring**:\n",
    "- is **concise**, but it contains the essential information someone would need to use this function;\n",
    "- explains concisely what the function does (without getting into the details of how\n",
    "it does it);\n",
    "- explains what **effect each parameter has** on the behavior of the function and\n",
    "what **type each parameter should be** (if it is not obvious).\n",
    "\n",
    "Writing this kind of documentation is an important part of the interface design. \n",
    "A well designed interface should be simple to explain; if you have a hard time explaining one\n",
    "of your functions, maybe the interface could be improved."
   ]
  },
  {
   "cell_type": "code",
   "execution_count": null,
   "metadata": {
    "slideshow": {
     "slide_type": "fragment"
    }
   },
   "outputs": [],
   "source": [
    "def print_squares():\n",
    "    \"\"\" \n",
    "    Prints the squares of 1 up to 5 and it does not \n",
    "    return a value.\n",
    "    \"\"\"\n",
    "    i: int = 1\n",
    "        \n",
    "    while i < 6:\n",
    "        print(i**2)\n",
    "        i += 1\n",
    "        \n",
    "print_squares()"
   ]
  },
  {
   "cell_type": "markdown",
   "metadata": {
    "slideshow": {
     "slide_type": "slide"
    }
   },
   "source": [
    "## 9. Definitions and Uses\n",
    "\n",
    "Pulling together the code fragments from the previous section, you get the following program."
   ]
  },
  {
   "cell_type": "code",
   "execution_count": null,
   "metadata": {
    "slideshow": {
     "slide_type": "fragment"
    }
   },
   "outputs": [],
   "source": [
    "def print_data_scientists():\n",
    "    print('Data Scientists')\n",
    "    \n",
    "def print_hello():\n",
    "    print('Hello')\n",
    "    \n",
    "def print_greeting():\n",
    "    print_hello()\n",
    "    print_data_scientists()\n",
    "    \n",
    "print_greeting()"
   ]
  },
  {
   "cell_type": "markdown",
   "metadata": {
    "slideshow": {
     "slide_type": "fragment"
    }
   },
   "source": [
    "This program contains three function definitions: `print_hello`, `print_data_scientists` and `print_greeting`.\n",
    "\n",
    "Function definitions get executed just like other statements, but the effect is that function objects are created. \n",
    "\n",
    "The statements inside the function do not run until the function is called, and the\n",
    "function definition generates no output.\n",
    "\n",
    "You need to define a function before you can run it."
   ]
  },
  {
   "cell_type": "markdown",
   "metadata": {
    "jupyter": {
     "source_hidden": true
    },
    "tags": []
   },
   "source": [
    "<div class=\"alert alert-success\">\n",
    "    <b>Do It Yourself!</b><br>\n",
    "    Define a new function <code>print_bye</code> that prints the word \"Bye\". Then define another function <code>print_all</code> that uses twice the <code>print_hello</code> function, once the <code>print_data_scientists</code> function, and twice the <code>print_bye</code> function in that order.\n",
    "</div>"
   ]
  },
  {
   "cell_type": "code",
   "execution_count": null,
   "metadata": {
    "jupyter": {
     "source_hidden": true
    },
    "tags": []
   },
   "outputs": [],
   "source": [
    "# Remove this line and add your code here"
   ]
  },
  {
   "cell_type": "markdown",
   "metadata": {
    "slideshow": {
     "slide_type": "slide"
    }
   },
   "source": [
    "## 10. Flow of Execution\n",
    "\n",
    "Functions have to be defined before they can be executed, this is similar to a variable\n",
    "definition. You cannot use a variable in the right hand side of an assignment if it is\n",
    "not introduced in the left hand side of a preceding assignment.\n",
    "\n",
    "The execution of a Python script/progam always starts with the first statement of\n",
    "the program, this is also called the *flow of execution*.\n",
    "\n",
    "Statements are run one at a time (*sequential*), from top to bottom.\n",
    "\n",
    "<div class=\"alert alert-info\">\n",
    "    <b>Executing cells</b><br>\n",
    "    This is also the case in the Jupyter notebooks. If you forget to execute a <i>cell</i> than variables and functions defined in that cell are not available in later cells.\n",
    "</div>"
   ]
  },
  {
   "cell_type": "markdown",
   "metadata": {
    "slideshow": {
     "slide_type": "fragment"
    }
   },
   "source": [
    "Function definitions do not alter the flow of execution of the program, but remember that\n",
    "statements inside the function do not run until the function is called.\n",
    "\n",
    "You could consider a function call as a *detour* in the flow of execution of a program. \n",
    "Instead of going to the next statement,\n",
    "the flow jumps to the body of the function, runs the statements there, and \n",
    "continues with the execution of the statements after the function call.\n",
    "\n",
    "That sounds simple enough, until you remember that one function can call another. \n",
    "While in the middle of one function, the program might have to run the statements in another\n",
    "function. \n",
    "Then, while running that new function, the program might have to run yet another function, and so on!\n",
    "In principle this is going to stop because there are a finite number of functions."
   ]
  },
  {
   "cell_type": "markdown",
   "metadata": {},
   "source": [
    "## 11. Parameters and Arguments\n",
    "\n",
    "Functions may require arguments. For instance, `math.sin` requires a number as argument.\n",
    "Some functions take more than one argument. For instance, `math.pow` takes the base and exponent as arguments.\n",
    "Inside the function, the arguments are assigned to variables called **parameters**."
   ]
  },
  {
   "cell_type": "markdown",
   "metadata": {},
   "source": [
    "<div class=\"alert alert-info\">\n",
    "    <b>Dynamically typed language</b><br>\n",
    "    Python is a <i>dynamically typed language</i>, this means that the Python interpreter computes the types of variables and arguments.\n",
    "</div>\n",
    "\n",
    "Python does not require to add types to the function arguments.\n",
    "In this course, you are **required** to provide the types of the arguments and return value of a function explicitly by means of *type hints* when they are known in advance! \n",
    "This must be done just as *strongly-typed languages* do it.\n",
    "Currently, Python does not check the use of type hints, but in the future who knows..."
   ]
  },
  {
   "cell_type": "code",
   "execution_count": 23,
   "metadata": {
    "slideshow": {
     "slide_type": "fragment"
    }
   },
   "outputs": [],
   "source": [
    "def print_text_twice(text_arg: str) -> None:\n",
    "    \"\"\"\n",
    "    Prints the text given as paramter twice.\n",
    "    :param text_arg: text to print \n",
    "    \"\"\"\n",
    "    print(text_arg)\n",
    "    print(text_arg)"
   ]
  },
  {
   "cell_type": "markdown",
   "metadata": {
    "slideshow": {
     "slide_type": "slide"
    }
   },
   "source": [
    "In the next cell we do not know the type of the arguments, so we  provide the type `any`."
   ]
  },
  {
   "cell_type": "code",
   "execution_count": 24,
   "metadata": {
    "slideshow": {
     "slide_type": "fragment"
    }
   },
   "outputs": [],
   "source": [
    "def print_twice(text_arg: any) -> None:\n",
    "    \"\"\"\n",
    "    Prints the text given as paramter twice.\n",
    "    :param text_arg: text to print \n",
    "    \"\"\"\n",
    "    print(text_arg)\n",
    "    print(text_arg)"
   ]
  },
  {
   "cell_type": "markdown",
   "metadata": {
    "slideshow": {
     "slide_type": "fragment"
    }
   },
   "source": [
    "The function `print_twice` assigns the argument to a parameter named `text_arg`. \n",
    "When the function is called, it prints the value of the parameter (whatever it is) twice.\n",
    "This function works with any value that can be printed."
   ]
  },
  {
   "cell_type": "code",
   "execution_count": 25,
   "metadata": {
    "slideshow": {
     "slide_type": "fragment"
    }
   },
   "outputs": [
    {
     "name": "stdout",
     "output_type": "stream",
     "text": [
      "42\n",
      "42\n"
     ]
    }
   ],
   "source": [
    "print_twice(42)"
   ]
  },
  {
   "cell_type": "code",
   "execution_count": 26,
   "metadata": {
    "slideshow": {
     "slide_type": "fragment"
    }
   },
   "outputs": [
    {
     "name": "stdout",
     "output_type": "stream",
     "text": [
      "3.141592653589793\n",
      "3.141592653589793\n"
     ]
    }
   ],
   "source": [
    "print_twice(math.pi)"
   ]
  },
  {
   "cell_type": "code",
   "execution_count": 27,
   "metadata": {
    "slideshow": {
     "slide_type": "fragment"
    }
   },
   "outputs": [
    {
     "name": "stdout",
     "output_type": "stream",
     "text": [
      "Data Science Data Science Data Science Data Science Data Science Data Science \n",
      "Data Science Data Science Data Science Data Science Data Science Data Science \n"
     ]
    }
   ],
   "source": [
    "print_twice('Data Science ' * 6)"
   ]
  },
  {
   "cell_type": "markdown",
   "metadata": {
    "slideshow": {
     "slide_type": "fragment"
    }
   },
   "source": [
    "The argument is always evaluated before the function is called, so in the example, the expression `'Data Science ' * 6` is only evaluated once.\n",
    "\n",
    "It is also possible to pass a variable as argument to a function parameter.\n",
    "\n",
    "The name of the variable is independent of the name of the argument."
   ]
  },
  {
   "cell_type": "code",
   "execution_count": null,
   "metadata": {
    "slideshow": {
     "slide_type": "fragment"
    }
   },
   "outputs": [],
   "source": [
    "cs_str: str = 'Computer Science'\n",
    "print_twice(cs_str)"
   ]
  },
  {
   "cell_type": "markdown",
   "metadata": {
    "slideshow": {
     "slide_type": "slide"
    }
   },
   "source": [
    "## 12. Variables and Parameters\n",
    "\n",
    "It is possible to create a local variable inside a function, which means that it only exists inside the function."
   ]
  },
  {
   "cell_type": "code",
   "execution_count": 29,
   "metadata": {
    "slideshow": {
     "slide_type": "fragment"
    }
   },
   "outputs": [
    {
     "name": "stdout",
     "output_type": "stream",
     "text": [
      "Data Science\n",
      "Data Science\n"
     ]
    }
   ],
   "source": [
    "def concat(part1: str, part2: str) -> None:\n",
    "    \"\"\"\n",
    "    Concantenates two strings and prints the result twice.\n",
    "    :param part1: first string\n",
    "    :param part2: second string\n",
    "    \"\"\"\n",
    "    cc_result: str = part1 + part2\n",
    "    print_twice(cc_result)\n",
    "    \n",
    "concat('Data ', 'Science')"
   ]
  },
  {
   "cell_type": "markdown",
   "metadata": {
    "slideshow": {
     "slide_type": "fragment"
    }
   },
   "source": [
    "You cannot use the local variables outside the function."
   ]
  },
  {
   "cell_type": "code",
   "execution_count": 30,
   "metadata": {
    "slideshow": {
     "slide_type": "fragment"
    }
   },
   "outputs": [
    {
     "ename": "NameError",
     "evalue": "name 'cc_result' is not defined",
     "output_type": "error",
     "traceback": [
      "\u001b[0;31m---------------------------------------------------------------------------\u001b[0m",
      "\u001b[0;31mNameError\u001b[0m                                 Traceback (most recent call last)",
      "\u001b[0;32m/tmp/ipykernel_7742/3023972825.py\u001b[0m in \u001b[0;36m<module>\u001b[0;34m\u001b[0m\n\u001b[0;32m----> 1\u001b[0;31m \u001b[0mprint\u001b[0m\u001b[0;34m(\u001b[0m\u001b[0mcc_result\u001b[0m\u001b[0;34m)\u001b[0m\u001b[0;34m\u001b[0m\u001b[0;34m\u001b[0m\u001b[0m\n\u001b[0m",
      "\u001b[0;31mNameError\u001b[0m: name 'cc_result' is not defined"
     ]
    }
   ],
   "source": [
    "print(cc_result)"
   ]
  },
  {
   "cell_type": "markdown",
   "metadata": {
    "slideshow": {
     "slide_type": "fragment"
    }
   },
   "source": [
    "Local variables and parameters are invisible outside the function."
   ]
  },
  {
   "cell_type": "code",
   "execution_count": 31,
   "metadata": {
    "slideshow": {
     "slide_type": "fragment"
    }
   },
   "outputs": [
    {
     "ename": "NameError",
     "evalue": "name 'part1' is not defined",
     "output_type": "error",
     "traceback": [
      "\u001b[0;31m---------------------------------------------------------------------------\u001b[0m",
      "\u001b[0;31mNameError\u001b[0m                                 Traceback (most recent call last)",
      "\u001b[0;32m/tmp/ipykernel_7742/2285949388.py\u001b[0m in \u001b[0;36m<module>\u001b[0;34m\u001b[0m\n\u001b[0;32m----> 1\u001b[0;31m \u001b[0mprint\u001b[0m\u001b[0;34m(\u001b[0m\u001b[0mpart1\u001b[0m\u001b[0;34m)\u001b[0m\u001b[0;34m\u001b[0m\u001b[0;34m\u001b[0m\u001b[0m\n\u001b[0m",
      "\u001b[0;31mNameError\u001b[0m: name 'part1' is not defined"
     ]
    }
   ],
   "source": [
    "print(part1)"
   ]
  },
  {
   "cell_type": "markdown",
   "metadata": {
    "tags": []
   },
   "source": [
    "\n",
    "Which value will the following code print?\n"
   ]
  },
  {
   "cell_type": "code",
   "execution_count": 32,
   "metadata": {
    "tags": []
   },
   "outputs": [
    {
     "name": "stdout",
     "output_type": "stream",
     "text": [
      "Hello!\n"
     ]
    }
   ],
   "source": [
    "greeting: str = 'Hello!'\n",
    "\n",
    "def print_greeting():\n",
    "    greeting: str = 'Hoi!'\n",
    "    \n",
    "print(greeting)"
   ]
  },
  {
   "cell_type": "markdown",
   "metadata": {
    "slideshow": {
     "slide_type": "slide"
    }
   },
   "source": [
    "## 13. Functions and Void Functions\n",
    "\n",
    "In \"normal\" programming language parlance a **void function** is a **procedure**. \n",
    "\n",
    "In Python both a **function** and a **procedure** are called **function**. \n",
    "\n",
    "Sometimes, functions can return a value. From now on, we will add the return type to the function definition via `-> type`.\n",
    "If they do not return anything you can use the `-> None` type hint.\n",
    "A **void function** is a function that returns nothing."
   ]
  },
  {
   "cell_type": "code",
   "execution_count": 33,
   "metadata": {
    "slideshow": {
     "slide_type": "fragment"
    }
   },
   "outputs": [
    {
     "data": {
      "text/plain": [
       "2.23606797749979"
      ]
     },
     "execution_count": 33,
     "metadata": {},
     "output_type": "execute_result"
    }
   ],
   "source": [
    "import math\n",
    "math.sqrt(5)"
   ]
  },
  {
   "cell_type": "markdown",
   "metadata": {
    "slideshow": {
     "slide_type": "fragment"
    }
   },
   "source": [
    "In order to \"capture\" the value you have to assign the result of the function to a variable."
   ]
  },
  {
   "cell_type": "code",
   "execution_count": 34,
   "metadata": {
    "slideshow": {
     "slide_type": "fragment"
    }
   },
   "outputs": [
    {
     "name": "stdout",
     "output_type": "stream",
     "text": [
      "2.23606797749979\n"
     ]
    }
   ],
   "source": [
    "result: float = math.sqrt(5)\n",
    "print(result)"
   ]
  },
  {
   "cell_type": "markdown",
   "metadata": {
    "slideshow": {
     "slide_type": "fragment"
    }
   },
   "source": [
    "Void functions might display something on the screen or have some other effect, but they\n",
    "do not have a return value. \n",
    "\n",
    "So, it makes no sense to call a void function in the right hand side of an assignment statement.\n",
    "\n",
    "If you assign the result to a variable, you get a special value\n",
    "called `None`."
   ]
  },
  {
   "cell_type": "code",
   "execution_count": 35,
   "metadata": {
    "slideshow": {
     "slide_type": "fragment"
    }
   },
   "outputs": [
    {
     "name": "stdout",
     "output_type": "stream",
     "text": [
      "Artifial Intelligence\n",
      "Artifial Intelligence\n"
     ]
    }
   ],
   "source": [
    "ai: str = print_twice('Artifial Intelligence')"
   ]
  },
  {
   "cell_type": "code",
   "execution_count": 36,
   "metadata": {
    "slideshow": {
     "slide_type": "fragment"
    }
   },
   "outputs": [
    {
     "name": "stdout",
     "output_type": "stream",
     "text": [
      "None\n"
     ]
    }
   ],
   "source": [
    "print(ai)"
   ]
  },
  {
   "cell_type": "markdown",
   "metadata": {
    "jupyter": {
     "source_hidden": true
    },
    "tags": []
   },
   "source": [
    "<div class=\"alert alert-success\">\n",
    "    <b>Do It Yourself!</b><br>\n",
    "    Identify returning and the void function.\n",
    "</div>"
   ]
  },
  {
   "cell_type": "code",
   "execution_count": null,
   "metadata": {
    "jupyter": {
     "source_hidden": true
    },
    "tags": []
   },
   "outputs": [],
   "source": [
    "def sum(x: int, y: int) -> int:\n",
    "    return x + y\n",
    "\n",
    "print(sum(1, 2))"
   ]
  },
  {
   "cell_type": "code",
   "execution_count": null,
   "metadata": {
    "jupyter": {
     "source_hidden": true
    },
    "tags": []
   },
   "outputs": [],
   "source": [
    "def sum(x: int, y: int) -> None:\n",
    "    print(x + y)\n",
    "\n",
    "sum(1, 2)"
   ]
  },
  {
   "cell_type": "markdown",
   "metadata": {
    "slideshow": {
     "slide_type": "slide"
    }
   },
   "source": [
    "## 14. Boolean Functions\n",
    "\n",
    "So far, we have seen **functions** returning integer and floating-point values.\n",
    "Functions can also return Booleans."
   ]
  },
  {
   "cell_type": "code",
   "execution_count": 37,
   "metadata": {
    "slideshow": {
     "slide_type": "fragment"
    }
   },
   "outputs": [
    {
     "name": "stdout",
     "output_type": "stream",
     "text": [
      "0\n"
     ]
    },
    {
     "data": {
      "text/plain": [
       "True"
      ]
     },
     "execution_count": 37,
     "metadata": {},
     "output_type": "execute_result"
    }
   ],
   "source": [
    "def is_divisible(x: int, y: int) -> bool:\n",
    "    \"\"\"\n",
    "    Verifies whether x is divisible by y.\n",
    "    :param x: dividend number\n",
    "    :param y: divisor number\n",
    "    :returns: `True` if x is divisible by y, `False` otherwise.\n",
    "    \"\"\"\n",
    "    print(x % y)\n",
    "    if x % y == 0:\n",
    "        return True\n",
    "    else:\n",
    "        return False\n",
    "    \n",
    "is_divisible(6, 3)"
   ]
  },
  {
   "cell_type": "markdown",
   "metadata": {
    "slideshow": {
     "slide_type": "fragment"
    }
   },
   "source": [
    "The result of the `==` operator is a Boolean, so the `is_divisible` function can be more concise."
   ]
  },
  {
   "cell_type": "code",
   "execution_count": null,
   "metadata": {
    "slideshow": {
     "slide_type": "fragment"
    }
   },
   "outputs": [],
   "source": [
    "def is_divisible(x: int, y: int) -> bool:\n",
    "    \"\"\"\n",
    "    Verifies whether x is divisible by y.\n",
    "    :param x: dividend number\n",
    "    :param y: divisor number\n",
    "    :returns: `True` if x is divisible by y, `False` otherwise.\n",
    "    \"\"\"\n",
    "    return x % y == 0\n",
    "\n",
    "is_divisible(6, 3)"
   ]
  },
  {
   "cell_type": "markdown",
   "metadata": {
    "slideshow": {
     "slide_type": "fragment"
    }
   },
   "source": [
    "Functions that return Boolean values can be used in conditional expressions."
   ]
  },
  {
   "cell_type": "code",
   "execution_count": null,
   "metadata": {
    "slideshow": {
     "slide_type": "fragment"
    }
   },
   "outputs": [],
   "source": [
    "x: int = 10\n",
    "y: int = 5\n",
    "\n",
    "if is_divisible(x, y):\n",
    "    print('x is divisible by y')"
   ]
  },
  {
   "cell_type": "markdown",
   "metadata": {
    "slideshow": {
     "slide_type": "fragment"
    }
   },
   "source": [
    "It is not neccesary to have to write the conditional expression as `is_divisible(x, y) == True`."
   ]
  },
  {
   "cell_type": "markdown",
   "metadata": {
    "jupyter": {
     "source_hidden": true
    },
    "tags": []
   },
   "source": [
    "<div class=\"alert alert-success\">\n",
    "    <b>Do It Yourself!</b><br>\n",
    "    Create a function that checks if a number is greater than another number. Use it in an if statement. If the number is greater print the message \"<i>num1</i> is greater than <i>num2</i>\", otherwise print \"<i>num1</i> is equal or less than <i>num2</i>\".\n",
    "</div>"
   ]
  },
  {
   "cell_type": "code",
   "execution_count": null,
   "metadata": {
    "jupyter": {
     "source_hidden": true
    },
    "tags": []
   },
   "outputs": [],
   "source": [
    "# Remove this line and add your code here"
   ]
  },
  {
   "cell_type": "markdown",
   "metadata": {
    "slideshow": {
     "slide_type": "slide"
    }
   },
   "source": [
    "## 15. Return Values\n",
    "\n",
    "If we want to use the result of a function call in an expression, the function has to return a value.\n",
    "\n",
    "The first example is the function `area`, which returns the area of a circle with a given radius."
   ]
  },
  {
   "cell_type": "code",
   "execution_count": null,
   "metadata": {
    "slideshow": {
     "slide_type": "fragment"
    }
   },
   "outputs": [],
   "source": [
    "import math\n",
    "\n",
    "def area(radius: int) -> float:\n",
    "    \"\"\"\n",
    "    Calculates the area of a circle given its radius.\n",
    "    :param radius: radius of the circle\n",
    "    :returns: the area of the circle.\n",
    "    \"\"\"\n",
    "    sz: float = math.pi * radius**2\n",
    "    return sz\n",
    "\n",
    "size: float = area(5)\n",
    "print(size)"
   ]
  },
  {
   "cell_type": "markdown",
   "metadata": {
    "slideshow": {
     "slide_type": "fragment"
    }
   },
   "source": [
    "We have seen the `return` statement before, but in a function the return statement\n",
    "includes an expression. \n",
    "\n",
    "This statement means: “Return immediately from this function\n",
    "and use the following expression as a return value.” \n",
    "\n",
    "The expression can be arbitrarily\n",
    "complicated, so we could have written this function more concisely:"
   ]
  },
  {
   "cell_type": "code",
   "execution_count": null,
   "metadata": {
    "slideshow": {
     "slide_type": "fragment"
    }
   },
   "outputs": [],
   "source": [
    "def area(radius: int) -> float:\n",
    "    \"\"\"\n",
    "    Calculates the area of a circle given its radius.\n",
    "    :param radius: radius of the circle\n",
    "    :returns: the area of the circle.\n",
    "    \"\"\"\n",
    "    return math.pi * radius**2\n",
    "\n",
    "print(area(5))"
   ]
  },
  {
   "cell_type": "markdown",
   "metadata": {
    "slideshow": {
     "slide_type": "fragment"
    }
   },
   "source": [
    "<div class=\"alert alert-info\">\n",
    "    <b>Temporary variables</b><br>\n",
    "    Temporary variables make debugging a function easier. You can print intermediate results.\n",
    "</div>\n",
    "\n",
    "Sometimes it is useful to have multiple return statements, one in each branch of a conditional.\n",
    "\n",
    "Some programmers, and we are part of them, have a different opinion, they claim that for understandability it is better to have just one `return` statement in a function."
   ]
  },
  {
   "cell_type": "code",
   "execution_count": null,
   "metadata": {
    "slideshow": {
     "slide_type": "fragment"
    }
   },
   "outputs": [],
   "source": [
    "def absolute_value(x: int) -> int:\n",
    "    \"\"\"\n",
    "    Transforms a negative value into a positive value.\n",
    "    :param x: number to transform\n",
    "    :returns: absolute value of the input number.\n",
    "    \"\"\"\n",
    "    if x < 0:\n",
    "        return -x\n",
    "    else:\n",
    "        return x\n",
    "    \n",
    "\n",
    "y = absolute_value(-10)\n",
    "print(y)"
   ]
  },
  {
   "cell_type": "markdown",
   "metadata": {
    "slideshow": {
     "slide_type": "fragment"
    }
   },
   "source": [
    "Since these `return` statements are in different branches of the condition, only one branch is executed.\n",
    "\n",
    "As soon as a `return` statement is executed, the function terminates without executing any following statements. \n",
    "\n",
    "Statements that appear after a return statement, or any other place the flow\n",
    "of execution cannot reach, is called **dead code**.\n",
    "\n",
    "In a function, it is a good idea to ensure that every possible path through the program hits a `return` statement."
   ]
  },
  {
   "cell_type": "code",
   "execution_count": null,
   "metadata": {
    "slideshow": {
     "slide_type": "fragment"
    }
   },
   "outputs": [],
   "source": [
    "def absolute_value(x : int) -> int:\n",
    "    \"\"\"\n",
    "    Transforms a negative value into a positive value.\n",
    "    :param x: number to transform\n",
    "    :returns: absolute value of the input number.\n",
    "    \"\"\"\n",
    "    if x < 0:\n",
    "        return -x\n",
    "    \n",
    "    if x > 0:\n",
    "        return x\n",
    "    \n",
    "x = absolute_value(-10)\n",
    "print(x+x)"
   ]
  },
  {
   "cell_type": "markdown",
   "metadata": {
    "slideshow": {
     "slide_type": "fragment"
    }
   },
   "source": [
    "This function is incorrect because if `x` happens to be `0`, neither condition is `True`, and the\n",
    "function ends without reaching a `return` statement.\n",
    "If the flow of execution gets to the end of a function, the return value is `None`, which is not the absolute value of 0."
   ]
  },
  {
   "cell_type": "code",
   "execution_count": null,
   "metadata": {
    "slideshow": {
     "slide_type": "fragment"
    }
   },
   "outputs": [],
   "source": [
    "val: int = absolute_value(0)\n",
    "print(val)"
   ]
  },
  {
   "cell_type": "markdown",
   "metadata": {
    "slideshow": {
     "slide_type": "slide"
    }
   },
   "source": [
    "## 16. Function Composition\n",
    "\n",
    "For more complicated computations it maybe necessary to compose functions. Function composition contributes to\n",
    "reuse, but also structures our software in a more understandable manner. \n",
    "\n",
    "Let us see an example of function composition. Consider the following piece of \"non-trivial\" code. "
   ]
  },
  {
   "cell_type": "code",
   "execution_count": null,
   "metadata": {
    "slideshow": {
     "slide_type": "fragment"
    }
   },
   "outputs": [],
   "source": [
    "import math\n",
    "\n",
    "dx: int = 4 - 1\n",
    "dy: int = 6 - 3\n",
    "dsquared: int = dx**2 + dy**2\n",
    "radius: float = math.sqrt(dsquared)\n",
    "math.pi * radius**2"
   ]
  },
  {
   "cell_type": "markdown",
   "metadata": {
    "slideshow": {
     "slide_type": "slide"
    }
   },
   "source": [
    "The code in the cell above calculates the area of a circle based on the center\n",
    "of the circle and a point on the perimeter.\n",
    "Suppose you want to develop a function for this calculation.\n",
    "Suppose the center point of the circle is `(xc, yc)` and the point on the perimeter is `(xp, yp)`.\n",
    "The first step is to calculate the radius of the circle.\n",
    "We have created the two relevant functions `distance` and `circle_area`."
   ]
  },
  {
   "cell_type": "code",
   "execution_count": null,
   "metadata": {
    "slideshow": {
     "slide_type": "fragment"
    }
   },
   "outputs": [],
   "source": [
    "def distance(x1: int, y1: int, x2: int, y2: int) -> float:\n",
    "    \"\"\"\n",
    "    Calculates the distance between 2 2-dimensional points.\n",
    "    :param x1: coordinate x of the first point\n",
    "    :param y1: coordinate y of the first point\n",
    "    :param x2: coordinate x of the second point\n",
    "    :param y2: coordinate y of the second point\n",
    "    :returns: the distance between the two points.\n",
    "    \"\"\"\n",
    "    dx: int = x2 - x1\n",
    "    dy: int = y2 - y1\n",
    "    dsquared: int = dx**2 + dy**2\n",
    "    result: float = math.sqrt(dsquared)\n",
    "    \n",
    "    return result\n",
    "\n",
    "\n",
    "def circle_area(xc: int, yc: int, xp: int, yp: int) -> float:\n",
    "    \"\"\"\n",
    "    Calculates the area of a circle based on its central point\n",
    "    and a point on its perimeter.\n",
    "    :param xc: coordinate x of the central point\n",
    "    :param yc: coordinate y of the central point\n",
    "    :param xp: coordinate x of the peripheral point\n",
    "    :param yp: coordinate y of the peripheral point\n",
    "    :returns: the area of the circle.\n",
    "    \"\"\"\n",
    "    radius: float = distance(xc, yc, xp, yp)\n",
    "    result: float = area(radius)\n",
    "    return result\n",
    "\n",
    "\n",
    "circle_area(1, 3, 4, 6)"
   ]
  },
  {
   "cell_type": "markdown",
   "metadata": {},
   "source": [
    "The `circle_area` function can also be written without the local variables.\n",
    "(At the cost of losing readability!)"
   ]
  },
  {
   "cell_type": "code",
   "execution_count": null,
   "metadata": {},
   "outputs": [],
   "source": [
    "def circle_area(xc : int, yc : int, xp : int, yp : int) -> float:\n",
    "    \"\"\"\n",
    "    Calculates the area of a circle based on its central point\n",
    "    and a point on its perimeter.\n",
    "    :param xc: coordinate x of the central point\n",
    "    :param yc: coordinate y of the central point\n",
    "    :param xp: coordinate x of the peripheral point\n",
    "    :param yp: coordinate y of the peripheral point\n",
    "    :returns: the area of the circle.\n",
    "    \"\"\"\n",
    "    return area(distance(xc, yc, xp, yp))\n",
    "\n",
    "circle_area(1, 3, 4, 6)"
   ]
  },
  {
   "cell_type": "markdown",
   "metadata": {
    "slideshow": {
     "slide_type": "fragment"
    }
   },
   "source": [
    "## 17. Encapsulation\n",
    "\n",
    "What we were doing in the previous sections was capturing instructions in a function. This allows us to reuse the instructions.\n",
    "\n",
    "We already mentioned that the details of the computation are shielded off by the function, this means that a programmer can reuse\n",
    "this function, based on the name and the arguments, without diving into the details of the code."
   ]
  },
  {
   "cell_type": "markdown",
   "metadata": {
    "slideshow": {
     "slide_type": "fragment"
    }
   },
   "source": [
    "Wrapping a piece of code up in a function is called **encapsulation**. The important step in *encapsulation* is to invent a good name for the function at hand. Consider the function `circle_area` renamed to `foo`, in order to understand what the function `foo` does, we need to study the body.\n",
    "There is not always a perfect name, an alternative, could be `circle_size`."
   ]
  },
  {
   "cell_type": "code",
   "execution_count": null,
   "metadata": {
    "slideshow": {
     "slide_type": "fragment"
    }
   },
   "outputs": [],
   "source": [
    "def circle_size(xc: int, yc: int, xp: int, yp: int) -> float:\n",
    "    \"\"\"\n",
    "    Calculates the area of a circle based on its central point\n",
    "    and a point on its perimeter.\n",
    "    :param xc: coordinate x of the central point\n",
    "    :param yc: coordinate y of the central point\n",
    "    :param xp: coordinate x of the peripheral point\n",
    "    :param yp: coordinate y of the peripheral point\n",
    "    :returns: the area of the circle.\n",
    "    \"\"\"\n",
    "    return area(distance(xc, yc, xp, yp))\n",
    "\n",
    "circle_size(1, 3, 4, 6)"
   ]
  },
  {
   "cell_type": "markdown",
   "metadata": {
    "slideshow": {
     "slide_type": "fragment"
    }
   },
   "source": [
    "One of the benefits of encapsulation is that it attaches a name to the code, which:\n",
    "1. serves as a kind of documentation; and\n",
    "2. facilitates reuse.\n",
    "\n",
    "It is more concise to call a function multiple times than to **copy-and-paste** the code fragment of body multiple times!"
   ]
  },
  {
   "cell_type": "markdown",
   "metadata": {
    "slideshow": {
     "slide_type": "slide"
    }
   },
   "source": [
    "## 18. Generalization\n",
    "\n",
    "Suppose we want to re-use the followinng function `important_message`, but with a different number of printed messages."
   ]
  },
  {
   "cell_type": "code",
   "execution_count": null,
   "metadata": {
    "slideshow": {
     "slide_type": "fragment"
    }
   },
   "outputs": [],
   "source": [
    "def print_important_message() -> None:\n",
    "    \"\"\"\n",
    "    Prints the important messages 7 times.\n",
    "    \"\"\"\n",
    "    i: int = 0\n",
    "    while i < 7:\n",
    "        print('Computer science is important')\n",
    "        print('Data science is more important')\n",
    "        i += 1\n",
    "        \n",
    "print_important_message()"
   ]
  },
  {
   "cell_type": "code",
   "execution_count": null,
   "metadata": {
    "slideshow": {
     "slide_type": "fragment"
    }
   },
   "outputs": [],
   "source": [
    "def print_important_message(freq : int) -> None:\n",
    "    \"\"\"\n",
    "    Prints the important messages <freq> times.\n",
    "    :param freq: number of times to print the messages\n",
    "    \"\"\"\n",
    "    i: int = 0\n",
    "    while i < freq:\n",
    "        print('Computer science is important')\n",
    "        print('Data science is more important')\n",
    "        i += 1\n",
    "        \n",
    "print_important_message(6)\n",
    "print_important_message(17)"
   ]
  },
  {
   "cell_type": "markdown",
   "metadata": {
    "slideshow": {
     "slide_type": "fragment"
    }
   },
   "source": [
    "Adding a parameter to a function is called generalization because it makes the function\n",
    "more general: in the previous version, the messages are printed 7 times; in this version it\n",
    "can be any number.\n",
    "\n",
    "Another step in the generalization is to make the disciplines flexible. "
   ]
  },
  {
   "cell_type": "code",
   "execution_count": null,
   "metadata": {},
   "outputs": [],
   "source": [
    "def print_important_message(freq: int, discipline1: str, discipline2: str) -> None:\n",
    "    i: int = 0\n",
    "    \n",
    "    while i <  freq:\n",
    "        print(f'{discipline1} is important')\n",
    "        print(f'{discipline2} is more important')\n",
    "        i += 1\n",
    "        \n",
    "print_important_message(3, 'Artificial intelligence', 'Statistics')"
   ]
  },
  {
   "cell_type": "markdown",
   "metadata": {},
   "source": [
    "When a function has more than a few numeric arguments, it is easy to forget what they are,\n",
    "or what order they should be in. \n",
    "In that case it is often a good idea to include the names of\n",
    "the parameters in the argument list:\n",
    "```python\n",
    "important_message(freq=7, discipline1='Computer science', discipline2='Statistics')\n",
    "```\n",
    "\n",
    "These are called keyword arguments because they include the parameter names as “keywords”\n",
    "(not to be confused with Python keywords like `while` and `def`).\n",
    "\n",
    "This syntax makes the program more readable. \n",
    "It is also a reminder about how arguments\n",
    "and parameters work: when you call a function, the arguments are assigned to the parameters."
   ]
  },
  {
   "cell_type": "code",
   "execution_count": null,
   "metadata": {
    "slideshow": {
     "slide_type": "fragment"
    }
   },
   "outputs": [],
   "source": [
    "print_important_message(freq=7, discipline1='Computer science', discipline2='Statistics')"
   ]
  },
  {
   "cell_type": "markdown",
   "metadata": {
    "slideshow": {
     "slide_type": "slide"
    }
   },
   "source": [
    "## 19. Checking Arguments\n",
    "\n",
    "When calling a function we have to ensure that the arguments that we pass to the function are *correct*.\n",
    "\n",
    "Therefore, it is necessary to write auxilary code to perform some checking on the arguments,\n",
    "to ensure that the given argument does not lead to unwanted behaviour."
   ]
  },
  {
   "cell_type": "code",
   "execution_count": null,
   "metadata": {},
   "outputs": [],
   "source": [
    "def countdown(nr: int) -> None:\n",
    "    \"\"\"\n",
    "    Prints numbers in a decreasing order.\n",
    "    :param nr: starting countdown number\n",
    "    \"\"\"\n",
    "    while nr != 0:\n",
    "        print(nr)\n",
    "        nr -= 1\n",
    "    print('Done!')"
   ]
  },
  {
   "cell_type": "code",
   "execution_count": null,
   "metadata": {
    "slideshow": {
     "slide_type": "fragment"
    }
   },
   "outputs": [],
   "source": [
    "countdown(15)"
   ]
  },
  {
   "cell_type": "code",
   "execution_count": null,
   "metadata": {
    "slideshow": {
     "slide_type": "fragment"
    }
   },
   "outputs": [],
   "source": [
    "countdown(-15)"
   ]
  },
  {
   "cell_type": "code",
   "execution_count": null,
   "metadata": {
    "slideshow": {
     "slide_type": "fragment"
    }
   },
   "outputs": [],
   "source": [
    "countdown(1.5)"
   ]
  },
  {
   "cell_type": "markdown",
   "metadata": {
    "slideshow": {
     "slide_type": "fragment"
    }
   },
   "source": [
    "It looks like an infinite computation. How can that be? The function has a condition—when \n",
    "`n != 0`. But if `n` is not an integer or negative, the condition will never be met.\n",
    "\n",
    "From there, it gets smaller (more negative), but it will never be 0.\n",
    "\n",
    "We can solve this problem by checking the type of the argument of `countdown` function. "
   ]
  },
  {
   "cell_type": "code",
   "execution_count": null,
   "metadata": {
    "slideshow": {
     "slide_type": "fragment"
    }
   },
   "outputs": [],
   "source": [
    "def countdown(nr: int) -> None:\n",
    "    \"\"\"\n",
    "    Prints numbers in a decreasing order.\n",
    "    :param nr: starting countdown number\n",
    "    \"\"\"\n",
    "    if not isinstance(nr, int):\n",
    "        print('countdown is only defined for integers.')\n",
    "    elif nr < 0:\n",
    "        print('countdown is not defined for negative integers.')\n",
    "    else:\n",
    "        while (nr != 0):\n",
    "            print(nr)\n",
    "            nr -= 1\n",
    "    print('Done!')"
   ]
  },
  {
   "cell_type": "code",
   "execution_count": null,
   "metadata": {},
   "outputs": [],
   "source": [
    "countdown(-1.5)"
   ]
  },
  {
   "cell_type": "markdown",
   "metadata": {
    "slideshow": {
     "slide_type": "fragment"
    }
   },
   "source": [
    "The first condition handles non-integers; the second handles negative integers. In both\n",
    "conditions, the program prints an error message to indicate that something\n",
    "went wrong.\n",
    "\n",
    "This program demonstrates the guardin pattern. The first two conditionals\n",
    "act as guardians, protecting the code that follows from values that might cause an\n",
    "error. \n",
    "\n",
    "The guardians make it possible to prove the correctness of the code."
   ]
  },
  {
   "cell_type": "markdown",
   "metadata": {},
   "source": [
    "This Jupyter Notebook is based on Chapter 4 of the book Python for Everybody and Chapters 3 and 6 of the book Think Python."
   ]
  },
  {
   "cell_type": "markdown",
   "metadata": {},
   "source": [
    "---\n",
    "\n",
    "# (End of Notebook)\n",
    "\n",
    "&copy; 2022-2023 - **TU/e** - Eindhoven University of Technology"
   ]
  }
 ],
 "metadata": {
  "anaconda-cloud": {},
  "kernelspec": {
   "display_name": "Python 3 (ipykernel)",
   "language": "python",
   "name": "python3"
  },
  "language_info": {
   "codemirror_mode": {
    "name": "ipython",
    "version": 3
   },
   "file_extension": ".py",
   "mimetype": "text/x-python",
   "name": "python",
   "nbconvert_exporter": "python",
   "pygments_lexer": "ipython3",
   "version": "3.9.7"
  }
 },
 "nbformat": 4,
 "nbformat_minor": 4
}
