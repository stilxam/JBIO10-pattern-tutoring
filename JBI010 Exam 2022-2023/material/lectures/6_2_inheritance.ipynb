{
 "cells": [
  {
   "cell_type": "markdown",
   "metadata": {
    "slideshow": {
     "slide_type": "slide"
    }
   },
   "source": [
    "# Inheritance"
   ]
  },
  {
   "cell_type": "markdown",
   "metadata": {
    "slideshow": {
     "slide_type": "fragment"
    }
   },
   "source": [
    "_(c) 2022, Mark van den Brand and Lina Ochoa Venegas, Eindhoven University of Technology_"
   ]
  },
  {
   "cell_type": "markdown",
   "metadata": {},
   "source": [
    "## Table of Contents\n",
    "\n",
    "- [1. Introduction](#1.-Introduction)\n",
    "- [2. The Dish Class](#2.-The-Dish-Class)\n",
    "- [3. Class Attributes](#3.-Class-Attributes)\n",
    "- [4. Comparing Dishes](#4.-Comparing-Dishes)\n",
    "- [5. The Meal Class](#5.-The-Meal-Class)\n",
    "- [6. Printing a Meal](#6.-Printing-a-Meal)\n",
    "- [7. More Meal Methods](#7.-More-Meal-Methods)\n",
    "- [8. Read Dishes from a CSV File](#8.-Read-Dishes-from-a-CSV-File)\n",
    "- [9. Inheritance](#9.-Inheritance)\n",
    "- [10. Method Overriding](#10.-Method-Overriding)\n",
    "- [11. The Polygon Class](#11.-The-Polygon-Class)\n",
    "- [12. The Person Class](#12.-The-Person-Class)\n",
    "- [13. Types of Inheritance](#13.-Types-of-Inheritance)\n",
    "- [14. Checking Inheritance](#14.-Checking-Inheritance)\n",
    "- [15. Class Diagrams](#15.-Class-Diagrams)\n",
    "- [16. Data Encapsulation](#16.-Data-Encapsulation)"
   ]
  },
  {
   "cell_type": "markdown",
   "metadata": {
    "slideshow": {
     "slide_type": "slide"
    }
   },
   "source": [
    "## 1. Introduction\n",
    "\n",
    "**Inheritance** is another important concept in the object oriented programming paradigm.\n",
    "In object-oriented programming, **inheritance** is the mechanism of basing an object or class upon another class, providing a similar implementation. Also defined as deriving new classes (**sub classes**) from existing ones such as **parent class** or **super class** and then forming them into a hierarchy of classes. \n",
    "\n",
    "In most class-based object-oriented languages, an object created through inheritance, a \"child object\", acquires all the properties and behavior of the \"parent object\". Inheritance allows programmers to create classes that are built upon existing classes, to specify a new implementation while maintaining the same behavior (realizing an interface), to reuse code, and to independently extend original software. \n",
    "\n",
    "The relationships of objects or classes through inheritance give rise to a *directed acyclic graph*.\n",
    "\n",
    "Inheritance was invented in 1969 for Simula and is now used in many object-oriented programming languages such as Java, C++, PHP and Python.\n",
    "\n",
    "An inherited class is called a subclass of its parent class or super class. The term \"inheritance\" is loosely used for class-based programming, but in narrow use the term is reserved for class-based programming (one class inherits from another)."
   ]
  },
  {
   "cell_type": "markdown",
   "metadata": {
    "slideshow": {
     "slide_type": "slide"
    },
    "tags": []
   },
   "source": [
    "## 2. The `Dish` Class\n",
    "\n",
    "Healthy food is a hype. People pay a lot of attention to what they eat. It should be low on calories but nevertheless tasty.\n",
    "\n",
    "We are going to develop a number of classes to represent dishes and meals in order to see whether our calorie intake is just right (not too much, not too little).\n",
    "The types of meals we distinguish are `breakfast`, `lunch`, `dinner`, and `all`.\n",
    "The types of food we distinguish are `vegetarian` and `non-vegetarian`.\n",
    "\n",
    "If we want to define a new object to represent a dish, it is obvious what the attributes should be: `meal_type` and `food_type`. \n",
    "A \"better\" way is to use integers to **encode** the `meal_type` and `food_type`. \n",
    "In this context, “encode” means that we are going to define a mapping between numbers and meal_types and food_types.\n",
    "This kind of encoding is not meant to be a secret (that would be “encryption”).\n",
    "\n",
    "For example, this table shows the meals and the corresponding integer codes:\n",
    "\n",
    "| Code | Meal type |\n",
    "|:----:|------|\n",
    "| 0 | all |\n",
    "| 1 | breakfast |\n",
    "| 2 | lunch |\n",
    "| 3 | dinner |\n",
    "\n",
    "The next table shows the type of food and the corresponding integer codes:\n",
    "\n",
    "| Code | Food type |\n",
    "|:----:|-----------|\n",
    "| 0 | vegetarian |\n",
    "| 1 | non-vegetarian |\n",
    "\n",
    "Although the latter mapping is a kind of overkill, it allows the introduction of more specific food types, like meat, fish, etc.in the future."
   ]
  },
  {
   "cell_type": "code",
   "execution_count": null,
   "metadata": {},
   "outputs": [],
   "source": [
    "from typing import List"
   ]
  },
  {
   "cell_type": "code",
   "execution_count": null,
   "metadata": {
    "slideshow": {
     "slide_type": "fragment"
    }
   },
   "outputs": [],
   "source": [
    "class Dish:\n",
    "    \"\"\"\n",
    "    Represents a dish.\n",
    "    :attributes: name, calories, food_type, meal\n",
    "    \"\"\"\n",
    "    \n",
    "    def __init__(self, name: str, calories: int, food_type: int = 1, meal: int = 0) -> None:\n",
    "        \"\"\"\n",
    "        Initializes a Meal object.\n",
    "        :param name: name of the dish\n",
    "        :param calories: calories of the dish\n",
    "        :param food_type: integer value in the range [0, 2) representing \n",
    "            the food type\n",
    "        :param meal: integer value in the range [0, 4) representing the \n",
    "            meal type\n",
    "        \"\"\"\n",
    "        self.name: str = name\n",
    "        self.calories: int = calories\n",
    "        self.food_type: int = food_type\n",
    "        self.meal: int = meal"
   ]
  },
  {
   "cell_type": "markdown",
   "metadata": {
    "slideshow": {
     "slide_type": "fragment"
    }
   },
   "source": [
    "As usual, the `__init__` method takes a default value for each attribute. \n",
    "The default meal is `0` (`all`) and the food type is `1` (`non-vegetarian`).\n",
    "\n",
    "To create a `Dish`, you call `Dish` with the food type and meal type of the dish you want."
   ]
  },
  {
   "cell_type": "code",
   "execution_count": null,
   "metadata": {
    "slideshow": {
     "slide_type": "fragment"
    }
   },
   "outputs": [],
   "source": [
    "fries: Dish = Dish('fries', 400, 0, 3)"
   ]
  },
  {
   "cell_type": "markdown",
   "metadata": {
    "tags": []
   },
   "source": [
    "<div class=\"alert alert-success\">\n",
    "    <b>Do It Yourself!</b><br>\n",
    "    Let's improve the <i>Dog</i> type we defined in previous chapters. This time we want to have the following attributes: <i>name</i>, <i>breed</i>, <i>age</i>, and <i>weight</i>. Define the <i>init</i> function and the <i>breeds</i> class attribute.\n",
    "</div>"
   ]
  },
  {
   "cell_type": "code",
   "execution_count": null,
   "metadata": {
    "jupyter": {
     "source_hidden": true
    },
    "tags": []
   },
   "outputs": [],
   "source": [
    "# Remove this line and add your code here"
   ]
  },
  {
   "cell_type": "markdown",
   "metadata": {
    "slideshow": {
     "slide_type": "slide"
    }
   },
   "source": [
    "## 3. Class Attributes\n",
    "\n",
    "In order to print `Dish` objects in a way that people can easily read, we need a mapping\n",
    "from the integer codes to the corresponding meal and food types. \n",
    "\n",
    "A natural way to do that is with lists of strings. We assign these lists to the **class attributes** `FOOD_TYPE_NAMES` and `MEAL_NAMES`."
   ]
  },
  {
   "cell_type": "code",
   "execution_count": null,
   "metadata": {
    "slideshow": {
     "slide_type": "fragment"
    }
   },
   "outputs": [],
   "source": [
    "class Dish:\n",
    "    \"\"\"\n",
    "    Represents a dish.\n",
    "    :attributes: name, calories, food_type, meal\n",
    "    \"\"\"\n",
    "\n",
    "    # Class attributes\n",
    "    FOOD_TYPE_NAMES: List = ['vegetarian', 'non-vegetarian']\n",
    "    MEAL_NAMES: List = ['all', 'breakfast', 'lunch', 'dinner']\n",
    "    \n",
    "    def __init__(self, name: str, calories: int, food_type: int = 1, meal: int = 0) -> None:\n",
    "        \"\"\"\n",
    "        Initializes a Meal object.\n",
    "        :param name: name of the dish\n",
    "        :param calories: calories of the dish\n",
    "        :param food_type: integer value in the range [0, 2) representing \n",
    "            the food type\n",
    "        :param meal: integer value in the range [0, 4) representing the \n",
    "            meal type\n",
    "        \"\"\"\n",
    "        self.name: str = name\n",
    "        self.calories: int = calories\n",
    "        self.food_type: int = food_type\n",
    "        self.meal: int = meal\n",
    "        \n",
    "    def __str__(self) -> str:\n",
    "        \"\"\"\n",
    "        Returns the string represetation of a Dish object.\n",
    "        :returns: string representation of the Dish object.\n",
    "        \"\"\"\n",
    "        food_type_name: str = Dish.FOOD_TYPE_NAMES[self.food_type]\n",
    "        meal_name: str = Dish.MEAL_NAMES[self.meal]\n",
    "        return f'{food_type_name} dish {self.name} has {self.calories} calories and is consumed during {meal_name} meal(s).'"
   ]
  },
  {
   "cell_type": "markdown",
   "metadata": {
    "slideshow": {
     "slide_type": "fragment"
    }
   },
   "source": [
    "Variables like `FOOD_TYPE_NAMES` and `MEAL_NAMES`, which are defined inside a class but outside\n",
    "of any method, are called **class attributes** because they are associated with the class object `Dish`.\n",
    "\n",
    "This term distinguishes them from variables like `food_type` and `meal`, which are called **instance attributes** because they are associated with a particular instance (object).\n",
    "\n",
    "Both kinds of attribute are accessed using dot notation. For example, in `__str__`, `self`\n",
    "is a `Dish` object, and `self.meal` is its meal. \n",
    "`Dish` is a class object, and\n",
    "`Dish.meal_names` is a list of strings associated with the class.\n",
    "\n",
    "Every dish has its own `food_type` and `meal`, but there is only one copy of `FOOD_TYPE_NAMES` and\n",
    "`MEAL_NAMES`.\n",
    "\n",
    "Putting it all together, the expression `Dish.meal_names[self.meal]` \n",
    "means “use the attribute `meal` from the object `self` as an index into the list `meal_names` \n",
    "from the class `Dish`, and select the appropriate string.\"\n",
    "\n",
    "With the methods we have so far, we can create and print dishes."
   ]
  },
  {
   "cell_type": "code",
   "execution_count": null,
   "metadata": {
    "slideshow": {
     "slide_type": "fragment"
    }
   },
   "outputs": [],
   "source": [
    "dish: Dish = Dish('fries', 400, 0, 2)\n",
    "print(dish)"
   ]
  },
  {
   "cell_type": "markdown",
   "metadata": {
    "tags": []
   },
   "source": [
    "<div class=\"alert alert-success\">\n",
    "    <b>Do It Yourself!</b><br>\n",
    "    Let's add a new class attribute <i>breeds</i> with the accepted dog breeds to the <i>Dog</i> type. It must be a list with the following options: \"labrador\", \"chihuahua\", \"samoyed\", \"shar-pei\". The <i>breed</i> instance attribute should now be an integer.\n",
    "</div>"
   ]
  },
  {
   "cell_type": "code",
   "execution_count": null,
   "metadata": {
    "jupyter": {
     "source_hidden": true
    },
    "tags": []
   },
   "outputs": [],
   "source": [
    "# Remove this line and add your code here"
   ]
  },
  {
   "cell_type": "markdown",
   "metadata": {
    "slideshow": {
     "slide_type": "slide"
    }
   },
   "source": [
    "## 4. Comparing Dishes\n",
    "\n",
    "For built-in types, there are relational operators (`<`, `>`, `==`, etc.) that compare \n",
    "values and determine when one is greater than, less than, or equal to another. \n",
    "\n",
    "For programmer-defined types, we can override the behavior of the built-in operators by providing a method named `__lt__`, which stands for “less than”. \n",
    "`__lt__` takes two parameters, `self` and `other`, and returns `True` if `self` is strictly less than other.\n",
    "\n",
    "The correct ordering for dishes may be not obvious. \n",
    "What criteria do we use? is a vegetarian dish healthier than a non-vegetarian dish? Or\n",
    "do we only look at the number of calories? Or do we take the meal into consideration as well?\n",
    "\n",
    "For this implementation, we take the calories into consideration when comparing dishes."
   ]
  },
  {
   "cell_type": "code",
   "execution_count": null,
   "metadata": {
    "slideshow": {
     "slide_type": "fragment"
    }
   },
   "outputs": [],
   "source": [
    "class Dish:\n",
    "    \"\"\"\n",
    "    Represents a dish.\n",
    "    :attributes: name, calories, food_type, meal\n",
    "    \"\"\"\n",
    "\n",
    "    # Class attributes\n",
    "    FOOD_TYPE_NAMES: List = ['vegetarian', 'non-vegetarian']\n",
    "    MEAL_NAMES: List = ['all', 'breakfast', 'lunch', 'dinner']\n",
    "    \n",
    "    def __init__(self, name: str, calories: int, food_type: int = 1, meal: int = 0) -> None:\n",
    "        \"\"\"\n",
    "        Initializes a Meal object.\n",
    "        :param name: name of the dish\n",
    "        :param calories: calories of the dish\n",
    "        :param food_type: integer value in the range [0, 2) representing \n",
    "            the food type\n",
    "        :param meal: integer value in the range [0, 4) representing the \n",
    "            meal type\n",
    "        \"\"\"\n",
    "        self.name: str = name\n",
    "        self.calories: int = calories\n",
    "        self.food_type: int = food_type\n",
    "        self.meal: int = meal\n",
    "        \n",
    "    def __str__(self) -> str:\n",
    "        \"\"\"\n",
    "        Returns the string represetation of a Dish object.\n",
    "        :returns: string representation of the Dish object.\n",
    "        \"\"\"\n",
    "        food_type_name: str = Dish.FOOD_TYPE_NAMES[self.food_type]\n",
    "        meal_name: str = Dish.MEAL_NAMES[self.meal]\n",
    "        return f'{food_type_name} dish {self.name} has {self.calories} calories and is consumed during {meal_name} meal(s).'\n",
    "    \n",
    "    def __repr__(self) -> str:\n",
    "        \"\"\"\n",
    "        Returns a string representation for debugging purposes.\n",
    "        :returns: string representation for debugging purposes.\n",
    "        \"\"\"\n",
    "        return f'{self.name} ({self.calories} calories)'\n",
    "    \n",
    "    def __lt__(self, other: Dish) -> bool:\n",
    "        \"\"\" \n",
    "        Compares 2 dishes based on their number of calories.\n",
    "        :param other: another dish\n",
    "        :returns: `True` if the current dish has less calories than the other\n",
    "            one, `False` otherwise.\n",
    "        \"\"\"\n",
    "        return self.calories < other.calories"
   ]
  },
  {
   "cell_type": "markdown",
   "metadata": {
    "tags": []
   },
   "source": [
    "<div class=\"alert alert-success\">\n",
    "    <b>Do It Yourself!</b><br>\n",
    "    Override the <i>__str__</i> method of the <i>Dog</i> types o it says: \"<i>name</i> is a <i>breed</i>\". Use the <i>breeds</i> class attribute to get the name of the breed.\n",
    "</div>"
   ]
  },
  {
   "cell_type": "code",
   "execution_count": null,
   "metadata": {
    "jupyter": {
     "source_hidden": true
    },
    "tags": []
   },
   "outputs": [],
   "source": [
    "# Remove this line and add your code here"
   ]
  },
  {
   "cell_type": "markdown",
   "metadata": {
    "slideshow": {
     "slide_type": "slide"
    }
   },
   "source": [
    "## 5. The `Meal` Class\n",
    "\n",
    "Now that we have dishes, we can start composing meals."
   ]
  },
  {
   "cell_type": "code",
   "execution_count": null,
   "metadata": {
    "slideshow": {
     "slide_type": "fragment"
    }
   },
   "outputs": [],
   "source": [
    "class Meal:\n",
    "    \"\"\"\n",
    "    Represents a collection of dishes.\n",
    "    :attributes: dishes\n",
    "    \"\"\" \n",
    "    \n",
    "    def __init__(self) -> None:\n",
    "        \"\"\" \n",
    "        Initializes a Meal object.\n",
    "        \"\"\"\n",
    "        self.dishes: List = []"
   ]
  },
  {
   "cell_type": "markdown",
   "metadata": {},
   "source": [
    "The following `__init__` method can receive the list of dishes as a parameter."
   ]
  },
  {
   "cell_type": "code",
   "execution_count": null,
   "metadata": {
    "slideshow": {
     "slide_type": "fragment"
    }
   },
   "outputs": [],
   "source": [
    "class Meal:\n",
    "    \"\"\"\n",
    "    Represents a collection of dishes.\n",
    "    :attributes: dishes\n",
    "    \"\"\" \n",
    "    \n",
    "    def __init__(self, dishes=list()) -> None:\n",
    "        \"\"\" \n",
    "        Initializes a Meal object.\n",
    "        \"\"\"\n",
    "        self.dishes: List = dishes"
   ]
  },
  {
   "cell_type": "markdown",
   "metadata": {
    "slideshow": {
     "slide_type": "fragment"
    }
   },
   "source": [
    "We need to be able to compose a meal given a list of dishes."
   ]
  },
  {
   "cell_type": "code",
   "execution_count": null,
   "metadata": {
    "slideshow": {
     "slide_type": "fragment"
    }
   },
   "outputs": [],
   "source": [
    "class Meal:\n",
    "    \"\"\"\n",
    "    Represents a collection of dishes.\n",
    "    :attributes: dishes\n",
    "    \"\"\" \n",
    "    \n",
    "    def __init__(self, dishes=list()) -> None:\n",
    "        \"\"\" \n",
    "        Initializes a Meal object.\n",
    "        \"\"\"\n",
    "        self.dishes: List = dishes\n",
    "        \n",
    "    def compose(self, dishes: List) -> None:\n",
    "        \"\"\" \n",
    "        Adds a list of dishes to the current list of meal dishes.\n",
    "        :param dishes: a list of dishes to add\n",
    "        \"\"\"\n",
    "        self.dishes.extend(dishes)"
   ]
  },
  {
   "cell_type": "markdown",
   "metadata": {
    "tags": []
   },
   "source": [
    "<div class=\"alert alert-success\">\n",
    "    <b>Do It Yourself!</b><br>\n",
    "    Now, the <i>DogOwner</i> type can have more than one dog. Remember that a dog owner has a <i>name</i>, <i>last name</i>, and <i>age</i>. Create the <i>init</i> function so it reflects this new requirement. Afterwards, create the method <i>get_dog</i>, which adds one new dog to the list of dogs of the owner.\n",
    "</div>"
   ]
  },
  {
   "cell_type": "code",
   "execution_count": null,
   "metadata": {
    "jupyter": {
     "source_hidden": true
    },
    "tags": []
   },
   "outputs": [],
   "source": [
    "# Remove this line and add your code here"
   ]
  },
  {
   "cell_type": "markdown",
   "metadata": {
    "slideshow": {
     "slide_type": "slide"
    }
   },
   "source": [
    "## 6. Printing a Meal\n",
    "\n",
    "The next cell extends the class with a `__str__` method for printing a `Meal`."
   ]
  },
  {
   "cell_type": "code",
   "execution_count": null,
   "metadata": {
    "slideshow": {
     "slide_type": "fragment"
    }
   },
   "outputs": [],
   "source": [
    "class Meal:\n",
    "    \"\"\"\n",
    "    Represents a collection of dishes.\n",
    "    :attributes: dishes\n",
    "    \"\"\" \n",
    "    \n",
    "    def __init__(self, dishes=list()) -> None:\n",
    "        \"\"\" \n",
    "        Initializes a Meal object.\n",
    "        \"\"\"\n",
    "        self.dishes: List = dishes\n",
    "    \n",
    "    def __str__(self) -> str:\n",
    "        \"\"\"\n",
    "        Creates a string representation of the current Meal object.\n",
    "        :returns: a string representation of all dishes within the meal.\n",
    "        \"\"\"\n",
    "        rep: List = [dish.name for dish in self.dishes]\n",
    "        return '\\n'.join(rep)\n",
    "    \n",
    "    def compose(self, dishes: List) -> None:\n",
    "        \"\"\" \n",
    "        Adds a list of dishes to the current list of meal dishes.\n",
    "        :param dishes: a list of dishes to add\n",
    "        \"\"\"\n",
    "        self.dishes.extend(dishes)"
   ]
  },
  {
   "cell_type": "markdown",
   "metadata": {
    "slideshow": {
     "slide_type": "fragment"
    }
   },
   "source": [
    "Since we invoke `join` on a newline character, the dishes are separated by newlines. \n",
    "Even though the result appears on multiple lines, it is one long string that contains newlines.\n",
    "Here it is what the result looks like."
   ]
  },
  {
   "cell_type": "code",
   "execution_count": null,
   "metadata": {
    "slideshow": {
     "slide_type": "fragment"
    }
   },
   "outputs": [],
   "source": [
    "cereal: Dish = Dish('cereal', 200, 0, 1)\n",
    "eggs: Dish = Dish('eggs', 100, 0, 1)\n",
    "smoothie: Dish = Dish('smoothie', 150, 0, 1)\n",
    "\n",
    "meal: Meal = Meal([cereal, eggs])\n",
    "meal.compose([smoothie])\n",
    "print(meal)"
   ]
  },
  {
   "cell_type": "markdown",
   "metadata": {
    "tags": []
   },
   "source": [
    "<div class=\"alert alert-success\">\n",
    "    <b>Do It Yourself!</b><br>\n",
    "    Define the <i>__str__</i> method of the <i>DogOwner</i> type. You should print the message \"<i>name</i> <i>last_name</i> is <i>age</i> years old and has the following dogs:\". Then, use the <i>join</i> method to append the result of invoking the <i>str</i> method on each dog.\n",
    "</div>"
   ]
  },
  {
   "cell_type": "code",
   "execution_count": null,
   "metadata": {
    "jupyter": {
     "source_hidden": true
    },
    "tags": []
   },
   "outputs": [],
   "source": [
    "# Remove this line and add your code here"
   ]
  },
  {
   "cell_type": "markdown",
   "metadata": {
    "slideshow": {
     "slide_type": "slide"
    }
   },
   "source": [
    "## 7. More `Meal` Methods \n",
    "\n",
    "### The `remove` Method\n",
    "Sometimes you want to remove a dish from a meal.\n",
    "\n",
    "The list method `remove` provides a convenient way to do that, but you need to pass the name\n",
    "of the dish."
   ]
  },
  {
   "cell_type": "code",
   "execution_count": null,
   "metadata": {
    "slideshow": {
     "slide_type": "fragment"
    }
   },
   "outputs": [],
   "source": [
    "class Meal:\n",
    "    \"\"\"\n",
    "    Represents a collection of dishes.\n",
    "    :attributes: dishes\n",
    "    \"\"\" \n",
    "    \n",
    "    def __init__(self, dishes=list()) -> None:\n",
    "        \"\"\" \n",
    "        Initializes a Meal object.\n",
    "        \"\"\"\n",
    "        self.dishes: List = dishes\n",
    "    \n",
    "    def __str__(self) -> str:\n",
    "        \"\"\"\n",
    "        Creates a string representation of the current Meal object.\n",
    "        :returns: a string representation of all dishes within the meal.\n",
    "        \"\"\"\n",
    "        rep: List = [dish.name for dish in self.dishes]\n",
    "        return '\\n'.join(rep)\n",
    "    \n",
    "    def compose(self, dishes: List) -> None:\n",
    "        \"\"\" \n",
    "        Adds a list of dishes to the current list of meal dishes.\n",
    "        :param dishes: a list of dishes to add\n",
    "        \"\"\"\n",
    "        self.dishes.extend(dishes)\n",
    "        \n",
    "    def remove_dish(self, dish_name: str) -> None:\n",
    "        \"\"\" \n",
    "        Removes a dish from a meal.\n",
    "        :param dish_name: name of the dish to be removed\n",
    "        \"\"\"\n",
    "        for i in range(len(self.dishes)):\n",
    "            if self.dishes[i].name == dish_name:\n",
    "                del self.dishes[i]\n",
    "                break"
   ]
  },
  {
   "cell_type": "markdown",
   "metadata": {
    "slideshow": {
     "slide_type": "fragment"
    }
   },
   "source": [
    "Since `remove` removes a dish from the list, if you want to remove a specific dish, you need to pass its name as argument.\n",
    "\n",
    "### The `add` Method\n",
    "\n",
    "To add a dish, we can use the list method `append`."
   ]
  },
  {
   "cell_type": "code",
   "execution_count": null,
   "metadata": {
    "slideshow": {
     "slide_type": "fragment"
    }
   },
   "outputs": [],
   "source": [
    "class Meal:\n",
    "    \"\"\"\n",
    "    Represents a collection of dishes.\n",
    "    :attributes: dishes\n",
    "    \"\"\" \n",
    "    \n",
    "    def __init__(self, dishes=list()) -> None:\n",
    "        \"\"\" \n",
    "        Initializes a Meal object.\n",
    "        \"\"\"\n",
    "        self.dishes: List = dishes\n",
    "    \n",
    "    def __str__(self) -> str:\n",
    "        \"\"\"\n",
    "        Creates a string representation of the current Meal object.\n",
    "        :returns: a string representation of all dishes within the meal.\n",
    "        \"\"\"\n",
    "        rep: List = [dish.name for dish in self.dishes]\n",
    "        return '\\n'.join(rep)\n",
    "    \n",
    "    def compose(self, dishes: List) -> None:\n",
    "        \"\"\" \n",
    "        Adds a list of dishes to the current list of meal dishes.\n",
    "        :param dishes: a list of dishes to add\n",
    "        \"\"\"\n",
    "        self.dishes.extend(dishes)\n",
    "    \n",
    "    def remove_dish(self, dish_name: str) -> None:\n",
    "        \"\"\" \n",
    "        Removes a dish from a meal.\n",
    "        :param dish_name: name of the dish to be removed\n",
    "        \"\"\"\n",
    "        for i in range(len(self.dishes)):\n",
    "            if self.dishes[i].name == dish_name:\n",
    "                del self.dishes[i]\n",
    "                break\n",
    "                \n",
    "    def add_dish(self, dish: Dish) -> None:\n",
    "        \"\"\" \n",
    "        Add a dish to a meal.\n",
    "        :param dish: dish to be added\n",
    "        \"\"\"\n",
    "        self.dishes.append(dish)"
   ]
  },
  {
   "cell_type": "markdown",
   "metadata": {},
   "source": [
    "Maybe you do not want to have the same dish twice in your meal. \n",
    "\n",
    "For that, we introduce a method to check whether a dish is already in the meal."
   ]
  },
  {
   "cell_type": "code",
   "execution_count": null,
   "metadata": {},
   "outputs": [],
   "source": [
    "class Meal:\n",
    "    \"\"\"\n",
    "    Represents a collection of dishes.\n",
    "    :attributes: dishes\n",
    "    \"\"\" \n",
    "    \n",
    "    def __init__(self, dishes=list()) -> None:\n",
    "        \"\"\" \n",
    "        Initializes a Meal object.\n",
    "        \"\"\"\n",
    "        self.dishes: List = dishes\n",
    "    \n",
    "    def __str__(self) -> str:\n",
    "        \"\"\"\n",
    "        Creates a string representation of the current Meal object.\n",
    "        :returns: a string representation of all dishes within the meal.\n",
    "        \"\"\"\n",
    "        rep: List = [dish.name for dish in self.dishes]\n",
    "        return '\\n'.join(rep)\n",
    "    \n",
    "    def compose(self, dishes: List) -> None:\n",
    "        \"\"\" \n",
    "        Adds a list of dishes to the current list of meal dishes.\n",
    "        :param dishes: a list of dishes to add\n",
    "        \"\"\"\n",
    "        self.dishes.extend(dishes)\n",
    "    \n",
    "    def remove_dish(self, dish_name: str) -> None:\n",
    "        \"\"\" \n",
    "        Removes a dish from a meal.\n",
    "        :param dish_name: name of the dish to be removed\n",
    "        \"\"\"\n",
    "        for i in range(len(self.dishes)):\n",
    "            if self.dishes[i].name == dish_name:\n",
    "                del self.dishes[i]\n",
    "                break\n",
    "                \n",
    "    def add_dish(self, dish: Dish) -> None:\n",
    "        \"\"\" \n",
    "        Add a dish to a meal if it is not already in the list.\n",
    "        :param dish: dish to be added\n",
    "        \"\"\"\n",
    "        if not self.contains_dish(dish):\n",
    "            self.dishes.append(dish)\n",
    "        \n",
    "    def contains_dish(self, dish: Dish) -> bool:\n",
    "        \"\"\" \n",
    "        Checks whether the dish is already in the meal.\n",
    "        :param dish: dish to be checked\n",
    "        :returns: `True` if the dish is already in a meal, `False` otherwise.\n",
    "        \"\"\"\n",
    "        return dish in self.dishes"
   ]
  },
  {
   "cell_type": "code",
   "execution_count": null,
   "metadata": {
    "slideshow": {
     "slide_type": "fragment"
    }
   },
   "outputs": [],
   "source": [
    "cereal: Dish = Dish('cereal', 200, 0, 1)\n",
    "eggs: Dish = Dish('eggs', 100, 0, 1)\n",
    "bread: Dish = Dish('bread', 50, 0, 0)\n",
    "meal: Meal = Meal([cereal, eggs])\n",
    "print(meal)\n",
    "\n",
    "meal.remove_dish('eggs')\n",
    "meal.add_dish(bread)\n",
    "print(f'Contains bread: {meal.contains_dish(bread)}')\n",
    "print(f'Contains eggs: {meal.contains_dish(eggs)}')\n",
    "print(meal)"
   ]
  },
  {
   "cell_type": "markdown",
   "metadata": {
    "slideshow": {
     "slide_type": "slide"
    }
   },
   "source": [
    "## 8. Read Dishes from a CSV File\n",
    "\n",
    "There exists an extensive list of food data, see https://catalog.data.gov/dataset/mypyramid-food-raw-data-f9ed6.\n",
    "\n",
    "This list has been the basis for creating a CSV file with about 85 different types of food, including information on\n",
    "calories, portion size, (non-)vegetarian meals, and type of meal.\n",
    "\n",
    "Suppose you want to select arbitrary dishes from this list.\n",
    "Before we start implementing the function to read the CSV file, we first write a function to convert an entry of the CSV file into a dish.\n",
    "\n",
    "The information in the CSV file is:\n",
    "\n",
    "`Display_Name; Portion_Amount; Portion_Display_Name; Meats;Calories; Vegetarian; Meal`. \n",
    "\n",
    "We use this information to develop the conversion function `convert_to_dish`."
   ]
  },
  {
   "cell_type": "code",
   "execution_count": null,
   "metadata": {
    "slideshow": {
     "slide_type": "fragment"
    }
   },
   "outputs": [],
   "source": [
    "from typing import Dict\n",
    "\n",
    "def convert_to_dish(entry: Dict) -> Dish:\n",
    "    \"\"\"\n",
    "    Converts a dish dictionary as obtained from the CSV file\n",
    "    into a Dish object.\n",
    "    :param entry: dictionary representing a dish from the CSV file\n",
    "    :returns: Dish object.\n",
    "    \"\"\"\n",
    "    name: str = entry['Display_Name']\n",
    "    calories: int = entry['Calories']\n",
    "    \n",
    "    if entry['Meal'] == 'B':\n",
    "        meal_type = 1\n",
    "    elif entry['Meal'] == 'L':\n",
    "        meal_type = 2\n",
    "    elif entry['Meal'] == 'D':\n",
    "        meal_type = 3\n",
    "    else: # entry['Meal'] == 'A'\n",
    "        meal_type = 0\n",
    "        \n",
    "    if entry['Vegetarian'] == 'yes':\n",
    "        dish: Dish = Dish(name, calories, 0, meal_type)\n",
    "    else:\n",
    "        dish: Dish = Dish(name, calories, 1, meal_type)\n",
    "        \n",
    "    return dish"
   ]
  },
  {
   "cell_type": "markdown",
   "metadata": {
    "slideshow": {
     "slide_type": "slide"
    }
   },
   "source": [
    "To select arbitrary dishes from the CSV file, we introduce the method `surprise_me`.\n",
    "It takes the number of dishes to be added to\n",
    "the meal, and it uses a random function to \"select\" the dishes."
   ]
  },
  {
   "cell_type": "markdown",
   "metadata": {
    "slideshow": {
     "slide_type": "slide"
    }
   },
   "source": [
    "Before we can implement this `surprise_me` method, we first have to define a function to\n",
    "process food data (given as a CSV file) via a function `process_food_data`."
   ]
  },
  {
   "cell_type": "code",
   "execution_count": null,
   "metadata": {
    "slideshow": {
     "slide_type": "fragment"
    }
   },
   "outputs": [],
   "source": [
    "import csv\n",
    "\n",
    "def process_food_data(path: str) -> List[Dish]:    \n",
    "    \"\"\" \n",
    "    Reads a CSV and converts it into a list of Dish objects.\n",
    "    :param path: path to the CSV file\n",
    "    :returns: list of Dish objects.\n",
    "    \"\"\"\n",
    "    food_table: List = list()\n",
    "    with open('datasets/FoodTable.csv') as csv_file:\n",
    "        reader = csv.DictReader(csv_file, delimiter=';')\n",
    "        food_table = [convert_to_dish(entry) for entry in reader]\n",
    "        \n",
    "    return food_table\n",
    "\n",
    "\n",
    "process_food_data('datasets/FoodTable.csv')"
   ]
  },
  {
   "cell_type": "markdown",
   "metadata": {
    "slideshow": {
     "slide_type": "fragment"
    }
   },
   "source": [
    "The next step is to write the `surprise_me` method, that given an integer value as argument, selects that number\n",
    "of dishes (arbitrary from the list of dishes).\n",
    "Note, that the function `randint` is used to generate an arbitrary ranking."
   ]
  },
  {
   "cell_type": "code",
   "execution_count": null,
   "metadata": {
    "slideshow": {
     "slide_type": "fragment"
    }
   },
   "outputs": [],
   "source": [
    "import random\n",
    "\n",
    "class Meal:\n",
    "    \"\"\"\n",
    "    Represents a collection of dishes.\n",
    "    :attributes: dishes\n",
    "    \"\"\" \n",
    "    \n",
    "    def __init__(self, dishes=list()) -> None:\n",
    "        \"\"\" \n",
    "        Initializes a Meal object.\n",
    "        \"\"\"\n",
    "        self.dishes: List = dishes\n",
    "    \n",
    "    def __str__(self) -> str:\n",
    "        \"\"\"\n",
    "        Creates a string representation of the current Meal object.\n",
    "        :returns: a string representation of all dishes within the meal.\n",
    "        \"\"\"\n",
    "        rep: List = [dish.name for dish in self.dishes]\n",
    "        return '\\n'.join(rep)\n",
    "    \n",
    "    def compose(self, dishes: List) -> None:\n",
    "        \"\"\" \n",
    "        Adds a list of dishes to the current list of meal dishes.\n",
    "        :param dishes: a list of dishes to add\n",
    "        \"\"\"\n",
    "        self.dishes.extend(dishes)\n",
    "    \n",
    "    def remove_dish(self, dish_name: str) -> None:\n",
    "        \"\"\" \n",
    "        Removes a dish from a meal.\n",
    "        :param dish_name: name of the dish to be removed\n",
    "        \"\"\"\n",
    "        for i in range(len(self.dishes)):\n",
    "            if self.dishes[i].name == dish_name:\n",
    "                del self.dishes[i]\n",
    "                break\n",
    "                \n",
    "    def add_dish(self, dish: Dish) -> None:\n",
    "        \"\"\" \n",
    "        Add a dish to a meal if it is not already in the list.\n",
    "        :param dish: dish to be added\n",
    "        \"\"\"\n",
    "        if not self.contains_dish(dish):\n",
    "            self.dishes.append(dish)\n",
    "        \n",
    "    def contains_dish(self, dish: Dish) -> bool:\n",
    "        \"\"\" \n",
    "        Checks whether the dish is already in the meal.\n",
    "        :param dish: dish to be checked\n",
    "        :returns: `True` if the dish is already in a meal, `False` otherwise.\n",
    "        \"\"\"\n",
    "        return dish in self.dishes\n",
    "            \n",
    "    def surprise_me(self, path: str, nr : int) -> None:\n",
    "        \"\"\" \n",
    "        Adds 'nr' arbitrary dishes from a CSV file to the meal dishes list.\n",
    "        :param path: path of the CSV file to read\n",
    "        :param nr: number of dishes to be added\n",
    "        \"\"\"\n",
    "        food_table: List[Dish] = process_food_data(path)\n",
    "        for i in range(nr):\n",
    "            dish: Dish = food_table[random.randint(0, len(food_table))]\n",
    "            while self.contains_dish(dish):\n",
    "                dish = food_table[random.randint(0, len(food_table))]\n",
    "            self.add_dish(dish)\n",
    "    \n",
    "meal = Meal()\n",
    "meal.surprise_me('datasets/FoodTable.csv', 5)\n",
    "print(meal)"
   ]
  },
  {
   "cell_type": "markdown",
   "metadata": {
    "tags": []
   },
   "source": [
    "<div class=\"alert alert-success\">\n",
    "    <b>Do It Yourself!</b><br>\n",
    "    Define the <i>remove_dog</i> and <i>has_dog</i> methods on the <i>DogOwner</i> class. The former removes a dog given its name from the list of dogs. The latter verifies if a dog is part of the list of dogs given its name.\n",
    "</div>"
   ]
  },
  {
   "cell_type": "code",
   "execution_count": null,
   "metadata": {
    "jupyter": {
     "source_hidden": true
    },
    "tags": []
   },
   "outputs": [],
   "source": [
    "# Remove this line and add your code here"
   ]
  },
  {
   "cell_type": "markdown",
   "metadata": {
    "slideshow": {
     "slide_type": "slide"
    }
   },
   "source": [
    "## 9. Inheritance\n",
    "\n",
    "Inheritance is the ability to define a new class that is a modified version of an existing class.\n",
    "As an example, suppose we want to distinguish between the general concept of a meal and a specific meal, such as\n",
    "breakfast, lunch, or dinner.\n",
    "\n",
    "To define a new class that inherits from an existing class, you write the name of the existing\n",
    "class in parentheses."
   ]
  },
  {
   "cell_type": "markdown",
   "metadata": {
    "slideshow": {
     "slide_type": "slide"
    }
   },
   "source": [
    "The new class is called **derived (or child) class** and the one from which it *inherits* is called the **base (or parent) class**.\n",
    "A derived class inherits features from the base class where new features can be added to it. This results in re-usability of code.\n",
    "\n",
    "The syntax for inheritance is as follows:\n",
    "\n",
    "```python\n",
    "class ParentClass:  \n",
    "    # Body of the parent or base class  \n",
    "    \n",
    "class ChildClass(ParentClass):  \n",
    "    # Body of the child or derived class\n",
    "```"
   ]
  },
  {
   "cell_type": "code",
   "execution_count": null,
   "metadata": {
    "slideshow": {
     "slide_type": "fragment"
    }
   },
   "outputs": [],
   "source": [
    "class Breakfast(Meal):\n",
    "    \"\"\" \n",
    "    Represents a breakfast as a meal.\n",
    "    \"\"\""
   ]
  },
  {
   "cell_type": "markdown",
   "metadata": {
    "slideshow": {
     "slide_type": "fragment"
    }
   },
   "source": [
    "This definition indicates that `Breakfast` inherits from `Meal`; that means we can use methods like\n",
    "`add_dish` and `remove_dish` for `Breakfast` as well as `Meal`.\n",
    "(**Without any need to define them again!**)\n",
    "\n",
    "In this example, `Breakfast` inherits `__init__` from `Meal`, but it does not really do what we want:\n",
    "instead we want to start healthy with a glass of orange juice, the `__init__` method for `Breakfast` should initialize dishes with an orange juice. Thus, we **override** it and invoke the `__init__` method of the `Meal` class by using the following statement:\n",
    "\n",
    "```python\n",
    "Meal.__init__(self, [])\n",
    "```"
   ]
  },
  {
   "cell_type": "code",
   "execution_count": null,
   "metadata": {
    "slideshow": {
     "slide_type": "fragment"
    }
   },
   "outputs": [],
   "source": [
    "class Breakfast(Meal):\n",
    "    \"\"\" \n",
    "    Represents a breakfast as a meal.\n",
    "    \"\"\"\n",
    "    \n",
    "    def __init__(self) -> None:\n",
    "        \"\"\"\n",
    "        Initializes a new Breakfast object which always contains a \n",
    "        glass of orange juice.\n",
    "        \"\"\"\n",
    "        orange_juice: Dish = Dish('Orange juice (100% juice)', 105, 0, 0)\n",
    "        Meal.__init__(self, [orange_juice])"
   ]
  },
  {
   "cell_type": "markdown",
   "metadata": {
    "slideshow": {
     "slide_type": "fragment"
    }
   },
   "source": [
    "When you create a `Breakfast`, Python invokes this `__init__` method, not the one in `Meal`.\n",
    "If you still want to invoke the `__init__` method from `Meal` you need to make the invocation explicitly in your code as we did in the previous example!"
   ]
  },
  {
   "cell_type": "code",
   "execution_count": null,
   "metadata": {
    "slideshow": {
     "slide_type": "fragment"
    }
   },
   "outputs": [],
   "source": [
    "breakfast: Breakfast = Breakfast()\n",
    "print(breakfast)"
   ]
  },
  {
   "cell_type": "markdown",
   "metadata": {
    "slideshow": {
     "slide_type": "fragment"
    }
   },
   "source": [
    "The other methods are inherited from `Meal`, so we can use `add_dish` and `remove_dish`."
   ]
  },
  {
   "cell_type": "code",
   "execution_count": null,
   "metadata": {
    "slideshow": {
     "slide_type": "fragment"
    }
   },
   "outputs": [],
   "source": [
    "breakfast: Breakfast = Breakfast()\n",
    "yogurt: Dish = Dish('Fruit yogurt, whole milk', 202, 0, 0)\n",
    "breakfast.add_dish(yogurt)\n",
    "print(breakfast)"
   ]
  },
  {
   "cell_type": "markdown",
   "metadata": {
    "slideshow": {
     "slide_type": "fragment"
    }
   },
   "source": [
    "The method `surprise_me` of the class `Meal` selects all possible types of food from the food data.\n",
    "When composing a breakfast you only want to have breakfast dishes.\n",
    "Thus, we override this method too."
   ]
  },
  {
   "cell_type": "code",
   "execution_count": null,
   "metadata": {},
   "outputs": [],
   "source": [
    "class Breakfast(Meal):\n",
    "    \"\"\" \n",
    "    Represents a breakfast as a meal.\n",
    "    \"\"\"\n",
    "    \n",
    "    def __init__(self) -> None:\n",
    "        \"\"\"\n",
    "        Initializes a new Breakfast object which always contains a \n",
    "        glass of orange juice.\n",
    "        \"\"\"\n",
    "        orange_juice: Dish = Dish('Orange juice (100% juice)', 105, 0, 0)\n",
    "        Meal.__init__(self, [orange_juice])\n",
    "    \n",
    "    def surprise_me(self, path: str, nr : int) -> None:\n",
    "        \"\"\" \n",
    "        Adds 'nr' arbitrary dishes from a CSV file to the meal dishes list.\n",
    "        :param path: path of the CSV file to read\n",
    "        :param nr: number of dishes to be added\n",
    "        \"\"\"\n",
    "        food_table: List[Dish] = process_food_data(path)\n",
    "        for i in range(nr):\n",
    "            dish: Dish = food_table[random.randint(0, len(food_table))]\n",
    "            \n",
    "            while dish.meal in [2, 3] or self.contains_dish(dish): \n",
    "                dish = food_table[random.randint(0, len(food_table))]\n",
    "                \n",
    "            self.add_dish(dish)"
   ]
  },
  {
   "cell_type": "code",
   "execution_count": null,
   "metadata": {
    "slideshow": {
     "slide_type": "fragment"
    }
   },
   "outputs": [],
   "source": [
    "breakfast: Breakfast = Breakfast()\n",
    "\n",
    "breakfast.surprise_me('datasets/FoodTable.csv', 3)\n",
    "print(breakfast)"
   ]
  },
  {
   "cell_type": "markdown",
   "metadata": {
    "slideshow": {
     "slide_type": "fragment"
    }
   },
   "source": [
    "Inheritance is a useful feature.\n",
    "\n",
    "Some programs that would be repetitive without inheritance can be written more elegantly with it.\n",
    "Inheritance can facilitate code reuse, since you can customize the behavior of parent classes without having to modify them.\n",
    "In some cases, the inheritance structure reflects the natural structure of the problem, which makes the design easier to understand.\n",
    "\n",
    "However, inheritance can make programs difficult to read.\n",
    "When a method is invoked, it is sometimes not clear where to find its definition.\n",
    "The relevant code may be spread across several classes.\n",
    "Also, many of the things that can be done using inheritance can be done as well or better without it."
   ]
  },
  {
   "cell_type": "markdown",
   "metadata": {
    "tags": []
   },
   "source": [
    "<div class=\"alert alert-success\">\n",
    "    <b>Do It Yourself!</b><br>\n",
    "    A dog owner can now have other types of pets. Define the <i>Pet</i> class and create the <i>Dog</i> and <i>Cat</i> classes, which inherits from them. A Pet instance has the following attributes: <i>name</i>, <i>breed</i>, <i>age</i>, and <i>weight</i>. Now, we will define new <i>breeds</i> lists on the Dog and Cat classes. Possible cat breeds are \"siamese\", \"sphynx\", \"persian\", and \"angora\".\n",
    "</div>"
   ]
  },
  {
   "cell_type": "code",
   "execution_count": null,
   "metadata": {
    "jupyter": {
     "source_hidden": true
    },
    "tags": []
   },
   "outputs": [],
   "source": [
    "# Remove this line and add your code here"
   ]
  },
  {
   "cell_type": "markdown",
   "metadata": {},
   "source": [
    "## 10. Method Overriding\n",
    "\n",
    "In the `Meal` example, notice that the `__init__` method was defined in both classes `Breakfast` as well `Meal`. \n",
    "When this happens, the method in the derived class *overrides* the one in the base class. This is to say, `__init__` in `Breakfast` gets preference over the `__init__` in `Meal`.\n",
    "\n",
    "Generally, when overriding a base method, we tend to extend the definition rather than replace it. \n",
    "The same is being done by calling the method in base class from the one in derived class (calling `Meal.__init__()` from the `__init__` method in `Breakfast`)."
   ]
  },
  {
   "cell_type": "markdown",
   "metadata": {},
   "source": [
    "## 11. The `Polygon` Class\n",
    "\n",
    "A polygon is a closed figure with 3 or more sides. \n",
    "A class called `Polygon` can be defined as follows.\n",
    "This class has data attributes to store the number of sides `num_sides` and magnitude of each side as a list called `sides`."
   ]
  },
  {
   "cell_type": "code",
   "execution_count": null,
   "metadata": {},
   "outputs": [],
   "source": [
    "class Polygon:\n",
    "    \"\"\"\n",
    "    Represents a polygon\n",
    "    :attributes: num_sides, sides\n",
    "    \"\"\"\n",
    "    \n",
    "    def __init__(self, num_sides: int = 0):\n",
    "        \"\"\"\n",
    "        Initializes a Polygon object.\n",
    "        :param num_sides: the number of sides of the polygon\n",
    "        \"\"\"\n",
    "        self.num_sides: int = num_sides\n",
    "        sides: List = list()\n",
    "        for i in range(num_sides):\n",
    "            sides.append(0)\n",
    "        self.sides: List = sides\n",
    "\n",
    "    def __str__(self) -> str:\n",
    "        \"\"\"\n",
    "        Returns a string representation of a Polygon object.\n",
    "        :returns: string representation of a Polygon object.\n",
    "        \"\"\"\n",
    "        rep: List = []\n",
    "        for i in range(self.num_sides):\n",
    "            rep.append(f'Side {i + 1} size: {self.sides[i]}')\n",
    "        return '\\n'.join(rep)\n",
    "\n",
    "    def input_sides(self) -> None:\n",
    "        \"\"\"\n",
    "        Asks for the sizes of the polygon sides.\n",
    "        \"\"\"\n",
    "        for i in range(self.num_sides):\n",
    "            try:\n",
    "                side = float(input(f'Enter the size of the side {i + 1}:'))\n",
    "                self.sides[i] = side\n",
    "            except:\n",
    "                raise ValueError('Invalid polygon side size value')\n",
    "        \n",
    "p: Polygon = Polygon(4)\n",
    "p.input_sides()\n",
    "print(p)"
   ]
  },
  {
   "cell_type": "markdown",
   "metadata": {},
   "source": [
    "The `input_sides` method takes in the magnitude of each side.\n",
    "The `__str__` method has also been implemented to provide a string representation of a `Polygon` object.\n",
    "\n",
    "A triangle is a polygon with 3 sides. So, we can create a class called `Triangle` which inherits from `Polygon`. This makes all the attributes of `Polygon` class available to the `Triangle` class.\n",
    "We do not need to define them again (code reusability). \n",
    "\n",
    "`Triangle` can be defined as follows."
   ]
  },
  {
   "cell_type": "code",
   "execution_count": null,
   "metadata": {},
   "outputs": [],
   "source": [
    "class Triangle(Polygon):\n",
    "    \"\"\"\n",
    "    Represents a triangle.\n",
    "    :attributes: num_sides, sides\n",
    "    \"\"\"\n",
    "    \n",
    "    def __init__(self):\n",
    "        \"\"\"\n",
    "        Initializes a Triangle object with 3 sides.\n",
    "        \"\"\"\n",
    "        super().__init__(3)\n",
    "\n",
    "    def calculate_area(self) -> float:\n",
    "        \"\"\"\n",
    "        Calculates and returns the area of the triangle.\n",
    "        \"\"\"\n",
    "        a, b, c = self.sides\n",
    "        \n",
    "        # calculate the semi-perimeter\n",
    "        s: int = (a + b + c) / 2\n",
    "        area: float = (s * (s - a) * (s - b) * (s - c)) ** (1 / 2)\n",
    "        print(f'The area of the triangle is {area:.2f}')"
   ]
  },
  {
   "cell_type": "markdown",
   "metadata": {},
   "source": [
    "When calling a method of the parent class you can use `super()`, which returns a temporary object of the parent class.\n",
    "With this object you can invoke all methods defined within the super class.\n",
    "Notice that we do not pass the argument `self` anymore in the call to the `__init__` method.\n",
    "\n",
    "The `Triangle` class has a new method `find_area` to calculate the area of the triangle."
   ]
  },
  {
   "cell_type": "code",
   "execution_count": null,
   "metadata": {
    "scrolled": true
   },
   "outputs": [],
   "source": [
    "t = Triangle()\n",
    "t.input_sides()\n",
    "t.calculate_area()"
   ]
  },
  {
   "cell_type": "markdown",
   "metadata": {
    "tags": []
   },
   "source": [
    "<div class=\"alert alert-success\">\n",
    "    <b>Do It Yourself!</b><br>\n",
    "    Copy the <i>Pet</i> class and define the method <i>compute_human_age()</i>, which only returns the age of the pet. Now, copy the <i>Dog</i> and <i>Cat</i> classes, and redefine the new method. In the case of a dog, the human age is equal to the age of the dog times 7; and the human age of a cat is equal to its age times 5. Create one <i>Cat</i> and one <i>Dog</i> object, then test your methods.\n",
    "</div>"
   ]
  },
  {
   "cell_type": "code",
   "execution_count": null,
   "metadata": {
    "jupyter": {
     "source_hidden": true
    },
    "tags": []
   },
   "outputs": [],
   "source": [
    "# Remove this line and add your code here"
   ]
  },
  {
   "cell_type": "markdown",
   "metadata": {},
   "source": [
    "## 12. The `Person` Class\n",
    "\n",
    "Below, there is another simple example of inheritance in Python."
   ]
  },
  {
   "cell_type": "code",
   "execution_count": null,
   "metadata": {},
   "outputs": [],
   "source": [
    "class Person: \n",
    "    \"\"\" \n",
    "    Represents a person \n",
    "    :attributes: name\n",
    "    \"\"\"\n",
    "    \n",
    "    def __init__(self, name: str) -> None: \n",
    "        \"\"\"\n",
    "        Initializes a Person object.\n",
    "        :param name: the name of a person\n",
    "        \"\"\"\n",
    "        self.name: str = name \n",
    "   \n",
    "    def get_name(self) -> str: \n",
    "        \"\"\"\n",
    "        Returns the name of the Person object.\n",
    "        :returns: the name of the Person object.\n",
    "        \"\"\"\n",
    "        return self.name \n",
    "   \n",
    "    def is_employee(self) -> bool: \n",
    "        \"\"\"\n",
    "        Checks if a person is an employee.\n",
    "        :returns: `True` if the person is an employee, `False` otherwise.\n",
    "        \"\"\"\n",
    "        return False\n",
    "   \n",
    "   \n",
    "class Employee(Person): \n",
    "    \"\"\"\n",
    "    Represents an employee.\n",
    "    :attributes: name\n",
    "    \"\"\"\n",
    "   \n",
    "    # Here we return true \n",
    "    def is_employee(self) -> bool:  \n",
    "        \"\"\"\n",
    "        Checks if a person is an employee.\n",
    "        :returns: `True` if the person is an employee, `False` otherwise.\n",
    "        \"\"\"\n",
    "        return True\n",
    "\n",
    "\n",
    "emp: Person = Person('Mark')  # An Object of Person \n",
    "print(emp.get_name(), emp.is_employee()) \n",
    "   \n",
    "emp: Employee = Employee(\"Lina\") # An Object of Employee \n",
    "print(emp.get_name(), emp.is_employee()) "
   ]
  },
  {
   "cell_type": "markdown",
   "metadata": {},
   "source": [
    "Let us work a bit more on this example."
   ]
  },
  {
   "cell_type": "code",
   "execution_count": null,
   "metadata": {},
   "outputs": [],
   "source": [
    "class Person: \n",
    "    \"\"\" \n",
    "    Represents a person \n",
    "    :attributes: name, idnumber\n",
    "    \"\"\"\n",
    "    \n",
    "    def __init__(self, name: str, idnumber: int) -> None: \n",
    "        \"\"\"\n",
    "        Initializes a Person object.\n",
    "        :param name: the name of a person\n",
    "        \"\"\"\n",
    "        self.name: str = name\n",
    "        self.idnumber: int = idnumber \n",
    "   \n",
    "    def __str__(self) -> str:\n",
    "        \"\"\"\n",
    "        Returns a string representation of a Person object.\n",
    "        :returns: string representation of a Person object.\n",
    "        \"\"\"\n",
    "        return f'{self.name} ({self.idnumber})'\n",
    "    \n",
    "    def get_name(self) -> str: \n",
    "        \"\"\"\n",
    "        Returns the name of the Person object.\n",
    "        :returns: the name of the Person object.\n",
    "        \"\"\"\n",
    "        return self.name \n",
    "    \n",
    "    def get_idnumber(self) -> int: \n",
    "        \"\"\"\n",
    "        Returns the ID number of a person.\n",
    "        :returns: the ID number of a person.\n",
    "        \"\"\"\n",
    "        return self.idnumber \n",
    "   \n",
    "    def is_employee(self) -> bool: \n",
    "        \"\"\"\n",
    "        Checks if a person is an employee.\n",
    "        :returns: `True` if the person is an employee, `False` otherwise.\n",
    "        \"\"\"\n",
    "        return False\n",
    "   \n",
    "   \n",
    "class Employee(Person): \n",
    "    \"\"\"\n",
    "    Represents an employee.\n",
    "    :attributes: name, idnumber, salary, function\n",
    "    \"\"\"\n",
    "    \n",
    "    def __init__(self, name: str, idnumber: int, salary: int, function: str) -> None:\n",
    "        \"\"\"\n",
    "        Initializes an Employee object.\n",
    "        :param name: the name of the employee\n",
    "        :param idnumber: the ID number of the employee\n",
    "        :param salary: the salary of the employee\n",
    "        :param function: the function of the employee\n",
    "        \"\"\"\n",
    "        self.salary: int = salary \n",
    "        self.function: str = function \n",
    "        super().__init__(name, idnumber) \n",
    "    \n",
    "    def is_employee(self) -> bool:  \n",
    "        \"\"\"\n",
    "        Checks if a person is an employee.\n",
    "        :returns: `True` if the person is an employee, `False` otherwise.\n",
    "        \"\"\"\n",
    "        return True"
   ]
  },
  {
   "cell_type": "code",
   "execution_count": null,
   "metadata": {},
   "outputs": [],
   "source": [
    "employee: Employee = Employee('Mark', 886012, 100000, 'Professor')     \n",
    "print(employee)"
   ]
  },
  {
   "cell_type": "markdown",
   "metadata": {},
   "source": [
    "The variables defined within the `__init__` are called as the **instance variables** or **attributes**. Hence, `name` and `idnumber` are the attributes of the class `Person`. \n",
    "\n",
    "Similarly, `salary` and `function` are the attributes of the class `Employee`. Since the class `Employee` inherits from class `Person`, `name` and `idnumber` are also the attributes of class `Employee`.\n",
    "\n",
    "If you forget to invoke the `__init__` of the parent class then its instance variables would not be available to the child class."
   ]
  },
  {
   "cell_type": "code",
   "execution_count": null,
   "metadata": {},
   "outputs": [],
   "source": [
    "class Person: \n",
    "    \"\"\" \n",
    "    Represents a person \n",
    "    :attributes: name, idnumber\n",
    "    \"\"\"\n",
    "    \n",
    "    def __init__(self, name: str, idnumber: int) -> None: \n",
    "        \"\"\"\n",
    "        Initializes a Person object.\n",
    "        :param name: the name of a person\n",
    "        \"\"\"\n",
    "        self.name: str = name\n",
    "        self.idnumber: int = idnumber \n",
    "   \n",
    "    def __str__(self) -> str:\n",
    "        \"\"\"\n",
    "        Returns a string representation of a Person object.\n",
    "        :returns: string representation of a Person object.\n",
    "        \"\"\"\n",
    "        return f'{self.name} ({self.idnumber})'\n",
    "    \n",
    "    def get_name(self) -> str: \n",
    "        \"\"\"\n",
    "        Returns the name of the Person object.\n",
    "        :returns: the name of the Person object.\n",
    "        \"\"\"\n",
    "        return self.name \n",
    "    \n",
    "    def get_idnumber(self) -> int: \n",
    "        \"\"\"\n",
    "        Returns the ID number of a person.\n",
    "        :returns: the ID number of a person.\n",
    "        \"\"\"\n",
    "        return self.idnumber \n",
    "   \n",
    "    def is_employee(self) -> bool: \n",
    "        \"\"\"\n",
    "        Checks if a person is an employee.\n",
    "        :returns: `True` if the person is an employee, `False` otherwise.\n",
    "        \"\"\"\n",
    "        return False\n",
    "   \n",
    "   \n",
    "class Employee(Person): \n",
    "    \"\"\"\n",
    "    Represents an employee.\n",
    "    :attributes: name, idnumber, salary, function\n",
    "    \"\"\"\n",
    "    \n",
    "    def __init__(self, name: str, idnumber: int, salary: int, function: str) -> None:\n",
    "        \"\"\"\n",
    "        Initializes an Employee object.\n",
    "        :param name: the name of the employee\n",
    "        :param idnumber: the ID number of the employee\n",
    "        :param salary: the salary of the employee\n",
    "        :param function: the function of the employee\n",
    "        \"\"\"\n",
    "        self.salary: int = salary \n",
    "        self.function: str = function \n",
    "    \n",
    "    def is_employee(self) -> bool:  \n",
    "        \"\"\"\n",
    "        Checks if a person is an employee.\n",
    "        :returns: `True` if the person is an employee, `False` otherwise.\n",
    "        \"\"\"\n",
    "        return True"
   ]
  },
  {
   "cell_type": "code",
   "execution_count": null,
   "metadata": {},
   "outputs": [],
   "source": [
    "employee: Employee = Employee('Mark', 886012, 100000, 'Professor')     \n",
    "print(employee)"
   ]
  },
  {
   "cell_type": "markdown",
   "metadata": {
    "tags": []
   },
   "source": [
    "<div class=\"alert alert-success\">\n",
    "    <b>Do It Yourself!</b><br>\n",
    "    Copy the <i>Pet</i> and <i>Dog</i> classes. Now, you will add the attribute <i>bark_volume</i> to the dog, which is an integer between 1 and 10 being 1 the lowest possible value and 10 the highest. Modify the <i>Dog</i> constructor to add this new instance variable.\n",
    "</div>"
   ]
  },
  {
   "cell_type": "code",
   "execution_count": null,
   "metadata": {
    "tags": []
   },
   "outputs": [],
   "source": [
    "# Remove this line and add your code here"
   ]
  },
  {
   "cell_type": "markdown",
   "metadata": {},
   "source": [
    "## 13. Types of Inheritance\n",
    "\n",
    "* **Single inheritance**: When a child class inherits from only one parent class, it is called single inheritance. We saw an example above.\n",
    "    \n",
    "* **Multiple inheritance**: When a child class inherits from multiple parent classes, it is called multiple inheritance. Unlike Java and like C++, Python supports multiple inheritance. We specify all parent classes as a comma-separated list in the bracket. "
   ]
  },
  {
   "cell_type": "code",
   "execution_count": null,
   "metadata": {},
   "outputs": [],
   "source": [
    "class Person: \n",
    "    \"\"\" \n",
    "    Represents a person \n",
    "    :attributes: name, idnumber\n",
    "    \"\"\"\n",
    "    \n",
    "    def __init__(self, name: str, idnumber: int) -> None: \n",
    "        \"\"\"\n",
    "        Initializes a Person object.\n",
    "        :param name: the name of a person\n",
    "        \"\"\"\n",
    "        self.name: str = name\n",
    "        self.idnumber: int = idnumber \n",
    "   \n",
    "    def __str__(self) -> str:\n",
    "        \"\"\"\n",
    "        Returns a string representation of a Person object.\n",
    "        :returns: string representation of a Person object.\n",
    "        \"\"\"\n",
    "        return f'{self.name} ({self.idnumber})'\n",
    "    \n",
    "    def get_name(self) -> str: \n",
    "        \"\"\"\n",
    "        Returns the name of the Person object.\n",
    "        :returns: the name of the Person object.\n",
    "        \"\"\"\n",
    "        return self.name \n",
    "    \n",
    "    def get_idnumber(self) -> int: \n",
    "        \"\"\"\n",
    "        Returns the ID number of a person.\n",
    "        :returns: the ID number of a person.\n",
    "        \"\"\"\n",
    "        return self.idnumber \n",
    "   \n",
    "    def is_employee(self) -> bool: \n",
    "        \"\"\"\n",
    "        Checks if a person is an employee.\n",
    "        :returns: `True` if the person is an employee, `False` otherwise.\n",
    "        \"\"\"\n",
    "        return False\n",
    "    \n",
    "        \n",
    "class Organisation:\n",
    "    \"\"\" \n",
    "    Represents an organisation\n",
    "    :attributes: orgname, orgtype\n",
    "    \"\"\"\n",
    "    \n",
    "    def __init__(self, orgname: str, orgtyp: str) -> None:  \n",
    "        \"\"\"\n",
    "        Initializes an Organisation object.\n",
    "        :param orgname: the name of an organisation\n",
    "        :param orgtype: the idnumber of an organisation\n",
    "        \"\"\"\n",
    "        self.orgname: str = orgname\n",
    "        self.orgtype: str = orgtyp\n",
    "\n",
    "        \n",
    "# Child class\n",
    "class Employee(Person, Organisation): \n",
    "    \"\"\"\n",
    "    Represents an employee.\n",
    "    :attributes: name, idnumber, salary, function, orgname, orgtype\n",
    "    \"\"\"\n",
    "    \n",
    "    def __init__(self, name: str, idnumber: int, salary: int, function: str, orgname: str, orgtype: str) -> None:\n",
    "        \"\"\"\n",
    "        Initializes an Employee object.\n",
    "        :param name: the name of the employee\n",
    "        :param idnumber: the ID number of the employee\n",
    "        :param salary: the salary of the employee\n",
    "        :param function: the function of the employee\n",
    "        :param orgname: name of the employee's organization\n",
    "        :param orgtype: type of the employee's organization\n",
    "        \"\"\"\n",
    "        self.salary: int = salary \n",
    "        self.function: str = function \n",
    "        Person.__init__(self, name, idnumber) \n",
    "        Organisation.__init__(self, orgname, orgtype)\n",
    "    \n",
    "    def is_employee(self) -> bool:  \n",
    "        \"\"\"\n",
    "        Checks if a person is an employee.\n",
    "        :returns: `True` if the person is an employee, `False` otherwise.\n",
    "        \"\"\"\n",
    "        return True"
   ]
  },
  {
   "cell_type": "code",
   "execution_count": null,
   "metadata": {},
   "outputs": [],
   "source": [
    "employee = Employee('Mark', 886012, 100000, 'Professor', 'TU/e', 'university')     \n",
    "print(employee)"
   ]
  },
  {
   "cell_type": "markdown",
   "metadata": {},
   "source": [
    "* **Multilevel inheritance**: When we have a child and grandchild relationship."
   ]
  },
  {
   "cell_type": "code",
   "execution_count": null,
   "metadata": {},
   "outputs": [],
   "source": [
    "class Person: \n",
    "    \"\"\" \n",
    "    Represents a person \n",
    "    :attributes: name, idnumber\n",
    "    \"\"\"\n",
    "    \n",
    "    def __init__(self, name: str, idnumber: int) -> None: \n",
    "        \"\"\"\n",
    "        Initializes a Person object.\n",
    "        :param name: the name of a person\n",
    "        \"\"\"\n",
    "        self.name: str = name\n",
    "        self.idnumber: int = idnumber \n",
    "   \n",
    "    def __str__(self) -> str:\n",
    "        \"\"\"\n",
    "        Returns a string representation of a Person object.\n",
    "        :returns: string representation of a Person object.\n",
    "        \"\"\"\n",
    "        return f'{self.name} ({self.idnumber})'\n",
    "    \n",
    "    def get_name(self) -> str: \n",
    "        \"\"\"\n",
    "        Returns the name of the Person object.\n",
    "        :returns: the name of the Person object.\n",
    "        \"\"\"\n",
    "        return self.name \n",
    "    \n",
    "    def get_idnumber(self) -> int: \n",
    "        \"\"\"\n",
    "        Returns the ID number of a person.\n",
    "        :returns: the ID number of a person.\n",
    "        \"\"\"\n",
    "        return self.idnumber \n",
    "   \n",
    "    def is_employee(self) -> bool: \n",
    "        \"\"\"\n",
    "        Checks if a person is an employee.\n",
    "        :returns: `True` if the person is an employee, `False` otherwise.\n",
    "        \"\"\"\n",
    "        return False\n",
    "   \n",
    "   \n",
    "class Employee(Person): \n",
    "    \"\"\"\n",
    "    Represents an employee.\n",
    "    :attributes: name, idnumber, salary, function\n",
    "    \"\"\"\n",
    "    \n",
    "    def __init__(self, name: str, idnumber: int, salary: int, function: str) -> None:\n",
    "        \"\"\"\n",
    "        Initializes an Employee object.\n",
    "        :param name: the name of the employee\n",
    "        :param idnumber: the ID number of the employee\n",
    "        :param salary: the salary of the employee\n",
    "        :param function: the function of the employee\n",
    "        \"\"\"\n",
    "        self.salary: int = salary \n",
    "        self.function: str = function \n",
    "        super().__init__(name, idnumber)\n",
    "    \n",
    "    def is_employee(self) -> bool:  \n",
    "        \"\"\"\n",
    "        Checks if a person is an employee.\n",
    "        :returns: `True` if the person is an employee, `False` otherwise.\n",
    "        \"\"\"\n",
    "        return True\n",
    "    \n",
    "    \n",
    "class Scientific(Employee):\n",
    "    \"\"\" \n",
    "    Represents a scientific employee\n",
    "    :attributes: name, idnumber, salary, function, level\n",
    "    \"\"\"\n",
    "    \n",
    "    def __init__(self, name: str, idnumber: int, salary: int, function: str, level: str) -> None: \n",
    "        \"\"\"\n",
    "        Initializes a Scientific Employee object.\n",
    "        :param name: the name of the employee\n",
    "        :param idnumber: the ID number of the employee\n",
    "        :param salary: the salary of the employee\n",
    "        :param function: the function of the employee\n",
    "        :param level: the level of the employee\n",
    "        \"\"\"\n",
    "        self.level = level\n",
    "        super().__init__(name, idnumber, salary, function)"
   ]
  },
  {
   "cell_type": "code",
   "execution_count": null,
   "metadata": {},
   "outputs": [],
   "source": [
    "employee = Scientific('Mark', 886012, 100000, 'professor', 'full')     \n",
    "print(employee)"
   ]
  },
  {
   "cell_type": "markdown",
   "metadata": {},
   "source": [
    "* **Hierarchical inheritance**: When more than one derived classes are created from a single base this type of inheritance is called hierarchical inheritance. In this program, we have a parent (base) class and two child (derived) classes."
   ]
  },
  {
   "cell_type": "code",
   "execution_count": null,
   "metadata": {
    "tags": []
   },
   "outputs": [],
   "source": [
    "class Person: \n",
    "    \"\"\" \n",
    "    Represents a person \n",
    "    :attributes: name, idnumber\n",
    "    \"\"\"\n",
    "    \n",
    "    def __init__(self, name: str, idnumber: int) -> None: \n",
    "        \"\"\"\n",
    "        Initializes a Person object.\n",
    "        :param name: the name of a person\n",
    "        \"\"\"\n",
    "        self.name: str = name\n",
    "        self.idnumber: int = idnumber \n",
    "   \n",
    "    def __str__(self) -> str:\n",
    "        \"\"\"\n",
    "        Returns a string representation of a Person object.\n",
    "        :returns: string representation of a Person object.\n",
    "        \"\"\"\n",
    "        return f'{self.name} ({self.idnumber})'\n",
    "    \n",
    "    def get_name(self) -> str: \n",
    "        \"\"\"\n",
    "        Returns the name of the Person object.\n",
    "        :returns: the name of the Person object.\n",
    "        \"\"\"\n",
    "        return self.name \n",
    "    \n",
    "    def get_idnumber(self) -> int: \n",
    "        \"\"\"\n",
    "        Returns the ID number of a person.\n",
    "        :returns: the ID number of a person.\n",
    "        \"\"\"\n",
    "        return self.idnumber \n",
    "   \n",
    "    def is_employee(self) -> bool: \n",
    "        \"\"\"\n",
    "        Checks if a person is an employee.\n",
    "        :returns: `True` if the person is an employee, `False` otherwise.\n",
    "        \"\"\"\n",
    "        return False\n",
    "   \n",
    "   \n",
    "class Employee(Person): \n",
    "    \"\"\"\n",
    "    Represents an employee.\n",
    "    :attributes: name, idnumber, salary, function\n",
    "    \"\"\"\n",
    "    \n",
    "    def __init__(self, name: str, idnumber: int, salary: int, function: str) -> None:\n",
    "        \"\"\"\n",
    "        Initializes an Employee object.\n",
    "        :param name: the name of the employee\n",
    "        :param idnumber: the ID number of the employee\n",
    "        :param salary: the salary of the employee\n",
    "        :param function: the function of the employee\n",
    "        \"\"\"\n",
    "        self.salary: int = salary \n",
    "        self.function: str = function \n",
    "        super().__init__(name, idnumber)\n",
    "    \n",
    "    def is_employee(self) -> bool:  \n",
    "        \"\"\"\n",
    "        Checks if a person is an employee.\n",
    "        :returns: `True` if the person is an employee, `False` otherwise.\n",
    "        \"\"\"\n",
    "        return True\n",
    "    \n",
    "    \n",
    "class Scientific(Employee):\n",
    "    \"\"\" \n",
    "    Represents a scientific employee\n",
    "    :attributes: name, idnumber, salary, function, level\n",
    "    \"\"\"\n",
    "    \n",
    "    def __init__(self, name: str, idnumber: int, salary: int, function: str, level: str) -> None: \n",
    "        \"\"\"\n",
    "        Initializes a Scientific Employee object.\n",
    "        :param name: the name of the employee\n",
    "        :param idnumber: the ID number of the employee\n",
    "        :param salary: the salary of the employee\n",
    "        :param function: the function of the employee\n",
    "        :param level: the level of the employee\n",
    "        \"\"\"\n",
    "        self.level = level\n",
    "        super().__init__(name, idnumber, salary, function)\n",
    "        \n",
    "\n",
    "class Support(Employee):\n",
    "    \"\"\" \n",
    "    Represents a support employee\n",
    "    :attributes: name, idnumber, salary, function, suptype\n",
    "    \"\"\"\n",
    "    \n",
    "    def __init__(self, name: str, idnumber: int, salary: int, function: str, typ: str) -> str:\n",
    "        \"\"\"\n",
    "        initializes a new Employee object\n",
    "        :param name: the name of the employee\n",
    "        :param idnumber: the idnumber of the employee\n",
    "        :param salary: the salary of the employee\n",
    "        :param function: the function of the employee\n",
    "        :param typ: the type of support function\n",
    "        \"\"\"\n",
    "        self.type = typ\n",
    "        super().__init__(name, idnumber, salary, function)"
   ]
  },
  {
   "cell_type": "code",
   "execution_count": null,
   "metadata": {},
   "outputs": [],
   "source": [
    "employee1 = Scientific('Mark', 886012, 100000, 'professor', 'full')\n",
    "employee2 = Support('Erik', 685010, 50000, 'programmer', 'technical lead')\n",
    "  \n",
    "print(employee1)\n",
    "print(employee2)"
   ]
  },
  {
   "cell_type": "markdown",
   "metadata": {
    "tags": []
   },
   "source": [
    "<div class=\"alert alert-success\">\n",
    "    <b>Do It Yourself!</b><br>\n",
    "    What type of inheritance do we have in the <i>Pet</i>-<i>Dog</i>-<i>Cat</i> scenario? Why?\n",
    "</div>"
   ]
  },
  {
   "cell_type": "code",
   "execution_count": null,
   "metadata": {},
   "outputs": [],
   "source": [
    "# Remove this line and add your code here"
   ]
  },
  {
   "cell_type": "markdown",
   "metadata": {},
   "source": [
    "## 14. Checking Inheritance\n",
    "\n",
    "Two built-in functions `isinstance` and `issubclass` are used to check inheritance.\n",
    "The function `isinstance` returns `True` if the object is an instance of the class or other classes derived from it. \n",
    "\n",
    "Each and every class in Python inherits from the base class `object`."
   ]
  },
  {
   "cell_type": "code",
   "execution_count": null,
   "metadata": {},
   "outputs": [],
   "source": [
    "isinstance(breakfast, Breakfast)"
   ]
  },
  {
   "cell_type": "code",
   "execution_count": null,
   "metadata": {},
   "outputs": [],
   "source": [
    "isinstance(breakfast, Meal)"
   ]
  },
  {
   "cell_type": "code",
   "execution_count": null,
   "metadata": {},
   "outputs": [],
   "source": [
    "isinstance(breakfast, int)"
   ]
  },
  {
   "cell_type": "code",
   "execution_count": null,
   "metadata": {},
   "outputs": [],
   "source": [
    "isinstance(breakfast, object)"
   ]
  },
  {
   "cell_type": "markdown",
   "metadata": {},
   "source": [
    "In the same way, `issubclass` is used to check for class inheritance."
   ]
  },
  {
   "cell_type": "code",
   "execution_count": null,
   "metadata": {},
   "outputs": [],
   "source": [
    "issubclass(Meal, Breakfast)"
   ]
  },
  {
   "cell_type": "code",
   "execution_count": null,
   "metadata": {},
   "outputs": [],
   "source": [
    "issubclass(Breakfast, Meal)"
   ]
  },
  {
   "cell_type": "code",
   "execution_count": null,
   "metadata": {},
   "outputs": [],
   "source": [
    "issubclass(bool, int)"
   ]
  },
  {
   "cell_type": "markdown",
   "metadata": {
    "tags": []
   },
   "source": [
    "<div class=\"alert alert-success\">\n",
    "    <b>Do It Yourself!</b><br>\n",
    "    Create one <i>Dog</i> and one <i>Cat</i> object. Use the <i>isinstance()</i> and <i>issubclass()</i> functions to verify the relationship between your <i>Pet</i> objects and the <i>Pet</i>, <i>Dog</i>, and <i>Cat</i> classes.\n",
    "</div>"
   ]
  },
  {
   "cell_type": "code",
   "execution_count": null,
   "metadata": {
    "jupyter": {
     "source_hidden": true
    },
    "tags": []
   },
   "outputs": [],
   "source": [
    "# Remove this line and add your code here"
   ]
  },
  {
   "cell_type": "markdown",
   "metadata": {
    "slideshow": {
     "slide_type": "slide"
    }
   },
   "source": [
    "## 15. Class Diagrams\n",
    "\n",
    "A **class diagram** is an abstract representation of the structure of a program. \n",
    "It shows the classes and their relations.\n",
    "Class diagrams are extremely popular and used, among others, in UML (Unified Modeling Language).\n",
    "\n",
    "There are several kinds of relationship between classes:\n",
    "\n",
    "* Objects in one class might contain references to objects in another class. For example, each Rectangle contains a reference to a Point, and each Deck contains references to many Cards. This kind of relationship is called **HAS-A**, as in, “a Rectangle has a Point.”\n",
    "* One class might inherit from another. This relationship is called **IS-A**, as in, “Breakfast is a kind of Meal.”\n",
    "* One class might depend on another in the sense that objects in one class take objects in the second class as parameters, or use objects in the second class as part of a computation. This kind of relationship is called a **dependency**.\n",
    "  \n",
    "A **class diagram** is a graphical representation of these relationships."
   ]
  },
  {
   "cell_type": "code",
   "execution_count": null,
   "metadata": {},
   "outputs": [],
   "source": [
    "print(' +--------+        *   +--------+')\n",
    "print(' |  Meal  |   ------>  |  Dish  |')\n",
    "print(' +--------+            +--------+')\n",
    "print('     /_\\                         ')\n",
    "print('      |                          ')\n",
    "print('      |                          ')\n",
    "print('      |                          ')\n",
    "print('+-----------+                    ')\n",
    "print('| Breakfast |                    ')\n",
    "print('+-----------+                    ')"
   ]
  },
  {
   "cell_type": "markdown",
   "metadata": {
    "slideshow": {
     "slide_type": "slide"
    }
   },
   "source": [
    "The arrow with a hollow triangle head represents an IS-A relationship; in this case it indicates that Hand inherits from Deck.\n",
    "\n",
    "The standard arrow head represents a HAS-A relationship; in this case a Meal object has references\n",
    "to Dish objects.\n",
    "\n",
    "The star (\\*) near the arrow head is a **multiplicity**; it indicates how many Dishes a Meal has.\n",
    "A multiplicity can be a simple number, like 3, a range, like 5..7 or a star, which indicates that a Meal can have any number of Dishes.\n",
    "\n",
    "There are no dependencies in this diagram. \n",
    "They would normally be shown with a dashed arrow. \n",
    "Or if there are a lot of dependencies, they are sometimes omitted.\n",
    "\n",
    "A more detailed diagram might show that a Meal actually contains a list of Dishes, but\n",
    "built-in types like list and dict are usually not included in class diagrams.\n",
    "See https://en.wikipedia.org/wiki/Class_diagram for more information on UML class diagrams."
   ]
  },
  {
   "cell_type": "markdown",
   "metadata": {
    "slideshow": {
     "slide_type": "fragment"
    }
   },
   "source": [
    "## 16. Data Encapsulation\n",
    "\n",
    "The previous chapters demonstrate a development plan we might call “object-oriented\n",
    "design”. \n",
    "We identified objects we needed -- like `Point`, `Rectangle` and `Time` -- and defined\n",
    "classes to represent them. \n",
    "\n",
    "In each case there is an obvious correspondence between the\n",
    "object and some entity in the real world (or at least a mathematical world). \n",
    "But sometimes it is less obvious what objects you need and how they should interact. \n",
    "In that case you need a different development plan. \n",
    "\n",
    "In the same way that we discovered\n",
    "function interfaces by encapsulation and generalization, we can discover class interfaces\n",
    "by **data encapsulation**."
   ]
  },
  {
   "cell_type": "markdown",
   "metadata": {
    "slideshow": {
     "slide_type": "fragment"
    }
   },
   "source": [
    "Introducing classes, attributes and methods, starting from *regular* Python code, is another example of refactoring.\n",
    "\n",
    "This example suggests a development plan for designing objects and methods:\n",
    "\n",
    "1. Start by writing functions that read and write global variables (when necessary).\n",
    "2. Once you get the program working, look for associations between global variables and the functions that use them.\n",
    "3. Encapsulate related variables as attributes of an object.\n",
    "4. Transform the associated functions into methods of the new class."
   ]
  },
  {
   "cell_type": "markdown",
   "metadata": {},
   "source": [
    "---\n",
    "\n",
    "This Jupyter Notebook is based on Chapter 18 of the book Think Python."
   ]
  },
  {
   "cell_type": "markdown",
   "metadata": {},
   "source": [
    "---\n",
    "\n",
    "# (End of Notebook)\n",
    "\n",
    "&copy; 2022-2023 - **TU/e** - Eindhoven University of Technology"
   ]
  }
 ],
 "metadata": {
  "kernelspec": {
   "display_name": "Python 3 (ipykernel)",
   "language": "python",
   "name": "python3"
  },
  "language_info": {
   "codemirror_mode": {
    "name": "ipython",
    "version": 3
   },
   "file_extension": ".py",
   "mimetype": "text/x-python",
   "name": "python",
   "nbconvert_exporter": "python",
   "pygments_lexer": "ipython3",
   "version": "3.9.7"
  }
 },
 "nbformat": 4,
 "nbformat_minor": 4
}
