{
 "cells": [
  {
   "cell_type": "markdown",
   "metadata": {},
   "source": [
    "<h1 align=\"center\"><b>Exam for JBI010 (Programming for Data Science)</b></h1>\n",
    "<h3 align=\"center\">31st of October 2022</h3> "
   ]
  },
  {
   "cell_type": "markdown",
   "metadata": {},
   "source": [
    "This exam consists of **4 questions**.\n",
    "The maximum number of points you can score by correctly answering the questions is **100 points**.\n",
    "\n",
    "Please, use the cells below the question to enter your answers. See the instruction sheet for information on how to submit this Jupyter notebook when you are finished."
   ]
  },
  {
   "cell_type": "markdown",
   "metadata": {},
   "source": [
    "#### For grading:\n",
    "\n",
    "| Exercise | 1 | 2 | 3 | 4 |\n",
    "|----------|---|---|---|---|\n",
    "| **Max score** | **20** | **30** | **30** | **20** |\n",
    "| Score         |   |   |   |   |"
   ]
  },
  {
   "cell_type": "markdown",
   "metadata": {},
   "source": [
    "Enter your full name and TU/e identification number: \n",
    "\n",
    "**Full Name**: \n",
    "\n",
    "**TU/e ID Number**: "
   ]
  },
  {
   "cell_type": "markdown",
   "metadata": {},
   "source": [
    "<hr style=\"height:2px;border-width:0;color:black;background-color:black\">\n",
    "\n",
    "\n",
    "## Preliminaries\n",
    "\n",
    "Run the cell below. This cell will import additional modules providing additional Python functionality. <font color='red'><b>You are not allowed to import any other modules besides the ones that have been declared in this cell.</font>"
   ]
  },
  {
   "cell_type": "code",
   "execution_count": null,
   "metadata": {},
   "outputs": [],
   "source": [
    "# Run this cell to import needed functionality and types\n",
    "import csv\n",
    "import datetime\n",
    "import random\n",
    "import statistics\n",
    "import doctest\n",
    "from typing import Any, Dict, Generator, Iterable, List, Set, Tuple"
   ]
  },
  {
   "cell_type": "markdown",
   "metadata": {},
   "source": [
    "### Important Reminder\n",
    "\n",
    "* Follow all coding conventions defined in the Python Coding Standard document. In particular:\n",
    "    * All function and type definitions must have **type hints** and a **docstring**.\n",
    "    * Use **comments** when needed.\n",
    "    * **Names** must be meaningful.\n",
    "* You are only allowed to use the modules and libraries we have defined in the cell above.\n",
    "* Doctests are not necessary **unless explicitly stated** to add them. (But feel free to add them to anything if you want.)"
   ]
  },
  {
   "cell_type": "markdown",
   "metadata": {},
   "source": [
    "---\n",
    "\n",
    "## Table of Contents\n",
    "\n",
    "- [1. Theoretical Questions (20 Points)](#1.-Theoretical-Questions-(20-Points))\n",
    "- [2. Guessing Game (30 Points)](#2.-Guessing-Game-(30-Points))\n",
    "- [3. The Spooky Cinema (30 Points)](#3.-The-Spooky-Cinema-(30-Points))\n",
    "- [4. General Programming (20 Points)](#4.-General-Programming-(20-Points))"
   ]
  },
  {
   "cell_type": "markdown",
   "metadata": {},
   "source": [
    "---\n",
    "\n",
    "## 1. Theoretical Questions (20 Points)"
   ]
  },
  {
   "cell_type": "markdown",
   "metadata": {
    "tags": []
   },
   "source": [
    "### a.\n",
    "**Lists** cannot be used as **keys in dictionaries**. Why not? Describe **two** different solutions to circumvent this problem. You are allowed to illustrate this with a small code fragment."
   ]
  },
  {
   "cell_type": "markdown",
   "metadata": {},
   "source": [
    "**Answer:** Double click on this cell and type your answer here."
   ]
  },
  {
   "cell_type": "code",
   "execution_count": null,
   "metadata": {},
   "outputs": [],
   "source": [
    "# Write your Python code here."
   ]
  },
  {
   "cell_type": "markdown",
   "metadata": {},
   "source": [
    "### b.\n",
    "The code fragment below represents a generator. What does this generator produce?\n",
    "\n",
    "```Python\n",
    "((x, x * x) for x in range(1, 50) if x % 3 == 1)\n",
    "```"
   ]
  },
  {
   "cell_type": "markdown",
   "metadata": {},
   "source": [
    "**Answer:** Double click on this cell and type your answer here."
   ]
  },
  {
   "cell_type": "markdown",
   "metadata": {},
   "source": [
    "Mention **two** characteristics of a **generator** that makes them different from a **comprehension**."
   ]
  },
  {
   "cell_type": "markdown",
   "metadata": {},
   "source": [
    "**Answer:** Double click on this cell and type your answer here."
   ]
  },
  {
   "cell_type": "markdown",
   "metadata": {},
   "source": [
    "### c.\n",
    "Consider the following function."
   ]
  },
  {
   "cell_type": "code",
   "execution_count": null,
   "metadata": {},
   "outputs": [],
   "source": [
    "def generate_even_numbers(n: int) -> List[int]:\n",
    "    \"\"\"\n",
    "    Generates a list of even numbers from 0 to n inclusive.\n",
    "    :param n: integer value\n",
    "    :returns: list of even numbers from 0 to n inclusive.\n",
    "    \"\"\"\n",
    "    return [i for i in range(n + 1) if i % 2 == 0]"
   ]
  },
  {
   "cell_type": "markdown",
   "metadata": {},
   "source": [
    "The function `generate_even_numbers` takes a positive integer value `n` as input and generates a list of even numbers from `0` to the value `n` inclusive.\n",
    "\n",
    "Jane proposes the following test to check the result of the function.\n",
    "\n",
    "```python\n",
    "len(generate_even_numbers(n)) == n // 2\n",
    "```\n",
    "\n",
    "This **test is incorrect**. \n",
    "Why is this the case?"
   ]
  },
  {
   "cell_type": "markdown",
   "metadata": {},
   "source": [
    "**Answer:** Double click on this cell and type your answer here."
   ]
  },
  {
   "cell_type": "markdown",
   "metadata": {},
   "source": [
    "Write a correct test in the cell below."
   ]
  },
  {
   "cell_type": "code",
   "execution_count": null,
   "metadata": {},
   "outputs": [],
   "source": [
    "# Write your Python code here."
   ]
  },
  {
   "cell_type": "markdown",
   "metadata": {},
   "source": [
    "### d.\n",
    "What is the importance of **testing**?"
   ]
  },
  {
   "cell_type": "markdown",
   "metadata": {},
   "source": [
    "**Answer:** Double click on this cell and type your answer here."
   ]
  },
  {
   "cell_type": "markdown",
   "metadata": {},
   "source": [
    "### e.\n",
    "\n",
    "Mention at least **two** differences between **PyTest** and **doctest**."
   ]
  },
  {
   "cell_type": "markdown",
   "metadata": {},
   "source": [
    "**Answer:** Double click on this cell and type your answer here."
   ]
  },
  {
   "cell_type": "markdown",
   "metadata": {},
   "source": [
    "### f.\n",
    "What is the difference between a **class** and an **object**?"
   ]
  },
  {
   "cell_type": "markdown",
   "metadata": {},
   "source": [
    "**Answer:** Double click on this cell and type your answer here."
   ]
  },
  {
   "cell_type": "markdown",
   "metadata": {},
   "source": [
    "### g.\n",
    "What is **inheritance**? Mentioned at least **two benefits** of using inheritance."
   ]
  },
  {
   "cell_type": "markdown",
   "metadata": {},
   "source": [
    "**Answer:** Double click on this cell and type your answer here."
   ]
  },
  {
   "cell_type": "markdown",
   "metadata": {},
   "source": [
    "### h.\n",
    "What does the **`self` argument** represent and where do you use it?"
   ]
  },
  {
   "cell_type": "markdown",
   "metadata": {},
   "source": [
    "**Answer:** Double click on this cell and type your answer here."
   ]
  },
  {
   "cell_type": "markdown",
   "metadata": {},
   "source": [
    "<hr style=\"height:2px;border-width:0;color:black;background-color:black\">\n",
    "\n",
    "## 2. Guessing Game (30 Points)\n",
    "Write a program to let a user play a simple number guessing game. \n",
    "In this program, the computer **randomly** chooses an integer number between **0 and 99**. \n",
    "The program then asks the user to guess this number. \n",
    "The user gets a maximum of **seven** chances (guesses) to enter a correct `input` value. \n",
    "This `input` value is compared to the random number, which is chosen by the computer. \n",
    "The user is informed on whether their `input` value was too low, too high, or correctly guessed. \n",
    "After the game is finished, the program shows an overview (history of guesses) of what happened in the game.\n",
    "\n",
    "**Note:** You are allowed to introduce auxiliary functions and reuse the ones you have defined in this question."
   ]
  },
  {
   "cell_type": "markdown",
   "metadata": {},
   "source": [
    "### a. Create History Line\n",
    "Define the function `create_history_line` that creates a history line showing both the **user's guesses** and the **random number**. \n",
    "It receives a random number (which is randomly chosen by the computer) and the user's guess as two parameters. \n",
    "It returns a string representing the guess and the random number. \n",
    "This string contains 100 characters:\n",
    "* the `X` represents the position of the user's guess,\n",
    "* the `|` represents the position of the random number, and\n",
    "* a `.` represents the position of other numbers.  \n",
    "\n",
    "For example, when the random number is `84` and the guessed number is `50`, the return `string` value will be:\n",
    "<pre>\n",
    "..................................................X.................................|...............\n",
    "</pre>\n",
    "\n",
    "If the position of the **user's guess** and the **random number** are the same, priority is given to the **user's guess**. \n",
    "For example, when the random number is `50` and the guessed number is also `50`, the return `string` value will be:\n",
    "<pre>\n",
    "..................................................X.................................................\n",
    "</pre>\n",
    "\n",
    "If the position of the **user's guess** is `> 0` or `< 100`, the position of the **user's guess** does not appear in the history line. \n",
    "For example, when the random number is `50` and the guessed number is `200`, the return `string` value will be:\n",
    "<pre>\n",
    "..................................................|.................................................\n",
    "</pre>\n",
    "\n",
    "After defining the function add doctests to it. \n",
    "Make sure that your tests actually **cover the code properly** (i.e. you account for all the boundary cases as well). \n",
    "Clarify, for each of the test cases, what the relevance of the test case is, for example by adding `# Test case X: ...` to each one of them.\n",
    "\n",
    "Add **at least 5** meaningful test cases to this function."
   ]
  },
  {
   "cell_type": "code",
   "execution_count": 6,
   "metadata": {},
   "outputs": [
    {
     "data": {
      "text/plain": [
       "'iiXi'"
      ]
     },
     "execution_count": 6,
     "metadata": {},
     "output_type": "execute_result"
    }
   ],
   "source": [
    "# Write your Python code here.\n",
    "value = \"i\"*4\n",
    "value = value[:2] + \"X\" + value[3:]\n",
    "value\n",
    "\n"
   ]
  },
  {
   "cell_type": "code",
   "execution_count": null,
   "metadata": {},
   "outputs": [],
   "source": [
    "doctest.run_docstring_examples(create_history_line, globals(), verbose=True, name='create_history_line')"
   ]
  },
  {
   "cell_type": "markdown",
   "metadata": {},
   "source": [
    "### b. Print History\n",
    "Define the function `print_history` that takes the **random number** and the `list` of **guesses** as two `arguments` and **prints**: \n",
    "* `Your total number of guesses:` followed by the number of guesses, and then\n",
    "* the history of the game with for each guess a line showing both the guess and the random number.\n",
    "\n",
    "For example, when the random number is `42` and the guessed numbers are `10`, `50`, `42` the function prints the following:\n",
    "<pre>\n",
    "Your total number of guesses: 3\n",
    "..........X...............................|.........................................................\n",
    "..........................................|.......X.................................................\n",
    "..........................................X.........................................................\n",
    "</pre>\n",
    "\n",
    "Add **at least 2** doctests to this function.\n",
    "\n",
    "**Note:** You can assume that the maximum number of guesses is seven (7)."
   ]
  },
  {
   "cell_type": "code",
   "execution_count": null,
   "metadata": {},
   "outputs": [],
   "source": [
    "# Write your Python code here."
   ]
  },
  {
   "cell_type": "code",
   "execution_count": null,
   "metadata": {},
   "outputs": [],
   "source": [
    "doctest.run_docstring_examples(print_history, globals(), verbose=True, name='print_history')"
   ]
  },
  {
   "cell_type": "markdown",
   "metadata": {},
   "source": [
    "### c. Run the Game\n",
    "Write a function `run_guessing_game` that randomly chooses a number between **0 and 99**, and asks the user to input their guesses as `integer` numbers a maximum of **seven** times. \n",
    "For each guess, the program replies by printing:\n",
    "* `Lower`: When the guess is higher than the random number.\n",
    "* `Higher`: When the guess is lower than the random number.\n",
    "* `Invalid input!`: In case of a non-integer input.\n",
    "* `You won!`: When the user guesses the right number. \n",
    "* `You lost.`: When the maximum number of seven guesses has been reached without a good guess.\n",
    "\n",
    "**Note:**\n",
    "* You need to check if the input is an integer number or not.\n",
    "* In case of a non-integer input, print `Invalid input!`. An invalid input is **not** counted as a missed guess. In this case, the user can continue guessing the number, until they reach the maximum of seven guesses.\n",
    "* `You lost.` should be printed after the lower/higher reply to the last guess.\n",
    "* `You won!` should be printed when the user guesses the right number, and thus, a lower/higher reply is not printed in this case.\n",
    "* After `You won!` or `You lost.`, the guessing history is printed.\n",
    "\n",
    "**Example of a user playing the game:**\n",
    "\n",
    "<pre>\n",
    "Guess a number: 50\n",
    "Higher\n",
    "Guess a number: 75\n",
    "Higher\n",
    "Guess a number: 88\n",
    "Lower\n",
    "Guess a number: 82\n",
    "Higher\n",
    "Guess a number: 85\n",
    "Lower\n",
    "Guess a number: 83\n",
    "Higher\n",
    "Guess a number: 84\n",
    "You won!\n",
    "Your total number of guesses: 7\n",
    "..................................................X.................................|...............\n",
    "...........................................................................X........|...............\n",
    "....................................................................................|...X...........\n",
    "..................................................................................X.|...............\n",
    "....................................................................................|X..............\n",
    "...................................................................................X|...............\n",
    "....................................................................................X...............\n",
    "</pre>"
   ]
  },
  {
   "cell_type": "code",
   "execution_count": null,
   "metadata": {},
   "outputs": [],
   "source": [
    "# Write your Python code here."
   ]
  },
  {
   "cell_type": "markdown",
   "metadata": {},
   "source": [
    "----\n",
    "\n",
    "## 3. The Spooky Cinema (30 Points)\n",
    "\n",
    "### a. The `Movie` Class\n",
    "- Create the `Movie` class and its initializer.\n",
    "The initializer must have the following parameters, which should be assigned to instance attributes with the same name:\n",
    "    - `title`: text representing the title of the movie.\n",
    "    - `genres`: list of strings representing the genres associated with the movie.\n",
    "    - `release_date`: `datetime.date` object representing the release date of the movie.\n",
    "    - `country`: text representing the release country of the movie.\n",
    "    - `rating`: decimal representing the review rating of the movie.\n",
    "    - `duration`: integer representing the duration in minutes of the movie.\n",
    "    <br><br>\n",
    "\n",
    "- Override the method that returns a string representation of the `Movie`. The method should return a message following the format \"`title` (`release_date`) - Rating: `rating`\"."
   ]
  },
  {
   "cell_type": "code",
   "execution_count": null,
   "metadata": {},
   "outputs": [],
   "source": [
    "# Write your Python code here."
   ]
  },
  {
   "cell_type": "markdown",
   "metadata": {},
   "source": [
    "- Create an instance of the class `Movie` with the following information, and **print** its content. \n",
    "\n",
    "| Title | Genres | Release Date | Country | Rating | Duration |\n",
    "|-------|--------|--------------|---------|--------|----------|\n",
    "| Horror Stories (2012) | Horror | 2012/07/25 | South Korea | 5.7 | 108 |\n",
    "\n",
    "**Notes:** \n",
    "- Ensure you provide the arguments using the right data type!\n",
    "- To create a `datetime.date` object, you should invoke the method `datetime.date(year: int, month: int, day: int)`."
   ]
  },
  {
   "cell_type": "code",
   "execution_count": null,
   "metadata": {},
   "outputs": [],
   "source": [
    "# Write your Python code here."
   ]
  },
  {
   "cell_type": "markdown",
   "metadata": {},
   "source": [
    "### b. Auxiliary Functions\n",
    "- Define the function `str_to_list`, which takes a string as input and returns a list of strings. The input string contains one or more words separated by the `|` character (e.g. \"Horror| Comedy| Drama\"). The list must contain each word of the sequence without leading or trailing spaces (e.g. `['Horror', 'Comedy', 'Drama']`).\n",
    "\n",
    "- Define the function `str_to_date`, which takes a string as input and returns an object of type `datetime.date`. The input string is in the form of \"YYYY/MM/dd\" (e.g. \"2017/01/01\").\n",
    "\n",
    "- Define the function `compute_median`, which takes a list of numbers as input, and then computes and returns the median of the list. Values equal to `-1` must be excluded from the computation."
   ]
  },
  {
   "cell_type": "code",
   "execution_count": null,
   "metadata": {},
   "outputs": [],
   "source": [
    "# Write your Python code here."
   ]
  },
  {
   "cell_type": "markdown",
   "metadata": {},
   "source": [
    "### c. The `SpookyCinema` class\n",
    "- Create the `SpookyCinema` class and define its initializer. The initializer gets no input and it initializes the attribute `movies` to an empty list.\n",
    "\n",
    "- Define the method `add_movie`, which gets a `Movie` object as a parameter and adds it to the `movies` attribute.\n",
    "\n",
    "- Define the method `read_dataset`, which gets a path to the \"horror-movies\" dataset as a parameter. The path is represented as a string. Each row in the dataset must be represented as a `Movie` object and each attribute of the object should be of the expected type. For that, use the previously defined `str_to_list` and `str_to_date` functions when appropriate. All `Movie` objects should be added to the `movies` attribute. Use the `add_movie` method for this purpose.\n",
    "\n",
    "Below you will find the description of the columns of the dataset. The original name of the dataset is **IMDB Horror Movie Dataset [2012 Onwards]**. It is hosted at Kaggle and was created in 2012 under a CC BY-SA 4.0 license. It has been adapted for the JBI010 exam.\n",
    "\n",
    "| Column | Description |\n",
    "|--------|-------------|\n",
    "| `Title` | Title of the movie |\n",
    "| `Genres` | Genres of the movie (e.g. \"Horror\\| Comedy\\| Drama\") |\n",
    "| `Release Date` | Release date of the movie in the form YYYY/MM/dd (e.g. 2017/01/01) |\n",
    "| `Release Country` | Release country of the movie |\n",
    "| `Review Rating` | Rating of the movie (-1 if the data is missing) |\n",
    "| `Movie Run Time` | Movie duration (-1 if the data is missing) |\n",
    "\n",
    "**Note:** the \"horror-movies\" dataset is located at `dataset/horror-movies.csv`"
   ]
  },
  {
   "cell_type": "code",
   "execution_count": null,
   "metadata": {},
   "outputs": [],
   "source": [
    "# Write your Python code here."
   ]
  },
  {
   "cell_type": "markdown",
   "metadata": {},
   "source": [
    "### d. Exploratory Data Analysis\n",
    "\n",
    "Copy the `SpookyCinema` class defined in the previous task and extend it with the following methods:\n",
    "\n",
    "- Define the methods `compute_rating_median` and `compute_duration_median` in the class `SpookyCinema`. The methods get no input. They compute the median of the \"rating\" and \"duration\" variables, respectively. Use the previously defined `compute_median` function to define both methods. \n",
    "\n",
    "- Define the method `find_year_most_movies`, which gets no input. The method finds the year with the most movies and returns a tuple whose first item is the year with the most movies, and its second item is the number of movies released in such a year."
   ]
  },
  {
   "cell_type": "code",
   "execution_count": null,
   "metadata": {},
   "outputs": [],
   "source": [
    "# Write your Python code here."
   ]
  },
  {
   "cell_type": "markdown",
   "metadata": {},
   "source": [
    "- Create an instance of the class `SpookyCinema` and read the dataset located in the `dataset/horror-movies.csv` file. "
   ]
  },
  {
   "cell_type": "code",
   "execution_count": null,
   "metadata": {},
   "outputs": [],
   "source": [
    "# Write your Python code here."
   ]
  },
  {
   "cell_type": "markdown",
   "metadata": {},
   "source": [
    "- Invoke and print the output of the methods `compute_rating_median`, `compute_duration_median`, and `find_year_most_movies`."
   ]
  },
  {
   "cell_type": "code",
   "execution_count": null,
   "metadata": {},
   "outputs": [],
   "source": [
    "# Write here your Python code."
   ]
  },
  {
   "cell_type": "markdown",
   "metadata": {},
   "source": [
    "---\n",
    "\n",
    "## 4. General Programming (20 Points)\n",
    "\n",
    "Presented to you here are several code chunks. Beneath each of these, you can find a Markdown cell and an empty code cell. Your task for each of these code chunks is to:\n",
    "- Identify any **issues** that there are in these code chunks.\n",
    "- Describe your **findings** in the Markdown cell.\n",
    "- Add an improved or **alternative version** in the empty code cell.\n",
    "\n",
    "There can be more than one way to improve the code, and of course, your interpretation of what is wrong can be different than that of someone else. What is important here is to make it clear why your argument is better, and demonstrate it by providing your **working** alternative implementation."
   ]
  },
  {
   "cell_type": "markdown",
   "metadata": {},
   "source": [
    "### a."
   ]
  },
  {
   "cell_type": "code",
   "execution_count": null,
   "metadata": {},
   "outputs": [],
   "source": [
    "def grams_to_ounces(inp) -> float:\n",
    "    \"\"\"\n",
    "    Converts a given number of grams to ounces.\n",
    "    :input inp: the amount of grams to convert\n",
    "    :return: the amount of grams in ounces.\n",
    "    \"\"\"\n",
    "    return inp / 28.35\n",
    "\n",
    "grams_to_ounces(input(\"Please enter an amount of grams to convert:\"))"
   ]
  },
  {
   "cell_type": "markdown",
   "metadata": {},
   "source": [
    "#### What issue(s) can you identify in this code?"
   ]
  },
  {
   "cell_type": "markdown",
   "metadata": {},
   "source": [
    "**Answer:** Double click on this cell and type your answer here."
   ]
  },
  {
   "cell_type": "code",
   "execution_count": null,
   "metadata": {
    "tags": []
   },
   "outputs": [],
   "source": [
    "# Write your Python code here."
   ]
  },
  {
   "cell_type": "markdown",
   "metadata": {},
   "source": [
    "### b."
   ]
  },
  {
   "cell_type": "code",
   "execution_count": null,
   "metadata": {},
   "outputs": [],
   "source": [
    "def factor_number(n: int) -> List[int]:\n",
    "    \"\"\"\n",
    "    Takes a given number *n* and returns a List containing all the factors for that number.\n",
    "    :input n: the number to factorize\n",
    "    :return: a list containing all the factors, starting with the biggest and ending with the smallest factor.\n",
    "    \"\"\"\n",
    "    result = list()\n",
    "    counter: int = 1\n",
    "        \n",
    "    while counter < n:\n",
    "        if n % counter == 0:\n",
    "            result.append(counter)\n",
    "        counter += 1\n",
    "        \n",
    "    return result\n",
    "\n",
    "print(factor_number(320))"
   ]
  },
  {
   "cell_type": "markdown",
   "metadata": {},
   "source": [
    "#### What issue(s) can you identify in this code?"
   ]
  },
  {
   "cell_type": "markdown",
   "metadata": {},
   "source": [
    "**Answer:** Double click on this cell and type your answer here."
   ]
  },
  {
   "cell_type": "code",
   "execution_count": null,
   "metadata": {},
   "outputs": [],
   "source": [
    "# Write your Python code here."
   ]
  },
  {
   "cell_type": "markdown",
   "metadata": {},
   "source": [
    "### c."
   ]
  },
  {
   "cell_type": "code",
   "execution_count": null,
   "metadata": {},
   "outputs": [],
   "source": [
    "from typing import List, Set,Tuple\n",
    "\n",
    "def check_tuples(t1: Tuple, t2: Tuple) -> bool:\n",
    "    \"\"\"\n",
    "    Takes 2 tuples as argument and returns a Boolean value that signals \n",
    "    whether the tuples are the same or not. \n",
    "    :param t1: first tuple\n",
    "    :param t2: second tuple\n",
    "    :returns: True if the tuples are the same, False otherwise.\n",
    "    \"\"\"\n",
    "    s1: Set = set(t1)\n",
    "    s2: Set = set(t2)\n",
    "         \n",
    "    s3 = s1 - s2\n",
    "    return len(s3) == 0"
   ]
  },
  {
   "cell_type": "markdown",
   "metadata": {},
   "source": [
    "#### What issue(s) can you identify in this code?"
   ]
  },
  {
   "cell_type": "markdown",
   "metadata": {},
   "source": [
    "**Answer:** Double click on this cell and type your answer here."
   ]
  },
  {
   "cell_type": "code",
   "execution_count": null,
   "metadata": {
    "tags": []
   },
   "outputs": [],
   "source": [
    "# Write your Python code here."
   ]
  },
  {
   "cell_type": "markdown",
   "metadata": {},
   "source": [
    "### d."
   ]
  },
  {
   "cell_type": "code",
   "execution_count": null,
   "metadata": {},
   "outputs": [],
   "source": [
    "class Monster:\n",
    "    def __init__(self, color, size, spooky_rating):\n",
    "        self.color = color\n",
    "        self.size = size\n",
    "        self.spooky_rating = spooky_rating\n",
    "        \n",
    "class Skeleton(Monster):\n",
    "    def __init(self, weapon):\n",
    "        self.weapon = weapon\n",
    "        \n",
    "    def spooked(self):\n",
    "        if self.spooky_rating > 7:\n",
    "            print('This is a super spooky skeleton!')\n",
    "            \n",
    "my_skeleton = Skeleton('white', 180, 'sword')\n",
    "my_skeleton.spooked()"
   ]
  },
  {
   "cell_type": "markdown",
   "metadata": {},
   "source": [
    "#### What issue(s) can you identify in this code?"
   ]
  },
  {
   "cell_type": "markdown",
   "metadata": {},
   "source": [
    "**Answer:** Double click on this cell and type your answer here."
   ]
  },
  {
   "cell_type": "code",
   "execution_count": null,
   "metadata": {},
   "outputs": [],
   "source": [
    "# Write your Python code here."
   ]
  },
  {
   "cell_type": "markdown",
   "metadata": {},
   "source": [
    "---\n",
    "\n",
    "# (End of Notebook)\n",
    "\n",
    "&copy; 2022-2023 - **TU/e** - Eindhoven University of Technology"
   ]
  }
 ],
 "metadata": {
  "anaconda-cloud": {},
  "kernelspec": {
   "display_name": "base",
   "language": "python",
   "name": "python3"
  },
  "language_info": {
   "codemirror_mode": {
    "name": "ipython",
    "version": 3
   },
   "file_extension": ".py",
   "mimetype": "text/x-python",
   "name": "python",
   "nbconvert_exporter": "python",
   "pygments_lexer": "ipython3",
   "version": "3.9.13"
  },
  "vscode": {
   "interpreter": {
    "hash": "330d438d13f4c30bfe375e9268f61fde55bfa57f8cae6c754a1f08b8dc817518"
   }
  }
 },
 "nbformat": 4,
 "nbformat_minor": 4
}
