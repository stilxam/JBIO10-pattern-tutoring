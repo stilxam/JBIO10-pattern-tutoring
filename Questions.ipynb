{
 "cells": [
  {
   "cell_type": "code",
   "execution_count": 1,
   "outputs": [],
   "source": [
    "from typing import List, Dict, Tuple\n",
    "import random\n",
    "import re"
   ],
   "metadata": {
    "collapsed": false
   }
  },
  {
   "cell_type": "markdown",
   "source": [
    "In the following code cell, write a python script that initializes a string with the following content:\n",
    "\"I am 205cm tall\"\n",
    "Have the script take in a user input for height and substitute it into the string."
   ],
   "metadata": {
    "collapsed": false
   }
  },
  {
   "cell_type": "code",
   "execution_count": 1,
   "metadata": {
    "collapsed": true
   },
   "outputs": [],
   "source": []
  },
  {
   "cell_type": "markdown",
   "source": [
    "Define a function that takes the arguments for age (int), isGraduated (Bool), and movedOut (Bool)\n",
    "If the user is 18 or older, print \"Welcome to adulthood\"\n",
    "If the user has graduated before turning 18, print \"Wow!\"\n",
    "otherwise, print \"Congratulations on graduating\"\n",
    "If the user has moved out, print \"How is living without your family?\""
   ],
   "metadata": {
    "collapsed": false
   }
  },
  {
   "cell_type": "code",
   "execution_count": 1,
   "outputs": [],
   "source": [],
   "metadata": {
    "collapsed": false
   }
  },
  {
   "cell_type": "markdown",
   "source": [
    "In the following code cell, define a variable and assign it the value of 13.3, define a void function that reassigns it to 4 times its value. Print its value inside the void function and outside after calling the void function."
   ],
   "metadata": {
    "collapsed": false
   }
  },
  {
   "cell_type": "code",
   "execution_count": 1,
   "outputs": [],
   "source": [],
   "metadata": {
    "collapsed": false
   }
  },
  {
   "cell_type": "markdown",
   "source": [
    "Write a function that takes a list, and prints the 2nd and 3rd element. have it throw the string \"The there is no (nth) element in the list, hence, an error has occured\""
   ],
   "metadata": {
    "collapsed": false
   }
  },
  {
   "cell_type": "code",
   "execution_count": 1,
   "outputs": [],
   "source": [],
   "metadata": {
    "collapsed": false
   }
  },
  {
   "cell_type": "markdown",
   "source": [
    "write a function that takes 4 elements.\n",
    "assign the first two to a tuple and the last two to another tuple\n",
    "compare these two tuples, if they are the same, return True otherwise, return False"
   ],
   "metadata": {
    "collapsed": false
   }
  },
  {
   "cell_type": "code",
   "execution_count": 1,
   "outputs": [],
   "source": [],
   "metadata": {
    "collapsed": false
   }
  },
  {
   "cell_type": "markdown",
   "source": [
    "The following code cell contains a tuple with students age and their names as a tuple, add you name and age to the tuple. Convert it to a dictionary where the name is the key to the age, and another where the age is a key to the name"
   ],
   "metadata": {
    "collapsed": false
   }
  },
  {
   "cell_type": "code",
   "execution_count": 2,
   "outputs": [],
   "source": [
    "students = ((\"Maxwell\", 19), (\"Garoe\", 20))\n"
   ],
   "metadata": {
    "collapsed": false
   }
  },
  {
   "cell_type": "markdown",
   "source": [
    "Write a function that takes the list of numbers defined below and an integer n.\n",
    "creates an alias for it called jeffrey and assigns the value 21 to the nth index of jeffrey.\n",
    "Have it return the original list and the mean of the list"
   ],
   "metadata": {
    "collapsed": false
   }
  },
  {
   "cell_type": "code",
   "execution_count": 3,
   "outputs": [],
   "source": [
    "nums = [i for i in range(20)]\n",
    "\n"
   ],
   "metadata": {
    "collapsed": false
   }
  },
  {
   "cell_type": "markdown",
   "source": [
    "What is the difference between the following two functions"
   ],
   "metadata": {
    "collapsed": false
   }
  },
  {
   "cell_type": "code",
   "execution_count": 4,
   "outputs": [],
   "source": [
    "my_dict = {\"color\": \"red\", \"width\": 17, \"height\": 19, \"age\": 19}\n",
    "value_to_find = 19\n",
    "def revlookup1(my_dict: Dict, value_to_find: int)->None:\n",
    "    key = next(key for key, value in my_dict.items() if value == value_to_find)\n",
    "    print(f'{key}: {value_to_find}')\n",
    "def revlookup2(my_dict: Dict, value_to_find: int)->None:\n",
    "    for key, value in my_dict.items():\n",
    "        if value == value_to_find:\n",
    "            print(f'{key}: {value}')\n"
   ],
   "metadata": {
    "collapsed": false
   }
  },
  {
   "cell_type": "markdown",
   "source": [
    "Write a list comprehension that generates the n first prime numbers"
   ],
   "metadata": {
    "collapsed": false
   }
  },
  {
   "cell_type": "code",
   "execution_count": 5,
   "outputs": [],
   "source": [
    "n = 4"
   ],
   "metadata": {
    "collapsed": false
   }
  },
  {
   "cell_type": "markdown",
   "source": [
    "write a function that generates the n first numbers of the fibonacci sequence using recursion"
   ],
   "metadata": {
    "collapsed": false
   }
  },
  {
   "cell_type": "code",
   "execution_count": 6,
   "outputs": [],
   "source": [
    "n = 30"
   ],
   "metadata": {
    "collapsed": false
   }
  },
  {
   "cell_type": "markdown",
   "source": [
    "Bonus: As some might have noticed, your function above is probably quite slow.\n",
    "Try to make it more efficient"
   ],
   "metadata": {
    "collapsed": false
   }
  },
  {
   "cell_type": "code",
   "execution_count": 6,
   "outputs": [],
   "source": [],
   "metadata": {
    "collapsed": false
   }
  },
  {
   "cell_type": "markdown",
   "source": [
    "write a class for different kinds of bikes (e.g. race bike) and their respective color.\n",
    "when the bike object is printed. it must return the following format:\n",
    "\"This is a (...) bike and it is (...).\"\n",
    "write a function that returns a list of all the bike objects\n",
    "iterate over that list and print all the objects\n"
   ],
   "metadata": {
    "collapsed": false
   }
  },
  {
   "cell_type": "code",
   "execution_count": 7,
   "outputs": [],
   "source": [
    "bikecolorandtype = [('red', 'race'), ('blue', 'city')]\n"
   ],
   "metadata": {
    "collapsed": false
   }
  },
  {
   "cell_type": "markdown",
   "source": [
    "write a generator comprehension for powers of 2"
   ],
   "metadata": {
    "collapsed": false
   }
  },
  {
   "cell_type": "code",
   "execution_count": 7,
   "outputs": [],
   "source": [],
   "metadata": {
    "collapsed": false
   }
  },
  {
   "cell_type": "markdown",
   "source": [
    "Use the regular expression module to find the first expression pattern that start with \"quick\" and end with \"fox\" and include what is in between."
   ],
   "metadata": {
    "collapsed": false
   }
  },
  {
   "cell_type": "code",
   "execution_count": 8,
   "outputs": [],
   "source": [
    "\n",
    "# Sample string to search in\n",
    "string = \"The quick brown fox jumps over the lazy dog\"\n",
    "\n",
    "\n"
   ],
   "metadata": {
    "collapsed": false
   }
  },
  {
   "cell_type": "markdown",
   "source": [
    "Use regular expressions to find all instances that match the pattern starting with \"quick\" and end with \"fox\""
   ],
   "metadata": {
    "collapsed": false
   }
  },
  {
   "cell_type": "code",
   "execution_count": 9,
   "outputs": [],
   "source": [
    "string = \"The quick brown fox jumps over the lazy dog. The quick fox jumps over the lazy dog\"\n",
    "\n",
    "\n",
    "# Regular expression pattern to search for\n",
    "pattern = \"quick.*?fox\"\n",
    "\n"
   ],
   "metadata": {
    "collapsed": false
   }
  },
  {
   "cell_type": "markdown",
   "source": [
    "Create two classes of vehicles (e.g. Car and Bikes), give them an attribute 'brand'.\n",
    "create a method 'howmanywheels' that returns a string with the number of wheels (e.g. bike -> \"2 wheels\".\n",
    "create a polymorphic function that prints the number of wheels an instance of each class has."
   ],
   "metadata": {
    "collapsed": false
   }
  },
  {
   "cell_type": "code",
   "execution_count": 9,
   "outputs": [],
   "source": [
    "\n",
    "\n"
   ],
   "metadata": {
    "collapsed": false
   }
  },
  {
   "cell_type": "markdown",
   "source": [
    "Use type based dispatch to implement a function that does addition on 2 inputs.\n",
    "raise the \"Invalid input types\" error if the inputed type is not both lists, strings, floats or integers"
   ],
   "metadata": {
    "collapsed": false
   }
  },
  {
   "cell_type": "code",
   "execution_count": 9,
   "outputs": [],
   "source": [
    "\n",
    "\n",
    "\n"
   ],
   "metadata": {
    "collapsed": false
   }
  },
  {
   "cell_type": "markdown",
   "source": [
    "create 3 dimensional vectors, use operator overloading to implement addition, substitution and make multiplication into vector cross product.\n",
    "use  the \"\\__str\\__\"method to represent the vector in the form \"(x,y,z)\""
   ],
   "metadata": {
    "collapsed": false
   }
  },
  {
   "cell_type": "code",
   "execution_count": 9,
   "outputs": [],
   "source": [
    "\n",
    "\n",
    "\n"
   ],
   "metadata": {
    "collapsed": false
   }
  },
  {
   "cell_type": "markdown",
   "source": [
    "create functions that implement bubblesort, insertion sort, merge sort and quicksort on the following list"
   ],
   "metadata": {
    "collapsed": false
   }
  },
  {
   "cell_type": "code",
   "execution_count": 10,
   "outputs": [],
   "source": [
    "\n",
    "rand = [random.randint(1, 100) for i in range(20)]\n"
   ],
   "metadata": {
    "collapsed": false
   }
  }
 ],
 "metadata": {
  "kernelspec": {
   "display_name": "Python 3",
   "language": "python",
   "name": "python3"
  },
  "language_info": {
   "codemirror_mode": {
    "name": "ipython",
    "version": 2
   },
   "file_extension": ".py",
   "mimetype": "text/x-python",
   "name": "python",
   "nbconvert_exporter": "python",
   "pygments_lexer": "ipython2",
   "version": "2.7.6"
  }
 },
 "nbformat": 4,
 "nbformat_minor": 0
}
