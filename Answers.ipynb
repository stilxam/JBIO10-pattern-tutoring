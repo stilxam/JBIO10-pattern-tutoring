{
 "cells": [
  {
   "cell_type": "markdown",
   "metadata": {
    "collapsed": false
   },
   "source": [
    "In the following code cell, write a python script that initializes a string with the following content:\n",
    "\"I am 205cm tall\"\n",
    "Have the script take in a user input for height and substitute it into the string."
   ]
  },
  {
   "cell_type": "code",
   "execution_count": 3,
   "metadata": {
    "collapsed": true
   },
   "outputs": [
    {
     "name": "stdout",
     "output_type": "stream",
     "text": [
      "I am 205cm tall\n",
      "I am 100cm tall\n"
     ]
    }
   ],
   "source": [
    "str = \"I am 205cm tall\"\n",
    "print(str)\n",
    "str = f'{str[:4]} {input(\"How tall are you\")}{str[8:]}'\n",
    "print(str)"
   ]
  },
  {
   "cell_type": "markdown",
   "metadata": {
    "collapsed": false
   },
   "source": [
    "Define a function that takes the arguments for age (int), isGraduated (bool), and movedOut (bool)\n",
    "If the user is 18 or older, print \"Welcome to adulthood\"\n",
    "If the user has graduated before turning 18, print \"Wow!\"\n",
    "otherwise, print \"Congratulations on graduating\"\n",
    "If the user has moved out, print \"How is living without your family?\""
   ]
  },
  {
   "cell_type": "code",
   "execution_count": 4,
   "metadata": {
    "collapsed": false
   },
   "outputs": [],
   "source": [
    "\n",
    "from typing import List, Dict, Tuple\n",
    "\n",
    "def conditionaltesting(age: int, isGraduated: bool, movedOut : bool )-> None:\n",
    "    if age >= 18:\n",
    "        print(\"Welcome to adulthood!\\n\")\n",
    "        if isGraduated:\n",
    "            print(\"Congratulations on graduating\")\n",
    "    else:\n",
    "        if isGraduated:\n",
    "            print(\"Wow\")\n",
    "    if movedOut:\n",
    "        print(\"How is living without your family?\")"
   ]
  },
  {
   "cell_type": "markdown",
   "metadata": {
    "collapsed": false
   },
   "source": [
    "In the following code cell, define a variable and assign it the value of 13.3, define a void function that reassigns it to 4 times its value. Print its value inside the void function and outside after calling the void function."
   ]
  },
  {
   "cell_type": "code",
   "execution_count": 5,
   "metadata": {
    "collapsed": false
   },
   "outputs": [
    {
     "data": {
      "text/plain": [
       "13.3"
      ]
     },
     "execution_count": 5,
     "metadata": {},
     "output_type": "execute_result"
    }
   ],
   "source": [
    "n = 13.3\n",
    "def fourtimes(n:float)->None:\n",
    "    n *=4\n",
    "fourtimes(n)\n",
    "n"
   ]
  },
  {
   "cell_type": "markdown",
   "metadata": {
    "collapsed": false
   },
   "source": [
    "Write a function that takes a list, and prints the 2nd and 3rd element. have it throw the string \"The there is no (nth) element in the list, hence, an error has occured\""
   ]
  },
  {
   "cell_type": "code",
   "execution_count": 6,
   "metadata": {
    "collapsed": false
   },
   "outputs": [
    {
     "name": "stdout",
     "output_type": "stream",
     "text": [
      "There is no second element in the list, hence, an error has occured\n",
      "There is no third element in the list, hence, an error has occured\n"
     ]
    }
   ],
   "source": [
    "def secondthird(arr:List)->None:\n",
    "    try:\n",
    "        print(arr[1])\n",
    "    except IndexError:\n",
    "        print(\"There is no second element in the list, hence, an error has occured\")\n",
    "\n",
    "    try:\n",
    "        print(arr[2])\n",
    "    except IndexError:\n",
    "        print(\"There is no third element in the list, hence, an error has occured\")\n",
    "\n",
    "secondthird([])"
   ]
  },
  {
   "cell_type": "markdown",
   "metadata": {
    "collapsed": false
   },
   "source": [
    "write a function that takes 4 elements.\n",
    "assign the first two to a tuple and the last two to another tuple\n",
    "compare these two tuples, if they are the same, return True otherwise, return False"
   ]
  },
  {
   "cell_type": "code",
   "execution_count": 7,
   "metadata": {
    "collapsed": false
   },
   "outputs": [],
   "source": [
    "def tuplcomp(x,y,z,d)->bool:\n",
    "    tup1 = (x,y)\n",
    "    tup2 = (z,d)\n",
    "    if tup1 == tup2:\n",
    "        return True\n",
    "    else:\n",
    "        return False"
   ]
  },
  {
   "cell_type": "markdown",
   "metadata": {
    "collapsed": false
   },
   "source": [
    "The following code cell contains a tuple with students age and their names as a tuple, add you name and age to the tuple. Convert it to a dictionary where the name is the key to the age, and another where the age is a key to the name"
   ]
  },
  {
   "cell_type": "code",
   "execution_count": 8,
   "metadata": {
    "collapsed": false
   },
   "outputs": [
    {
     "data": {
      "text/plain": [
       "dict_values([19, 20])"
      ]
     },
     "execution_count": 8,
     "metadata": {},
     "output_type": "execute_result"
    }
   ],
   "source": [
    "students = ((\"Maxwell\", 19), (\"Garoe\", 20))\n",
    "agetoname = {}\n",
    "nametoage = {}\n",
    "for name, age in students:\n",
    "    agetoname[age] = name\n",
    "    nametoage[name] = age\n",
    "nametoage.values()"
   ]
  },
  {
   "cell_type": "markdown",
   "metadata": {
    "collapsed": false
   },
   "source": [
    "Write a function that takes the list of numbers defined below and an integer n.\n",
    "creates an alias for it called jeffrey and assigns the value 21 to the nth index of jeffrey.\n",
    "Have it return the original list and the mean value of the list"
   ]
  },
  {
   "cell_type": "code",
   "execution_count": 9,
   "metadata": {
    "collapsed": false
   },
   "outputs": [
    {
     "data": {
      "text/plain": [
       "([0, 1, 2, 3, 4, 21, 6, 7, 8, 9, 10, 11, 12, 13, 14, 15, 16, 17, 18, 19], 10.3)"
      ]
     },
     "execution_count": 9,
     "metadata": {},
     "output_type": "execute_result"
    }
   ],
   "source": [
    "nums = [i for i in range(20)]\n",
    "def all(ls, n):\n",
    "    jeffrey = ls\n",
    "    jeffrey[n] = 21\n",
    "    return ls, sum(ls)/len(ls)\n",
    "all(nums, 5)\n"
   ]
  },
  {
   "cell_type": "markdown",
   "metadata": {
    "collapsed": false
   },
   "source": [
    "What is the difference between the following two functions"
   ]
  },
  {
   "cell_type": "code",
   "execution_count": 10,
   "metadata": {
    "collapsed": false
   },
   "outputs": [],
   "source": [
    "my_dict = {\"color\": \"red\", \"width\": 17, \"height\": 19, \"age\": 19}\n",
    "value_to_find = 19\n",
    "def revlookup1(my_dict: Dict, value_to_find: int)->None:\n",
    "    key = next(key for key, value in my_dict.items() if value == value_to_find)\n",
    "    print(f'{key}: {value_to_find}')\n",
    "def revlookup2(my_dict: Dict, value_to_find: int)->None:\n",
    "    for key, value in my_dict.items():\n",
    "        if value == value_to_find:\n",
    "            print(f'{key}: {value}')\n"
   ]
  },
  {
   "cell_type": "markdown",
   "metadata": {
    "collapsed": false
   },
   "source": [
    "Write a list comprehension that generates the n first prime numbers"
   ]
  },
  {
   "cell_type": "code",
   "execution_count": 11,
   "metadata": {
    "collapsed": false
   },
   "outputs": [
    {
     "name": "stdout",
     "output_type": "stream",
     "text": [
      "[2, 3, 5, 7, 11]\n"
     ]
    }
   ],
   "source": [
    "def is_prime(n:int)->bool:\n",
    "    if n<2:\n",
    "        return False\n",
    "    for i in range(2, int(n**0.5)+1):\n",
    "        if n % i == 0:\n",
    "            return False\n",
    "    return True\n",
    "\n",
    "def get_n_primes(n: int) -> List[int]:\n",
    "    primes = [x for x in range(2,n*10) if is_prime(x)]\n",
    "    return primes[:n]\n",
    "\n",
    "print(get_n_primes(5)) # [2, 3, 5, 7, 11]\n"
   ]
  },
  {
   "cell_type": "markdown",
   "metadata": {
    "collapsed": false
   },
   "source": [
    "write a function that generates the n first numbers of the fibonacci sequence using recursion"
   ]
  },
  {
   "cell_type": "code",
   "execution_count": 13,
   "metadata": {
    "collapsed": false
   },
   "outputs": [
    {
     "name": "stdout",
     "output_type": "stream",
     "text": [
      "[0, 1, 1, 2, 3, 5, 8, 13, 21, 34, 55, 89, 144, 233, 377, 610, 987, 1597, 2584, 4181, 6765, 10946, 17711, 28657, 46368, 75025, 121393, 196418, 317811, 514229]\n",
      "CPU times: user 398 ms, sys: 3.11 ms, total: 402 ms\n",
      "Wall time: 402 ms\n"
     ]
    }
   ],
   "source": [
    "n = 30\n",
    "def fibonacci(n: int) -> int:\n",
    "    if n <= 0:\n",
    "        return 0\n",
    "    elif n == 1:\n",
    "        return 1\n",
    "    else:\n",
    "        return fibonacci(n-1) + fibonacci(n-2)\n",
    "\n",
    "def get_n_fibonacci(n: int) -> List[int]:\n",
    "    return [fibonacci(i) for i in range(n)]\n",
    "\n",
    "%time print(get_n_fibonacci(30))\n"
   ]
  },
  {
   "cell_type": "markdown",
   "metadata": {
    "collapsed": false
   },
   "source": [
    "Bonus: As some might have noticed, your function above is probably quite slow.\n",
    "Try to make it more efficient"
   ]
  },
  {
   "cell_type": "code",
   "execution_count": null,
   "metadata": {
    "collapsed": false
   },
   "outputs": [
    {
     "name": "stdout",
     "output_type": "stream",
     "text": [
      "CPU times: total: 0 ns\n",
      "Wall time: 0 ns\n"
     ]
    },
    {
     "data": {
      "text/plain": [
       "[1,\n",
       " 1,\n",
       " 2,\n",
       " 3,\n",
       " 5,\n",
       " 8,\n",
       " 13,\n",
       " 21,\n",
       " 34,\n",
       " 55,\n",
       " 89,\n",
       " 144,\n",
       " 233,\n",
       " 377,\n",
       " 610,\n",
       " 987,\n",
       " 1597,\n",
       " 2584,\n",
       " 4181,\n",
       " 6765,\n",
       " 10946,\n",
       " 17711,\n",
       " 28657,\n",
       " 46368,\n",
       " 75025,\n",
       " 121393,\n",
       " 196418,\n",
       " 317811,\n",
       " 514229,\n",
       " 832040]"
      ]
     },
     "execution_count": 17,
     "metadata": {},
     "output_type": "execute_result"
    }
   ],
   "source": [
    "from itertools import tee, islice\n",
    "from functools import partial\n",
    "\n",
    "def add(a, b):\n",
    "    return a + b\n",
    "\n",
    "def take(n, it):\n",
    "    return [x for x in islice(it, n)]\n",
    "\n",
    "def drop(n, it):\n",
    "    return islice(it, n, None)\n",
    "\n",
    "tail = partial(drop,1)\n",
    "def fibs():\n",
    "    yield 1\n",
    "    yield 1\n",
    "    fibs1, fibs2 = tee(fibs())\n",
    "    yield from map(add, fibs1, tail(fibs2))\n",
    "\n",
    "%time take(30, fibs())\n"
   ]
  },
  {
   "cell_type": "markdown",
   "metadata": {
    "collapsed": false
   },
   "source": [
    "write a class for different kinds of bikes (e.g. race bike) and their respective color.\n",
    "when the bike object is printed. it must return the following format:\n",
    "\"This is a (...) bike and it is (...).\"\n",
    "write a function that returns a list of all the bike objects\n",
    "iterate over that list and print all the objects\n"
   ]
  },
  {
   "cell_type": "code",
   "execution_count": 18,
   "metadata": {
    "collapsed": false
   },
   "outputs": [],
   "source": [
    "bikecolorandtype = [('red', 'race'), ('blue', 'city')]\n",
    "class Bike(object):\n",
    "    def __init__(self, biketype:str,  color:str):\n",
    "        self.biketype = biketype\n",
    "        self.color = color\n",
    "    def __str__(self):\n",
    "        return f'This is a {self.biketype} bike and it is {self.color}.'\n",
    "\n",
    "def bikefunc(bcandt:List[Tuple]):\n",
    "    ls = []\n",
    "    for color, type in bcandt:\n",
    "        ls.append(Bike(type, color))\n",
    "    return ls\n",
    "\n",
    "ls = bikefunc(bikecolorandtype)\n",
    "\n"
   ]
  },
  {
   "cell_type": "code",
   "execution_count": 21,
   "metadata": {},
   "outputs": [
    {
     "name": "stdout",
     "output_type": "stream",
     "text": [
      "This is a race bike and it is red.\n"
     ]
    }
   ],
   "source": [
    "print(ls[0])"
   ]
  },
  {
   "cell_type": "markdown",
   "metadata": {
    "collapsed": false
   },
   "source": [
    "write a generator comprehension for powers of 2"
   ]
  },
  {
   "cell_type": "code",
   "execution_count": null,
   "metadata": {
    "collapsed": false
   },
   "outputs": [],
   "source": [
    "def lazyint(n:int=0):\n",
    "    while True:\n",
    "        yield n\n",
    "        n+= 1\n",
    "pw2 = (2**i for i in lazyint())\n",
    "next(pw2)\n",
    "next(pw2)\n",
    "next(pw2)\n",
    "next(pw2)\n"
   ]
  },
  {
   "cell_type": "markdown",
   "metadata": {
    "collapsed": false
   },
   "source": [
    "Use the regular expression module to find the first expression pattern that start with \"quick\" and end with \"fox\" and include what is in between."
   ]
  },
  {
   "cell_type": "code",
   "execution_count": 23,
   "metadata": {
    "collapsed": false
   },
   "outputs": [
    {
     "name": "stdout",
     "output_type": "stream",
     "text": [
      "quick brown 22 fox\n"
     ]
    }
   ],
   "source": [
    "import re\n",
    "\n",
    "# Sample string to search in\n",
    "string = \"The quick brown fox jumps over the lazy dog\"\n",
    "\n",
    "# Regular expression pattern to search for\n",
    "pattern = \"quick.*fox\"\n",
    "\n",
    "# Search for pattern in string\n",
    "match = re.search(pattern, string)\n",
    "\n",
    "# Check if a match was found\n",
    "if match:\n",
    "    print(match.group()) # Outputs: \"quick brown fox\"\n",
    "else:\n",
    "    print(\"No match found.\")\n"
   ]
  },
  {
   "cell_type": "markdown",
   "metadata": {
    "collapsed": false
   },
   "source": [
    "Use regular expressions to find all instances that match the pattern starting with \"quick\" and end with \"fox\""
   ]
  },
  {
   "cell_type": "code",
   "execution_count": null,
   "metadata": {
    "collapsed": false
   },
   "outputs": [],
   "source": [
    "string = \"The quick brown fox jumps over the lazy dog. The quick fox jumps over the lazy dog\"\n",
    "\n",
    "\n",
    "# Regular expression pattern to search for\n",
    "pattern = \"quick.*?fox\"\n",
    "\n",
    "# find all the matches in the string\n",
    "matches = re.findall(pattern, string)\n",
    "\n",
    "# Print all the matches\n",
    "print(matches) # Outputs: [\"quick brown fox\", \"quick fox\"]\n"
   ]
  },
  {
   "cell_type": "markdown",
   "metadata": {
    "collapsed": false
   },
   "source": [
    "Create two classes of vehicles (e.g. Car and Bikes), give them an attribute 'brand'.\n",
    "create a method 'howmanywheels' that returns a string with the number of wheels (e.g. bike -> \"2 wheels\".\n",
    "create a polymorphic function that prints the number of wheels an instance of each class has."
   ]
  },
  {
   "cell_type": "code",
   "execution_count": 24,
   "metadata": {
    "collapsed": false
   },
   "outputs": [
    {
     "name": "stdout",
     "output_type": "stream",
     "text": [
      "4 wheels\n",
      "2 wheels\n"
     ]
    }
   ],
   "source": [
    "class Car:\n",
    "    def __init__(self, brand:str):\n",
    "        self.brand = brand\n",
    "    def nwheels(self):\n",
    "        return '4 wheels'\n",
    "\n",
    "class Bike:\n",
    "    def __init__(self, brand:str):\n",
    "        self.brand = brand\n",
    "    def nwheels(self):\n",
    "        return '2 wheels'\n",
    "\n",
    "def numberOfWheels(vehicle)->None:\n",
    "    print(vehicle.nwheels())\n",
    "\n",
    "volvo = Car(\"Volvo\")\n",
    "mondraker = Bike(\"Mondraker\")\n",
    "\n",
    "numberOfWheels(volvo)\n",
    "numberOfWheels(mondraker)\n",
    "\n"
   ]
  },
  {
   "cell_type": "markdown",
   "metadata": {
    "collapsed": false
   },
   "source": [
    "Use type based dispatch to implement a function that does addition on 2 inputs.\n",
    "raise the \"Invalid input types\" error if the inputed type is not both lists, strings, floats or integers"
   ]
  },
  {
   "cell_type": "code",
   "execution_count": 25,
   "metadata": {
    "collapsed": false
   },
   "outputs": [],
   "source": [
    "def add(a, b):\n",
    "    if isinstance(a, int) and isinstance(b, int):\n",
    "        return a + b\n",
    "    elif isinstance(a, str) and isinstance(b, str):\n",
    "        return a + b\n",
    "    elif isinstance(a, list) and isinstance(b, list):\n",
    "        return a + b\n",
    "    else:\n",
    "        raise TypeError(\"Invalid input types\")\n",
    "\n",
    "\n"
   ]
  },
  {
   "cell_type": "markdown",
   "metadata": {
    "collapsed": false
   },
   "source": [
    "create 3 dimensional vectors, use operator overloading to implement addition, substitution and make multiplication into vector cross product.\n",
    "use  the \"\\__str\\__\"method to represent the vector in the form \"(x,y,z)\""
   ]
  },
  {
   "cell_type": "code",
   "execution_count": 26,
   "metadata": {
    "collapsed": false
   },
   "outputs": [
    {
     "name": "stdout",
     "output_type": "stream",
     "text": [
      "(-3, 6, -3)\n"
     ]
    }
   ],
   "source": [
    "class Vector:\n",
    "    def __init__(self, x, y, z):\n",
    "        self.x = x\n",
    "        self.y = y\n",
    "        self.z = z\n",
    "\n",
    "    def __add__(self, other):\n",
    "        return Vector(self.x + other.x, self.y + other.y, self.z + other.z)\n",
    "\n",
    "    def __sub__(self, other):\n",
    "        return Vector(self.x - other.x, self.y - other.y, self.z - other.z)\n",
    "\n",
    "    def __mul__(self, other):\n",
    "        return Vector(self.y* other.z - self.z*other.y,\n",
    "                      self.z* other.x - self.x*other.z,\n",
    "                      self.x* other.y - self.y*other.x)\n",
    "    def __str__(self):\n",
    "        return \"({}, {}, {})\".format(self.x, self.y, self.z)\n",
    "\n",
    "v1 = Vector(1, 2, 3)\n",
    "v2 = Vector(4,5,6)\n",
    "\n",
    "print(v1*v2)\n",
    "\n",
    "\n"
   ]
  },
  {
   "cell_type": "markdown",
   "metadata": {
    "collapsed": false
   },
   "source": [
    "create functions that implement bubblesort, insertion sort, merge sort and quicksort on the following list"
   ]
  },
  {
   "cell_type": "code",
   "execution_count": null,
   "metadata": {
    "collapsed": false
   },
   "outputs": [],
   "source": [
    "import random\n",
    "rand = [random.randint(1, 100) for i in range(20)]\n"
   ]
  },
  {
   "cell_type": "code",
   "execution_count": null,
   "metadata": {
    "collapsed": false
   },
   "outputs": [],
   "source": [
    "\n",
    "def bubble_sort(arr):\n",
    "    n = len(arr)\n",
    "    for i in range(n):\n",
    "        for j in range(0, n-i-1):\n",
    "            if arr[j] > arr[j+1]:\n",
    "                arr[j], arr[j+1] = arr[j+1], arr[j]\n",
    "    return arr\n",
    "\n",
    "def insertion_sort(arr):\n",
    "    for i in range(1, len(arr)):\n",
    "        key = arr[i]\n",
    "        j = i-1\n",
    "        while j >= 0 and key < arr[j] :\n",
    "                arr[j + 1] = arr[j]\n",
    "                j -= 1\n",
    "        arr[j + 1] = key\n",
    "    return arr\n",
    "\n",
    "def merge_sort(arr):\n",
    "    if len(arr) > 1:\n",
    "        # divide the array in half\n",
    "        mid = len(arr)//2\n",
    "        left_half = arr[:mid]\n",
    "        right_half = arr[mid:]\n",
    "\n",
    "        # recursively sort the two halves\n",
    "        merge_sort(left_half)\n",
    "        merge_sort(right_half)\n",
    "\n",
    "        # merge the sorted halves\n",
    "        i = 0 # index for left half\n",
    "        j = 0 # index for right half\n",
    "        k = 0 # index for merged array\n",
    "\n",
    "        while i < len(left_half) and j < len(right_half):\n",
    "            if left_half[i] < right_half[j]:\n",
    "                arr[k] = left_half[i]\n",
    "                i += 1\n",
    "            else:\n",
    "                arr[k] = right_half[j]\n",
    "                j += 1\n",
    "            k += 1\n",
    "\n",
    "        # copy the remaining elements, if any\n",
    "        while i < len(left_half):\n",
    "            arr[k] = left_half[i]\n",
    "            i += 1\n",
    "            k += 1\n",
    "\n",
    "        while j < len(right_half):\n",
    "            arr[k] = right_half[j]\n",
    "            j += 1\n",
    "            k += 1\n",
    "    return arr\n",
    "\n",
    "def quick_sort(arr):\n",
    "    if len(arr) <= 1:\n",
    "        return arr\n",
    "    else:\n",
    "        pivot = arr[0]\n",
    "        less = [x for x in arr[1:] if x < pivot]\n",
    "        greater = [x for x in arr[1:] if x >= pivot]\n",
    "        return quick_sort(less) + [pivot] + quick_sort(greater)\n",
    "\n",
    "\n",
    "\n",
    "\n"
   ]
  }
 ],
 "metadata": {
  "kernelspec": {
   "display_name": "Python 3",
   "language": "python",
   "name": "python3"
  },
  "language_info": {
   "codemirror_mode": {
    "name": "ipython",
    "version": 3
   },
   "file_extension": ".py",
   "mimetype": "text/x-python",
   "name": "python",
   "nbconvert_exporter": "python",
   "pygments_lexer": "ipython3",
   "version": "3.10.6"
  },
  "vscode": {
   "interpreter": {
    "hash": "916dbcbb3f70747c44a77c7bcd40155683ae19c65e1c03b4aa3499c5328201f1"
   }
  }
 },
 "nbformat": 4,
 "nbformat_minor": 0
}
